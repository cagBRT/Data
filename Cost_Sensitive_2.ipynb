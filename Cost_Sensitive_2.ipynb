{
  "nbformat": 4,
  "nbformat_minor": 0,
  "metadata": {
    "colab": {
      "name": "Cost Sensitive 2.ipynb",
      "private_outputs": true,
      "provenance": [],
      "authorship_tag": "ABX9TyPLyv2c08RDSwr9YWo7s0Zd",
      "include_colab_link": true
    },
    "kernelspec": {
      "name": "python3",
      "display_name": "Python 3"
    },
    "language_info": {
      "name": "python"
    }
  },
  "cells": [
    {
      "cell_type": "markdown",
      "metadata": {
        "id": "view-in-github",
        "colab_type": "text"
      },
      "source": [
        "<a href=\"https://colab.research.google.com/github/cagBRT/Data/blob/main/Cost_Sensitive_2.ipynb\" target=\"_parent\"><img src=\"https://colab.research.google.com/assets/colab-badge.svg\" alt=\"Open In Colab\"/></a>"
      ]
    },
    {
      "cell_type": "markdown",
      "metadata": {
        "id": "vSiXpY8v2UGr"
      },
      "source": [
        "# **Grid Search Weighted Logistic Regression**<br>"
      ]
    },
    {
      "cell_type": "code",
      "metadata": {
        "id": "PaGI0PT0jbP3"
      },
      "source": [
        "from numpy import mean\n",
        "from sklearn.datasets import make_classification\n",
        "from sklearn.model_selection import GridSearchCV\n",
        "from sklearn.model_selection import RepeatedStratifiedKFold\n",
        "from sklearn.linear_model import LogisticRegression\n",
        "from collections import Counter"
      ],
      "execution_count": null,
      "outputs": []
    },
    {
      "cell_type": "markdown",
      "metadata": {
        "id": "SC0PNKvrkLR8"
      },
      "source": [
        "**Create an imbalanced dataset**"
      ]
    },
    {
      "cell_type": "markdown",
      "metadata": {
        "id": "jLmcKDKH8uCM"
      },
      "source": [
        "Dataset with two classes"
      ]
    },
    {
      "cell_type": "code",
      "metadata": {
        "id": "_SJ-HpA4kKq2"
      },
      "source": [
        "X, y = make_classification(n_samples=10000, n_features=2, n_redundant=0,\n",
        "n_clusters_per_class=1, weights=[0.99], flip_y=0, random_state=2)"
      ],
      "execution_count": null,
      "outputs": []
    },
    {
      "cell_type": "markdown",
      "metadata": {
        "id": "n9jLpECXlGz-"
      },
      "source": [
        "**Define the model**"
      ]
    },
    {
      "cell_type": "code",
      "metadata": {
        "id": "JhLWd0LklG9u"
      },
      "source": [
        "model = LogisticRegression(solver='lbfgs')"
      ],
      "execution_count": null,
      "outputs": []
    },
    {
      "cell_type": "markdown",
      "metadata": {
        "id": "wUJWn8X2kbft"
      },
      "source": [
        "**Use grid search to determine the best weight for the dataset**"
      ]
    },
    {
      "cell_type": "code",
      "metadata": {
        "id": "NfKWPc3hlPI2"
      },
      "source": [
        "# define grid\n",
        "balance = [{0:100,1:1}, {0:10,1:1}, {0:1,1:1}, {0:1,1:10}, {0:1,1:100}] \n",
        "param_grid = dict(class_weight=balance)\n",
        "print(param_grid)"
      ],
      "execution_count": null,
      "outputs": []
    },
    {
      "cell_type": "markdown",
      "metadata": {
        "id": "CUYuyamplURy"
      },
      "source": [
        "**Use Cross validaion and grid search to determine the best balance**"
      ]
    },
    {
      "cell_type": "code",
      "metadata": {
        "id": "Err2LDuqldlw"
      },
      "source": [
        "# define evaluation procedure\n",
        "cv = RepeatedStratifiedKFold(n_splits=10, n_repeats=3, random_state=1)\n",
        "# define grid search\n",
        "grid = GridSearchCV(estimator=model, param_grid=param_grid, n_jobs=-1, cv=cv,\n",
        "scoring='roc_auc')\n",
        "# execute the grid search\n",
        "grid_result = grid.fit(X, y)"
      ],
      "execution_count": null,
      "outputs": []
    },
    {
      "cell_type": "code",
      "metadata": {
        "id": "oac-RdP2XWUQ"
      },
      "source": [
        "# report the best configuration\n",
        "print('Best: %f using %s' % (grid_result.best_score_, grid_result.best_params_)) # report all configurations\n",
        "means = grid_result.cv_results_['mean_test_score']\n",
        "stds = grid_result.cv_results_['std_test_score']\n",
        "params = grid_result.cv_results_['params']\n",
        "for mean, stdev, param in zip(means, stds, params):\n",
        "  print('%f (%f) with: %r' % (mean, stdev, param))"
      ],
      "execution_count": null,
      "outputs": []
    },
    {
      "cell_type": "markdown",
      "metadata": {
        "id": "c4jTd3WA8Sp6"
      },
      "source": [
        "**Assignment** "
      ]
    },
    {
      "cell_type": "markdown",
      "metadata": {
        "id": "zg8BxKJY89WL"
      },
      "source": [
        "1. Use the following code to create a dataset with 3 imbalanced classes\n",
        "2. Do a grid search to find the best weights for 3 classes"
      ]
    },
    {
      "cell_type": "markdown",
      "metadata": {
        "id": "CyJMjbQQ8_mj"
      },
      "source": [
        "Create an imbalanced multiclass dataset"
      ]
    },
    {
      "cell_type": "code",
      "metadata": {
        "id": "oSDuDrLJ8d9_"
      },
      "source": [
        "weight_of_classes=[0.98,0.01,0.01]\n",
        "X_multi, y_multi = make_classification(n_classes = 3,n_samples=10000, n_features=2, n_redundant=0,\n",
        "      n_clusters_per_class=1, weights=weight_of_classes, flip_y=0, random_state=2)\n",
        "# summarize class distribution\n",
        "counter = Counter(y_multi)\n",
        "print(counter)"
      ],
      "execution_count": null,
      "outputs": []
    },
    {
      "cell_type": "markdown",
      "metadata": {
        "id": "2CAR2BDm9ETD"
      },
      "source": [
        "Set the weights to be explored"
      ]
    },
    {
      "cell_type": "code",
      "metadata": {
        "id": "dObcVZ-P8m0G"
      },
      "source": [
        "# define grid\n",
        "balance = [{0:98,1:1,2:1}, {0:10,1:1,2:1}, {0:1,1:1,2:1}, {0:1,1:10,2:1}, {0:1,1:98,2:1}] \n",
        "param_grid = dict(class_weight=balance)"
      ],
      "execution_count": null,
      "outputs": []
    },
    {
      "cell_type": "markdown",
      "metadata": {
        "id": "4uXKrj9V9K6h"
      },
      "source": [
        "Change the scoring for multiclass"
      ]
    },
    {
      "cell_type": "code",
      "metadata": {
        "id": "g-UkOXhD8qLF"
      },
      "source": [
        "# define evaluation procedure\n",
        "from sklearn.metrics import make_scorer\n",
        "from sklearn.metrics import accuracy_score\n",
        "\n",
        "scoring = {'accuracy': make_scorer(accuracy_score),\n",
        "           'prec': 'precision'}\n",
        "cv = RepeatedStratifiedKFold(n_splits=10, n_repeats=3, random_state=1)\n",
        "# define grid search\n",
        "grid = GridSearchCV(estimator=model, param_grid=param_grid, n_jobs=-1, cv=cv,\n",
        ")\n",
        "# execute the grid search\n",
        "grid_result = grid.fit(X_multi, y_multi)"
      ],
      "execution_count": null,
      "outputs": []
    }
  ]
}