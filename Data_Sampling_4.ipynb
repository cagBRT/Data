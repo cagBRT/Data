{
  "nbformat": 4,
  "nbformat_minor": 0,
  "metadata": {
    "colab": {
      "name": "Data Sampling 4.ipynb",
      "private_outputs": true,
      "provenance": [],
      "authorship_tag": "ABX9TyM37Ld99ZYcg2Fu2FWbOnnd",
      "include_colab_link": true
    },
    "kernelspec": {
      "name": "python3",
      "display_name": "Python 3"
    },
    "language_info": {
      "name": "python"
    }
  },
  "cells": [
    {
      "cell_type": "markdown",
      "metadata": {
        "id": "view-in-github",
        "colab_type": "text"
      },
      "source": [
        "<a href=\"https://colab.research.google.com/github/cagBRT/Data/blob/main/Data_Sampling_4.ipynb\" target=\"_parent\"><img src=\"https://colab.research.google.com/assets/colab-badge.svg\" alt=\"Open In Colab\"/></a>"
      ]
    },
    {
      "cell_type": "markdown",
      "source": [
        "# **Using Over and Under Sampling**"
      ],
      "metadata": {
        "id": "w2YRB641WyvO"
      }
    },
    {
      "cell_type": "code",
      "source": [
        "# Generate and plot a synthetic imbalanced classification dataset\n",
        "from collections import Counter\n",
        "from sklearn.datasets import make_classification\n",
        "from matplotlib import pyplot\n",
        "from numpy import where\n",
        "from numpy import mean\n",
        "from sklearn.tree import DecisionTreeClassifier\n",
        "from sklearn.model_selection import cross_val_score\n",
        "from sklearn.model_selection import RepeatedStratifiedKFold"
      ],
      "metadata": {
        "id": "eEL2URbYW_CH"
      },
      "execution_count": null,
      "outputs": []
    },
    {
      "cell_type": "code",
      "source": [
        "from imblearn.pipeline import Pipeline\n",
        "from imblearn.over_sampling import RandomOverSampler\n",
        "from imblearn.under_sampling import RandomUnderSampler"
      ],
      "metadata": {
        "id": "-MrLJW1bXnEH"
      },
      "execution_count": null,
      "outputs": []
    },
    {
      "cell_type": "code",
      "source": [
        "from imblearn.over_sampling import SMOTE\n",
        "from imblearn.combine import SMOTETomek\n",
        "from imblearn.under_sampling import TomekLinks\n",
        "from imblearn.combine import SMOTEENN"
      ],
      "metadata": {
        "id": "3eAQ2OjeY1u_"
      },
      "execution_count": null,
      "outputs": []
    },
    {
      "cell_type": "markdown",
      "source": [
        "**Create a datasest**"
      ],
      "metadata": {
        "id": "NaydMW7aXCGy"
      }
    },
    {
      "cell_type": "code",
      "metadata": {
        "id": "yl8l3j3PVJJX"
      },
      "source": [
        "X, y = make_classification(n_samples=10000, n_features=2, n_redundant=0,\n",
        "        n_clusters_per_class=1, weights=[0.99], flip_y=0, random_state=1)\n",
        "# summarize class distribution\n",
        "counter = Counter(y)\n",
        "print(counter)\n",
        "# scatter plot of examples by class label \n",
        "for label, _ in counter.items():\n",
        "  row_ix = where(y == label)[0]\n",
        "  pyplot.scatter(X[row_ix, 0], X[row_ix, 1], label=str(label)) \n",
        "pyplot.legend()\n",
        "pyplot.show()"
      ],
      "execution_count": null,
      "outputs": []
    },
    {
      "cell_type": "markdown",
      "source": [
        "**Create a Decision Tree Model and train it on the dataset**"
      ],
      "metadata": {
        "id": "aSg9l6YaXaVo"
      }
    },
    {
      "cell_type": "code",
      "metadata": {
        "id": "KNj2jFYxVRiE"
      },
      "source": [
        "model = DecisionTreeClassifier()\n",
        "# define evaluation procedure\n",
        "cv = RepeatedStratifiedKFold(n_splits=10, n_repeats=3, random_state=1)\n",
        "# evaluate model\n",
        "scores = cross_val_score(model, X, y, scoring='roc_auc', cv=cv, n_jobs=-1) # summarize performance\n",
        "print('Mean ROC AUC: %.3f' % mean(scores))"
      ],
      "execution_count": null,
      "outputs": []
    },
    {
      "cell_type": "markdown",
      "source": [
        "**Use a combination of random oversampling and undersampling for imbalanced classification**"
      ],
      "metadata": {
        "id": "4h9jtOg2XqsB"
      }
    },
    {
      "cell_type": "markdown",
      "source": [
        "The most naive strategy is to generate new samples by randomly sampling with replacement the current available samples. "
      ],
      "metadata": {
        "id": "-KqLD0iHYalS"
      }
    },
    {
      "cell_type": "code",
      "metadata": {
        "id": "r-bb-XEBVfBT"
      },
      "source": [
        "# define sampling\n",
        "over = RandomOverSampler(sampling_strategy=0.1)\n",
        "under = RandomUnderSampler(sampling_strategy=0.5)\n",
        "# define pipeline\n",
        "pipeline = Pipeline(steps=[('o', over), ('u', under), ('m', model)])\n",
        "# define evaluation procedure\n",
        "cv = RepeatedStratifiedKFold(n_splits=10, n_repeats=3, random_state=1)\n",
        "# evaluate model\n",
        "scores = cross_val_score(pipeline, X, y, scoring='roc_auc', cv=cv, n_jobs=-1) # summarize performance\n",
        "print('Mean ROC AUC: %.3f' % mean(scores))"
      ],
      "execution_count": null,
      "outputs": []
    },
    {
      "cell_type": "markdown",
      "source": [
        "Use a combination of SMOTE and random undersampling for imbalanced classification"
      ],
      "metadata": {
        "id": "3CLPM5KCYwXU"
      }
    },
    {
      "cell_type": "code",
      "metadata": {
        "id": "Jr-LUdkdVl4r"
      },
      "source": [
        "# define pipeline\n",
        "over = SMOTE(sampling_strategy=0.1)\n",
        "under = RandomUnderSampler(sampling_strategy=0.5)\n",
        "steps = [('o', over), ('u', under), ('m', model)]\n",
        "pipeline = Pipeline(steps=steps)\n",
        "# define evaluation procedure\n",
        "cv = RepeatedStratifiedKFold(n_splits=10, n_repeats=3, random_state=1)\n",
        "# evaluate model\n",
        "scores = cross_val_score(pipeline, X, y, scoring='roc_auc', cv=cv, n_jobs=-1) # summarize performance\n",
        "print('Mean ROC AUC: %.3f' % mean(scores))"
      ],
      "execution_count": null,
      "outputs": []
    },
    {
      "cell_type": "markdown",
      "source": [
        "**Use SMOTETomek to resample the dataset**<br>\n",
        "Combine over- and under-sampling using SMOTE and Tomek links."
      ],
      "metadata": {
        "id": "LmDDjPE8ZJuh"
      }
    },
    {
      "cell_type": "code",
      "metadata": {
        "id": "KPrzz0zUVw0u"
      },
      "source": [
        "resample = SMOTETomek(tomek=TomekLinks(sampling_strategy='majority')) # define pipeline\n",
        "pipeline = Pipeline(steps=[('r', resample), ('m', model)])\n",
        "# define evaluation procedure\n",
        "cv = RepeatedStratifiedKFold(n_splits=10, n_repeats=3, random_state=1)\n",
        "# evaluate model\n",
        "scores = cross_val_score(pipeline, X, y, scoring='roc_auc', cv=cv, n_jobs=-1) # summarize performance\n",
        "print('Mean ROC AUC: %.3f' % mean(scores))"
      ],
      "execution_count": null,
      "outputs": []
    },
    {
      "cell_type": "markdown",
      "source": [
        "Use combined SMOTE and Edited Nearest Neighbors sampling for imbalanced classification"
      ],
      "metadata": {
        "id": "y-KQ2DFMaiMP"
      }
    },
    {
      "cell_type": "code",
      "metadata": {
        "id": "ktUgiGQrV6Dk"
      },
      "source": [
        "resample = SMOTEENN()\n",
        "# define pipeline\n",
        "pipeline = Pipeline(steps=[('r', resample), ('m', model)])\n",
        "# define evaluation procedure\n",
        "cv = RepeatedStratifiedKFold(n_splits=10, n_repeats=3, random_state=1)\n",
        "# evaluate model\n",
        "scores = cross_val_score(pipeline, X, y, scoring='roc_auc', cv=cv, n_jobs=-1) # summarize performance\n",
        "print('Mean ROC AUC: %.3f' % mean(scores))"
      ],
      "execution_count": null,
      "outputs": []
    },
    {
      "cell_type": "markdown",
      "source": [
        "**Assignment**<br>\n"
      ],
      "metadata": {
        "id": "xSLIuqQxazRl"
      }
    }
  ]
}