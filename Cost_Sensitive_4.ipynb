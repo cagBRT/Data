{
  "nbformat": 4,
  "nbformat_minor": 0,
  "metadata": {
    "colab": {
      "name": "Cost Sensitive 4.ipynb",
      "private_outputs": true,
      "provenance": [],
      "authorship_tag": "ABX9TyMG00AjANXkaGxJ57nuti8E",
      "include_colab_link": true
    },
    "kernelspec": {
      "name": "python3",
      "display_name": "Python 3"
    },
    "language_info": {
      "name": "python"
    }
  },
  "cells": [
    {
      "cell_type": "markdown",
      "metadata": {
        "id": "view-in-github",
        "colab_type": "text"
      },
      "source": [
        "<a href=\"https://colab.research.google.com/github/cagBRT/Data/blob/main/Cost_Sensitive_4.ipynb\" target=\"_parent\"><img src=\"https://colab.research.google.com/assets/colab-badge.svg\" alt=\"Open In Colab\"/></a>"
      ]
    },
    {
      "cell_type": "markdown",
      "metadata": {
        "id": "zMsJQE-gBzFf"
      },
      "source": [
        "# **Cost Sensitive SVM**"
      ]
    },
    {
      "cell_type": "markdown",
      "metadata": {
        "id": "NZl1G79pC9jR"
      },
      "source": [
        "SVMs work well when the dataset is balanced, but when the dataset is imbalanced performance degrades. "
      ]
    },
    {
      "cell_type": "markdown",
      "metadata": {
        "id": "0TjZ3EoODXrt"
      },
      "source": [
        "**Import libraries**"
      ]
    },
    {
      "cell_type": "code",
      "metadata": {
        "id": "kD8pfwFhDVZN"
      },
      "source": [
        "from collections import Counter\n",
        "from sklearn.datasets import make_classification\n",
        "from matplotlib import pyplot\n",
        "from numpy import where\n",
        "from numpy import mean\n",
        "from sklearn.datasets import make_classification\n",
        "from sklearn.model_selection import cross_val_score\n",
        "from sklearn.model_selection import RepeatedStratifiedKFold\n",
        "from sklearn.svm import SVC"
      ],
      "execution_count": null,
      "outputs": []
    },
    {
      "cell_type": "markdown",
      "metadata": {
        "id": "VFNueOXiDbC1"
      },
      "source": [
        "**Create an imbalanced dataset**"
      ]
    },
    {
      "cell_type": "code",
      "metadata": {
        "id": "t1pevf1fD-Qs"
      },
      "source": [
        "X, y = make_classification(n_samples=10000, n_features=2, n_redundant=0,\n",
        "n_clusters_per_class=1, weights=[0.99], flip_y=0, random_state=4)\n",
        "# summarize class distribution\n",
        "counter = Counter(y)\n",
        "print(counter)"
      ],
      "execution_count": null,
      "outputs": []
    },
    {
      "cell_type": "code",
      "metadata": {
        "id": "gWnbNQI8aK_H"
      },
      "source": [
        "for label, _ in counter.items():\n",
        "  row_ix = where(y == label)[0]\n",
        "  pyplot.scatter(X[row_ix, 0], X[row_ix, 1], label=str(label)) \n",
        "pyplot.legend()\n",
        "pyplot.show()"
      ],
      "execution_count": null,
      "outputs": []
    },
    {
      "cell_type": "markdown",
      "metadata": {
        "id": "88cEHWecESzt"
      },
      "source": [
        "**Create and train an SVM**"
      ]
    },
    {
      "cell_type": "code",
      "metadata": {
        "id": "zyT41qrqax6S"
      },
      "source": [
        "model = SVC(gamma='scale')\n",
        "# define evaluation procedure\n",
        "cv = RepeatedStratifiedKFold(n_splits=10, n_repeats=3, random_state=1)\n",
        "# evaluate model\n",
        "scores = cross_val_score(model, X, y, scoring='roc_auc', cv=cv, n_jobs=-1) # summarize performance\n",
        "print('Mean ROC AUC: %.3f' % mean(scores))"
      ],
      "execution_count": null,
      "outputs": []
    },
    {
      "cell_type": "markdown",
      "metadata": {
        "id": "MhPzCMS8Q1iM"
      },
      "source": [
        "**Create and train an SVM that is weight balanced to compensate for the imbalance in the dataset**"
      ]
    },
    {
      "cell_type": "markdown",
      "metadata": {
        "id": "JyYrmjxHRQ2f"
      },
      "source": [
        "There is a big performance improvement with the weight balanced SVM"
      ]
    },
    {
      "cell_type": "code",
      "metadata": {
        "id": "dm52YpSha4yi"
      },
      "source": [
        "model = SVC(gamma='scale', class_weight='balanced')\n",
        "# define evaluation procedure\n",
        "cv = RepeatedStratifiedKFold(n_splits=10, n_repeats=3, random_state=1)\n",
        "# evaluate model\n",
        "scores = cross_val_score(model, X, y, scoring='roc_auc', cv=cv, n_jobs=-1) # summarize performance\n",
        "print('Mean ROC AUC: %.3f' % mean(scores))"
      ],
      "execution_count": null,
      "outputs": []
    },
    {
      "cell_type": "markdown",
      "metadata": {
        "id": "gLioJsEFR75S"
      },
      "source": [
        "**Use Grid Search to find the best weight balance for the model**"
      ]
    },
    {
      "cell_type": "markdown",
      "metadata": {
        "id": "ZHnxMs9FSSgq"
      },
      "source": [
        "Note the amount of time to do a grid search compared to using the balanced weight model"
      ]
    },
    {
      "cell_type": "code",
      "metadata": {
        "id": "lvuWdeT7a9Py"
      },
      "source": [
        "model = SVC(gamma='scale')\n",
        "# define grid\n",
        "balance = [{0:100,1:1}, {0:10,1:1}, {0:1,1:1}, {0:1,1:10}, {0:1,1:100}] \n",
        "param_grid = dict(class_weight=balance)\n",
        "# define evaluation procedure\n",
        "cv = RepeatedStratifiedKFold(n_splits=10, n_repeats=3, random_state=1)\n",
        "#define grid search\n",
        "grid = GridSearchCV(estimator=model, param_grid=param_grid, n_jobs=-1, cv=cv, scoring='roc_auc')\n",
        "# execute the grid search\n",
        "grid_result = grid.fit(X, y)"
      ],
      "execution_count": null,
      "outputs": []
    },
    {
      "cell_type": "code",
      "metadata": {
        "id": "6TjuAsVcSFaj"
      },
      "source": [
        "# report the best configuration\n",
        "print('Best: %f using %s' % (grid_result.best_score_, grid_result.best_params_)) # report all configurations\n",
        "means = grid_result.cv_results_['mean_test_score']\n",
        "stds = grid_result.cv_results_['std_test_score']\n",
        "params = grid_result.cv_results_['params']\n",
        "for mean, stdev, param in zip(means, stds, params):\n",
        "  print('%f (%f) with: %r' % (mean, stdev, param))"
      ],
      "execution_count": null,
      "outputs": []
    },
    {
      "cell_type": "markdown",
      "metadata": {
        "id": "k1m4_ydjWosu"
      },
      "source": [
        "**Assignment**<br>\n",
        "Modify the dataset in various ways, what effect does this have on the performance of the different methods"
      ]
    }
  ]
}