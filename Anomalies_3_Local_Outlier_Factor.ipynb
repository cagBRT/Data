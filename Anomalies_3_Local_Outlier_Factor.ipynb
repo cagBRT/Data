{
  "nbformat": 4,
  "nbformat_minor": 0,
  "metadata": {
    "colab": {
      "name": "Anomalies 3: Local Outlier Factor.ipynb",
      "private_outputs": true,
      "provenance": [],
      "authorship_tag": "ABX9TyMAx/uSx+UffUpU0GbrHapG",
      "include_colab_link": true
    },
    "kernelspec": {
      "name": "python3",
      "display_name": "Python 3"
    },
    "language_info": {
      "name": "python"
    }
  },
  "cells": [
    {
      "cell_type": "markdown",
      "metadata": {
        "id": "view-in-github",
        "colab_type": "text"
      },
      "source": [
        "<a href=\"https://colab.research.google.com/github/cagBRT/Data/blob/main/Anomalies_3_Local_Outlier_Factor.ipynb\" target=\"_parent\"><img src=\"https://colab.research.google.com/assets/colab-badge.svg\" alt=\"Open In Colab\"/></a>"
      ]
    },
    {
      "cell_type": "markdown",
      "metadata": {
        "id": "et0mzfBbtyHS"
      },
      "source": [
        "As the number of features increases, you may want to consider using the Local Outlier Factor (LOF) method. <br>\n"
      ]
    },
    {
      "cell_type": "markdown",
      "metadata": {
        "id": "jagTXwtqdQcs"
      },
      "source": [
        "The LOF method uses a nearest neighbors to detect outliers. <br>\n",
        "Each data example is scored based on the size of its local neighborhood. The larger the score, the more likely the example is an outlier.  "
      ]
    },
    {
      "cell_type": "markdown",
      "metadata": {
        "id": "Mw0t6xCUd0Ya"
      },
      "source": [
        "**Import Libraries**"
      ]
    },
    {
      "cell_type": "code",
      "metadata": {
        "id": "e-omktW_a-hr"
      },
      "source": [
        "import numpy as np\n",
        "import matplotlib.pyplot as plt\n",
        "\n",
        "from numpy import vstack\n",
        "from sklearn.datasets import make_classification \n",
        "from sklearn.model_selection import train_test_split \n",
        "from sklearn.metrics import f1_score\n",
        "from sklearn.neighbors import LocalOutlierFactor\n",
        "from matplotlib import pyplot\n",
        "from sklearn.neighbors import NearestNeighbors"
      ],
      "execution_count": null,
      "outputs": []
    },
    {
      "cell_type": "markdown",
      "metadata": {
        "id": "xewMQuRCgI59"
      },
      "source": [
        "**Use the LocalOutlierFactor model with an estimate of the expected percentage of outliers** "
      ]
    },
    {
      "cell_type": "markdown",
      "metadata": {
        "id": "gEGwYbv-gwxh"
      },
      "source": [
        "The amount of contamination of the data set, i.e. the proportion of outliers in the data set. When fitting this is used to define the threshold on the scores of the samples.<br>\n",
        "\n",
        ">if ‘auto’, the threshold is determined as in the original paper,<br>\n",
        "\n",
        ">if a float, the contamination should be in the range (0, 0.5].<br>\n",
        "\n",
        "*The default contamination is 'auto'*"
      ]
    },
    {
      "cell_type": "markdown",
      "metadata": {
        "id": "F7HX37JHiimk"
      },
      "source": [
        "**Small example of LOF**"
      ]
    },
    {
      "cell_type": "code",
      "metadata": {
        "id": "QUaJty_vhISn"
      },
      "source": [
        "sample_x = [[-1.1], [0.2], [101.1], [0.3]]"
      ],
      "execution_count": null,
      "outputs": []
    },
    {
      "cell_type": "code",
      "metadata": {
        "id": "mA5Dwk7VhRzD"
      },
      "source": [
        "pyplot.scatter(sample_x,y=[0,1,2,3], c='orange',s=60)\n",
        "pyplot.show()"
      ],
      "execution_count": null,
      "outputs": []
    },
    {
      "cell_type": "markdown",
      "metadata": {
        "id": "g249UoB9izJA"
      },
      "source": [
        "Use LOF to score the data examples as outliers"
      ]
    },
    {
      "cell_type": "code",
      "metadata": {
        "id": "pr-R9pZqh64j"
      },
      "source": [
        "clf = LocalOutlierFactor(n_neighbors=2)\n",
        "clf.fit_predict(sample_x)\n",
        "\n",
        "clf.negative_outlier_factor_"
      ],
      "execution_count": null,
      "outputs": []
    },
    {
      "cell_type": "markdown",
      "metadata": {
        "id": "Se6Vty28jPxx"
      },
      "source": [
        "**Sample example of NearestNeighbors**"
      ]
    },
    {
      "cell_type": "code",
      "metadata": {
        "id": "K1zKzFkBjdyA"
      },
      "source": [
        "samples = [[0., 1., 2.], [3., 4, 5], [6, 7, 8]]\n",
        "samples_x=[samples[0][0],samples[1][0],samples[2][0]]\n",
        "print(samples_x)\n",
        "samples_y=[samples[0][1],samples[1][1],samples[2][1]]\n",
        "print(samples_y)"
      ],
      "execution_count": null,
      "outputs": []
    },
    {
      "cell_type": "code",
      "metadata": {
        "id": "Z8MxX731jixk"
      },
      "source": [
        "pyplot.scatter(samples_x,y=samples_y, c='orange')\n",
        "pyplot.scatter(1,6)\n",
        "pyplot.show()"
      ],
      "execution_count": null,
      "outputs": []
    },
    {
      "cell_type": "markdown",
      "metadata": {
        "id": "9FJ9CBlc2LPp"
      },
      "source": [
        "We can use the NearestNeighbors function to find the distance to the nearest neighbor, and which sample is the nearest neighbor"
      ]
    },
    {
      "cell_type": "code",
      "metadata": {
        "id": "Z3nUAaA2jUnw"
      },
      "source": [
        "neigh = NearestNeighbors(n_neighbors=1)\n",
        "neigh.fit(samples)\n",
        "print(neigh.kneighbors([[1., 6., 1.]]))"
      ],
      "execution_count": null,
      "outputs": []
    },
    {
      "cell_type": "markdown",
      "metadata": {
        "id": "EjTiYkSb3Idl"
      },
      "source": [
        "\n",
        "\n",
        "\n",
        "\n",
        "# **Try a larger example**\n",
        "\n",
        "\n"
      ]
    },
    {
      "cell_type": "markdown",
      "metadata": {
        "id": "_kUQqIFOd5En"
      },
      "source": [
        "**Create a dataset that has outliers**"
      ]
    },
    {
      "cell_type": "code",
      "metadata": {
        "id": "sqn1OQTwXYZs"
      },
      "source": [
        "np.random.seed(42)\n",
        "\n",
        "# Generate train data\n",
        "X_inliers = 0.3 * np.random.randn(100, 2) #generates an array 100rows x 2columns\n",
        "X_inliers = np.r_[X_inliers + 2, X_inliers - 2]\n",
        "\n",
        "# Generate some outliers\n",
        "X_outliers = np.random.uniform(low=-4, high=4, size=(20, 2))\n",
        "X = np.r_[X_inliers, X_outliers]"
      ],
      "execution_count": null,
      "outputs": []
    },
    {
      "cell_type": "markdown",
      "metadata": {
        "id": "BbKesrtTj-Y5"
      },
      "source": [
        "**Plot the data**"
      ]
    },
    {
      "cell_type": "code",
      "metadata": {
        "id": "nbYoHhHIjlsW"
      },
      "source": [
        "pyplot.scatter(X[:, 0],X[:,1])\n",
        "pyplot.show()"
      ],
      "execution_count": null,
      "outputs": []
    },
    {
      "cell_type": "markdown",
      "metadata": {
        "id": "rKoUcnrokk6_"
      },
      "source": [
        "**Create the label**s<br>\n",
        "outliers = -1<br>\n",
        "inliers = 1"
      ]
    },
    {
      "cell_type": "code",
      "metadata": {
        "id": "iVMjgVdnXiC-"
      },
      "source": [
        "n_outliers = len(X_outliers)\n",
        "ground_truth = np.ones(len(X), dtype=int)\n",
        "ground_truth[-n_outliers:] = -1"
      ],
      "execution_count": null,
      "outputs": []
    },
    {
      "cell_type": "code",
      "metadata": {
        "id": "wIgoaLPEkZeR"
      },
      "source": [
        "ground_truth"
      ],
      "execution_count": null,
      "outputs": []
    },
    {
      "cell_type": "markdown",
      "metadata": {
        "id": "bkm31Fj9kBO_"
      },
      "source": [
        "**Plot the data based on inliers and outliers**"
      ]
    },
    {
      "cell_type": "code",
      "metadata": {
        "id": "JGrH8_VwkVT3"
      },
      "source": [
        "pyplot.scatter(X[:, 0],ground_truth)\n",
        "pyplot.show()"
      ],
      "execution_count": null,
      "outputs": []
    },
    {
      "cell_type": "markdown",
      "metadata": {
        "id": "W1YzyPQBk1tP"
      },
      "source": [
        "**Use the LocalOutlierFactor function to predict the outliers**"
      ]
    },
    {
      "cell_type": "code",
      "metadata": {
        "id": "xP9GY9G0XliJ"
      },
      "source": [
        "# fit the model for outlier detection (default)\n",
        "clf = LocalOutlierFactor(n_neighbors=20, contamination=0.1)\n",
        "# use fit_predict to compute the predicted labels of the training samples\n",
        "# (when LOF is used for outlier detection, the estimator has no predict,\n",
        "# decision_function and score_samples methods).\n",
        "y_pred = clf.fit_predict(X)\n",
        "n_errors = (y_pred != ground_truth).sum()\n",
        "X_scores = clf.negative_outlier_factor_"
      ],
      "execution_count": null,
      "outputs": []
    },
    {
      "cell_type": "markdown",
      "metadata": {
        "id": "GVlbxYxdlHLG"
      },
      "source": [
        "**Plot the data and add circles with the diameter equal to the score**.<br>\n",
        " The larger the score, the larger the circle"
      ]
    },
    {
      "cell_type": "code",
      "metadata": {
        "id": "fON1F_R-Xm11"
      },
      "source": [
        "plt.title(\"Local Outlier Factor (LOF)\")\n",
        "plt.scatter(X[:, 0], X[:, 1], color=\"k\", s=3.0, label=\"Data points\")\n",
        "# plot circles with radius proportional to the outlier scores\n",
        "radius = (X_scores.max() - X_scores) / (X_scores.max() - X_scores.min())\n",
        "plt.scatter(\n",
        "    X[:, 0],\n",
        "    X[:, 1],\n",
        "    s=1000 * radius,\n",
        "    edgecolors=\"r\",\n",
        "    facecolors=\"none\",\n",
        "    label=\"Outlier scores\",\n",
        ")\n",
        "plt.axis(\"tight\")\n",
        "plt.xlim((-5, 5))\n",
        "plt.ylim((-5, 5))\n",
        "plt.xlabel(\"prediction errors: %d\" % (n_errors))\n",
        "legend = plt.legend(loc=\"upper left\")\n",
        "legend.legendHandles[0]._sizes = [10]\n",
        "legend.legendHandles[1]._sizes = [20]\n",
        "plt.show()"
      ],
      "execution_count": null,
      "outputs": []
    },
    {
      "cell_type": "markdown",
      "metadata": {
        "id": "0wxasuetopSJ"
      },
      "source": [
        "**Assignment**<br>\n",
        "Change the dataset. <br>\n",
        "Make it larger, add more outliers, etc. <br>\n",
        "What effect do the changes have on the LOF?"
      ]
    }
  ]
}