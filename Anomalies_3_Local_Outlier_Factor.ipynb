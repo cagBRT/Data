{
  "nbformat": 4,
  "nbformat_minor": 0,
  "metadata": {
    "colab": {
      "name": "Anomalies 3: Local Outlier Factor.ipynb",
      "private_outputs": true,
      "provenance": [],
      "authorship_tag": "ABX9TyM2Q+0GqoKntuWlYBJouZV1",
      "include_colab_link": true
    },
    "kernelspec": {
      "name": "python3",
      "display_name": "Python 3"
    },
    "language_info": {
      "name": "python"
    }
  },
  "cells": [
    {
      "cell_type": "markdown",
      "metadata": {
        "id": "view-in-github",
        "colab_type": "text"
      },
      "source": [
        "<a href=\"https://colab.research.google.com/github/cagBRT/Data/blob/main/Anomalies_3_Local_Outlier_Factor.ipynb\" target=\"_parent\"><img src=\"https://colab.research.google.com/assets/colab-badge.svg\" alt=\"Open In Colab\"/></a>"
      ]
    },
    {
      "cell_type": "markdown",
      "metadata": {
        "id": "et0mzfBbtyHS"
      },
      "source": [
        ""
      ]
    },
    {
      "cell_type": "code",
      "metadata": {
        "id": "njI5dU_VtrRE"
      },
      "source": [
        "\n",
        "from numpy import vstack\n",
        "from sklearn.datasets import make_classification \n",
        "from sklearn.model_selection import train_test_split \n",
        "from sklearn.metrics import f1_score\n",
        "from sklearn.neighbors import LocalOutlierFactor\n",
        "# make a prediction with a lof model\n",
        "def lof_predict(model, trainX, testX):\n",
        "# create one large dataset\n",
        "  composite = vstack((trainX, testX))\n",
        "  # make prediction on composite dataset \n",
        "  yhat = model.fit_predict(composite)\n",
        "  # return just the predictions on the test set\n",
        "  return yhat[len(trainX):]\n",
        "# generate dataset\n",
        "X, y = make_classification(n_samples=10000, n_features=2, n_redundant=0, \n",
        "                           n_clusters_per_class=1, weights=[0.999], \n",
        "                           flip_y=0, random_state=4)\n",
        "# split into train/test sets\n",
        "trainX, testX, trainy, testy = train_test_split(X, y, test_size=0.5,                                             \n",
        "                                                random_state=2, stratify=y)\n",
        "# define outlier detection model\n",
        "model = LocalOutlierFactor(contamination=0.01)\n",
        "# get examples for just the majority class\n",
        "trainX = trainX[trainy==0]\n",
        "# detect outliers in the test set\n",
        "yhat = lof_predict(model, trainX, testX)\n",
        "# mark inliers 1, outliers -1\n",
        "testy[testy == 1] = -1\n",
        "testy[testy == 0] = 1\n",
        "# calculate score\n",
        "score = f1_score(testy, yhat, pos_label=-1) \n",
        "print('F-measure: %.3f' % score)"
      ],
      "execution_count": null,
      "outputs": []
    }
  ]
}