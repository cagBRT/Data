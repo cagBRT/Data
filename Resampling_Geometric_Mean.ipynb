{
  "nbformat": 4,
  "nbformat_minor": 0,
  "metadata": {
    "colab": {
      "private_outputs": true,
      "provenance": [],
      "authorship_tag": "ABX9TyMA1OGdpgIqqCQFdR3VqUzW",
      "include_colab_link": true
    },
    "kernelspec": {
      "name": "python3",
      "display_name": "Python 3"
    },
    "language_info": {
      "name": "python"
    }
  },
  "cells": [
    {
      "cell_type": "markdown",
      "metadata": {
        "id": "view-in-github",
        "colab_type": "text"
      },
      "source": [
        "<a href=\"https://colab.research.google.com/github/cagBRT/Data/blob/main/Resampling_Geometric_Mean.ipynb\" target=\"_parent\"><img src=\"https://colab.research.google.com/assets/colab-badge.svg\" alt=\"Open In Colab\"/></a>"
      ]
    },
    {
      "cell_type": "markdown",
      "source": [
        "In this notebook we explore the metric geometric mean"
      ],
      "metadata": {
        "id": "_1LUxBQllMzQ"
      }
    },
    {
      "cell_type": "code",
      "execution_count": null,
      "metadata": {
        "id": "vbugTLMnkkZa"
      },
      "outputs": [],
      "source": [
        "from sklearn.datasets import make_classification\n",
        "from sklearn.model_selection import train_test_split\n",
        "from sklearn.linear_model import LogisticRegression\n",
        "from sklearn.preprocessing import StandardScaler\n",
        "from imblearn.over_sampling import SMOTE\n",
        "from imblearn.pipeline import make_pipeline\n",
        "from imblearn.metrics import geometric_mean_score\n",
        "from imblearn.metrics import make_index_balanced_accuracy\n",
        "\n",
        "\n",
        "RANDOM_STATE = 42"
      ]
    },
    {
      "cell_type": "markdown",
      "source": [
        "**Create and prepare an imbalanced datset**"
      ],
      "metadata": {
        "id": "fW5jGR18lUi3"
      }
    },
    {
      "cell_type": "code",
      "source": [
        "X, y = make_classification(\n",
        "    n_classes=3,\n",
        "    class_sep=2,\n",
        "    weights=[0.1, 0.9],\n",
        "    n_informative=10,\n",
        "    n_redundant=1,\n",
        "    flip_y=0,\n",
        "    n_features=20,\n",
        "    n_clusters_per_class=4,\n",
        "    n_samples=5000,\n",
        "    random_state=RANDOM_STATE,\n",
        ")"
      ],
      "metadata": {
        "id": "mEP5ARCukpux"
      },
      "execution_count": null,
      "outputs": []
    },
    {
      "cell_type": "markdown",
      "source": [
        "Split the data into train and test sets"
      ],
      "metadata": {
        "id": "07fOU7e1lYJE"
      }
    },
    {
      "cell_type": "code",
      "source": [
        "X_train, X_test, y_train, y_test = train_test_split(\n",
        "    X, y, stratify=y, random_state=RANDOM_STATE\n",
        ")"
      ],
      "metadata": {
        "id": "gRW0Qd6OkuAA"
      },
      "execution_count": null,
      "outputs": []
    },
    {
      "cell_type": "markdown",
      "source": [
        "Use SMOTE to balance the datset<br>\n",
        "**Create a pipeline for balancing the dataset**"
      ],
      "metadata": {
        "id": "HXqXB2mzld55"
      }
    },
    {
      "cell_type": "code",
      "source": [
        "model = make_pipeline(\n",
        "    StandardScaler(),\n",
        "    SMOTE(random_state=RANDOM_STATE),\n",
        "    LogisticRegression(max_iter=10_000, random_state=RANDOM_STATE),\n",
        ")"
      ],
      "metadata": {
        "id": "qDsYVHPhk50B"
      },
      "execution_count": null,
      "outputs": []
    },
    {
      "cell_type": "markdown",
      "source": [
        "Train the model"
      ],
      "metadata": {
        "id": "v78pMChcloPq"
      }
    },
    {
      "cell_type": "code",
      "source": [
        "model.fit(X_train, y_train)\n",
        "y_pred = model.predict(X_test)"
      ],
      "metadata": {
        "id": "YvoJdI6jk8Fq"
      },
      "execution_count": null,
      "outputs": []
    },
    {
      "cell_type": "markdown",
      "source": [
        "The geometric mean corresponds to the square root of the product of the sensitivity and specificity.<br>\n",
        "\n",
        "Combining the two metrics should account for the balancing of the dataset."
      ],
      "metadata": {
        "id": "rB_dpG90lyku"
      }
    },
    {
      "cell_type": "code",
      "source": [
        "print(f\"The geometric mean is {geometric_mean_score(y_test, y_pred):.3f}\")"
      ],
      "metadata": {
        "id": "J_eP-yYslA2U"
      },
      "execution_count": null,
      "outputs": []
    },
    {
      "cell_type": "markdown",
      "source": [
        "### Balanced Accuracy\n",
        "Balanced Accuracy is used in both binary and multi-class classification. It’s the arithmetic mean of sensitivity and specificity, **its use case is when dealing with imbalanced data.**<br>\n",
        "\n",
        "Balanced Accuracy does a good job because we want to identify the positives present in our classifier. This makes the score lower than what accuracy predicts as it gives the same weight to both classes.\n"
      ],
      "metadata": {
        "id": "J_lIkWyom-ec"
      }
    },
    {
      "cell_type": "markdown",
      "source": [
        "### Index Balanced Accuracy<br>\n",
        "The index balanced accuracy can transform any metric to be used in imbalanced learning problems."
      ],
      "metadata": {
        "id": "q-Q7tsR0mSYC"
      }
    },
    {
      "cell_type": "code",
      "source": [
        "alpha = 0.1\n",
        "geo_mean = make_index_balanced_accuracy(alpha=alpha, squared=True)(geometric_mean_score)\n",
        "\n",
        "print(\n",
        "    f\"The IBA using alpha={alpha} and the geometric mean: \"\n",
        "    f\"{geo_mean(y_test, y_pred):.3f}\"\n",
        ")"
      ],
      "metadata": {
        "id": "gJxz5Tm9mSiK"
      },
      "execution_count": null,
      "outputs": []
    },
    {
      "cell_type": "code",
      "source": [
        "alpha = 0.5\n",
        "geo_mean = make_index_balanced_accuracy(alpha=alpha, squared=True)(geometric_mean_score)\n",
        "\n",
        "print(\n",
        "    f\"The IBA using alpha={alpha} and the geometric mean: \"\n",
        "    f\"{geo_mean(y_test, y_pred):.3f}\"\n",
        ")"
      ],
      "metadata": {
        "id": "Onq3_BmJmnGm"
      },
      "execution_count": null,
      "outputs": []
    }
  ]
}