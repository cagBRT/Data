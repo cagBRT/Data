{
  "nbformat": 4,
  "nbformat_minor": 0,
  "metadata": {
    "colab": {
      "name": "Imbalanced Datasets 4c.ipynb",
      "private_outputs": true,
      "provenance": [],
      "authorship_tag": "ABX9TyNoUadXaX2aYbtbk3gj4X+7",
      "include_colab_link": true
    },
    "kernelspec": {
      "name": "python3",
      "display_name": "Python 3"
    },
    "language_info": {
      "name": "python"
    }
  },
  "cells": [
    {
      "cell_type": "markdown",
      "metadata": {
        "id": "view-in-github",
        "colab_type": "text"
      },
      "source": [
        "<a href=\"https://colab.research.google.com/github/cagBRT/Data/blob/main/Imbalanced_Datasets_4c.ipynb\" target=\"_parent\"><img src=\"https://colab.research.google.com/assets/colab-badge.svg\" alt=\"Open In Colab\"/></a>"
      ]
    },
    {
      "cell_type": "markdown",
      "metadata": {
        "id": "myswek72SZtz"
      },
      "source": [
        "**Precision-Recall Curves**\n"
      ]
    },
    {
      "cell_type": "markdown",
      "metadata": {
        "id": "QGUhWPlFQPZZ"
      },
      "source": [
        "**Import libraries**"
      ]
    },
    {
      "cell_type": "code",
      "metadata": {
        "id": "oW4LT6PEP54k"
      },
      "source": [
        "# example of a precision-recall curve for a predictive model\n",
        "from sklearn.datasets import make_classification\n",
        "from sklearn.linear_model import LogisticRegression\n",
        "from sklearn.model_selection import train_test_split\n",
        "from sklearn.metrics import precision_recall_curve\n",
        "from matplotlib import pyplot\n",
        "from numpy import where"
      ],
      "execution_count": null,
      "outputs": []
    },
    {
      "cell_type": "markdown",
      "metadata": {
        "id": "qyVUwrTuQVY4"
      },
      "source": [
        "**Create a dataset**"
      ]
    },
    {
      "cell_type": "code",
      "metadata": {
        "id": "e9yhL7qPP949"
      },
      "source": [
        "# generate 2 class dataset\n",
        "X, y = make_classification(n_samples=1000, n_classes=2, random_state=1)\n",
        "# split into train/test sets\n",
        "trainX, testX, trainy, testy = train_test_split(X, y, test_size=0.5, random_state=2) # fit a model"
      ],
      "execution_count": null,
      "outputs": []
    },
    {
      "cell_type": "code",
      "metadata": {
        "id": "uXQ7OewhQhwb"
      },
      "source": [
        "for class_value in range(2):\n",
        "  # get row indexes for samples with this class\n",
        "  row_ix = where(y == class_value)\n",
        "    # create scatter of these samples\n",
        "  pyplot.scatter(X[row_ix, 0], X[row_ix, 1])\n",
        "  # show the plot\n",
        "pyplot.show()"
      ],
      "execution_count": null,
      "outputs": []
    },
    {
      "cell_type": "markdown",
      "metadata": {
        "id": "qUsE9bCgQxm4"
      },
      "source": [
        "**Create and train a logistic regression model**"
      ]
    },
    {
      "cell_type": "code",
      "metadata": {
        "id": "U9zFtmOFPlXn"
      },
      "source": [
        "model = LogisticRegression(solver='lbfgs')\n",
        "model.fit(trainX, trainy)\n",
        "# predict probabilities\n",
        "yhat = model.predict_proba(testX)"
      ],
      "execution_count": null,
      "outputs": []
    },
    {
      "cell_type": "code",
      "metadata": {
        "id": "0S_zUikSQFNs"
      },
      "source": [
        "# retrieve just the probabilities for the positive class\n",
        "pos_probs = yhat[:, 1]\n",
        "# calculate the no skill line as the proportion of the positive class\n",
        "no_skill = len(y[y==1]) / len(y)"
      ],
      "execution_count": null,
      "outputs": []
    },
    {
      "cell_type": "code",
      "metadata": {
        "id": "cdVbkKDHRbUb"
      },
      "source": [
        "# calculate model precision-recall curve\n",
        "precision, recall, _ = precision_recall_curve(testy, pos_probs)"
      ],
      "execution_count": null,
      "outputs": []
    },
    {
      "cell_type": "markdown",
      "metadata": {
        "id": "oBJhgFcsRG8y"
      },
      "source": [
        "The Precision-Recall Curve for the Logistic Regression model is shown (orange).\n",
        "A random or baseline classifier is shown as a horizontal line (blue with dashes)."
      ]
    },
    {
      "cell_type": "markdown",
      "metadata": {
        "id": "y826E3C4S7hE"
      },
      "source": [
        "A model with perfect skill is depicted as a point at a coordinate of (1,1). <br>\n",
        "\n",
        "A skillful model is represented by a curve that bows towards a coordinate of (1,1). <br>\n",
        "\n",
        "A no-skill classifier will be a horizontal line on the plot with a precision that is proportional to the number of positive examples in the dataset.<br>\n",
        "\n",
        "For a balanced dataset this will be 0.5.<br>\n",
        "\n",
        "**The focus of the PR curve on the minority class makes it an effective diagnostic for imbalanced binary classification models**"
      ]
    },
    {
      "cell_type": "markdown",
      "metadata": {
        "id": "xyK68vroSRnX"
      },
      "source": [
        "Precision-recall curves (PR curves) are recommended for highly skewed domains\n",
        "where ROC curves may provide an excessively optimistic view of the performance"
      ]
    },
    {
      "cell_type": "code",
      "metadata": {
        "id": "rRryCK1zPxc9"
      },
      "source": [
        "# plot the no skill precision-recall curve\n",
        "pyplot.plot([0, 1], [no_skill, no_skill], linestyle='--', label='No Skill')\n",
        "# plot the model precision-recall curve\n",
        "pyplot.plot(recall, precision, marker='.', label='Logistic')\n",
        "# axis labels\n",
        "pyplot.xlabel('Recall')\n",
        "pyplot.ylabel('Precision')\n",
        "# show the legend\n",
        "pyplot.legend()\n",
        "# show the plot\n",
        "pyplot.show()"
      ],
      "execution_count": null,
      "outputs": []
    }
  ]
}