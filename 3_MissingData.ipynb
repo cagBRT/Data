{
  "nbformat": 4,
  "nbformat_minor": 0,
  "metadata": {
    "colab": {
      "name": "3:MissingData.ipynb",
      "private_outputs": true,
      "provenance": [],
      "authorship_tag": "ABX9TyNUzmh46S1bV5DufN46/u9q",
      "include_colab_link": true
    },
    "kernelspec": {
      "name": "python3",
      "display_name": "Python 3"
    }
  },
  "cells": [
    {
      "cell_type": "markdown",
      "metadata": {
        "id": "view-in-github",
        "colab_type": "text"
      },
      "source": [
        "<a href=\"https://colab.research.google.com/github/cagBRT/Data/blob/main/3_MissingData.ipynb\" target=\"_parent\"><img src=\"https://colab.research.google.com/assets/colab-badge.svg\" alt=\"Open In Colab\"/></a>"
      ]
    },
    {
      "cell_type": "markdown",
      "metadata": {
        "id": "YtZIb1vR_H0D"
      },
      "source": [
        "**Why is data missing?**\n",
        "Understanding the reasons why data are missing is important for handling the remaining data correctly. If values are missing completely at random, the data sample is likely still representative of the population. But if the values are missing systematically, analysis may be biased. For example, in a study of the relation between IQ and income, if participants with an above-average IQ tend to skip the question ‘What is your salary?’, analyses that do not take into account this missing at random (MAR pattern) may falsely fail to find a positive association between IQ and salary (Wikipedia)"
      ]
    },
    {
      "cell_type": "code",
      "metadata": {
        "id": "Nh5oL6MJDNqC"
      },
      "source": [
        "# Clone the entire repo.\n",
        "!git clone -s https://github.com/cagBRT/Data.git cloned-repo\n",
        "%cd cloned-repo"
      ],
      "execution_count": null,
      "outputs": []
    },
    {
      "cell_type": "markdown",
      "metadata": {
        "id": "juRR4YIL-IBy"
      },
      "source": [
        "**Methods to handle missing data**<br>\n",
        ">Deleting rows with missing values<br>\n",
        "Impute missing values for continuing variable<br>\n",
        "Impute missing values for categorical variable<br>\n",
        "Other imputation methods<br>\n",
        "Using algorithms that support missing values<br>\n",
        "Prediction of missing values<br>\n",
        "Imputation using Deep Learning Library - Datawig"
      ]
    },
    {
      "cell_type": "code",
      "metadata": {
        "id": "MXGkhsC7_v3L"
      },
      "source": [
        "import pandas as pd\n",
        "import missingno as msno\n",
        "import matplotlib.pyplot as plt\n",
        "import numpy as np\n",
        "import seaborn as sns"
      ],
      "execution_count": null,
      "outputs": []
    },
    {
      "cell_type": "markdown",
      "metadata": {
        "id": "TELDcaW2JqWr"
      },
      "source": [
        "Using the Titanic dataset decide what to do with missing data"
      ]
    },
    {
      "cell_type": "code",
      "metadata": {
        "id": "FIxUqWqYTuep"
      },
      "source": [
        "data = pd.read_csv(\"titanic_train.csv\")\n",
        "data.shape"
      ],
      "execution_count": null,
      "outputs": []
    },
    {
      "cell_type": "markdown",
      "metadata": {
        "id": "qXOPGoI8BN2C"
      },
      "source": [
        "Find the missing data"
      ]
    },
    {
      "cell_type": "code",
      "metadata": {
        "id": "Jc1tKByC9oeY"
      },
      "source": [
        "msno.matrix(data)\n",
        "#White horizontal lines are missing data"
      ],
      "execution_count": null,
      "outputs": []
    },
    {
      "cell_type": "markdown",
      "metadata": {
        "id": "W3IvdsQbBQGL"
      },
      "source": [
        "There is a lot of missing data in some of the columns. <br>\n",
        "We need to decide what to do about the missing data"
      ]
    },
    {
      "cell_type": "code",
      "metadata": {
        "id": "nqkJPyfdBLL3"
      },
      "source": [
        "print(data.isnull().sum())"
      ],
      "execution_count": null,
      "outputs": []
    },
    {
      "cell_type": "code",
      "metadata": {
        "id": "s2NClTMYYsGj"
      },
      "source": [
        "data"
      ],
      "execution_count": null,
      "outputs": []
    },
    {
      "cell_type": "markdown",
      "metadata": {
        "id": "Nf15a5KVIhmf"
      },
      "source": [
        "# **There is a lot of missing data**"
      ]
    },
    {
      "cell_type": "markdown",
      "metadata": {
        "id": "QNDDr88AIl9x"
      },
      "source": [
        "If we delete all rows with missing data, our model will be robust. <br>\n",
        "But if we delete all rows with missing data, we will have a small dataset. "
      ]
    },
    {
      "cell_type": "markdown",
      "metadata": {
        "id": "P3l8JsZWBfDh"
      },
      "source": [
        "If we look first at the missing data in the cabins column. We see there is a lot, 687. <br>\n",
        "The problem we are trying to solve may not require cabin information, so let's delete the entire column. <br>\n",
        "If the cabin information is required for solving our problem, then we will need to do a little more work. "
      ]
    },
    {
      "cell_type": "markdown",
      "metadata": {
        "id": "BGV3DCfuBmut"
      },
      "source": [
        "**Dropping a column**<br>\n",
        "For missing cabins, let's drop that column"
      ]
    },
    {
      "cell_type": "code",
      "metadata": {
        "id": "te9KMmyeBec0"
      },
      "source": [
        "df = data.drop(['Cabin'],axis=1)"
      ],
      "execution_count": null,
      "outputs": []
    },
    {
      "cell_type": "code",
      "metadata": {
        "id": "9Hlw-ssACNOb"
      },
      "source": [
        "msno.matrix(df)"
      ],
      "execution_count": null,
      "outputs": []
    },
    {
      "cell_type": "markdown",
      "metadata": {
        "id": "xg5lSk4ECeX7"
      },
      "source": [
        "**What about embarked?**<br>\n",
        "As you can see below, the two rows that are missing the embark port have all the other data. <br>\n",
        "Depending upon the problem we are trying to solve, we can do different things. "
      ]
    },
    {
      "cell_type": "markdown",
      "metadata": {
        "id": "4Sy5UScNTNpo"
      },
      "source": [
        "The embark ports are:<br>\n",
        ">Southhampton<br>\n",
        "Cherbourg<br>\n",
        "Queentown<br>"
      ]
    },
    {
      "cell_type": "code",
      "metadata": {
        "id": "VLEr9g4HCkUA"
      },
      "source": [
        "check_rows=pd.isnull(df['Embarked'])\n",
        "df[check_rows]"
      ],
      "execution_count": null,
      "outputs": []
    },
    {
      "cell_type": "markdown",
      "metadata": {
        "id": "aKhd2mViVJ6u"
      },
      "source": [
        "First let's see if the embark location is important to survival"
      ]
    },
    {
      "cell_type": "code",
      "metadata": {
        "id": "esIBjvzTVSHy"
      },
      "source": [
        "tt= df.dropna(subset=['Embarked'])\n",
        "ports=df['Embarked'].value_counts()\n",
        "print(ports)\n",
        "names=tt['Embarked'].unique()\n",
        "print(names)\n",
        "\n",
        "survival= df['Survived']==1\n",
        "portEmbarkS=df['Embarked']=='S'\n",
        "portEmbarkQ=df['Embarked']=='Q'\n",
        "portEmbarkC=df['Embarked']=='C'\n",
        "\n",
        "embarkSurvivedS=df.loc[survival & portEmbarkS]\n",
        "embarkSurvivedC=df.loc[survival & portEmbarkC]\n",
        "embarkSurvivedQ=df.loc[survival & portEmbarkQ]\n",
        "es=[embarkSurvivedS,embarkSurvivedC, embarkSurvivedQ]\n",
        "esN=[len(embarkSurvivedS),len(embarkSurvivedC), len(embarkSurvivedQ)]"
      ],
      "execution_count": null,
      "outputs": []
    },
    {
      "cell_type": "markdown",
      "metadata": {
        "id": "SA_bMC_hKV_b"
      },
      "source": [
        "As we can see by the ratios below, where a passenger embarked seems to be important. <br>"
      ]
    },
    {
      "cell_type": "code",
      "metadata": {
        "id": "0zTsbbbcHnIN"
      },
      "source": [
        "survival_ratio_S=len(embarkSurvivedS)/int(ports[0])\n",
        "survival_ratio_C=len(embarkSurvivedC)/int(ports[1])\n",
        "survival_ratio_Q=len(embarkSurvivedQ)/int(ports[2])\n",
        "print(\"S:\",survival_ratio_S)\n",
        "print(\"C:\",survival_ratio_C)\n",
        "print(\"Q:\",survival_ratio_Q)"
      ],
      "execution_count": null,
      "outputs": []
    },
    {
      "cell_type": "markdown",
      "metadata": {
        "id": "uexXQlsIKgyJ"
      },
      "source": [
        "Same information, in a bar chart"
      ]
    },
    {
      "cell_type": "code",
      "metadata": {
        "id": "zhQFlzQwYty9"
      },
      "source": [
        "width=0.2\n",
        "N=3\n",
        "ind=np.arange(N)\n",
        "fig,ax=plt.subplots()\n",
        "rect1=ax.bar(ind,ports,width)\n",
        "rect2=ax.bar(ind+width,esN,width)\n",
        "\n",
        "ax.set_xlabel('Survial')\n",
        "ax.set_ylabel('Ports')\n",
        "ax.set_xticks(ind+width/2)\n",
        "ax.set_xticklabels(('S','Q','C'))\n",
        "plt.show()"
      ],
      "execution_count": null,
      "outputs": []
    },
    {
      "cell_type": "markdown",
      "metadata": {
        "id": "jb02i4nBOsHU"
      },
      "source": [
        "**Imputation for categorical columns**<br>\n",
        "Instead of deleting the rows, we might decide to insert a value. <br>\n",
        "For categorical data, it is usual to replace the missing data with the most frequent category."
      ]
    },
    {
      "cell_type": "code",
      "metadata": {
        "id": "r8FTnGbFPWP6"
      },
      "source": [
        "df.value_counts(['Embarked'])"
      ],
      "execution_count": null,
      "outputs": []
    },
    {
      "cell_type": "markdown",
      "metadata": {
        "id": "EvjQbXkoQsp9"
      },
      "source": [
        "Replacing the missing data with the most frequent category may be the right thing to do. <br>\n",
        "But instead of jumping and doing the usual, let's take a moment and see if we can find any hints to help us decide what to do."
      ]
    },
    {
      "cell_type": "markdown",
      "metadata": {
        "id": "htjwrg7tRSAh"
      },
      "source": [
        "Notice the two missing embark data points are for two women.<br>\n",
        "They are on the same ticket and the fare is the same for both women.<br>\n",
        "They are also in the same passenger class, and both survived. <br>\n",
        "Neither one had siblings or parents on board. <br>\n",
        "It is possible one is a companion to the other. "
      ]
    },
    {
      "cell_type": "markdown",
      "metadata": {
        "id": "I8eIlUnqRfS0"
      },
      "source": [
        "Also notice, their passenger Id numbers are very different. <br>\n",
        "They did not board the ship at the same time, it is possible they boarded<br>\n",
        "at very different times. <br>\n",
        "It is possible the companion boarded in one port and the other woman boarded in a different port. <br>\n",
        "It is also possible their ticket numbers were entered incorrectly. <br>\n",
        "But it is an interesting coincidence that their fares and ticket numbers are the same."
      ]
    },
    {
      "cell_type": "code",
      "metadata": {
        "id": "QitGdoWqKEXk"
      },
      "source": [
        "df[check_rows]"
      ],
      "execution_count": null,
      "outputs": []
    },
    {
      "cell_type": "markdown",
      "metadata": {
        "id": "TLFlrfyvUqft"
      },
      "source": [
        "Let's look at the data again, and include the sex of the survivors<br>\n"
      ]
    },
    {
      "cell_type": "markdown",
      "metadata": {
        "id": "F1TiguEvW9Ds"
      },
      "source": [
        "**Assignment 1:**<BR>\n",
        "Find the ratio for each number of females who survived from each embark port"
      ]
    },
    {
      "cell_type": "code",
      "metadata": {
        "id": "hw6zwVQJXXcK"
      },
      "source": [
        ""
      ],
      "execution_count": null,
      "outputs": []
    },
    {
      "cell_type": "markdown",
      "metadata": {
        "id": "5cVpkg4ILRtO"
      },
      "source": [
        "So, we have a choice<br>\n",
        "1. We can delete these two women from the dataset\n",
        "2. We can assign them the most populous embark port, South Hampton\n",
        "3. We can assign them the more likely embark port, Cherbourg<br>\n",
        "\n",
        "Also, with just two missing out of 891 rows, will it be a big impact on the model?"
      ]
    },
    {
      "cell_type": "code",
      "metadata": {
        "id": "LNImxnulYH6j"
      },
      "source": [
        "value = 'C'\n",
        "\n",
        "df['Embarked'] = df['Embarked'].fillna(value)"
      ],
      "execution_count": null,
      "outputs": []
    },
    {
      "cell_type": "markdown",
      "metadata": {
        "id": "4n3SmIHcYDZC"
      },
      "source": [
        "Replace the missing values in the embark column"
      ]
    },
    {
      "cell_type": "code",
      "metadata": {
        "id": "CU8mkmjKasvp"
      },
      "source": [
        "df"
      ],
      "execution_count": null,
      "outputs": []
    },
    {
      "cell_type": "markdown",
      "metadata": {
        "id": "bhEHkcq3a3ee"
      },
      "source": [
        "We have removed the cabin column for now. <br>\n",
        "And we have assigned the two missing embark values with 'C'<br>\n",
        "Now we have to decide what to do about the missing ages. <br>\n",
        "Our choices: <bR>\n",
        "> Delete all the missing ages<br>\n",
        "Fill with a single value<br>\n",
        "Fill with other values"
      ]
    },
    {
      "cell_type": "code",
      "metadata": {
        "id": "sY6NrFeKa3wC"
      },
      "source": [
        "print(df.isnull().sum())"
      ],
      "execution_count": null,
      "outputs": []
    },
    {
      "cell_type": "markdown",
      "metadata": {
        "id": "t3uozKUlbKLa"
      },
      "source": [
        "**What is the effect of age on survivability?**<br>\n",
        "Drop the missing age values and plot age vs survival.<br>\n"
      ]
    },
    {
      "cell_type": "code",
      "metadata": {
        "id": "V8p6Nzf5bKcI"
      },
      "source": [
        "survived = 'survived'\n",
        "not_survived = 'not survived'\n",
        "fig, axes = plt.subplots(nrows=1, ncols=2,figsize=(10, 4))\n",
        "women = df[df['Sex']=='female']\n",
        "men = df[df['Sex']=='male']\n",
        "#put the ages into bins \n",
        "ax = sns.histplot(women[women['Survived']==1].Age.dropna(), bins=18, \n",
        "                  label = survived, ax = axes[0], kde =False)\n",
        "ax = sns.histplot(women[women['Survived']==0].Age.dropna(), bins=18, \n",
        "                  label = not_survived, ax = axes[0], kde =False, color='red')\n",
        "ax.legend()\n",
        "ax.set_title('Female')\n",
        "ax = sns.histplot(men[men['Survived']==1].Age.dropna(), bins=18, \n",
        "                  label = survived, ax = axes[1], kde = False)\n",
        "ax = sns.histplot(men[men['Survived']==0].Age.dropna(), bins=18, \n",
        "                  label = not_survived, ax = axes[1], kde = False, color='red')\n",
        "ax.legend()\n",
        "_ = ax.set_title('Male')"
      ],
      "execution_count": null,
      "outputs": []
    },
    {
      "cell_type": "markdown",
      "metadata": {
        "id": "fjJE9UlDkbB_"
      },
      "source": [
        "How many people that survived are missing age data?"
      ]
    },
    {
      "cell_type": "code",
      "metadata": {
        "id": "FAF-4jZeoXaf"
      },
      "source": [
        "df"
      ],
      "execution_count": null,
      "outputs": []
    },
    {
      "cell_type": "markdown",
      "metadata": {
        "id": "QlmmAiucpxaN"
      },
      "source": [
        "Notice when we look for passengers that have survived and we do not have an age for them, we see the total is zero. <br>\n",
        "If we don't know someone's age, then they did not survive. "
      ]
    },
    {
      "cell_type": "code",
      "metadata": {
        "id": "1RJFnnIsmi33"
      },
      "source": [
        "survival= df['Survived']==1\n",
        "aged=df['Age'].isna()==True\n",
        "survivedAge=df.loc[survival & aged]\n",
        "survivedAge"
      ],
      "execution_count": null,
      "outputs": []
    },
    {
      "cell_type": "code",
      "metadata": {
        "id": "neW3f3dRkbaC"
      },
      "source": [
        "survival_no= df['Survived']==0\n",
        "aged=df['Age'].isna()==True\n",
        "survivedAge_not=df.loc[survival_no & aged]\n",
        "survivedAge_not"
      ],
      "execution_count": null,
      "outputs": []
    },
    {
      "cell_type": "markdown",
      "metadata": {
        "id": "mM4luxp3q90q"
      },
      "source": [
        "**Assignmen**t <br>\n",
        "The decision we have to make in this case can be considered an artifical one. <br>\n",
        "To help our model on Titanic, we might want to set all the missing ages to 0. \n",
        "For a production model, we would not want to do this. <br>\n",
        "**Why?**"
      ]
    },
    {
      "cell_type": "markdown",
      "metadata": {
        "id": "uhsiNaaVs07L"
      },
      "source": [
        "**Assignment 2**<br>\n",
        ">Set the missing ages to 0<br>\n",
        ">Later we will set the ages to random values and compare the model performance. "
      ]
    },
    {
      "cell_type": "code",
      "metadata": {
        "id": "2Rs12KmZt6_v"
      },
      "source": [
        ""
      ],
      "execution_count": null,
      "outputs": []
    },
    {
      "cell_type": "code",
      "metadata": {
        "cellView": "form",
        "id": "pfvtkqBYU4B8"
      },
      "source": [
        "#@title Assignment 1\n",
        "#Assignment 1\n",
        "sex= df.Sex=='female'\n",
        "embarkSurvivedS=df.loc[survival & portEmbarkS &sex]\n",
        "embarkSurvivedC=df.loc[survival & portEmbarkC &sex]\n",
        "embarkSurvivedQ=df.loc[survival & portEmbarkQ &sex]\n",
        "\n",
        "survival_ratio_S=len(embarkSurvivedS)/int(ports[0])\n",
        "survival_ratio_C=len(embarkSurvivedC)/int(ports[1])\n",
        "survival_ratio_Q=len(embarkSurvivedQ)/int(ports[2])\n",
        "print(\"S:\",survival_ratio_S)\n",
        "print(\"C:\",survival_ratio_C)\n",
        "print(\"Q:\",survival_ratio_Q)"
      ],
      "execution_count": null,
      "outputs": []
    },
    {
      "cell_type": "code",
      "metadata": {
        "cellView": "form",
        "id": "3sb78YAStLf6"
      },
      "source": [
        "#@title Assignment 2\n",
        "aged=df['Age'].isna()==True\n",
        "df[aged]=0\n",
        "df"
      ],
      "execution_count": null,
      "outputs": []
    }
  ]
}