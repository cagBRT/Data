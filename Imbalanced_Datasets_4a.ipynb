{
  "nbformat": 4,
  "nbformat_minor": 0,
  "metadata": {
    "colab": {
      "name": " Imbalanced Datasets 4a.ipynb",
      "private_outputs": true,
      "provenance": [],
      "collapsed_sections": [],
      "authorship_tag": "ABX9TyM0ktkFrEPlLkPkLtIeM+OK",
      "include_colab_link": true
    },
    "kernelspec": {
      "name": "python3",
      "display_name": "Python 3"
    },
    "language_info": {
      "name": "python"
    }
  },
  "cells": [
    {
      "cell_type": "markdown",
      "metadata": {
        "id": "view-in-github",
        "colab_type": "text"
      },
      "source": [
        "<a href=\"https://colab.research.google.com/github/cagBRT/Data/blob/main/Imbalanced_Datasets_4a.ipynb\" target=\"_parent\"><img src=\"https://colab.research.google.com/assets/colab-badge.svg\" alt=\"Open In Colab\"/></a>"
      ]
    },
    {
      "cell_type": "markdown",
      "metadata": {
        "id": "suO5huUEIISG"
      },
      "source": [
        "# **Receiver Opeating Characteristic (ROC) Curves and ROC AUC**"
      ]
    },
    {
      "cell_type": "markdown",
      "metadata": {
        "id": "ln5AZJjELAi7"
      },
      "source": [
        "Most imbalanced classification problems involve two classes:<br>\n",
        "- a negative case with the majority of examples <br>\n",
        "- a positive case with a minority of examples. \n",
        "\n",
        "Two diagnostic tools that help in the interpretation of binary (two-class) classification predictive models are:<br>\n",
        "\n",
        "- ROC Curves <br> \n",
        "- Precision-Recall curves."
      ]
    },
    {
      "cell_type": "markdown",
      "metadata": {
        "id": "ctVXZHLfLcC-"
      },
      "source": [
        "ROC Curves and Precision-Recall Curves provide a diagnostic tool for binary classification models.<br>\n",
        "\n",
        "ROC AUC and Precision-Recall AUC provide scores that summarize the curves and can be used to compare classifiers.<br>\n",
        "\n",
        "ROC Curves and ROC AUC can be optimistic on severely imbalanced classification problems with few samples of the minority class."
      ]
    },
    {
      "cell_type": "markdown",
      "metadata": {
        "id": "02PxciVEIe-s"
      },
      "source": [
        "These plots summarize the performance of *binary classification models* on the positive class. "
      ]
    },
    {
      "cell_type": "code",
      "metadata": {
        "id": "60_bQ5QOHAhM"
      },
      "source": [
        "# example of a precision-recall auc for a predictive model\n",
        "from sklearn.datasets import make_classification\n",
        "from sklearn.linear_model import LogisticRegression\n",
        "from sklearn.model_selection import train_test_split\n",
        "from sklearn.metrics import roc_curve\n",
        "from matplotlib import pyplot"
      ],
      "execution_count": null,
      "outputs": []
    },
    {
      "cell_type": "code",
      "metadata": {
        "id": "3ShJp7MlHYsY"
      },
      "source": [
        "# generate 2 class dataset\n",
        "X, y = make_classification(n_samples=1000, n_classes=2, random_state=1)\n",
        "# split into train/test sets\n",
        "trainX, testX, trainy, testy = train_test_split(X, y, test_size=0.5, random_state=2)"
      ],
      "execution_count": null,
      "outputs": []
    },
    {
      "cell_type": "code",
      "metadata": {
        "id": "pDjMcW8DHbfv"
      },
      "source": [
        "# fit a model\n",
        "model = LogisticRegression(solver='lbfgs')\n",
        "model.fit(trainX, trainy)\n",
        "# predict probabilities\n",
        "yhat = model.predict_proba(testX)\n",
        "# retrieve just the probabilities for the positive class\n",
        "pos_probs = yhat[:, 1]"
      ],
      "execution_count": null,
      "outputs": []
    },
    {
      "cell_type": "markdown",
      "metadata": {
        "id": "m2qVLJrgKGb1"
      },
      "source": [
        "**Plot the ROC Curve**s"
      ]
    },
    {
      "cell_type": "markdown",
      "metadata": {
        "id": "pa-segTxI3fD"
      },
      "source": [
        "The upper left point iin the plot is a perfect skill. <br>\n",
        "\n",
        "If a model has no skill at class prediction, then its performance will be the diagona line from lwer left to upper right. <br>\n",
        "\n",
        "If the performance falls below the diagonal line, it is worse than a no skill model.\n"
      ]
    },
    {
      "cell_type": "code",
      "metadata": {
        "id": "T60Q8BzMHdjI"
      },
      "source": [
        "# plot no skill roc curve\n",
        "pyplot.plot([0, 1], [0, 1], linestyle='--', label='No Skill')\n",
        "# calculate roc curve for model\n",
        "fpr, tpr, _ = roc_curve(testy, pos_probs)\n",
        "# plot model roc curve\n",
        "pyplot.plot(fpr, tpr, marker='.', label='Logistic')\n",
        "# axis labels\n",
        "pyplot.xlabel('False Positive Rate')\n",
        "pyplot.ylabel('True Positive Rate')\n",
        "# show the legend\n",
        "pyplot.legend()\n",
        "# show the plot\n",
        "pyplot.show()"
      ],
      "execution_count": null,
      "outputs": []
    }
  ]
}