{
  "nbformat": 4,
  "nbformat_minor": 0,
  "metadata": {
    "colab": {
      "private_outputs": true,
      "provenance": [],
      "authorship_tag": "ABX9TyOb1qQv39Ocg84DIJG/OTfK",
      "include_colab_link": true
    },
    "kernelspec": {
      "name": "python3",
      "display_name": "Python 3"
    },
    "language_info": {
      "name": "python"
    }
  },
  "cells": [
    {
      "cell_type": "markdown",
      "metadata": {
        "id": "view-in-github",
        "colab_type": "text"
      },
      "source": [
        "<a href=\"https://colab.research.google.com/github/cagBRT/Data/blob/main/CombinedOverUnderSampling.ipynb\" target=\"_parent\"><img src=\"https://colab.research.google.com/assets/colab-badge.svg\" alt=\"Open In Colab\"/></a>"
      ]
    },
    {
      "cell_type": "markdown",
      "source": [],
      "metadata": {
        "id": "-mH1T_nrvqT_"
      }
    },
    {
      "cell_type": "markdown",
      "source": [
        "# The dataset"
      ],
      "metadata": {
        "id": "kljb7nDNvqLK"
      }
    },
    {
      "cell_type": "code",
      "source": [
        "from numpy import mean\n",
        "from collections import Counter\n",
        "from sklearn.datasets import make_classification\n",
        "from matplotlib import pyplot\n",
        "from numpy import where\n",
        "from sklearn.tree import DecisionTreeClassifier\n",
        "from sklearn.model_selection import cross_val_score\n",
        "from sklearn.model_selection import RepeatedStratifiedKFold\n",
        "from imblearn.pipeline import Pipeline\n",
        "from imblearn.over_sampling import RandomOverSampler\n",
        "from imblearn.under_sampling import RandomUnderSampler\n",
        "from imblearn.over_sampling import SMOTE\n",
        "from imblearn.combine import SMOTETomek\n",
        "from imblearn.under_sampling import TomekLinks\n",
        "from imblearn.combine import SMOTEENN"
      ],
      "metadata": {
        "id": "8-fAmUwWwGwv"
      },
      "execution_count": null,
      "outputs": []
    },
    {
      "cell_type": "code",
      "source": [
        "\n",
        "# define dataset\n",
        "X, y = make_classification(n_samples=10000, n_features=2, n_redundant=0,\n",
        " n_clusters_per_class=1, weights=[0.99], flip_y=0, random_state=1)\n",
        "# summarize class distribution\n",
        "counter = Counter(y)\n",
        "print(counter)"
      ],
      "metadata": {
        "id": "3fgVJlf2wFSv"
      },
      "execution_count": null,
      "outputs": []
    },
    {
      "cell_type": "code",
      "execution_count": null,
      "metadata": {
        "id": "81NrK72stbjI"
      },
      "outputs": [],
      "source": [
        "\n",
        "# scatter plot of examples by class label\n",
        "for label, _ in counter.items():\n",
        " row_ix = where(y == label)[0]\n",
        " pyplot.scatter(X[row_ix, 0], X[row_ix, 1], label=str(label))\n",
        "pyplot.legend()\n",
        "pyplot.show()"
      ]
    },
    {
      "cell_type": "markdown",
      "source": [
        "# The model"
      ],
      "metadata": {
        "id": "13OfQaBKwKaJ"
      }
    },
    {
      "cell_type": "code",
      "source": [
        "model = DecisionTreeClassifier()\n",
        "# define evaluation procedure\n",
        "cv = RepeatedStratifiedKFold(n_splits=10, n_repeats=3, random_state=1)\n",
        "# evaluate model\n",
        "scores = cross_val_score(model, X, y, scoring='roc_auc', cv=cv, n_jobs=-1)\n",
        "# summarize performance\n",
        "print('Mean ROC AUC: %.3f' % mean(scores))"
      ],
      "metadata": {
        "id": "KmYoR66jv1Ra"
      },
      "execution_count": null,
      "outputs": []
    },
    {
      "cell_type": "markdown",
      "source": [
        "# Manually Combine Over-Undersampling Methods"
      ],
      "metadata": {
        "id": "s0iwXuInt9SI"
      }
    },
    {
      "cell_type": "markdown",
      "source": [
        "###Using the same model and dataset as the original problem"
      ],
      "metadata": {
        "id": "c9nFTv1dSZGO"
      }
    },
    {
      "cell_type": "markdown",
      "source": [
        "A good starting point for combining resampling techniques is to start with random or naive methods.<br>\n",
        "\n",
        "Although simple, and often ineffective when applied in isolation, they can be effective when combined.<br>\n",
        "\n",
        "**Random oversampling involves randomly duplicating examples in the minority class**, <br>\n",
        "\n",
        "**random undersampling involves randomly deleting examples from the majority class.**<br>\n",
        "\n",
        "As these two transforms are performed on separate classes, the order in which they are applied to the training dataset does not matter.\n",
        "\n"
      ],
      "metadata": {
        "id": "DvVsnn8FvAc1"
      }
    },
    {
      "cell_type": "code",
      "source": [
        "# define resampling\n",
        "over = RandomOverSampler(sampling_strategy=0.1)\n",
        "under = RandomUnderSampler(sampling_strategy=0.5)\n",
        "X_over,y_over=over.fit_resample(X,y)\n",
        "X_under, y_under=under.fit_resample(X_over,y_over)\n",
        "# define pipeline\n",
        "pipeline = Pipeline(steps=[('o', over), ('u', under), ('m', model)])\n",
        "# define evaluation procedure\n",
        "cv = RepeatedStratifiedKFold(n_splits=10, n_repeats=3, random_state=1)\n",
        "# evaluate model\n",
        "scores = cross_val_score(pipeline, X, y, scoring='roc_auc', cv=cv, n_jobs=-1)\n",
        "print('over: Resampled dataset shape %s' % Counter(y_over))\n",
        "print('over&under: Resampled dataset shape %s' % Counter(y_under))\n",
        "# summarize performance\n",
        "print('Mean ROC AUC: %.3f' % mean(scores))"
      ],
      "metadata": {
        "id": "pqwSZYLGuDtX"
      },
      "execution_count": null,
      "outputs": []
    },
    {
      "cell_type": "markdown",
      "source": [
        "# Manually Combine SMOTE and Random Undersampling"
      ],
      "metadata": {
        "id": "h7hIhHBRSGjr"
      }
    },
    {
      "cell_type": "markdown",
      "source": [
        "One of the most popular oversampling method is the Synthetic Minority Oversampling Technique, or SMOTE for short.\n",
        "\n",
        "SMOTE works by selecting examples that are close in the feature space, drawing a line between the examples in the feature space and drawing a new sample as a point along that line.\n",
        "\n"
      ],
      "metadata": {
        "id": "hEqqvj0xUFSG"
      }
    },
    {
      "cell_type": "markdown",
      "source": [
        "###Using the same model and dataset as the original problem"
      ],
      "metadata": {
        "id": "zoW-ps1jSm6a"
      }
    },
    {
      "cell_type": "code",
      "source": [
        "over = SMOTE(sampling_strategy=0.1)\n",
        "under = RandomUnderSampler(sampling_strategy=0.5)\n",
        "steps = [('o', over), ('u', under), ('m', model)]\n",
        "pipeline = Pipeline(steps=steps)\n",
        "X_over3,y_over3=over.fit_resample(X,y)\n",
        "X_under3, y_under3=under.fit_resample(X_over,y_over)\n",
        "# define evaluation procedure\n",
        "cv = RepeatedStratifiedKFold(n_splits=10, n_repeats=3, random_state=1)\n",
        "# evaluate model\n",
        "scores = cross_val_score(pipeline, X, y, scoring='roc_auc', cv=cv, n_jobs=-1)\n",
        "print('over: Resampled dataset shape %s' % Counter(y_over))\n",
        "print('over&under: Resampled dataset shape %s' % Counter(y_under3))\n",
        "print('Mean ROC AUC: %.3f' % mean(scores))"
      ],
      "metadata": {
        "id": "rhuRfcIdSJYZ"
      },
      "execution_count": null,
      "outputs": []
    },
    {
      "cell_type": "markdown",
      "source": [
        "# Combination of SMOTE and Tomek Links Undersampling\n"
      ],
      "metadata": {
        "id": "0zfr6190T415"
      }
    },
    {
      "cell_type": "code",
      "source": [
        "resample = SMOTETomek(tomek=TomekLinks(sampling_strategy='majority'))\n",
        "pipeline = Pipeline(steps=[('r', resample), ('m', model)])\n",
        "X_resample, y_resample=resample.fit_resample(X,y)\n",
        "cv = RepeatedStratifiedKFold(n_splits=10, n_repeats=3, random_state=1)\n",
        "scores = cross_val_score(pipeline, X, y, scoring='roc_auc', cv=cv, n_jobs=-1)\n",
        "# summarize performance\n",
        "print('Resampled dataset shape %s' % Counter(y_resample))\n",
        "print('Mean ROC AUC: %.3f' % mean(scores))"
      ],
      "metadata": {
        "id": "SCK519HaUTex"
      },
      "execution_count": null,
      "outputs": []
    },
    {
      "cell_type": "markdown",
      "source": [
        "# Combination of SMOTE and Edited Nearest Neighbors Undersampling"
      ],
      "metadata": {
        "id": "bF_95cZsU8gS"
      }
    },
    {
      "cell_type": "code",
      "source": [
        "resample = SMOTEENN()\n",
        "pipeline = Pipeline(steps=[('r', resample), ('m', model)])\n",
        "X_resample, y_resample=resample.fit_resample(X,y)\n",
        "# define evaluation procedure\n",
        "cv = RepeatedStratifiedKFold(n_splits=10, n_repeats=3, random_state=1)\n",
        "# evaluate model\n",
        "scores = cross_val_score(pipeline, X, y, scoring='roc_auc', cv=cv, n_jobs=-1)\n",
        "# summarize performance\n",
        "print('Resampled dataset shape %s' % Counter(y_resample))\n",
        "print('Mean ROC AUC: %.3f' % mean(scores))"
      ],
      "metadata": {
        "id": "alshOFd3U5Ee"
      },
      "execution_count": null,
      "outputs": []
    }
  ]
}