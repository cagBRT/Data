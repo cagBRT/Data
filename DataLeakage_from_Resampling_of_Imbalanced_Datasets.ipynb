{
  "nbformat": 4,
  "nbformat_minor": 0,
  "metadata": {
    "colab": {
      "provenance": [],
      "include_colab_link": true
    },
    "kernelspec": {
      "name": "python3",
      "display_name": "Python 3"
    },
    "language_info": {
      "name": "python"
    }
  },
  "cells": [
    {
      "cell_type": "markdown",
      "metadata": {
        "id": "view-in-github",
        "colab_type": "text"
      },
      "source": [
        "<a href=\"https://colab.research.google.com/github/cagBRT/Data/blob/main/DataLeakage_from_Resampling_of_Imbalanced_Datasets.ipynb\" target=\"_parent\"><img src=\"https://colab.research.google.com/assets/colab-badge.svg\" alt=\"Open In Colab\"/></a>"
      ]
    },
    {
      "cell_type": "markdown",
      "source": [
        "# Data leakage  from Resampling of Imbalanced Datasets"
      ],
      "metadata": {
        "id": "klYXiPRCMdx_"
      }
    },
    {
      "cell_type": "markdown",
      "source": [
        "Data leakage occurs when information that would not be available at prediction time is used when building the model.\n",
        "\n",
        "In the resampling setting, there is a common pitfall that corresponds to resample the entire dataset before splitting it into a train and a test partitions. Note that it would be equivalent to resample the train and test partitions as well.\n",
        "\n",
        "Such of a processing leads to two issues:\n",
        "\n",
        "1. the model will not be tested on a dataset with class distribution similar to the real use-case. Indeed, by resampling the entire dataset, both the training and testing set will be potentially balanced while **the model should be tested on the natural imbalanced dataset to evaluate the potential bias of the model**;\n",
        "\n",
        "2. the resampling procedure might use information about samples in the dataset to either generate or select some of the samples. Therefore, we might use information of samples which will be later used as testing samples which is the typical data leakage issue.\n",
        "\n",
        "\n"
      ],
      "metadata": {
        "id": "XOacUQlMVRzS"
      }
    },
    {
      "cell_type": "markdown",
      "source": [
        "This notebook demonstrates the wrong and right ways to do some sampling and emphasize the tools that one should use, avoiding to fall into the data leakage trap."
      ],
      "metadata": {
        "id": "0Caq-D_JZ2Ly"
      }
    },
    {
      "cell_type": "markdown",
      "source": [
        "# Get the data"
      ],
      "metadata": {
        "id": "jV2fxz3MaHp2"
      }
    },
    {
      "cell_type": "markdown",
      "source": [
        "We will use the adult census dataset. <br>\n",
        "\n",
        "For the sake of simplicity, we will only use the numerical features. <br>\n",
        "\n",
        "Also, we will make the dataset more imbalanced to increase the effect of the wrongdoings:"
      ],
      "metadata": {
        "id": "EwpzG3W4Z8fr"
      }
    },
    {
      "cell_type": "markdown",
      "source": [
        "**from sklearn.datasets import fetch_openml**"
      ],
      "metadata": {
        "id": "Fz7-ivKgbClL"
      }
    },
    {
      "cell_type": "markdown",
      "source": [
        "Fetch dataset from openml by name or dataset id.\n",
        "\n",
        "Datasets are uniquely identified by either an integer ID or by a combination of name and version (i.e. there might be multiple versions of the ‘iris’ dataset). Please give either name or data_id (not both). In case a name is given, a version can also be provided."
      ],
      "metadata": {
        "id": "4bvtRBQsbAJK"
      }
    },
    {
      "cell_type": "code",
      "source": [
        "from sklearn.datasets import fetch_openml"
      ],
      "metadata": {
        "id": "As7ZDnD0bGAH"
      },
      "execution_count": null,
      "outputs": []
    },
    {
      "cell_type": "markdown",
      "source": [
        "The datasets can be found here:\n",
        "https://openml.org/search?type=data&sort=runs&status=active"
      ],
      "metadata": {
        "id": "SM3Qx8wXc-18"
      }
    },
    {
      "cell_type": "markdown",
      "source": [
        "# Make the dataset imbalanced"
      ],
      "metadata": {
        "id": "JLkB1DyqdI1b"
      }
    },
    {
      "cell_type": "markdown",
      "source": [
        "**from imblearn.datasets import make_imbalance**"
      ],
      "metadata": {
        "id": "BX4VbDJAbwch"
      }
    },
    {
      "cell_type": "code",
      "source": [
        "from imblearn.datasets import make_imbalance\n",
        "from collections import Counter\n",
        "from sklearn.ensemble import HistGradientBoostingClassifier\n",
        "from sklearn.model_selection import cross_validate\n",
        "from imblearn.under_sampling import RandomUnderSampler"
      ],
      "metadata": {
        "id": "paHptCqqNaDV"
      },
      "execution_count": null,
      "outputs": []
    },
    {
      "cell_type": "markdown",
      "source": [
        "Turn a dataset into an imbalanced dataset with a specific sampling strategy."
      ],
      "metadata": {
        "id": "x99vRK2obtK9"
      }
    },
    {
      "cell_type": "code",
      "execution_count": null,
      "metadata": {
        "id": "URBxc6HLUSzU"
      },
      "outputs": [],
      "source": [
        "X, y = fetch_openml(data_id=1119, as_frame=True, return_X_y=True,parser='auto')\n",
        "X = X.select_dtypes(include=\"number\")\n",
        "X, y = make_imbalance(X, y, sampling_strategy={\">50K\": 300}, random_state=1)"
      ]
    },
    {
      "cell_type": "markdown",
      "source": [
        "**The Dataset**<br>\n",
        ">age: the age of an individual<br>\n",
        "education­num: the highest level of education achieved in numerical form.<br>\n",
        "capital­gain: capital gains for an individual<br>\n",
        "capital­loss: capital loss for an individual<br>\n",
        "hours­per­week: the hours an individual has reported to work per week"
      ],
      "metadata": {
        "id": "G9vYcAXhOleZ"
      }
    },
    {
      "cell_type": "code",
      "source": [
        "X"
      ],
      "metadata": {
        "colab": {
          "base_uri": "https://localhost:8080/",
          "height": 423
        },
        "id": "oN-Du7PjNtUm",
        "outputId": "2da46062-1c0e-45d5-cdd8-2a204a703b43"
      },
      "execution_count": null,
      "outputs": [
        {
          "output_type": "execute_result",
          "data": {
            "text/plain": [
              "       age  fnlwgt:  education-num:  capital-gain:  capital-loss:  \\\n",
              "0       39    77516              13           2174              0   \n",
              "1       50    83311              13              0              0   \n",
              "2       38   215646               9              0              0   \n",
              "3       53   234721               7              0              0   \n",
              "4       28   338409              13              0              0   \n",
              "...    ...      ...             ...            ...            ...   \n",
              "25015   52   254211              14          15024              0   \n",
              "25016   44   377018              11              0              0   \n",
              "25017   36   114605              11              0              0   \n",
              "25018   37   212005              11              0              0   \n",
              "25019   56   208809               9              0           1902   \n",
              "\n",
              "       hours-per-week:  \n",
              "0                   40  \n",
              "1                   13  \n",
              "2                   40  \n",
              "3                   40  \n",
              "4                   40  \n",
              "...                ...  \n",
              "25015               60  \n",
              "25016               40  \n",
              "25017               40  \n",
              "25018               40  \n",
              "25019               40  \n",
              "\n",
              "[25020 rows x 6 columns]"
            ],
            "text/html": [
              "\n",
              "  <div id=\"df-00214dec-c08e-4dff-998b-28185595da4c\" class=\"colab-df-container\">\n",
              "    <div>\n",
              "<style scoped>\n",
              "    .dataframe tbody tr th:only-of-type {\n",
              "        vertical-align: middle;\n",
              "    }\n",
              "\n",
              "    .dataframe tbody tr th {\n",
              "        vertical-align: top;\n",
              "    }\n",
              "\n",
              "    .dataframe thead th {\n",
              "        text-align: right;\n",
              "    }\n",
              "</style>\n",
              "<table border=\"1\" class=\"dataframe\">\n",
              "  <thead>\n",
              "    <tr style=\"text-align: right;\">\n",
              "      <th></th>\n",
              "      <th>age</th>\n",
              "      <th>fnlwgt:</th>\n",
              "      <th>education-num:</th>\n",
              "      <th>capital-gain:</th>\n",
              "      <th>capital-loss:</th>\n",
              "      <th>hours-per-week:</th>\n",
              "    </tr>\n",
              "  </thead>\n",
              "  <tbody>\n",
              "    <tr>\n",
              "      <th>0</th>\n",
              "      <td>39</td>\n",
              "      <td>77516</td>\n",
              "      <td>13</td>\n",
              "      <td>2174</td>\n",
              "      <td>0</td>\n",
              "      <td>40</td>\n",
              "    </tr>\n",
              "    <tr>\n",
              "      <th>1</th>\n",
              "      <td>50</td>\n",
              "      <td>83311</td>\n",
              "      <td>13</td>\n",
              "      <td>0</td>\n",
              "      <td>0</td>\n",
              "      <td>13</td>\n",
              "    </tr>\n",
              "    <tr>\n",
              "      <th>2</th>\n",
              "      <td>38</td>\n",
              "      <td>215646</td>\n",
              "      <td>9</td>\n",
              "      <td>0</td>\n",
              "      <td>0</td>\n",
              "      <td>40</td>\n",
              "    </tr>\n",
              "    <tr>\n",
              "      <th>3</th>\n",
              "      <td>53</td>\n",
              "      <td>234721</td>\n",
              "      <td>7</td>\n",
              "      <td>0</td>\n",
              "      <td>0</td>\n",
              "      <td>40</td>\n",
              "    </tr>\n",
              "    <tr>\n",
              "      <th>4</th>\n",
              "      <td>28</td>\n",
              "      <td>338409</td>\n",
              "      <td>13</td>\n",
              "      <td>0</td>\n",
              "      <td>0</td>\n",
              "      <td>40</td>\n",
              "    </tr>\n",
              "    <tr>\n",
              "      <th>...</th>\n",
              "      <td>...</td>\n",
              "      <td>...</td>\n",
              "      <td>...</td>\n",
              "      <td>...</td>\n",
              "      <td>...</td>\n",
              "      <td>...</td>\n",
              "    </tr>\n",
              "    <tr>\n",
              "      <th>25015</th>\n",
              "      <td>52</td>\n",
              "      <td>254211</td>\n",
              "      <td>14</td>\n",
              "      <td>15024</td>\n",
              "      <td>0</td>\n",
              "      <td>60</td>\n",
              "    </tr>\n",
              "    <tr>\n",
              "      <th>25016</th>\n",
              "      <td>44</td>\n",
              "      <td>377018</td>\n",
              "      <td>11</td>\n",
              "      <td>0</td>\n",
              "      <td>0</td>\n",
              "      <td>40</td>\n",
              "    </tr>\n",
              "    <tr>\n",
              "      <th>25017</th>\n",
              "      <td>36</td>\n",
              "      <td>114605</td>\n",
              "      <td>11</td>\n",
              "      <td>0</td>\n",
              "      <td>0</td>\n",
              "      <td>40</td>\n",
              "    </tr>\n",
              "    <tr>\n",
              "      <th>25018</th>\n",
              "      <td>37</td>\n",
              "      <td>212005</td>\n",
              "      <td>11</td>\n",
              "      <td>0</td>\n",
              "      <td>0</td>\n",
              "      <td>40</td>\n",
              "    </tr>\n",
              "    <tr>\n",
              "      <th>25019</th>\n",
              "      <td>56</td>\n",
              "      <td>208809</td>\n",
              "      <td>9</td>\n",
              "      <td>0</td>\n",
              "      <td>1902</td>\n",
              "      <td>40</td>\n",
              "    </tr>\n",
              "  </tbody>\n",
              "</table>\n",
              "<p>25020 rows × 6 columns</p>\n",
              "</div>\n",
              "    <div class=\"colab-df-buttons\">\n",
              "\n",
              "  <div class=\"colab-df-container\">\n",
              "    <button class=\"colab-df-convert\" onclick=\"convertToInteractive('df-00214dec-c08e-4dff-998b-28185595da4c')\"\n",
              "            title=\"Convert this dataframe to an interactive table.\"\n",
              "            style=\"display:none;\">\n",
              "\n",
              "  <svg xmlns=\"http://www.w3.org/2000/svg\" height=\"24px\" viewBox=\"0 -960 960 960\">\n",
              "    <path d=\"M120-120v-720h720v720H120Zm60-500h600v-160H180v160Zm220 220h160v-160H400v160Zm0 220h160v-160H400v160ZM180-400h160v-160H180v160Zm440 0h160v-160H620v160ZM180-180h160v-160H180v160Zm440 0h160v-160H620v160Z\"/>\n",
              "  </svg>\n",
              "    </button>\n",
              "\n",
              "  <style>\n",
              "    .colab-df-container {\n",
              "      display:flex;\n",
              "      gap: 12px;\n",
              "    }\n",
              "\n",
              "    .colab-df-convert {\n",
              "      background-color: #E8F0FE;\n",
              "      border: none;\n",
              "      border-radius: 50%;\n",
              "      cursor: pointer;\n",
              "      display: none;\n",
              "      fill: #1967D2;\n",
              "      height: 32px;\n",
              "      padding: 0 0 0 0;\n",
              "      width: 32px;\n",
              "    }\n",
              "\n",
              "    .colab-df-convert:hover {\n",
              "      background-color: #E2EBFA;\n",
              "      box-shadow: 0px 1px 2px rgba(60, 64, 67, 0.3), 0px 1px 3px 1px rgba(60, 64, 67, 0.15);\n",
              "      fill: #174EA6;\n",
              "    }\n",
              "\n",
              "    .colab-df-buttons div {\n",
              "      margin-bottom: 4px;\n",
              "    }\n",
              "\n",
              "    [theme=dark] .colab-df-convert {\n",
              "      background-color: #3B4455;\n",
              "      fill: #D2E3FC;\n",
              "    }\n",
              "\n",
              "    [theme=dark] .colab-df-convert:hover {\n",
              "      background-color: #434B5C;\n",
              "      box-shadow: 0px 1px 3px 1px rgba(0, 0, 0, 0.15);\n",
              "      filter: drop-shadow(0px 1px 2px rgba(0, 0, 0, 0.3));\n",
              "      fill: #FFFFFF;\n",
              "    }\n",
              "  </style>\n",
              "\n",
              "    <script>\n",
              "      const buttonEl =\n",
              "        document.querySelector('#df-00214dec-c08e-4dff-998b-28185595da4c button.colab-df-convert');\n",
              "      buttonEl.style.display =\n",
              "        google.colab.kernel.accessAllowed ? 'block' : 'none';\n",
              "\n",
              "      async function convertToInteractive(key) {\n",
              "        const element = document.querySelector('#df-00214dec-c08e-4dff-998b-28185595da4c');\n",
              "        const dataTable =\n",
              "          await google.colab.kernel.invokeFunction('convertToInteractive',\n",
              "                                                    [key], {});\n",
              "        if (!dataTable) return;\n",
              "\n",
              "        const docLinkHtml = 'Like what you see? Visit the ' +\n",
              "          '<a target=\"_blank\" href=https://colab.research.google.com/notebooks/data_table.ipynb>data table notebook</a>'\n",
              "          + ' to learn more about interactive tables.';\n",
              "        element.innerHTML = '';\n",
              "        dataTable['output_type'] = 'display_data';\n",
              "        await google.colab.output.renderOutput(dataTable, element);\n",
              "        const docLink = document.createElement('div');\n",
              "        docLink.innerHTML = docLinkHtml;\n",
              "        element.appendChild(docLink);\n",
              "      }\n",
              "    </script>\n",
              "  </div>\n",
              "\n",
              "\n",
              "<div id=\"df-4e5698ee-e422-4dc7-8d5f-a0550690fb0d\">\n",
              "  <button class=\"colab-df-quickchart\" onclick=\"quickchart('df-4e5698ee-e422-4dc7-8d5f-a0550690fb0d')\"\n",
              "            title=\"Suggest charts\"\n",
              "            style=\"display:none;\">\n",
              "\n",
              "<svg xmlns=\"http://www.w3.org/2000/svg\" height=\"24px\"viewBox=\"0 0 24 24\"\n",
              "     width=\"24px\">\n",
              "    <g>\n",
              "        <path d=\"M19 3H5c-1.1 0-2 .9-2 2v14c0 1.1.9 2 2 2h14c1.1 0 2-.9 2-2V5c0-1.1-.9-2-2-2zM9 17H7v-7h2v7zm4 0h-2V7h2v10zm4 0h-2v-4h2v4z\"/>\n",
              "    </g>\n",
              "</svg>\n",
              "  </button>\n",
              "\n",
              "<style>\n",
              "  .colab-df-quickchart {\n",
              "      --bg-color: #E8F0FE;\n",
              "      --fill-color: #1967D2;\n",
              "      --hover-bg-color: #E2EBFA;\n",
              "      --hover-fill-color: #174EA6;\n",
              "      --disabled-fill-color: #AAA;\n",
              "      --disabled-bg-color: #DDD;\n",
              "  }\n",
              "\n",
              "  [theme=dark] .colab-df-quickchart {\n",
              "      --bg-color: #3B4455;\n",
              "      --fill-color: #D2E3FC;\n",
              "      --hover-bg-color: #434B5C;\n",
              "      --hover-fill-color: #FFFFFF;\n",
              "      --disabled-bg-color: #3B4455;\n",
              "      --disabled-fill-color: #666;\n",
              "  }\n",
              "\n",
              "  .colab-df-quickchart {\n",
              "    background-color: var(--bg-color);\n",
              "    border: none;\n",
              "    border-radius: 50%;\n",
              "    cursor: pointer;\n",
              "    display: none;\n",
              "    fill: var(--fill-color);\n",
              "    height: 32px;\n",
              "    padding: 0;\n",
              "    width: 32px;\n",
              "  }\n",
              "\n",
              "  .colab-df-quickchart:hover {\n",
              "    background-color: var(--hover-bg-color);\n",
              "    box-shadow: 0 1px 2px rgba(60, 64, 67, 0.3), 0 1px 3px 1px rgba(60, 64, 67, 0.15);\n",
              "    fill: var(--button-hover-fill-color);\n",
              "  }\n",
              "\n",
              "  .colab-df-quickchart-complete:disabled,\n",
              "  .colab-df-quickchart-complete:disabled:hover {\n",
              "    background-color: var(--disabled-bg-color);\n",
              "    fill: var(--disabled-fill-color);\n",
              "    box-shadow: none;\n",
              "  }\n",
              "\n",
              "  .colab-df-spinner {\n",
              "    border: 2px solid var(--fill-color);\n",
              "    border-color: transparent;\n",
              "    border-bottom-color: var(--fill-color);\n",
              "    animation:\n",
              "      spin 1s steps(1) infinite;\n",
              "  }\n",
              "\n",
              "  @keyframes spin {\n",
              "    0% {\n",
              "      border-color: transparent;\n",
              "      border-bottom-color: var(--fill-color);\n",
              "      border-left-color: var(--fill-color);\n",
              "    }\n",
              "    20% {\n",
              "      border-color: transparent;\n",
              "      border-left-color: var(--fill-color);\n",
              "      border-top-color: var(--fill-color);\n",
              "    }\n",
              "    30% {\n",
              "      border-color: transparent;\n",
              "      border-left-color: var(--fill-color);\n",
              "      border-top-color: var(--fill-color);\n",
              "      border-right-color: var(--fill-color);\n",
              "    }\n",
              "    40% {\n",
              "      border-color: transparent;\n",
              "      border-right-color: var(--fill-color);\n",
              "      border-top-color: var(--fill-color);\n",
              "    }\n",
              "    60% {\n",
              "      border-color: transparent;\n",
              "      border-right-color: var(--fill-color);\n",
              "    }\n",
              "    80% {\n",
              "      border-color: transparent;\n",
              "      border-right-color: var(--fill-color);\n",
              "      border-bottom-color: var(--fill-color);\n",
              "    }\n",
              "    90% {\n",
              "      border-color: transparent;\n",
              "      border-bottom-color: var(--fill-color);\n",
              "    }\n",
              "  }\n",
              "</style>\n",
              "\n",
              "  <script>\n",
              "    async function quickchart(key) {\n",
              "      const quickchartButtonEl =\n",
              "        document.querySelector('#' + key + ' button');\n",
              "      quickchartButtonEl.disabled = true;  // To prevent multiple clicks.\n",
              "      quickchartButtonEl.classList.add('colab-df-spinner');\n",
              "      try {\n",
              "        const charts = await google.colab.kernel.invokeFunction(\n",
              "            'suggestCharts', [key], {});\n",
              "      } catch (error) {\n",
              "        console.error('Error during call to suggestCharts:', error);\n",
              "      }\n",
              "      quickchartButtonEl.classList.remove('colab-df-spinner');\n",
              "      quickchartButtonEl.classList.add('colab-df-quickchart-complete');\n",
              "    }\n",
              "    (() => {\n",
              "      let quickchartButtonEl =\n",
              "        document.querySelector('#df-4e5698ee-e422-4dc7-8d5f-a0550690fb0d button');\n",
              "      quickchartButtonEl.style.display =\n",
              "        google.colab.kernel.accessAllowed ? 'block' : 'none';\n",
              "    })();\n",
              "  </script>\n",
              "</div>\n",
              "    </div>\n",
              "  </div>\n"
            ]
          },
          "metadata": {},
          "execution_count": 8
        }
      ]
    },
    {
      "cell_type": "markdown",
      "source": [
        "# Check the balancing ratio on this dataset:"
      ],
      "metadata": {
        "id": "Wv48z5XIVXAs"
      }
    },
    {
      "cell_type": "markdown",
      "source": [
        "A Counter is a dict subclass for counting hashable objects. It is a collection where elements are stored as dictionary keys and their counts are stored as dictionary values."
      ],
      "metadata": {
        "id": "kPg8eKw4hrqb"
      }
    },
    {
      "cell_type": "markdown",
      "source": [
        "fnlwgt is the label for this example"
      ],
      "metadata": {
        "id": "upUtlOT5PBqN"
      }
    },
    {
      "cell_type": "code",
      "source": [
        "{key: value / len(y) for key, value in Counter(y).items()}"
      ],
      "metadata": {
        "colab": {
          "base_uri": "https://localhost:8080/"
        },
        "id": "sYfpAbIUUs0s",
        "outputId": "907c32ae-2e71-471e-adc0-6d9c5423fad7"
      },
      "execution_count": null,
      "outputs": [
        {
          "output_type": "execute_result",
          "data": {
            "text/plain": [
              "{'<=50K': 0.988009592326139, '>50K': 0.011990407673860911}"
            ]
          },
          "metadata": {},
          "execution_count": 10
        }
      ]
    },
    {
      "cell_type": "markdown",
      "source": [
        "# Train and test data split"
      ],
      "metadata": {
        "id": "LV7ZYifZiDq3"
      }
    },
    {
      "cell_type": "markdown",
      "source": [
        "To later highlight some of the issues, we will keep aside a left-out set that we will not use for the evaluation of the model:"
      ],
      "metadata": {
        "id": "4BvVFv2cVaW1"
      }
    },
    {
      "cell_type": "code",
      "source": [
        "from sklearn.model_selection import train_test_split\n",
        "X, X_left_out, y, y_left_out = train_test_split(X, y, stratify=y, random_state=0)"
      ],
      "metadata": {
        "id": "mLiThPjSUxVb"
      },
      "execution_count": null,
      "outputs": []
    },
    {
      "cell_type": "markdown",
      "source": [
        "**from sklearn.ensemble import HistGradientBoostingClassifier**"
      ],
      "metadata": {
        "id": "p2QZNLnUiSOy"
      }
    },
    {
      "cell_type": "markdown",
      "source": [
        "Use an sklearn.ensemble.HistGradientBoostingClassifier as a baseline classifier. <br>\n",
        "\n",
        "- Train and check the performance of the classifier, without any preprocessing to alleviate the bias toward the majority class.\n",
        "\n",
        "- Evaluate the generalization performance of the classifier via cross-validation:"
      ],
      "metadata": {
        "id": "nUMYL7uiVei8"
      }
    },
    {
      "cell_type": "code",
      "source": [
        "model = HistGradientBoostingClassifier(random_state=0)\n",
        "cv_results = cross_validate(\n",
        "    model, X, y, scoring=\"balanced_accuracy\",\n",
        "    return_train_score=True, return_estimator=True,\n",
        "    n_jobs=-1)\n",
        "print(\n",
        "    f\"Balanced accuracy mean +/- std. dev.: \"\n",
        "    f\"{cv_results['test_score'].mean():.3f} +/- \"\n",
        "    f\"{cv_results['test_score'].std():.3f}\")"
      ],
      "metadata": {
        "colab": {
          "base_uri": "https://localhost:8080/"
        },
        "id": "nT-cAk1mU1jt",
        "outputId": "2bd297cf-4092-4a5c-c3f4-540b596ca673"
      },
      "execution_count": null,
      "outputs": [
        {
          "output_type": "stream",
          "name": "stdout",
          "text": [
            "Balanced accuracy mean +/- std. dev.: 0.609 +/- 0.024\n"
          ]
        }
      ]
    },
    {
      "cell_type": "markdown",
      "source": [
        "# Balanced Accuracy"
      ],
      "metadata": {
        "id": "xLed-7NXm5Yk"
      }
    },
    {
      "cell_type": "markdown",
      "source": [
        "**The classifier does not give good performance in terms of balanced accuracy mainly due to the class imbalance issue.**\n",
        "\n",
        "In the cross-validation, we stored the different classifiers of all folds.<br>\n",
        "\n",
        "We will show that evaluating these classifiers on the left-out data will give close statistical performance:"
      ],
      "metadata": {
        "id": "AefDbkw2Vi5R"
      }
    },
    {
      "cell_type": "code",
      "source": [
        "import numpy as np\n",
        "from sklearn.metrics import balanced_accuracy_score\n",
        "scores = []\n",
        "for fold_id, cv_model in enumerate(cv_results[\"estimator\"]):\n",
        "    scores.append(\n",
        "        balanced_accuracy_score(\n",
        "            y_left_out, cv_model.predict(X_left_out)\n",
        "        ))\n",
        "print(\n",
        "    f\"Balanced accuracy mean +/- std. dev.: \"\n",
        "    f\"{np.mean(scores):.3f} +/- {np.std(scores):.3f}\"\n",
        ")"
      ],
      "metadata": {
        "colab": {
          "base_uri": "https://localhost:8080/"
        },
        "id": "uEz4Iq4KU8lq",
        "outputId": "49a70857-d698-495b-c741-09fe9da394fe"
      },
      "execution_count": null,
      "outputs": [
        {
          "output_type": "stream",
          "name": "stdout",
          "text": [
            "Balanced accuracy mean +/- std. dev.: 0.628 +/- 0.009\n"
          ]
        }
      ]
    },
    {
      "cell_type": "markdown",
      "source": [
        "# The Wrong Pattern\n",
        "**The wrong pattern** to apply when it comes to resampling to alleviate the class imbalance issue. <br>\n",
        "\n",
        "Use a sampler to balance the entire dataset and check the statistical performance of our classifier via cross-validation:"
      ],
      "metadata": {
        "id": "G7oGIqo9VCe2"
      }
    },
    {
      "cell_type": "code",
      "source": [
        "sampler = RandomUnderSampler(random_state=0)\n",
        "X_resampled, y_resampled = sampler.fit_resample(X, y)\n",
        "model = HistGradientBoostingClassifier(random_state=0)\n",
        "cv_results = cross_validate(\n",
        "    model, X_resampled, y_resampled, scoring=\"balanced_accuracy\",\n",
        "    return_train_score=True, return_estimator=True,\n",
        "    n_jobs=-1\n",
        ")\n",
        "print(\n",
        "    f\"Balanced accuracy mean +/- std. dev.: \"\n",
        "    f\"{cv_results['test_score'].mean():.3f} +/- \"\n",
        "    f\"{cv_results['test_score'].std():.3f}\"\n",
        ")"
      ],
      "metadata": {
        "colab": {
          "base_uri": "https://localhost:8080/"
        },
        "id": "Q4Q_RvEZVEl2",
        "outputId": "178c45f1-237b-4674-8c94-89dc80a76170"
      },
      "execution_count": null,
      "outputs": [
        {
          "output_type": "stream",
          "name": "stdout",
          "text": [
            "Balanced accuracy mean +/- std. dev.: 0.724 +/- 0.042\n"
          ]
        }
      ]
    },
    {
      "cell_type": "markdown",
      "source": [
        "The cross-validation performance looks good, but evaluating the classifiers on the left-out data shows a different picture:"
      ],
      "metadata": {
        "id": "dVX2Q0bCVJ3i"
      }
    },
    {
      "cell_type": "code",
      "source": [
        "scores = []\n",
        "for fold_id, cv_model in enumerate(cv_results[\"estimator\"]):\n",
        "    scores.append(\n",
        "        balanced_accuracy_score(\n",
        "            y_left_out, cv_model.predict(X_left_out)\n",
        "       )\n",
        "    )\n",
        "print(\n",
        "    f\"Balanced accuracy mean +/- std. dev.: \"\n",
        "    f\"{np.mean(scores):.3f} +/- {np.std(scores):.3f}\"\n",
        ")"
      ],
      "metadata": {
        "colab": {
          "base_uri": "https://localhost:8080/"
        },
        "id": "E8YkWt7FVMKs",
        "outputId": "c0578f98-11a0-48f4-d68f-afdfb3181939"
      },
      "execution_count": null,
      "outputs": [
        {
          "output_type": "stream",
          "name": "stdout",
          "text": [
            "Balanced accuracy mean +/- std. dev.: 0.698 +/- 0.014\n"
          ]
        }
      ]
    },
    {
      "cell_type": "markdown",
      "source": [
        "**The performance is worse than the cross-validated performance. The data leakage gave us too optimistic results.**\n",
        "\n",
        "\n",
        "\n"
      ],
      "metadata": {
        "id": "o7IbQk41VpGv"
      }
    },
    {
      "cell_type": "markdown",
      "source": [
        "# The correct pattern to use <br>\n",
        "Use a Pipeline to avoid making a data leakage because the resampling will be delegated to imbalanced-learn and does not require any manual steps."
      ],
      "metadata": {
        "id": "f1T16X1asRWF"
      }
    },
    {
      "cell_type": "code",
      "source": [
        "from imblearn.pipeline import make_pipeline\n",
        "model = make_pipeline(\n",
        "    RandomUnderSampler(random_state=0),\n",
        "    HistGradientBoostingClassifier(random_state=0)\n",
        ")\n",
        "cv_results = cross_validate(\n",
        "    model, X, y, scoring=\"balanced_accuracy\",\n",
        "    return_train_score=True, return_estimator=True,\n",
        "    n_jobs=-1\n",
        ")\n",
        "print(\n",
        "    f\"Balanced accuracy mean +/- std. dev.: \"\n",
        "    f\"{cv_results['test_score'].mean():.3f} +/- \"\n",
        "    f\"{cv_results['test_score'].std():.3f}\"\n",
        ")"
      ],
      "metadata": {
        "colab": {
          "base_uri": "https://localhost:8080/"
        },
        "id": "iFjVYeTTVrOG",
        "outputId": "8d15f866-a3e9-4042-ac6f-9e57c974ee00"
      },
      "execution_count": null,
      "outputs": [
        {
          "output_type": "stream",
          "name": "stdout",
          "text": [
            "Balanced accuracy mean +/- std. dev.: 0.732 +/- 0.019\n"
          ]
        }
      ]
    },
    {
      "cell_type": "markdown",
      "source": [
        "Observe that we get good statistical performance as well.<br>\n",
        "\n",
        "Check the performance of the model from each cross-validation fold to ensure that we have similar performance."
      ],
      "metadata": {
        "id": "F-42FN5sVuWi"
      }
    },
    {
      "cell_type": "code",
      "source": [
        "scores = []\n",
        "for fold_id, cv_model in enumerate(cv_results[\"estimator\"]):\n",
        "    scores.append(\n",
        "        balanced_accuracy_score(\n",
        "            y_left_out, cv_model.predict(X_left_out)\n",
        "       )\n",
        "    )\n",
        "print(\n",
        "    f\"Balanced accuracy mean +/- std. dev.: \"\n",
        "    f\"{np.mean(scores):.3f} +/- {np.std(scores):.3f}\"\n",
        ")"
      ],
      "metadata": {
        "colab": {
          "base_uri": "https://localhost:8080/"
        },
        "id": "tIpp-Dh0Vvx1",
        "outputId": "97f46130-2ad9-409d-dbe4-8cdc3610f0e1"
      },
      "execution_count": null,
      "outputs": [
        {
          "output_type": "stream",
          "name": "stdout",
          "text": [
            "Balanced accuracy mean +/- std. dev.: 0.762 +/- 0.018\n"
          ]
        }
      ]
    },
    {
      "cell_type": "markdown",
      "source": [
        "After your Machine Learning Model is built, it is advisable to **test your metric on your NOT-UPSAMPLED train dataset**. <br>\n",
        "\n",
        "Testing your metric on the NOT-UPSAMPLED data set gives you a more realistic estimate of your model than testing it on the UPSAMPLED dataset. It might be advisavle to keep a version of the train dataset that wasn’t upsampled."
      ],
      "metadata": {
        "id": "pp3TzgL2UeVE"
      }
    }
  ]
}