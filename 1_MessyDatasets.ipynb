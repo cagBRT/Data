{
  "nbformat": 4,
  "nbformat_minor": 0,
  "metadata": {
    "colab": {
      "name": "1:MessyDatasets.ipynb",
      "private_outputs": true,
      "provenance": [],
      "authorship_tag": "ABX9TyNM1ad/3lczKSSW74Qg+Kp4",
      "include_colab_link": true
    },
    "kernelspec": {
      "name": "python3",
      "display_name": "Python 3"
    }
  },
  "cells": [
    {
      "cell_type": "markdown",
      "metadata": {
        "id": "view-in-github",
        "colab_type": "text"
      },
      "source": [
        "<a href=\"https://colab.research.google.com/github/cagBRT/Data/blob/main/1_MessyDatasets.ipynb\" target=\"_parent\"><img src=\"https://colab.research.google.com/assets/colab-badge.svg\" alt=\"Open In Colab\"/></a>"
      ]
    },
    {
      "cell_type": "markdown",
      "metadata": {
        "id": "VWJ3-hXvwqUa"
      },
      "source": [
        "Identifying messing datasets"
      ]
    },
    {
      "cell_type": "markdown",
      "metadata": {
        "id": "s2vzpoFSxERF"
      },
      "source": [
        "Oil spill dataset<br>\n",
        "\n",
        "By Robert Holte.<br>\n",
        "\n",
        "Kubat, M., Holte, R., & Matwin, S. (1998). Machine Learning for the Detection of Oil Spills in Satellite Radar Images. Machine Learning, 30, 195–215.<br>\n",
        "\n",
        "- 41 minority (oil slick)<br>\n",
        "- 896 majority (no oil slick)"
      ]
    },
    {
      "cell_type": "code",
      "metadata": {
        "id": "uxV1ANTCwc4V"
      },
      "source": [
        "#!cat oil-spill.csv"
      ],
      "execution_count": null,
      "outputs": []
    },
    {
      "cell_type": "markdown",
      "metadata": {
        "id": "yItuxFUu0Ymx"
      },
      "source": [
        "Get the data "
      ]
    },
    {
      "cell_type": "code",
      "metadata": {
        "id": "tszvac0E0YHR"
      },
      "source": [
        "from urllib.request import urlopen\n",
        "from numpy import loadtxt\n",
        "from numpy import unique\n",
        "from pandas import read_csv"
      ],
      "execution_count": null,
      "outputs": []
    },
    {
      "cell_type": "code",
      "metadata": {
        "id": "qU6PngNX-dvU"
      },
      "source": [
        "# load the dataset\n",
        "df = read_csv(\"oil-spill.csv\", header=None)"
      ],
      "execution_count": null,
      "outputs": []
    },
    {
      "cell_type": "code",
      "metadata": {
        "id": "eenGqmHT-e-x"
      },
      "source": [
        "df.shape"
      ],
      "execution_count": null,
      "outputs": []
    },
    {
      "cell_type": "code",
      "metadata": {
        "id": "NqcgRfFV-heX"
      },
      "source": [
        "df"
      ],
      "execution_count": null,
      "outputs": []
    },
    {
      "cell_type": "code",
      "metadata": {
        "id": "tnxbhhluFM6K"
      },
      "source": [
        "df.describe()"
      ],
      "execution_count": null,
      "outputs": []
    },
    {
      "cell_type": "code",
      "metadata": {
        "id": "hAFPvidyFVWT"
      },
      "source": [
        "df.value_counts([49])"
      ],
      "execution_count": null,
      "outputs": []
    },
    {
      "cell_type": "markdown",
      "metadata": {
        "id": "3XkyfVFoEYg2"
      },
      "source": [
        "Column 49 is the label column for spill/no spill"
      ]
    },
    {
      "cell_type": "code",
      "metadata": {
        "id": "VhLC3U3OEYrH"
      },
      "source": [
        "labels=df[49]\n",
        "print(labels.head())\n",
        "df.drop([49], axis=1)"
      ],
      "execution_count": null,
      "outputs": []
    },
    {
      "cell_type": "markdown",
      "metadata": {
        "id": "El5iRmYM9qoh"
      },
      "source": [
        "Look for columns that have the same value for every row"
      ]
    },
    {
      "cell_type": "code",
      "metadata": {
        "id": "yZLQu-2a7_fC"
      },
      "source": [
        "# summarize the number of unique values in each column\n",
        "row_values=df.nunique()\n",
        "print(row_values)"
      ],
      "execution_count": null,
      "outputs": []
    },
    {
      "cell_type": "markdown",
      "metadata": {
        "id": "VDUx4ekG-KLj"
      },
      "source": [
        "Drop the columns that have only one value"
      ]
    },
    {
      "cell_type": "code",
      "metadata": {
        "id": "WsqRAUkd-NOd"
      },
      "source": [
        "# record columns to delete\n",
        "#counts= df.nunique()\n",
        "#to_del = [i for i,v in enumerate(counts) if v == 1]\n",
        "to_del=[]\n",
        "for i in range(50):\n",
        "  if row_values[i]==1:\n",
        "    to_del.append(i)\n",
        "print(\"Column with one value:\",to_del)\n",
        "# drop useless columns\n",
        "for i in range(len(to_del)):\n",
        "  df.drop(to_del[i], axis=1, inplace=True)\n",
        "print(df.shape)"
      ],
      "execution_count": null,
      "outputs": []
    },
    {
      "cell_type": "markdown",
      "metadata": {
        "id": "OpK6vckbAs4f"
      },
      "source": [
        "What about columns with very few values?"
      ]
    },
    {
      "cell_type": "code",
      "metadata": {
        "id": "YEIwhmJhAv2A"
      },
      "source": [
        ""
      ],
      "execution_count": null,
      "outputs": []
    }
  ]
}