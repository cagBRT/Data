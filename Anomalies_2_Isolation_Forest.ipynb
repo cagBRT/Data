{
  "nbformat": 4,
  "nbformat_minor": 0,
  "metadata": {
    "colab": {
      "name": "Anomalies 2: Isolation Forest.ipynb",
      "private_outputs": true,
      "provenance": [],
      "authorship_tag": "ABX9TyOw3EhF03yxZszSk9YUU4dd",
      "include_colab_link": true
    },
    "kernelspec": {
      "name": "python3",
      "display_name": "Python 3"
    },
    "language_info": {
      "name": "python"
    }
  },
  "cells": [
    {
      "cell_type": "markdown",
      "metadata": {
        "id": "view-in-github",
        "colab_type": "text"
      },
      "source": [
        "<a href=\"https://colab.research.google.com/github/cagBRT/Data/blob/main/Anomalies_2_Isolation_Forest.ipynb\" target=\"_parent\"><img src=\"https://colab.research.google.com/assets/colab-badge.svg\" alt=\"Open In Colab\"/></a>"
      ]
    },
    {
      "cell_type": "markdown",
      "metadata": {
        "id": "TXgNXFH51KUZ"
      },
      "source": [
        "Using an isolation forest for classification"
      ]
    },
    {
      "cell_type": "code",
      "metadata": {
        "id": "cChZrb8Q02Xy"
      },
      "source": [
        "from sklearn.ensemble import IsolationForest\n",
        "#create a simple dataset\n",
        "X = [[-1.1], [0.3], [0.5], [100]]\n",
        "#train the model on the dataset\n",
        "clf = IsolationForest(random_state=0).fit(X)\n",
        "#predict the class of the following examples \n",
        "clf.predict([[0.1], [0], [90]])"
      ],
      "execution_count": null,
      "outputs": []
    },
    {
      "cell_type": "markdown",
      "metadata": {
        "id": "pkn9A4kKqKTJ"
      },
      "source": [
        "# **Isolation Forest for Anomaly Detection**"
      ]
    },
    {
      "cell_type": "code",
      "metadata": {
        "id": "14gP0QL9qJr5"
      },
      "source": [
        "from sklearn.datasets import make_classification\n",
        "from sklearn.model_selection import train_test_split\n",
        "from sklearn.metrics import f1_score\n",
        "from sklearn.ensemble import IsolationForest\n",
        "from matplotlib import pyplot"
      ],
      "execution_count": null,
      "outputs": []
    },
    {
      "cell_type": "markdown",
      "metadata": {
        "id": "4Z-dPxq-qVlX"
      },
      "source": [
        "**Create an imbalanced dataset**"
      ]
    },
    {
      "cell_type": "code",
      "metadata": {
        "id": "lctURCb1qT-G"
      },
      "source": [
        "X, y = make_classification(n_samples=10000, n_features=2, n_redundant=0,\n",
        "n_clusters_per_class=1, weights=[0.999], flip_y=0, random_state=4)"
      ],
      "execution_count": null,
      "outputs": []
    },
    {
      "cell_type": "code",
      "metadata": {
        "id": "IqRTdIzXsW6v"
      },
      "source": [
        "trainX, testX, trainy, testy = train_test_split(X, y, test_size=0.5, random_state=2, stratify=y)"
      ],
      "execution_count": null,
      "outputs": []
    },
    {
      "cell_type": "markdown",
      "metadata": {
        "id": "ySJrh_RcxJoQ"
      },
      "source": [
        "**Create and train an IsolationForest model**"
      ]
    },
    {
      "cell_type": "markdown",
      "metadata": {
        "id": "RtKjCg_2xY_I"
      },
      "source": [
        "Train on the majority class only. "
      ]
    },
    {
      "cell_type": "markdown",
      "metadata": {
        "id": "XFtxR5VOzpfL"
      },
      "source": [
        "The amount of contamination of the data set, i.e. the proportion of outliers in the data set. Used when fitting to define the threshold on the scores of the samples.<br>\n",
        "\n",
        "The contamination should be either default or in the range (0, 0.5].\n",
        "\n",
        "The contamination value can effect model performance. "
      ]
    },
    {
      "cell_type": "code",
      "metadata": {
        "id": "pByVSjwbsg0F"
      },
      "source": [
        "model = IsolationForest(contamination=0.01)\n",
        "# fit on majority class\n",
        "trainX = trainX[trainy==0] \n",
        "model.fit(trainX)"
      ],
      "execution_count": null,
      "outputs": []
    },
    {
      "cell_type": "markdown",
      "metadata": {
        "id": "5eAg8s6FzE0y"
      },
      "source": [
        "Set outliers = -1 class<br>\n",
        "Set inliers = 1 class"
      ]
    },
    {
      "cell_type": "code",
      "metadata": {
        "id": "7nIEu4nJxk7P"
      },
      "source": [
        "yhat = model.predict(testX)\n",
        "# mark inliers 1, outliers -1\n",
        "testy[testy == 1] = -1\n",
        "testy[testy == 0] = 1"
      ],
      "execution_count": null,
      "outputs": []
    },
    {
      "cell_type": "markdown",
      "metadata": {
        "id": "V9j4ZSd1zM1U"
      },
      "source": [
        ""
      ]
    },
    {
      "cell_type": "code",
      "metadata": {
        "id": "_DYSWxIhpkB6"
      },
      "source": [
        "score = f1_score(testy, yhat, pos_label=-1) \n",
        "print('F-measure: %.3f' % score)"
      ],
      "execution_count": null,
      "outputs": []
    },
    {
      "cell_type": "code",
      "metadata": {
        "id": "5o0ZmR2etRPt"
      },
      "source": [
        "pyplot.scatter(testX[:, 0], yhat, s=30, label='prediction')\n",
        "pyplot.scatter(testX[:, 0], testy, color='red', s=3,label='ground truth') \n",
        "pyplot.legend()\n",
        "pyplot.show()"
      ],
      "execution_count": null,
      "outputs": []
    },
    {
      "cell_type": "markdown",
      "metadata": {
        "id": "5Xattx4S0lwg"
      },
      "source": [
        "**Assignment**<br>\n",
        "1. Change the contamination value to get a better F score\n",
        "2. Try different datasets to determine the effect on the performance\n"
      ]
    }
  ]
}