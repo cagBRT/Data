{
  "nbformat": 4,
  "nbformat_minor": 0,
  "metadata": {
    "colab": {
      "name": "Cost Sensitive 1b.ipynb",
      "private_outputs": true,
      "provenance": [],
      "authorship_tag": "ABX9TyP1iQTFkMqf2NJh0TWsyUNf",
      "include_colab_link": true
    },
    "kernelspec": {
      "name": "python3",
      "display_name": "Python 3"
    },
    "language_info": {
      "name": "python"
    }
  },
  "cells": [
    {
      "cell_type": "markdown",
      "metadata": {
        "id": "view-in-github",
        "colab_type": "text"
      },
      "source": [
        "<a href=\"https://colab.research.google.com/github/cagBRT/Data/blob/main/Cost_Sensitive_1b.ipynb\" target=\"_parent\"><img src=\"https://colab.research.google.com/assets/colab-badge.svg\" alt=\"Open In Colab\"/></a>"
      ]
    },
    {
      "cell_type": "markdown",
      "metadata": {
        "id": "HG7dEqqRtWu_"
      },
      "source": [
        "Number of Instances: 214\n",
        "\n",
        "Number of Attributes: 10 (including an Id#) plus the class attribute<br>\n",
        "   -- all attributes are continuously valued<br>\n",
        "\n",
        " Attribute Information:<br>\n",
        "   1. Id number: 1 to 214\n",
        "   2. RI: refractive index\n",
        "   3. Na: Sodium (unit measurement: weight percent in corresponding oxide, as are attributes 4-10)\n",
        "   4. Mg: Magnesium\n",
        "   5. Al: Aluminum\n",
        "   6. Si: Silicon\n",
        "   7. K: Potassium\n",
        "   8. Ca: Calcium\n",
        "   9. Ba: Barium<br>\n",
        "   10. Fe: Iron<br>\n",
        "   11. Type of glass: (class attribute)<br>\n",
        "      -- 1 building_windows_float_processed<br>\n",
        "      -- 2 building_windows_non_float_processed<br>\n",
        "      -- 3 vehicle_windows_float_processed<br>\n",
        "      -- 4 vehicle_windows_non_float_processed (none in this database)<br>\n",
        "      -- 5 containers<br>\n",
        "      -- 6 tableware<br>\n",
        "      -- 7 headlamps<br>\n",
        "\n",
        "8. Missing Attribute Values: None\n",
        "\n",
        "9. Class Distribution: (out of 214 total instances)<br>\n",
        "  **163 Window glass (building windows and vehicle windows)**<br>\n",
        "      -- 87 float processed  <br>\n",
        "      -- 70 building windows<br>\n",
        "      -- 17 vehicle windows<br>\n",
        "      -- 76 non-float processed<br>\n",
        "      -- 76 building windows<br>\n",
        "      -- 0 vehicle windows<br>\n",
        "  **51 Non-window glass<br>**\n",
        "      -- 13 containers<br>\n",
        "      -- 9 tableware<br>\n",
        "      -- 29 headlamps<br>\n"
      ]
    },
    {
      "cell_type": "code",
      "metadata": {
        "id": "WTFJX0g9sqhI"
      },
      "source": [
        "# Clone the entire repo.\n",
        "!git clone -s https://github.com/cagBRT/Data.git cloned-repo\n",
        "%cd cloned-repo"
      ],
      "execution_count": null,
      "outputs": []
    },
    {
      "cell_type": "code",
      "metadata": {
        "id": "Xohf2cI2r5Iu"
      },
      "source": [
        "import pandas as pd\n",
        "df = pd.read_csv('glass.csv', skiprows=1)\n",
        "df.columns=['RI','Na','Mg','Al','Si','K','Ca','Ba','Fe','Type']\n",
        "df.head()"
      ],
      "execution_count": null,
      "outputs": []
    },
    {
      "cell_type": "code",
      "metadata": {
        "id": "5Jaxnj3kswKo"
      },
      "source": [
        "features = []\n",
        "for feature in df.columns:\n",
        "    if feature != 'Type':\n",
        "        features.append(feature)\n",
        "X = df[features]\n",
        "y = df['Type']"
      ],
      "execution_count": null,
      "outputs": []
    },
    {
      "cell_type": "code",
      "metadata": {
        "id": "oTZptWRLtEVS"
      },
      "source": [
        "X"
      ],
      "execution_count": null,
      "outputs": []
    }
  ]
}