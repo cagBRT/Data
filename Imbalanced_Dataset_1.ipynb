{
  "nbformat": 4,
  "nbformat_minor": 0,
  "metadata": {
    "colab": {
      "name": "Imbalanced Dataset 1.ipynb",
      "private_outputs": true,
      "provenance": [],
      "authorship_tag": "ABX9TyNlDpC6fvO2l76U/jQNYXMj",
      "include_colab_link": true
    },
    "kernelspec": {
      "name": "python3",
      "display_name": "Python 3"
    },
    "language_info": {
      "name": "python"
    }
  },
  "cells": [
    {
      "cell_type": "markdown",
      "metadata": {
        "id": "view-in-github",
        "colab_type": "text"
      },
      "source": [
        "<a href=\"https://colab.research.google.com/github/cagBRT/Data/blob/main/Imbalanced_Dataset_1.ipynb\" target=\"_parent\"><img src=\"https://colab.research.google.com/assets/colab-badge.svg\" alt=\"Open In Colab\"/></a>"
      ]
    },
    {
      "cell_type": "markdown",
      "metadata": {
        "id": "eCh1AL-zypNf"
      },
      "source": [
        "This nootebook creates synthetic balanced and imbalanced datasets."
      ]
    },
    {
      "cell_type": "markdown",
      "metadata": {
        "id": "teFq51Gkif3B"
      },
      "source": [
        "**Import Libraries**"
      ]
    },
    {
      "cell_type": "code",
      "metadata": {
        "id": "LqHOgHmjEIIS"
      },
      "source": [
        "from numpy import unique\n",
        "from numpy import hstack\n",
        "from numpy import vstack\n",
        "from numpy import where\n",
        "from matplotlib import pyplot\n",
        "from sklearn.datasets import make_blobs"
      ],
      "execution_count": null,
      "outputs": []
    },
    {
      "cell_type": "markdown",
      "metadata": {
        "id": "UsAQmVg3ikjE"
      },
      "source": [
        "**Create a synthetic data set**"
      ]
    },
    {
      "cell_type": "code",
      "metadata": {
        "id": "r5VzY25-EO_N"
      },
      "source": [
        "# generate dataset\n",
        "X, y = make_blobs(n_samples=1000, centers=2, n_features=2, random_state=1, cluster_std=3) \n",
        "# create scatter plot for samples from each class\n",
        "for class_value in range(2):\n",
        "  # get row indexes for samples with this class\n",
        "  row_ix = where(y == class_value)\n",
        "    # create scatter of these samples\n",
        "  pyplot.scatter(X[row_ix, 0], X[row_ix, 1])\n",
        "  # show the plot\n",
        "pyplot.show()"
      ],
      "execution_count": null,
      "outputs": []
    },
    {
      "cell_type": "code",
      "metadata": {
        "id": "fO0ZlpvyDOaB"
      },
      "source": [
        "# create and plot a synthetic dataset with a given class distribution\n",
        "def get_dataset(proportions):\n",
        "  # determine the number of classes\n",
        "  n_classes = len(proportions)\n",
        "  # determine the number of examples to generate for each class\n",
        "  largest = max([v for k,v in proportions.items()])\n",
        "  n_samples = largest * n_classes\n",
        "  # create dataset\n",
        "  X, y = make_blobs(n_samples=n_samples, centers=n_classes, n_features=2, random_state=1,\n",
        "  cluster_std=3)\n",
        "    # collect the examples\n",
        "  X_list, y_list = list(), list() \n",
        "  for k,v in proportions.items():\n",
        "    row_ix = where(y == k)[0] \n",
        "    selected = row_ix[:v] \n",
        "    X_list.append(X[selected, :]) \n",
        "    y_list.append(y[selected])\n",
        "  return vstack(X_list), hstack(y_list)"
      ],
      "execution_count": null,
      "outputs": []
    },
    {
      "cell_type": "markdown",
      "metadata": {
        "id": "uDYI0TLRlpgC"
      },
      "source": [
        "**A balanced dataset**"
      ]
    },
    {
      "cell_type": "code",
      "metadata": {
        "id": "s0C4MjmgDULA"
      },
      "source": [
        "# scatter plot of dataset, different color for each class\n",
        "def plot_dataset(X, y,proportions):\n",
        "# create scatter plot for samples from each class n_classes = len(unique(y))\n",
        "  for class_value in range(len(proportions)):\n",
        "    # get row indexes for samples with this class\n",
        "    row_ix = where(y == class_value)[0]\n",
        "        # create scatter of these samples\n",
        "    pyplot.scatter(X[row_ix, 0], X[row_ix, 1], label=str(class_value)) # show a legend\n",
        "    pyplot.legend()\n",
        "    # show the plot\n",
        "  pyplot.show()"
      ],
      "execution_count": null,
      "outputs": []
    },
    {
      "cell_type": "code",
      "metadata": {
        "id": "mYkBABm8Ffx4"
      },
      "source": [
        "# define the class distribution\n",
        "proportions = {0:5000, 1:5000}\n",
        "# generate dataset\n",
        "X, y = get_dataset(proportions)"
      ],
      "execution_count": null,
      "outputs": []
    },
    {
      "cell_type": "code",
      "metadata": {
        "id": "Am11bw6xF-aK"
      },
      "source": [
        "# plot dataset\n",
        "plot_dataset(X, y,proportions)"
      ],
      "execution_count": null,
      "outputs": []
    },
    {
      "cell_type": "markdown",
      "metadata": {
        "id": "AhnB1nk_ltS7"
      },
      "source": [
        "**Imbalanced Datasets**"
      ]
    },
    {
      "cell_type": "code",
      "metadata": {
        "id": "gKOqgL-4HWni"
      },
      "source": [
        "#data sets with different distributions\n",
        "# define the class distribution\n",
        "proportions = {0:10000, 1:10}\n",
        "# generate dataset\n",
        "X, y = get_dataset(proportions)\n",
        "# plot dataset\n",
        "plot_dataset(X, y,proportions)"
      ],
      "execution_count": null,
      "outputs": []
    },
    {
      "cell_type": "code",
      "metadata": {
        "id": "PYm06xvXHmMC"
      },
      "source": [
        "# define the class distribution\n",
        "proportions = {0:10000, 1:1000}\n",
        "# generate dataset\n",
        "X, y = get_dataset(proportions)\n",
        "# plot dataset\n",
        "plot_dataset(X, y,proportions)"
      ],
      "execution_count": null,
      "outputs": []
    },
    {
      "cell_type": "code",
      "metadata": {
        "id": "yqkGcEx4HwnP"
      },
      "source": [
        "# define the class distribution\n",
        "proportions = {0:10000, 1:100}\n",
        "# generate dataset\n",
        "X, y = get_dataset(proportions)\n",
        "# plot dataset\n",
        "plot_dataset(X, y,proportions)"
      ],
      "execution_count": null,
      "outputs": []
    }
  ]
}