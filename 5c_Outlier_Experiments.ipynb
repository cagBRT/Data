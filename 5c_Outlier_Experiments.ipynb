{
  "nbformat": 4,
  "nbformat_minor": 0,
  "metadata": {
    "colab": {
      "provenance": [],
      "include_colab_link": true
    },
    "kernelspec": {
      "name": "python3",
      "display_name": "Python 3"
    },
    "language_info": {
      "name": "python"
    }
  },
  "cells": [
    {
      "cell_type": "markdown",
      "metadata": {
        "id": "view-in-github",
        "colab_type": "text"
      },
      "source": [
        "<a href=\"https://colab.research.google.com/github/cagBRT/Data/blob/main/5c_Outlier_Experiments.ipynb\" target=\"_parent\"><img src=\"https://colab.research.google.com/assets/colab-badge.svg\" alt=\"Open In Colab\"/></a>"
      ]
    },
    {
      "cell_type": "markdown",
      "source": [
        "In this notebook we work with outliers.<br>\n",
        "We try to answer the question, what should we do with outliers?<br>\n",
        "\n",
        "Outliers are individuals that are very different from the majority of the population. Traditionally, among practitioners there is a certain mistrust in outliers, this is why ad-hoc measures such as removing them from the dataset are often adopted.<br>\n",
        "\n",
        "Sometimes, they are even more important than other observations!<br>\n",
        "\n",
        "Take for instance the case of individuals that are outliers because they are very high-paying customers: you don’t want to discard them, actually, you probably want to treat them with extra care.<br>\n",
        "\n",
        "Is an ML model more likely to make mistakes when making predictions on outliers?<br>\n",
        "\n",
        "To sum up, we may imagine three possibilities:<br>\n",
        "\n",
        ">outliers are harder to predict<br>\n",
        "outliers are easier to predict<br>\n",
        "outliers are neither harder nor easier to predict<br>"
      ],
      "metadata": {
        "id": "xMBvmVPmGosl"
      }
    },
    {
      "cell_type": "markdown",
      "source": [
        "## Do ML models make more mistakes with outliers?"
      ],
      "metadata": {
        "id": "H_sLngoDNyW1"
      }
    },
    {
      "cell_type": "markdown",
      "source": [
        "Outliers are usually viewed with suspicion and are often removed. <br>\n",
        "\n",
        "But Is this the best practice?\n"
      ],
      "metadata": {
        "id": "wfXouHpOOWRS"
      }
    },
    {
      "cell_type": "markdown",
      "source": [
        "Sometimes, outliers are even more important than other observations. <br>\n",
        "\n",
        "For example, the case of individuals that are outliers because they are very high-paying customers: you don’t want to discard them, if fact, you probably want to treat them with extra care.\n",
        "\n"
      ],
      "metadata": {
        "id": "19yJOntfIi9i"
      }
    },
    {
      "cell_type": "markdown",
      "source": [
        "In this notebook we try to answer the question: <br>\n",
        "\n",
        "**Is an ML model more likely to make mistakes when making predictions on outliers?**"
      ],
      "metadata": {
        "id": "KUgRxjUpI32W"
      }
    },
    {
      "cell_type": "code",
      "source": [
        "# Clone the entire repo.\n",
        "!git clone -s https://github.com/cagBRT/Data.git cloned-repo\n",
        "%cd cloned-repo"
      ],
      "metadata": {
        "colab": {
          "base_uri": "https://localhost:8080/"
        },
        "id": "Dfsr1EcJ-7rx",
        "outputId": "ebfecce8-fc16-4106-ebde-0043c2a43ef6"
      },
      "execution_count": null,
      "outputs": [
        {
          "output_type": "stream",
          "name": "stdout",
          "text": [
            "Cloning into 'cloned-repo'...\n",
            "remote: Enumerating objects: 932, done.\u001b[K\n",
            "remote: Counting objects: 100% (307/307), done.\u001b[K\n",
            "remote: Compressing objects: 100% (157/157), done.\u001b[K\n",
            "remote: Total 932 (delta 240), reused 150 (delta 150), pack-reused 625\u001b[K\n",
            "Receiving objects: 100% (932/932), 11.49 MiB | 17.96 MiB/s, done.\n",
            "Resolving deltas: 100% (555/555), done.\n",
            "/content/cloned-repo\n"
          ]
        }
      ]
    },
    {
      "cell_type": "code",
      "execution_count": null,
      "metadata": {
        "id": "_Aoslb7qK_7J"
      },
      "outputs": [],
      "source": [
        "!pip install pycaret --quiet"
      ]
    },
    {
      "cell_type": "code",
      "source": [
        "import numpy as np\n",
        "import pandas as pd\n",
        "from pycaret.datasets import get_data\n",
        "from scipy.stats import percentileofscore\n",
        "from sklearn.model_selection import train_test_split\n",
        "from sklearn.pipeline import Pipeline\n",
        "from sklearn.preprocessing import StandardScaler\n",
        "from sklearn.decomposition import PCA\n",
        "from sklearn.metrics.pairwise import euclidean_distances\n",
        "from sklearn.ensemble import IsolationForest\n",
        "from category_encoders import CatBoostEncoder\n",
        "from lightgbm import LGBMClassifier\n",
        "from tqdm import tqdm\n",
        "import matplotlib.pyplot as plt\n",
        "from sklearn.metrics import classification_report\n"
      ],
      "metadata": {
        "id": "0Aw-N1oKLEe2"
      },
      "execution_count": null,
      "outputs": []
    },
    {
      "cell_type": "code",
      "source": [
        "DATASET_NAMES = [\n",
        "  \"bank\",\n",
        "  \"blood\",\n",
        "  \"cancer\",\n",
        "  \"credit\",\n",
        "  \"diabetes\",\n",
        "  \"electrical_grid\",\n",
        "  \"employee\",\n",
        "  \"heart\",\n",
        "  \"heart_disease\",\n",
        "  \"hepatitis\",\n",
        "  \"income\",\n",
        "  \"juice\",\n",
        "  \"nba\",\n",
        "  \"wine\",\n",
        "  \"telescope\",\n",
        "  \"titanic\",\n",
        "  \"us_presidential_election_results\"]"
      ],
      "metadata": {
        "id": "xv0EYpItLV9P"
      },
      "execution_count": null,
      "outputs": []
    },
    {
      "cell_type": "markdown",
      "source": [
        "**Define helper functions**"
      ],
      "metadata": {
        "id": "fypGS1UmuPpZ"
      }
    },
    {
      "cell_type": "code",
      "source": [
        "def get_dataset(dataset_name):\n",
        "  \"\"\"Get dataset.\"\"\"\n",
        "  target_name = datasets.loc[datasets[\"Dataset\"]==dataset_name, \"Target Variable 1\"]\n",
        "  df = get_data(dataset_name, verbose=False)\n",
        "  X, y = df.drop(target_name, axis=1), df[target_name]\n",
        "  y = y.replace({yval: binval for yval, binval in zip(y.value_counts().index, [0,1])}).iloc[:,0]\n",
        "  num_features = X.columns[X.apply(is_numeric)].tolist()\n",
        "  cat_features = [c for c in X.columns if c not in num_features]\n",
        "  return X, y, num_features, cat_features\n",
        "\n",
        "def is_numeric(x):\n",
        "  \"\"\"Check whether an object is numeric.\"\"\"\n",
        "  try:\n",
        "    x+0\n",
        "    return True\n",
        "  except:\n",
        "    return False\n",
        "\n",
        "def individual_log_loss(y_true, y_pred, eps=1e-15):\n",
        "  \"\"\"Compute log-loss for each individual of the sample.\"\"\"\n",
        "  y_pred = np.clip(y_pred, eps, 1 - eps)\n",
        "  return - y_true * np.log(y_pred) - (1 - y_true) * np.log(1 - y_pred)\n"
      ],
      "metadata": {
        "id": "KIJTSeubLaxa"
      },
      "execution_count": null,
      "outputs": []
    },
    {
      "cell_type": "markdown",
      "source": [
        "## Case 1"
      ],
      "metadata": {
        "id": "4hrmJ6qPJcVv"
      }
    },
    {
      "cell_type": "markdown",
      "source": [
        "Let's look at a case where a model has been trained on the dataset shown below."
      ],
      "metadata": {
        "id": "9MtuXGSVJMZE"
      }
    },
    {
      "cell_type": "code",
      "source": [
        "fig, ax = plt.subplots(figsize=(6,4))\n",
        "\n",
        "x = np.random.multivariate_normal([0,0], [[1,.6],[.6,2]], size=1000)\n",
        "ax.scatter(x[:,0], x[:,1])\n",
        "ax.set_xticks([])\n",
        "ax.set_yticks([])\n",
        "ax.set_title(\"Training data\")\n",
        "\n",
        "fig.savefig(f\"example_training.png\", dpi=200, bbox_inches=\"tight\")"
      ],
      "metadata": {
        "colab": {
          "base_uri": "https://localhost:8080/",
          "height": 367
        },
        "id": "5as2GOUYLd5K",
        "outputId": "6388bb77-f7a0-42eb-ffa1-0538f4516860"
      },
      "execution_count": null,
      "outputs": [
        {
          "output_type": "display_data",
          "data": {
            "text/plain": [
              "<Figure size 600x400 with 1 Axes>"
            ],
            "image/png": "[encoded data removed]"
          },
          "metadata": {}
        }
      ]
    },
    {
      "cell_type": "markdown",
      "source": [
        "**If new data is collected it can be**:\n",
        "1. an outlier\n",
        "2. falls within the standard range for data"
      ],
      "metadata": {
        "id": "N7LNpbScJhYN"
      }
    },
    {
      "cell_type": "code",
      "source": [
        "fig, ax = plt.subplots(figsize=(6,4))\n",
        "\n",
        "ax.scatter(x[:,0], x[:,1], color=\"white\")\n",
        "ax.scatter(np.min(x, axis=0)[0], np.max(x, axis=0)[1], color=\"red\", label=\"outlier\")\n",
        "ax.scatter(np.quantile(x, q=.3, axis=0)[0], np.quantile(x, q=.7, axis=0)[1], color=\"blue\", label=\"standard\")\n",
        "ax.set_xticks([])\n",
        "ax.set_yticks([])\n",
        "ax.set_title(\"Test data\")\n",
        "ax.legend(loc=\"upper right\")\n",
        "\n",
        "fig.savefig(f\"example_test.png\", dpi=200, bbox_inches=\"tight\")"
      ],
      "metadata": {
        "colab": {
          "base_uri": "https://localhost:8080/",
          "height": 367
        },
        "id": "89CMq5QnLg1k",
        "outputId": "48734d19-f0b1-42e9-b7bc-2b492183a8cf"
      },
      "execution_count": null,
      "outputs": [
        {
          "output_type": "display_data",
          "data": {
            "text/plain": [
              "<Figure size 600x400 with 1 Axes>"
            ],
            "image/png": "[encoded data removed]"
          },
          "metadata": {}
        }
      ]
    },
    {
      "cell_type": "markdown",
      "source": [
        "**Question for discussion:** <br>\n",
        "Is the outlier going to harder to predict than the standard data point?<br>\n",
        "\n"
      ],
      "metadata": {
        "id": "VHv-5Qw6KzKR"
      }
    },
    {
      "cell_type": "markdown",
      "source": [
        "Three possible outcomes: <br>\n",
        "1. outliers are harder to predict\n",
        "2. outiers are easier to predict\n",
        "3. outliers are neither harder or easier to predict"
      ],
      "metadata": {
        "id": "Hr_oBm15M6JJ"
      }
    },
    {
      "cell_type": "markdown",
      "source": [
        "## Experiment 1\n",
        "\n",
        "We use a bank customer datset. <br>\n"
      ],
      "metadata": {
        "id": "X63OsVdmTOMI"
      }
    },
    {
      "cell_type": "code",
      "source": [
        "datasets = get_data(verbose=False)"
      ],
      "metadata": {
        "id": "p4d6zx9lLkNz"
      },
      "execution_count": null,
      "outputs": []
    },
    {
      "cell_type": "code",
      "source": [
        "dataset_name = \"bank\""
      ],
      "metadata": {
        "id": "bHl_wJj1t2p_"
      },
      "execution_count": null,
      "outputs": []
    },
    {
      "cell_type": "markdown",
      "source": [
        "**Split the dataset into training and test sets**"
      ],
      "metadata": {
        "id": "1h6hoMkMTxhj"
      }
    },
    {
      "cell_type": "code",
      "source": [
        "X, y, num_features, cat_features = get_dataset(dataset_name)\n",
        "X_train, X_test, y_train, y_test = train_test_split(X, y)"
      ],
      "metadata": {
        "id": "2Ke1bPLFTtwo"
      },
      "execution_count": null,
      "outputs": []
    },
    {
      "cell_type": "markdown",
      "source": [
        "**All the inputs to the model**"
      ],
      "metadata": {
        "id": "9VydXqumv92M"
      }
    },
    {
      "cell_type": "code",
      "source": [
        "print(\"All features: \",X_train.columns)\n",
        "print(\"Numerical features: \",num_features)"
      ],
      "metadata": {
        "colab": {
          "base_uri": "https://localhost:8080/"
        },
        "id": "NWt6ZTDvv2G2",
        "outputId": "e8d4ec2b-8cab-4b7e-c485-0bb0fe038bf4"
      },
      "execution_count": null,
      "outputs": [
        {
          "output_type": "stream",
          "name": "stdout",
          "text": [
            "All features:  Index(['age', 'job', 'marital', 'education', 'default', 'balance', 'housing',\n",
            "       'loan', 'contact', 'day', 'month', 'duration', 'campaign', 'pdays',\n",
            "       'previous', 'poutcome'],\n",
            "      dtype='object')\n",
            "Numerical features:  ['age', 'balance', 'day', 'duration', 'campaign', 'pdays', 'previous']\n"
          ]
        }
      ]
    },
    {
      "cell_type": "markdown",
      "source": [
        "**The inputs for CatBoost**"
      ],
      "metadata": {
        "id": "aqtZwCoTwCRC"
      }
    },
    {
      "cell_type": "code",
      "source": [
        "print(\"CatBoost features: \",cat_features)"
      ],
      "metadata": {
        "id": "eVkfUW6jVwFh",
        "outputId": "755453e1-4ab2-41b3-8cf6-ed71a5b9b401",
        "colab": {
          "base_uri": "https://localhost:8080/"
        }
      },
      "execution_count": null,
      "outputs": [
        {
          "output_type": "stream",
          "name": "stdout",
          "text": [
            "CatBoost features:  ['job', 'marital', 'education', 'default', 'housing', 'loan', 'contact', 'month', 'poutcome']\n"
          ]
        }
      ]
    },
    {
      "cell_type": "markdown",
      "source": [
        "## Categorical Encoding with CatBoost Encoder<br>\n",
        "\n",
        "We must convert the categorical data to numeric data. There are a number of categircial encoding methods we can use. <br>\n",
        "\n",
        "In this case we care going to use Catboost. <br>\n",
        "\n",
        "[Catboost is a target-based categorical encoder](https://www.geeksforgeeks.org/categorical-encoding-with-catboost-encoder/).  It encodes according to a target value and supports binomial and continuous targets. <br>\n",
        "\n",
        "Target encoding replaces the categorical values with the average value for each column. This can introduce data leakage since the target is used to predict the target. <br>\n",
        "\n",
        "Catboost solves the data leakage issue by using an ordering principle.\n",
        "\n"
      ],
      "metadata": {
        "id": "jWsjVGCqVrGw"
      }
    },
    {
      "cell_type": "markdown",
      "source": [
        "**The data before CatBoost**"
      ],
      "metadata": {
        "id": "K2xAOaFzzDtg"
      }
    },
    {
      "cell_type": "code",
      "source": [
        "X_train"
      ],
      "metadata": {
        "colab": {
          "base_uri": "https://localhost:8080/",
          "height": 444
        },
        "id": "EY3nUQXEy0jm",
        "outputId": "5f11b556-e3c6-4166-ff6c-d2dd34d87956"
      },
      "execution_count": null,
      "outputs": [
        {
          "output_type": "execute_result",
          "data": {
            "text/plain": [
              "       age           job   marital  education default  balance housing loan  \\\n",
              "8443    23      services   married  secondary      no     1309     yes   no   \n",
              "15277   31      services   married  secondary      no     1670      no   no   \n",
              "18978   47  entrepreneur   married  secondary      no      318      no   no   \n",
              "13886   31   blue-collar   married    primary      no        2     yes  yes   \n",
              "40611   61       retired   married  secondary      no      569      no   no   \n",
              "...    ...           ...       ...        ...     ...      ...     ...  ...   \n",
              "27741   42    management  divorced   tertiary      no      266      no  yes   \n",
              "28766   56    unemployed   married  secondary      no      670      no   no   \n",
              "28506   40    management    single   tertiary      no      732      no   no   \n",
              "3283    41      services   married  secondary      no      957     yes   no   \n",
              "42384   66    management   married    unknown      no     2149     yes   no   \n",
              "\n",
              "        contact  day month  duration  campaign  pdays  previous poutcome  \n",
              "8443    unknown    3   jun       349         2     -1         0  unknown  \n",
              "15277  cellular   18   jul       185         2     -1         0  unknown  \n",
              "18978  cellular    4   aug       299         2     -1         0  unknown  \n",
              "13886  cellular   10   jul       112         1     -1         0  unknown  \n",
              "40611  cellular    4   aug       219         1     -1         0  unknown  \n",
              "...         ...  ...   ...       ...       ...    ...       ...      ...  \n",
              "27741  cellular   28   jan       228         1     -1         0  unknown  \n",
              "28766  cellular   30   jan        86         1     -1         0  unknown  \n",
              "28506  cellular   29   jan       148         2     -1         0  unknown  \n",
              "3283    unknown   15   may       326         4     -1         0  unknown  \n",
              "42384  cellular   30   nov       151         6    103         4    other  \n",
              "\n",
              "[33908 rows x 16 columns]"
            ],
            "text/html": [
              "\n",
              "  <div id=\"df-62bd4007-7187-42d0-8214-c222116d77c9\" class=\"colab-df-container\">\n",
              "    <div>\n",
              "<style scoped>\n",
              "    .dataframe tbody tr th:only-of-type {\n",
              "        vertical-align: middle;\n",
              "    }\n",
              "\n",
              "    .dataframe tbody tr th {\n",
              "        vertical-align: top;\n",
              "    }\n",
              "\n",
              "    .dataframe thead th {\n",
              "        text-align: right;\n",
              "    }\n",
              "</style>\n",
              "<table border=\"1\" class=\"dataframe\">\n",
              "  <thead>\n",
              "    <tr style=\"text-align: right;\">\n",
              "      <th></th>\n",
              "      <th>age</th>\n",
              "      <th>job</th>\n",
              "      <th>marital</th>\n",
              "      <th>education</th>\n",
              "      <th>default</th>\n",
              "      <th>balance</th>\n",
              "      <th>housing</th>\n",
              "      <th>loan</th>\n",
              "      <th>contact</th>\n",
              "      <th>day</th>\n",
              "      <th>month</th>\n",
              "      <th>duration</th>\n",
              "      <th>campaign</th>\n",
              "      <th>pdays</th>\n",
              "      <th>previous</th>\n",
              "      <th>poutcome</th>\n",
              "    </tr>\n",
              "  </thead>\n",
              "  <tbody>\n",
              "    <tr>\n",
              "      <th>8443</th>\n",
              "      <td>23</td>\n",
              "      <td>services</td>\n",
              "      <td>married</td>\n",
              "      <td>secondary</td>\n",
              "      <td>no</td>\n",
              "      <td>1309</td>\n",
              "      <td>yes</td>\n",
              "      <td>no</td>\n",
              "      <td>unknown</td>\n",
              "      <td>3</td>\n",
              "      <td>jun</td>\n",
              "      <td>349</td>\n",
              "      <td>2</td>\n",
              "      <td>-1</td>\n",
              "      <td>0</td>\n",
              "      <td>unknown</td>\n",
              "    </tr>\n",
              "    <tr>\n",
              "      <th>15277</th>\n",
              "      <td>31</td>\n",
              "      <td>services</td>\n",
              "      <td>married</td>\n",
              "      <td>secondary</td>\n",
              "      <td>no</td>\n",
              "      <td>1670</td>\n",
              "      <td>no</td>\n",
              "      <td>no</td>\n",
              "      <td>cellular</td>\n",
              "      <td>18</td>\n",
              "      <td>jul</td>\n",
              "      <td>185</td>\n",
              "      <td>2</td>\n",
              "      <td>-1</td>\n",
              "      <td>0</td>\n",
              "      <td>unknown</td>\n",
              "    </tr>\n",
              "    <tr>\n",
              "      <th>18978</th>\n",
              "      <td>47</td>\n",
              "      <td>entrepreneur</td>\n",
              "      <td>married</td>\n",
              "      <td>secondary</td>\n",
              "      <td>no</td>\n",
              "      <td>318</td>\n",
              "      <td>no</td>\n",
              "      <td>no</td>\n",
              "      <td>cellular</td>\n",
              "      <td>4</td>\n",
              "      <td>aug</td>\n",
              "      <td>299</td>\n",
              "      <td>2</td>\n",
              "      <td>-1</td>\n",
              "      <td>0</td>\n",
              "      <td>unknown</td>\n",
              "    </tr>\n",
              "    <tr>\n",
              "      <th>13886</th>\n",
              "      <td>31</td>\n",
              "      <td>blue-collar</td>\n",
              "      <td>married</td>\n",
              "      <td>primary</td>\n",
              "      <td>no</td>\n",
              "      <td>2</td>\n",
              "      <td>yes</td>\n",
              "      <td>yes</td>\n",
              "      <td>cellular</td>\n",
              "      <td>10</td>\n",
              "      <td>jul</td>\n",
              "      <td>112</td>\n",
              "      <td>1</td>\n",
              "      <td>-1</td>\n",
              "      <td>0</td>\n",
              "      <td>unknown</td>\n",
              "    </tr>\n",
              "    <tr>\n",
              "      <th>40611</th>\n",
              "      <td>61</td>\n",
              "      <td>retired</td>\n",
              "      <td>married</td>\n",
              "      <td>secondary</td>\n",
              "      <td>no</td>\n",
              "      <td>569</td>\n",
              "      <td>no</td>\n",
              "      <td>no</td>\n",
              "      <td>cellular</td>\n",
              "      <td>4</td>\n",
              "      <td>aug</td>\n",
              "      <td>219</td>\n",
              "      <td>1</td>\n",
              "      <td>-1</td>\n",
              "      <td>0</td>\n",
              "      <td>unknown</td>\n",
              "    </tr>\n",
              "    <tr>\n",
              "      <th>...</th>\n",
              "      <td>...</td>\n",
              "      <td>...</td>\n",
              "      <td>...</td>\n",
              "      <td>...</td>\n",
              "      <td>...</td>\n",
              "      <td>...</td>\n",
              "      <td>...</td>\n",
              "      <td>...</td>\n",
              "      <td>...</td>\n",
              "      <td>...</td>\n",
              "      <td>...</td>\n",
              "      <td>...</td>\n",
              "      <td>...</td>\n",
              "      <td>...</td>\n",
              "      <td>...</td>\n",
              "      <td>...</td>\n",
              "    </tr>\n",
              "    <tr>\n",
              "      <th>27741</th>\n",
              "      <td>42</td>\n",
              "      <td>management</td>\n",
              "      <td>divorced</td>\n",
              "      <td>tertiary</td>\n",
              "      <td>no</td>\n",
              "      <td>266</td>\n",
              "      <td>no</td>\n",
              "      <td>yes</td>\n",
              "      <td>cellular</td>\n",
              "      <td>28</td>\n",
              "      <td>jan</td>\n",
              "      <td>228</td>\n",
              "      <td>1</td>\n",
              "      <td>-1</td>\n",
              "      <td>0</td>\n",
              "      <td>unknown</td>\n",
              "    </tr>\n",
              "    <tr>\n",
              "      <th>28766</th>\n",
              "      <td>56</td>\n",
              "      <td>unemployed</td>\n",
              "      <td>married</td>\n",
              "      <td>secondary</td>\n",
              "      <td>no</td>\n",
              "      <td>670</td>\n",
              "      <td>no</td>\n",
              "      <td>no</td>\n",
              "      <td>cellular</td>\n",
              "      <td>30</td>\n",
              "      <td>jan</td>\n",
              "      <td>86</td>\n",
              "      <td>1</td>\n",
              "      <td>-1</td>\n",
              "      <td>0</td>\n",
              "      <td>unknown</td>\n",
              "    </tr>\n",
              "    <tr>\n",
              "      <th>28506</th>\n",
              "      <td>40</td>\n",
              "      <td>management</td>\n",
              "      <td>single</td>\n",
              "      <td>tertiary</td>\n",
              "      <td>no</td>\n",
              "      <td>732</td>\n",
              "      <td>no</td>\n",
              "      <td>no</td>\n",
              "      <td>cellular</td>\n",
              "      <td>29</td>\n",
              "      <td>jan</td>\n",
              "      <td>148</td>\n",
              "      <td>2</td>\n",
              "      <td>-1</td>\n",
              "      <td>0</td>\n",
              "      <td>unknown</td>\n",
              "    </tr>\n",
              "    <tr>\n",
              "      <th>3283</th>\n",
              "      <td>41</td>\n",
              "      <td>services</td>\n",
              "      <td>married</td>\n",
              "      <td>secondary</td>\n",
              "      <td>no</td>\n",
              "      <td>957</td>\n",
              "      <td>yes</td>\n",
              "      <td>no</td>\n",
              "      <td>unknown</td>\n",
              "      <td>15</td>\n",
              "      <td>may</td>\n",
              "      <td>326</td>\n",
              "      <td>4</td>\n",
              "      <td>-1</td>\n",
              "      <td>0</td>\n",
              "      <td>unknown</td>\n",
              "    </tr>\n",
              "    <tr>\n",
              "      <th>42384</th>\n",
              "      <td>66</td>\n",
              "      <td>management</td>\n",
              "      <td>married</td>\n",
              "      <td>unknown</td>\n",
              "      <td>no</td>\n",
              "      <td>2149</td>\n",
              "      <td>yes</td>\n",
              "      <td>no</td>\n",
              "      <td>cellular</td>\n",
              "      <td>30</td>\n",
              "      <td>nov</td>\n",
              "      <td>151</td>\n",
              "      <td>6</td>\n",
              "      <td>103</td>\n",
              "      <td>4</td>\n",
              "      <td>other</td>\n",
              "    </tr>\n",
              "  </tbody>\n",
              "</table>\n",
              "<p>33908 rows × 16 columns</p>\n",
              "</div>\n",
              "    <div class=\"colab-df-buttons\">\n",
              "\n",
              "  <div class=\"colab-df-container\">\n",
              "    <button class=\"colab-df-convert\" onclick=\"convertToInteractive('df-62bd4007-7187-42d0-8214-c222116d77c9')\"\n",
              "            title=\"Convert this dataframe to an interactive table.\"\n",
              "            style=\"display:none;\">\n",
              "\n",
              "  <svg xmlns=\"http://www.w3.org/2000/svg\" height=\"24px\" viewBox=\"0 -960 960 960\">\n",
              "    <path d=\"M120-120v-720h720v720H120Zm60-500h600v-160H180v160Zm220 220h160v-160H400v160Zm0 220h160v-160H400v160ZM180-400h160v-160H180v160Zm440 0h160v-160H620v160ZM180-180h160v-160H180v160Zm440 0h160v-160H620v160Z\"/>\n",
              "  </svg>\n",
              "    </button>\n",
              "\n",
              "  <style>\n",
              "    .colab-df-container {\n",
              "      display:flex;\n",
              "      gap: 12px;\n",
              "    }\n",
              "\n",
              "    .colab-df-convert {\n",
              "      background-color: #E8F0FE;\n",
              "      border: none;\n",
              "      border-radius: 50%;\n",
              "      cursor: pointer;\n",
              "      display: none;\n",
              "      fill: #1967D2;\n",
              "      height: 32px;\n",
              "      padding: 0 0 0 0;\n",
              "      width: 32px;\n",
              "    }\n",
              "\n",
              "    .colab-df-convert:hover {\n",
              "      background-color: #E2EBFA;\n",
              "      box-shadow: 0px 1px 2px rgba(60, 64, 67, 0.3), 0px 1px 3px 1px rgba(60, 64, 67, 0.15);\n",
              "      fill: #174EA6;\n",
              "    }\n",
              "\n",
              "    .colab-df-buttons div {\n",
              "      margin-bottom: 4px;\n",
              "    }\n",
              "\n",
              "    [theme=dark] .colab-df-convert {\n",
              "      background-color: #3B4455;\n",
              "      fill: #D2E3FC;\n",
              "    }\n",
              "\n",
              "    [theme=dark] .colab-df-convert:hover {\n",
              "      background-color: #434B5C;\n",
              "      box-shadow: 0px 1px 3px 1px rgba(0, 0, 0, 0.15);\n",
              "      filter: drop-shadow(0px 1px 2px rgba(0, 0, 0, 0.3));\n",
              "      fill: #FFFFFF;\n",
              "    }\n",
              "  </style>\n",
              "\n",
              "    <script>\n",
              "      const buttonEl =\n",
              "        document.querySelector('#df-62bd4007-7187-42d0-8214-c222116d77c9 button.colab-df-convert');\n",
              "      buttonEl.style.display =\n",
              "        google.colab.kernel.accessAllowed ? 'block' : 'none';\n",
              "\n",
              "      async function convertToInteractive(key) {\n",
              "        const element = document.querySelector('#df-62bd4007-7187-42d0-8214-c222116d77c9');\n",
              "        const dataTable =\n",
              "          await google.colab.kernel.invokeFunction('convertToInteractive',\n",
              "                                                    [key], {});\n",
              "        if (!dataTable) return;\n",
              "\n",
              "        const docLinkHtml = 'Like what you see? Visit the ' +\n",
              "          '<a target=\"_blank\" href=https://colab.research.google.com/notebooks/data_table.ipynb>data table notebook</a>'\n",
              "          + ' to learn more about interactive tables.';\n",
              "        element.innerHTML = '';\n",
              "        dataTable['output_type'] = 'display_data';\n",
              "        await google.colab.output.renderOutput(dataTable, element);\n",
              "        const docLink = document.createElement('div');\n",
              "        docLink.innerHTML = docLinkHtml;\n",
              "        element.appendChild(docLink);\n",
              "      }\n",
              "    </script>\n",
              "  </div>\n",
              "\n",
              "\n",
              "<div id=\"df-3de04a14-2626-4d5d-a38b-6299f21f01c9\">\n",
              "  <button class=\"colab-df-quickchart\" onclick=\"quickchart('df-3de04a14-2626-4d5d-a38b-6299f21f01c9')\"\n",
              "            title=\"Suggest charts\"\n",
              "            style=\"display:none;\">\n",
              "\n",
              "<svg xmlns=\"http://www.w3.org/2000/svg\" height=\"24px\"viewBox=\"0 0 24 24\"\n",
              "     width=\"24px\">\n",
              "    <g>\n",
              "        <path d=\"M19 3H5c-1.1 0-2 .9-2 2v14c0 1.1.9 2 2 2h14c1.1 0 2-.9 2-2V5c0-1.1-.9-2-2-2zM9 17H7v-7h2v7zm4 0h-2V7h2v10zm4 0h-2v-4h2v4z\"/>\n",
              "    </g>\n",
              "</svg>\n",
              "  </button>\n",
              "\n",
              "<style>\n",
              "  .colab-df-quickchart {\n",
              "      --bg-color: #E8F0FE;\n",
              "      --fill-color: #1967D2;\n",
              "      --hover-bg-color: #E2EBFA;\n",
              "      --hover-fill-color: #174EA6;\n",
              "      --disabled-fill-color: #AAA;\n",
              "      --disabled-bg-color: #DDD;\n",
              "  }\n",
              "\n",
              "  [theme=dark] .colab-df-quickchart {\n",
              "      --bg-color: #3B4455;\n",
              "      --fill-color: #D2E3FC;\n",
              "      --hover-bg-color: #434B5C;\n",
              "      --hover-fill-color: #FFFFFF;\n",
              "      --disabled-bg-color: #3B4455;\n",
              "      --disabled-fill-color: #666;\n",
              "  }\n",
              "\n",
              "  .colab-df-quickchart {\n",
              "    background-color: var(--bg-color);\n",
              "    border: none;\n",
              "    border-radius: 50%;\n",
              "    cursor: pointer;\n",
              "    display: none;\n",
              "    fill: var(--fill-color);\n",
              "    height: 32px;\n",
              "    padding: 0;\n",
              "    width: 32px;\n",
              "  }\n",
              "\n",
              "  .colab-df-quickchart:hover {\n",
              "    background-color: var(--hover-bg-color);\n",
              "    box-shadow: 0 1px 2px rgba(60, 64, 67, 0.3), 0 1px 3px 1px rgba(60, 64, 67, 0.15);\n",
              "    fill: var(--button-hover-fill-color);\n",
              "  }\n",
              "\n",
              "  .colab-df-quickchart-complete:disabled,\n",
              "  .colab-df-quickchart-complete:disabled:hover {\n",
              "    background-color: var(--disabled-bg-color);\n",
              "    fill: var(--disabled-fill-color);\n",
              "    box-shadow: none;\n",
              "  }\n",
              "\n",
              "  .colab-df-spinner {\n",
              "    border: 2px solid var(--fill-color);\n",
              "    border-color: transparent;\n",
              "    border-bottom-color: var(--fill-color);\n",
              "    animation:\n",
              "      spin 1s steps(1) infinite;\n",
              "  }\n",
              "\n",
              "  @keyframes spin {\n",
              "    0% {\n",
              "      border-color: transparent;\n",
              "      border-bottom-color: var(--fill-color);\n",
              "      border-left-color: var(--fill-color);\n",
              "    }\n",
              "    20% {\n",
              "      border-color: transparent;\n",
              "      border-left-color: var(--fill-color);\n",
              "      border-top-color: var(--fill-color);\n",
              "    }\n",
              "    30% {\n",
              "      border-color: transparent;\n",
              "      border-left-color: var(--fill-color);\n",
              "      border-top-color: var(--fill-color);\n",
              "      border-right-color: var(--fill-color);\n",
              "    }\n",
              "    40% {\n",
              "      border-color: transparent;\n",
              "      border-right-color: var(--fill-color);\n",
              "      border-top-color: var(--fill-color);\n",
              "    }\n",
              "    60% {\n",
              "      border-color: transparent;\n",
              "      border-right-color: var(--fill-color);\n",
              "    }\n",
              "    80% {\n",
              "      border-color: transparent;\n",
              "      border-right-color: var(--fill-color);\n",
              "      border-bottom-color: var(--fill-color);\n",
              "    }\n",
              "    90% {\n",
              "      border-color: transparent;\n",
              "      border-bottom-color: var(--fill-color);\n",
              "    }\n",
              "  }\n",
              "</style>\n",
              "\n",
              "  <script>\n",
              "    async function quickchart(key) {\n",
              "      const quickchartButtonEl =\n",
              "        document.querySelector('#' + key + ' button');\n",
              "      quickchartButtonEl.disabled = true;  // To prevent multiple clicks.\n",
              "      quickchartButtonEl.classList.add('colab-df-spinner');\n",
              "      try {\n",
              "        const charts = await google.colab.kernel.invokeFunction(\n",
              "            'suggestCharts', [key], {});\n",
              "      } catch (error) {\n",
              "        console.error('Error during call to suggestCharts:', error);\n",
              "      }\n",
              "      quickchartButtonEl.classList.remove('colab-df-spinner');\n",
              "      quickchartButtonEl.classList.add('colab-df-quickchart-complete');\n",
              "    }\n",
              "    (() => {\n",
              "      let quickchartButtonEl =\n",
              "        document.querySelector('#df-3de04a14-2626-4d5d-a38b-6299f21f01c9 button');\n",
              "      quickchartButtonEl.style.display =\n",
              "        google.colab.kernel.accessAllowed ? 'block' : 'none';\n",
              "    })();\n",
              "  </script>\n",
              "</div>\n",
              "    </div>\n",
              "  </div>\n"
            ],
            "application/vnd.google.colaboratory.intrinsic+json": {
              "type": "dataframe",
              "variable_name": "X_train",
              "summary": "{\n  \"name\": \"X_train\",\n  \"rows\": 33908,\n  \"fields\": [\n    {\n      \"column\": \"age\",\n      \"properties\": {\n        \"dtype\": \"number\",\n        \"std\": 10,\n        \"min\": 18,\n        \"max\": 95,\n        \"num_unique_values\": 76,\n        \"samples\": [\n          58,\n          24,\n          44\n        ],\n        \"semantic_type\": \"\",\n        \"description\": \"\"\n      }\n    },\n    {\n      \"column\": \"job\",\n      \"properties\": {\n        \"dtype\": \"category\",\n        \"num_unique_values\": 12,\n        \"samples\": [\n          \"student\",\n          \"unemployed\",\n          \"services\"\n        ],\n        \"semantic_type\": \"\",\n        \"description\": \"\"\n      }\n    },\n    {\n      \"column\": \"marital\",\n      \"properties\": {\n        \"dtype\": \"category\",\n        \"num_unique_values\": 3,\n        \"samples\": [\n          \"married\",\n          \"divorced\",\n          \"single\"\n        ],\n        \"semantic_type\": \"\",\n        \"description\": \"\"\n      }\n    },\n    {\n      \"column\": \"education\",\n      \"properties\": {\n        \"dtype\": \"category\",\n        \"num_unique_values\": 4,\n        \"samples\": [\n          \"primary\",\n          \"unknown\",\n          \"secondary\"\n        ],\n        \"semantic_type\": \"\",\n        \"description\": \"\"\n      }\n    },\n    {\n      \"column\": \"default\",\n      \"properties\": {\n        \"dtype\": \"category\",\n        \"num_unique_values\": 2,\n        \"samples\": [\n          \"yes\",\n          \"no\"\n        ],\n        \"semantic_type\": \"\",\n        \"description\": \"\"\n      }\n    },\n    {\n      \"column\": \"balance\",\n      \"properties\": {\n        \"dtype\": \"number\",\n        \"std\": 2974,\n        \"min\": -8019,\n        \"max\": 102127,\n        \"num_unique_values\": 6406,\n        \"samples\": [\n          17458,\n          4855\n        ],\n        \"semantic_type\": \"\",\n        \"description\": \"\"\n      }\n    },\n    {\n      \"column\": \"housing\",\n      \"properties\": {\n        \"dtype\": \"category\",\n        \"num_unique_values\": 2,\n        \"samples\": [\n          \"no\",\n          \"yes\"\n        ],\n        \"semantic_type\": \"\",\n        \"description\": \"\"\n      }\n    },\n    {\n      \"column\": \"loan\",\n      \"properties\": {\n        \"dtype\": \"category\",\n        \"num_unique_values\": 2,\n        \"samples\": [\n          \"yes\",\n          \"no\"\n        ],\n        \"semantic_type\": \"\",\n        \"description\": \"\"\n      }\n    },\n    {\n      \"column\": \"contact\",\n      \"properties\": {\n        \"dtype\": \"category\",\n        \"num_unique_values\": 3,\n        \"samples\": [\n          \"unknown\",\n          \"cellular\"\n        ],\n        \"semantic_type\": \"\",\n        \"description\": \"\"\n      }\n    },\n    {\n      \"column\": \"day\",\n      \"properties\": {\n        \"dtype\": \"number\",\n        \"std\": 8,\n        \"min\": 1,\n        \"max\": 31,\n        \"num_unique_values\": 31,\n        \"samples\": [\n          11,\n          17\n        ],\n        \"semantic_type\": \"\",\n        \"description\": \"\"\n      }\n    },\n    {\n      \"column\": \"month\",\n      \"properties\": {\n        \"dtype\": \"category\",\n        \"num_unique_values\": 12,\n        \"samples\": [\n          \"oct\",\n          \"mar\"\n        ],\n        \"semantic_type\": \"\",\n        \"description\": \"\"\n      }\n    },\n    {\n      \"column\": \"duration\",\n      \"properties\": {\n        \"dtype\": \"number\",\n        \"std\": 256,\n        \"min\": 0,\n        \"max\": 3881,\n        \"num_unique_values\": 1470,\n        \"samples\": [\n          1353,\n          184\n        ],\n        \"semantic_type\": \"\",\n        \"description\": \"\"\n      }\n    },\n    {\n      \"column\": \"campaign\",\n      \"properties\": {\n        \"dtype\": \"number\",\n        \"std\": 3,\n        \"min\": 1,\n        \"max\": 63,\n        \"num_unique_values\": 47,\n        \"samples\": [\n          30,\n          43\n        ],\n        \"semantic_type\": \"\",\n        \"description\": \"\"\n      }\n    },\n    {\n      \"column\": \"pdays\",\n      \"properties\": {\n        \"dtype\": \"number\",\n        \"std\": 100,\n        \"min\": -1,\n        \"max\": 871,\n        \"num_unique_values\": 521,\n        \"samples\": [\n          24,\n          265\n        ],\n        \"semantic_type\": \"\",\n        \"description\": \"\"\n      }\n    },\n    {\n      \"column\": \"previous\",\n      \"properties\": {\n        \"dtype\": \"number\",\n        \"std\": 2,\n        \"min\": 0,\n        \"max\": 275,\n        \"num_unique_values\": 39,\n        \"samples\": [\n          25,\n          32\n        ],\n        \"semantic_type\": \"\",\n        \"description\": \"\"\n      }\n    },\n    {\n      \"column\": \"poutcome\",\n      \"properties\": {\n        \"dtype\": \"category\",\n        \"num_unique_values\": 4,\n        \"samples\": [\n          \"other\",\n          \"success\"\n        ],\n        \"semantic_type\": \"\",\n        \"description\": \"\"\n      }\n    }\n  ]\n}"
            }
          },
          "metadata": {},
          "execution_count": 94
        }
      ]
    },
    {
      "cell_type": "code",
      "source": [
        "X_train.isna().sum()"
      ],
      "metadata": {
        "colab": {
          "base_uri": "https://localhost:8080/"
        },
        "id": "dc0Fjb1CzSgN",
        "outputId": "d41a32e3-95c5-4467-cc9c-1414b4ab326a"
      },
      "execution_count": null,
      "outputs": [
        {
          "output_type": "execute_result",
          "data": {
            "text/plain": [
              "age          0\n",
              "job          0\n",
              "marital      0\n",
              "education    0\n",
              "default      0\n",
              "balance      0\n",
              "housing      0\n",
              "loan         0\n",
              "contact      0\n",
              "day          0\n",
              "month        0\n",
              "duration     0\n",
              "campaign     0\n",
              "pdays        0\n",
              "previous     0\n",
              "poutcome     0\n",
              "dtype: int64"
            ]
          },
          "metadata": {},
          "execution_count": 95
        }
      ]
    },
    {
      "cell_type": "code",
      "source": [
        "if len(cat_features) > 0:\n",
        "  #fill empty values with NULL\n",
        "    cat_encoder = CatBoostEncoder().fit(X_train[cat_features].fillna(\"NULL\"), y_train)\n",
        "  #transform the categorical data to numerical data\n",
        "    X_train[cat_features] = cat_encoder.transform(X_train[cat_features])\n",
        "    X_test[cat_features] = cat_encoder.transform(X_test[cat_features])\n",
        "  #fill any missing data with the mean of the dataset\n",
        "    X_train = X_train.fillna(X_train.mean())\n",
        "    X_test = X_test.fillna(X_test.mean())"
      ],
      "metadata": {
        "id": "aTMLSAjvyTsR"
      },
      "execution_count": null,
      "outputs": []
    },
    {
      "cell_type": "code",
      "source": [
        "X_train"
      ],
      "metadata": {
        "colab": {
          "base_uri": "https://localhost:8080/",
          "height": 444
        },
        "id": "srH2Vcvpz642",
        "outputId": "d59c26eb-2efc-464c-92a8-9e632aa2a410"
      },
      "execution_count": null,
      "outputs": [
        {
          "output_type": "execute_result",
          "data": {
            "text/plain": [
              "       age       job   marital  education  default  balance   housing  \\\n",
              "8443    23  0.091119  0.101387   0.107148   0.1188     1309  0.077622   \n",
              "15277   31  0.091119  0.101387   0.107148   0.1188     1670  0.168016   \n",
              "18978   47  0.076821  0.101387   0.107148   0.1188      318  0.168016   \n",
              "13886   31  0.073113  0.101387   0.085631   0.1188        2  0.077622   \n",
              "40611   61  0.226440  0.101387   0.107148   0.1188      569  0.168016   \n",
              "...    ...       ...       ...        ...      ...      ...       ...   \n",
              "27741   42  0.140350  0.121343   0.150639   0.1188      266  0.168016   \n",
              "28766   56  0.148754  0.101387   0.107148   0.1188      670  0.168016   \n",
              "28506   40  0.140350  0.150940   0.150639   0.1188      732  0.168016   \n",
              "3283    41  0.091119  0.101387   0.107148   0.1188      957  0.077622   \n",
              "42384   66  0.140350  0.101387   0.131811   0.1188     2149  0.077622   \n",
              "\n",
              "           loan   contact  day     month  duration  campaign  pdays  previous  \\\n",
              "8443   0.127715  0.040274    3  0.100991       349         2     -1         0   \n",
              "15277  0.127715  0.150156   18  0.089889       185         2     -1         0   \n",
              "18978  0.127715  0.150156    4  0.112392       299         2     -1         0   \n",
              "13886  0.065466  0.150156   10  0.089889       112         1     -1         0   \n",
              "40611  0.127715  0.150156    4  0.112392       219         1     -1         0   \n",
              "...         ...       ...  ...       ...       ...       ...    ...       ...   \n",
              "27741  0.065466  0.150156   28  0.097649       228         1     -1         0   \n",
              "28766  0.127715  0.150156   30  0.097649        86         1     -1         0   \n",
              "28506  0.127715  0.150156   29  0.097649       148         2     -1         0   \n",
              "3283   0.127715  0.040274   15  0.066832       326         4     -1         0   \n",
              "42384  0.127715  0.150156   30  0.102413       151         6    103         4   \n",
              "\n",
              "       poutcome  \n",
              "8443   0.092389  \n",
              "15277  0.092389  \n",
              "18978  0.092389  \n",
              "13886  0.092389  \n",
              "40611  0.092389  \n",
              "...         ...  \n",
              "27741  0.092389  \n",
              "28766  0.092389  \n",
              "28506  0.092389  \n",
              "3283   0.092389  \n",
              "42384  0.157828  \n",
              "\n",
              "[33908 rows x 16 columns]"
            ],
            "text/html": [
              "\n",
              "  <div id=\"df-0ffc7b8f-3cb1-4c4a-af6a-6aee32e62906\" class=\"colab-df-container\">\n",
              "    <div>\n",
              "<style scoped>\n",
              "    .dataframe tbody tr th:only-of-type {\n",
              "        vertical-align: middle;\n",
              "    }\n",
              "\n",
              "    .dataframe tbody tr th {\n",
              "        vertical-align: top;\n",
              "    }\n",
              "\n",
              "    .dataframe thead th {\n",
              "        text-align: right;\n",
              "    }\n",
              "</style>\n",
              "<table border=\"1\" class=\"dataframe\">\n",
              "  <thead>\n",
              "    <tr style=\"text-align: right;\">\n",
              "      <th></th>\n",
              "      <th>age</th>\n",
              "      <th>job</th>\n",
              "      <th>marital</th>\n",
              "      <th>education</th>\n",
              "      <th>default</th>\n",
              "      <th>balance</th>\n",
              "      <th>housing</th>\n",
              "      <th>loan</th>\n",
              "      <th>contact</th>\n",
              "      <th>day</th>\n",
              "      <th>month</th>\n",
              "      <th>duration</th>\n",
              "      <th>campaign</th>\n",
              "      <th>pdays</th>\n",
              "      <th>previous</th>\n",
              "      <th>poutcome</th>\n",
              "    </tr>\n",
              "  </thead>\n",
              "  <tbody>\n",
              "    <tr>\n",
              "      <th>8443</th>\n",
              "      <td>23</td>\n",
              "      <td>0.091119</td>\n",
              "      <td>0.101387</td>\n",
              "      <td>0.107148</td>\n",
              "      <td>0.1188</td>\n",
              "      <td>1309</td>\n",
              "      <td>0.077622</td>\n",
              "      <td>0.127715</td>\n",
              "      <td>0.040274</td>\n",
              "      <td>3</td>\n",
              "      <td>0.100991</td>\n",
              "      <td>349</td>\n",
              "      <td>2</td>\n",
              "      <td>-1</td>\n",
              "      <td>0</td>\n",
              "      <td>0.092389</td>\n",
              "    </tr>\n",
              "    <tr>\n",
              "      <th>15277</th>\n",
              "      <td>31</td>\n",
              "      <td>0.091119</td>\n",
              "      <td>0.101387</td>\n",
              "      <td>0.107148</td>\n",
              "      <td>0.1188</td>\n",
              "      <td>1670</td>\n",
              "      <td>0.168016</td>\n",
              "      <td>0.127715</td>\n",
              "      <td>0.150156</td>\n",
              "      <td>18</td>\n",
              "      <td>0.089889</td>\n",
              "      <td>185</td>\n",
              "      <td>2</td>\n",
              "      <td>-1</td>\n",
              "      <td>0</td>\n",
              "      <td>0.092389</td>\n",
              "    </tr>\n",
              "    <tr>\n",
              "      <th>18978</th>\n",
              "      <td>47</td>\n",
              "      <td>0.076821</td>\n",
              "      <td>0.101387</td>\n",
              "      <td>0.107148</td>\n",
              "      <td>0.1188</td>\n",
              "      <td>318</td>\n",
              "      <td>0.168016</td>\n",
              "      <td>0.127715</td>\n",
              "      <td>0.150156</td>\n",
              "      <td>4</td>\n",
              "      <td>0.112392</td>\n",
              "      <td>299</td>\n",
              "      <td>2</td>\n",
              "      <td>-1</td>\n",
              "      <td>0</td>\n",
              "      <td>0.092389</td>\n",
              "    </tr>\n",
              "    <tr>\n",
              "      <th>13886</th>\n",
              "      <td>31</td>\n",
              "      <td>0.073113</td>\n",
              "      <td>0.101387</td>\n",
              "      <td>0.085631</td>\n",
              "      <td>0.1188</td>\n",
              "      <td>2</td>\n",
              "      <td>0.077622</td>\n",
              "      <td>0.065466</td>\n",
              "      <td>0.150156</td>\n",
              "      <td>10</td>\n",
              "      <td>0.089889</td>\n",
              "      <td>112</td>\n",
              "      <td>1</td>\n",
              "      <td>-1</td>\n",
              "      <td>0</td>\n",
              "      <td>0.092389</td>\n",
              "    </tr>\n",
              "    <tr>\n",
              "      <th>40611</th>\n",
              "      <td>61</td>\n",
              "      <td>0.226440</td>\n",
              "      <td>0.101387</td>\n",
              "      <td>0.107148</td>\n",
              "      <td>0.1188</td>\n",
              "      <td>569</td>\n",
              "      <td>0.168016</td>\n",
              "      <td>0.127715</td>\n",
              "      <td>0.150156</td>\n",
              "      <td>4</td>\n",
              "      <td>0.112392</td>\n",
              "      <td>219</td>\n",
              "      <td>1</td>\n",
              "      <td>-1</td>\n",
              "      <td>0</td>\n",
              "      <td>0.092389</td>\n",
              "    </tr>\n",
              "    <tr>\n",
              "      <th>...</th>\n",
              "      <td>...</td>\n",
              "      <td>...</td>\n",
              "      <td>...</td>\n",
              "      <td>...</td>\n",
              "      <td>...</td>\n",
              "      <td>...</td>\n",
              "      <td>...</td>\n",
              "      <td>...</td>\n",
              "      <td>...</td>\n",
              "      <td>...</td>\n",
              "      <td>...</td>\n",
              "      <td>...</td>\n",
              "      <td>...</td>\n",
              "      <td>...</td>\n",
              "      <td>...</td>\n",
              "      <td>...</td>\n",
              "    </tr>\n",
              "    <tr>\n",
              "      <th>27741</th>\n",
              "      <td>42</td>\n",
              "      <td>0.140350</td>\n",
              "      <td>0.121343</td>\n",
              "      <td>0.150639</td>\n",
              "      <td>0.1188</td>\n",
              "      <td>266</td>\n",
              "      <td>0.168016</td>\n",
              "      <td>0.065466</td>\n",
              "      <td>0.150156</td>\n",
              "      <td>28</td>\n",
              "      <td>0.097649</td>\n",
              "      <td>228</td>\n",
              "      <td>1</td>\n",
              "      <td>-1</td>\n",
              "      <td>0</td>\n",
              "      <td>0.092389</td>\n",
              "    </tr>\n",
              "    <tr>\n",
              "      <th>28766</th>\n",
              "      <td>56</td>\n",
              "      <td>0.148754</td>\n",
              "      <td>0.101387</td>\n",
              "      <td>0.107148</td>\n",
              "      <td>0.1188</td>\n",
              "      <td>670</td>\n",
              "      <td>0.168016</td>\n",
              "      <td>0.127715</td>\n",
              "      <td>0.150156</td>\n",
              "      <td>30</td>\n",
              "      <td>0.097649</td>\n",
              "      <td>86</td>\n",
              "      <td>1</td>\n",
              "      <td>-1</td>\n",
              "      <td>0</td>\n",
              "      <td>0.092389</td>\n",
              "    </tr>\n",
              "    <tr>\n",
              "      <th>28506</th>\n",
              "      <td>40</td>\n",
              "      <td>0.140350</td>\n",
              "      <td>0.150940</td>\n",
              "      <td>0.150639</td>\n",
              "      <td>0.1188</td>\n",
              "      <td>732</td>\n",
              "      <td>0.168016</td>\n",
              "      <td>0.127715</td>\n",
              "      <td>0.150156</td>\n",
              "      <td>29</td>\n",
              "      <td>0.097649</td>\n",
              "      <td>148</td>\n",
              "      <td>2</td>\n",
              "      <td>-1</td>\n",
              "      <td>0</td>\n",
              "      <td>0.092389</td>\n",
              "    </tr>\n",
              "    <tr>\n",
              "      <th>3283</th>\n",
              "      <td>41</td>\n",
              "      <td>0.091119</td>\n",
              "      <td>0.101387</td>\n",
              "      <td>0.107148</td>\n",
              "      <td>0.1188</td>\n",
              "      <td>957</td>\n",
              "      <td>0.077622</td>\n",
              "      <td>0.127715</td>\n",
              "      <td>0.040274</td>\n",
              "      <td>15</td>\n",
              "      <td>0.066832</td>\n",
              "      <td>326</td>\n",
              "      <td>4</td>\n",
              "      <td>-1</td>\n",
              "      <td>0</td>\n",
              "      <td>0.092389</td>\n",
              "    </tr>\n",
              "    <tr>\n",
              "      <th>42384</th>\n",
              "      <td>66</td>\n",
              "      <td>0.140350</td>\n",
              "      <td>0.101387</td>\n",
              "      <td>0.131811</td>\n",
              "      <td>0.1188</td>\n",
              "      <td>2149</td>\n",
              "      <td>0.077622</td>\n",
              "      <td>0.127715</td>\n",
              "      <td>0.150156</td>\n",
              "      <td>30</td>\n",
              "      <td>0.102413</td>\n",
              "      <td>151</td>\n",
              "      <td>6</td>\n",
              "      <td>103</td>\n",
              "      <td>4</td>\n",
              "      <td>0.157828</td>\n",
              "    </tr>\n",
              "  </tbody>\n",
              "</table>\n",
              "<p>33908 rows × 16 columns</p>\n",
              "</div>\n",
              "    <div class=\"colab-df-buttons\">\n",
              "\n",
              "  <div class=\"colab-df-container\">\n",
              "    <button class=\"colab-df-convert\" onclick=\"convertToInteractive('df-0ffc7b8f-3cb1-4c4a-af6a-6aee32e62906')\"\n",
              "            title=\"Convert this dataframe to an interactive table.\"\n",
              "            style=\"display:none;\">\n",
              "\n",
              "  <svg xmlns=\"http://www.w3.org/2000/svg\" height=\"24px\" viewBox=\"0 -960 960 960\">\n",
              "    <path d=\"M120-120v-720h720v720H120Zm60-500h600v-160H180v160Zm220 220h160v-160H400v160Zm0 220h160v-160H400v160ZM180-400h160v-160H180v160Zm440 0h160v-160H620v160ZM180-180h160v-160H180v160Zm440 0h160v-160H620v160Z\"/>\n",
              "  </svg>\n",
              "    </button>\n",
              "\n",
              "  <style>\n",
              "    .colab-df-container {\n",
              "      display:flex;\n",
              "      gap: 12px;\n",
              "    }\n",
              "\n",
              "    .colab-df-convert {\n",
              "      background-color: #E8F0FE;\n",
              "      border: none;\n",
              "      border-radius: 50%;\n",
              "      cursor: pointer;\n",
              "      display: none;\n",
              "      fill: #1967D2;\n",
              "      height: 32px;\n",
              "      padding: 0 0 0 0;\n",
              "      width: 32px;\n",
              "    }\n",
              "\n",
              "    .colab-df-convert:hover {\n",
              "      background-color: #E2EBFA;\n",
              "      box-shadow: 0px 1px 2px rgba(60, 64, 67, 0.3), 0px 1px 3px 1px rgba(60, 64, 67, 0.15);\n",
              "      fill: #174EA6;\n",
              "    }\n",
              "\n",
              "    .colab-df-buttons div {\n",
              "      margin-bottom: 4px;\n",
              "    }\n",
              "\n",
              "    [theme=dark] .colab-df-convert {\n",
              "      background-color: #3B4455;\n",
              "      fill: #D2E3FC;\n",
              "    }\n",
              "\n",
              "    [theme=dark] .colab-df-convert:hover {\n",
              "      background-color: #434B5C;\n",
              "      box-shadow: 0px 1px 3px 1px rgba(0, 0, 0, 0.15);\n",
              "      filter: drop-shadow(0px 1px 2px rgba(0, 0, 0, 0.3));\n",
              "      fill: #FFFFFF;\n",
              "    }\n",
              "  </style>\n",
              "\n",
              "    <script>\n",
              "      const buttonEl =\n",
              "        document.querySelector('#df-0ffc7b8f-3cb1-4c4a-af6a-6aee32e62906 button.colab-df-convert');\n",
              "      buttonEl.style.display =\n",
              "        google.colab.kernel.accessAllowed ? 'block' : 'none';\n",
              "\n",
              "      async function convertToInteractive(key) {\n",
              "        const element = document.querySelector('#df-0ffc7b8f-3cb1-4c4a-af6a-6aee32e62906');\n",
              "        const dataTable =\n",
              "          await google.colab.kernel.invokeFunction('convertToInteractive',\n",
              "                                                    [key], {});\n",
              "        if (!dataTable) return;\n",
              "\n",
              "        const docLinkHtml = 'Like what you see? Visit the ' +\n",
              "          '<a target=\"_blank\" href=https://colab.research.google.com/notebooks/data_table.ipynb>data table notebook</a>'\n",
              "          + ' to learn more about interactive tables.';\n",
              "        element.innerHTML = '';\n",
              "        dataTable['output_type'] = 'display_data';\n",
              "        await google.colab.output.renderOutput(dataTable, element);\n",
              "        const docLink = document.createElement('div');\n",
              "        docLink.innerHTML = docLinkHtml;\n",
              "        element.appendChild(docLink);\n",
              "      }\n",
              "    </script>\n",
              "  </div>\n",
              "\n",
              "\n",
              "<div id=\"df-9eb03c6e-9b5c-489d-8006-6d7632371e12\">\n",
              "  <button class=\"colab-df-quickchart\" onclick=\"quickchart('df-9eb03c6e-9b5c-489d-8006-6d7632371e12')\"\n",
              "            title=\"Suggest charts\"\n",
              "            style=\"display:none;\">\n",
              "\n",
              "<svg xmlns=\"http://www.w3.org/2000/svg\" height=\"24px\"viewBox=\"0 0 24 24\"\n",
              "     width=\"24px\">\n",
              "    <g>\n",
              "        <path d=\"M19 3H5c-1.1 0-2 .9-2 2v14c0 1.1.9 2 2 2h14c1.1 0 2-.9 2-2V5c0-1.1-.9-2-2-2zM9 17H7v-7h2v7zm4 0h-2V7h2v10zm4 0h-2v-4h2v4z\"/>\n",
              "    </g>\n",
              "</svg>\n",
              "  </button>\n",
              "\n",
              "<style>\n",
              "  .colab-df-quickchart {\n",
              "      --bg-color: #E8F0FE;\n",
              "      --fill-color: #1967D2;\n",
              "      --hover-bg-color: #E2EBFA;\n",
              "      --hover-fill-color: #174EA6;\n",
              "      --disabled-fill-color: #AAA;\n",
              "      --disabled-bg-color: #DDD;\n",
              "  }\n",
              "\n",
              "  [theme=dark] .colab-df-quickchart {\n",
              "      --bg-color: #3B4455;\n",
              "      --fill-color: #D2E3FC;\n",
              "      --hover-bg-color: #434B5C;\n",
              "      --hover-fill-color: #FFFFFF;\n",
              "      --disabled-bg-color: #3B4455;\n",
              "      --disabled-fill-color: #666;\n",
              "  }\n",
              "\n",
              "  .colab-df-quickchart {\n",
              "    background-color: var(--bg-color);\n",
              "    border: none;\n",
              "    border-radius: 50%;\n",
              "    cursor: pointer;\n",
              "    display: none;\n",
              "    fill: var(--fill-color);\n",
              "    height: 32px;\n",
              "    padding: 0;\n",
              "    width: 32px;\n",
              "  }\n",
              "\n",
              "  .colab-df-quickchart:hover {\n",
              "    background-color: var(--hover-bg-color);\n",
              "    box-shadow: 0 1px 2px rgba(60, 64, 67, 0.3), 0 1px 3px 1px rgba(60, 64, 67, 0.15);\n",
              "    fill: var(--button-hover-fill-color);\n",
              "  }\n",
              "\n",
              "  .colab-df-quickchart-complete:disabled,\n",
              "  .colab-df-quickchart-complete:disabled:hover {\n",
              "    background-color: var(--disabled-bg-color);\n",
              "    fill: var(--disabled-fill-color);\n",
              "    box-shadow: none;\n",
              "  }\n",
              "\n",
              "  .colab-df-spinner {\n",
              "    border: 2px solid var(--fill-color);\n",
              "    border-color: transparent;\n",
              "    border-bottom-color: var(--fill-color);\n",
              "    animation:\n",
              "      spin 1s steps(1) infinite;\n",
              "  }\n",
              "\n",
              "  @keyframes spin {\n",
              "    0% {\n",
              "      border-color: transparent;\n",
              "      border-bottom-color: var(--fill-color);\n",
              "      border-left-color: var(--fill-color);\n",
              "    }\n",
              "    20% {\n",
              "      border-color: transparent;\n",
              "      border-left-color: var(--fill-color);\n",
              "      border-top-color: var(--fill-color);\n",
              "    }\n",
              "    30% {\n",
              "      border-color: transparent;\n",
              "      border-left-color: var(--fill-color);\n",
              "      border-top-color: var(--fill-color);\n",
              "      border-right-color: var(--fill-color);\n",
              "    }\n",
              "    40% {\n",
              "      border-color: transparent;\n",
              "      border-right-color: var(--fill-color);\n",
              "      border-top-color: var(--fill-color);\n",
              "    }\n",
              "    60% {\n",
              "      border-color: transparent;\n",
              "      border-right-color: var(--fill-color);\n",
              "    }\n",
              "    80% {\n",
              "      border-color: transparent;\n",
              "      border-right-color: var(--fill-color);\n",
              "      border-bottom-color: var(--fill-color);\n",
              "    }\n",
              "    90% {\n",
              "      border-color: transparent;\n",
              "      border-bottom-color: var(--fill-color);\n",
              "    }\n",
              "  }\n",
              "</style>\n",
              "\n",
              "  <script>\n",
              "    async function quickchart(key) {\n",
              "      const quickchartButtonEl =\n",
              "        document.querySelector('#' + key + ' button');\n",
              "      quickchartButtonEl.disabled = true;  // To prevent multiple clicks.\n",
              "      quickchartButtonEl.classList.add('colab-df-spinner');\n",
              "      try {\n",
              "        const charts = await google.colab.kernel.invokeFunction(\n",
              "            'suggestCharts', [key], {});\n",
              "      } catch (error) {\n",
              "        console.error('Error during call to suggestCharts:', error);\n",
              "      }\n",
              "      quickchartButtonEl.classList.remove('colab-df-spinner');\n",
              "      quickchartButtonEl.classList.add('colab-df-quickchart-complete');\n",
              "    }\n",
              "    (() => {\n",
              "      let quickchartButtonEl =\n",
              "        document.querySelector('#df-9eb03c6e-9b5c-489d-8006-6d7632371e12 button');\n",
              "      quickchartButtonEl.style.display =\n",
              "        google.colab.kernel.accessAllowed ? 'block' : 'none';\n",
              "    })();\n",
              "  </script>\n",
              "</div>\n",
              "    </div>\n",
              "  </div>\n"
            ],
            "application/vnd.google.colaboratory.intrinsic+json": {
              "type": "dataframe",
              "variable_name": "X_train",
              "summary": "{\n  \"name\": \"X_train\",\n  \"rows\": 33908,\n  \"fields\": [\n    {\n      \"column\": \"age\",\n      \"properties\": {\n        \"dtype\": \"number\",\n        \"std\": 10,\n        \"min\": 18,\n        \"max\": 95,\n        \"num_unique_values\": 76,\n        \"samples\": [\n          58,\n          24,\n          44\n        ],\n        \"semantic_type\": \"\",\n        \"description\": \"\"\n      }\n    },\n    {\n      \"column\": \"job\",\n      \"properties\": {\n        \"dtype\": \"number\",\n        \"std\": 0.043825873939023326,\n        \"min\": 0.07311285074444666,\n        \"max\": 0.2878952056947256,\n        \"num_unique_values\": 12,\n        \"samples\": [\n          0.2878952056947256,\n          0.148753994780142,\n          0.0911188174691842\n        ],\n        \"semantic_type\": \"\",\n        \"description\": \"\"\n      }\n    },\n    {\n      \"column\": \"marital\",\n      \"properties\": {\n        \"dtype\": \"number\",\n        \"std\": 0.021779923964774673,\n        \"min\": 0.10138689885579197,\n        \"max\": 0.15093993129430483,\n        \"num_unique_values\": 3,\n        \"samples\": [\n          0.10138689885579197,\n          0.12134334466210835,\n          0.15093993129430483\n        ],\n        \"semantic_type\": \"\",\n        \"description\": \"\"\n      }\n    },\n    {\n      \"column\": \"education\",\n      \"properties\": {\n        \"dtype\": \"number\",\n        \"std\": 0.023233287126142522,\n        \"min\": 0.08563137691840102,\n        \"max\": 0.15063900660688012,\n        \"num_unique_values\": 4,\n        \"samples\": [\n          0.08563137691840102,\n          0.13181140285946208,\n          0.10714756711883498\n        ],\n        \"semantic_type\": \"\",\n        \"description\": \"\"\n      }\n    },\n    {\n      \"column\": \"default\",\n      \"properties\": {\n        \"dtype\": \"number\",\n        \"std\": 0.008178434047518484,\n        \"min\": 0.056768221027554834,\n        \"max\": 0.11880025521143116,\n        \"num_unique_values\": 2,\n        \"samples\": [\n          0.056768221027554834,\n          0.11880025521143116\n        ],\n        \"semantic_type\": \"\",\n        \"description\": \"\"\n      }\n    },\n    {\n      \"column\": \"balance\",\n      \"properties\": {\n        \"dtype\": \"number\",\n        \"std\": 2974,\n        \"min\": -8019,\n        \"max\": 102127,\n        \"num_unique_values\": 6406,\n        \"samples\": [\n          17458,\n          4855\n        ],\n        \"semantic_type\": \"\",\n        \"description\": \"\"\n      }\n    },\n    {\n      \"column\": \"housing\",\n      \"properties\": {\n        \"dtype\": \"number\",\n        \"std\": 0.04490674170188136,\n        \"min\": 0.07762212984569856,\n        \"max\": 0.16801580983289394,\n        \"num_unique_values\": 2,\n        \"samples\": [\n          0.16801580983289394,\n          0.07762212984569856\n        ],\n        \"semantic_type\": \"\",\n        \"description\": \"\"\n      }\n    },\n    {\n      \"column\": \"loan\",\n      \"properties\": {\n        \"dtype\": \"number\",\n        \"std\": 0.022869774681827094,\n        \"min\": 0.06546612297663804,\n        \"max\": 0.12771455634642628,\n        \"num_unique_values\": 2,\n        \"samples\": [\n          0.06546612297663804,\n          0.12771455634642628\n        ],\n        \"semantic_type\": \"\",\n        \"description\": \"\"\n      }\n    },\n    {\n      \"column\": \"contact\",\n      \"properties\": {\n        \"dtype\": \"number\",\n        \"std\": 0.04932231892891856,\n        \"min\": 0.040274326486790336,\n        \"max\": 0.15015564718269242,\n        \"num_unique_values\": 3,\n        \"samples\": [\n          0.040274326486790336,\n          0.15015564718269242\n        ],\n        \"semantic_type\": \"\",\n        \"description\": \"\"\n      }\n    },\n    {\n      \"column\": \"day\",\n      \"properties\": {\n        \"dtype\": \"number\",\n        \"std\": 8,\n        \"min\": 1,\n        \"max\": 31,\n        \"num_unique_values\": 31,\n        \"samples\": [\n          11,\n          17\n        ],\n        \"semantic_type\": \"\",\n        \"description\": \"\"\n      }\n    },\n    {\n      \"column\": \"month\",\n      \"properties\": {\n        \"dtype\": \"number\",\n        \"std\": 0.08593905380415875,\n        \"min\": 0.06683229204874752,\n        \"max\": 0.5332903869163749,\n        \"num_unique_values\": 12,\n        \"samples\": [\n          0.4423449064551994,\n          0.5332903869163749\n        ],\n        \"semantic_type\": \"\",\n        \"description\": \"\"\n      }\n    },\n    {\n      \"column\": \"duration\",\n      \"properties\": {\n        \"dtype\": \"number\",\n        \"std\": 256,\n        \"min\": 0,\n        \"max\": 3881,\n        \"num_unique_values\": 1470,\n        \"samples\": [\n          1353,\n          184\n        ],\n        \"semantic_type\": \"\",\n        \"description\": \"\"\n      }\n    },\n    {\n      \"column\": \"campaign\",\n      \"properties\": {\n        \"dtype\": \"number\",\n        \"std\": 3,\n        \"min\": 1,\n        \"max\": 63,\n        \"num_unique_values\": 47,\n        \"samples\": [\n          30,\n          43\n        ],\n        \"semantic_type\": \"\",\n        \"description\": \"\"\n      }\n    },\n    {\n      \"column\": \"pdays\",\n      \"properties\": {\n        \"dtype\": \"number\",\n        \"std\": 100,\n        \"min\": -1,\n        \"max\": 871,\n        \"num_unique_values\": 521,\n        \"samples\": [\n          24,\n          265\n        ],\n        \"semantic_type\": \"\",\n        \"description\": \"\"\n      }\n    },\n    {\n      \"column\": \"previous\",\n      \"properties\": {\n        \"dtype\": \"number\",\n        \"std\": 2,\n        \"min\": 0,\n        \"max\": 275,\n        \"num_unique_values\": 39,\n        \"samples\": [\n          25,\n          32\n        ],\n        \"semantic_type\": \"\",\n        \"description\": \"\"\n      }\n    },\n    {\n      \"column\": \"poutcome\",\n      \"properties\": {\n        \"dtype\": \"number\",\n        \"std\": 0.10286218830598196,\n        \"min\": 0.09238868329914918,\n        \"max\": 0.6562170238131398,\n        \"num_unique_values\": 4,\n        \"samples\": [\n          0.15782848025521803,\n          0.6562170238131398\n        ],\n        \"semantic_type\": \"\",\n        \"description\": \"\"\n      }\n    }\n  ]\n}"
            }
          },
          "metadata": {},
          "execution_count": 97
        }
      ]
    },
    {
      "cell_type": "code",
      "source": [
        "print(\"training dataset shape:\",X_train.shape)\n",
        "print(\"test dataset shape:\",X_test.shape)"
      ],
      "metadata": {
        "colab": {
          "base_uri": "https://localhost:8080/"
        },
        "id": "UcoLpNM_3JUE",
        "outputId": "e4ae3623-783a-40bb-d4ac-1f38ff272749"
      },
      "execution_count": null,
      "outputs": [
        {
          "output_type": "stream",
          "name": "stdout",
          "text": [
            "training dataset shape: (33908, 16)\n",
            "test dataset shape: (11303, 16)\n"
          ]
        }
      ]
    },
    {
      "cell_type": "markdown",
      "source": [
        "## Isolation Foreset\n",
        "\n",
        "An Isolation Forest is an unsupervised model which can output a score of outlierness for each individual of your dataset.\n",
        "\n",
        "It returns the anomaly score of each sample using the IsolationForest algorithm\n"
      ],
      "metadata": {
        "id": "00WRJ9U50Zax"
      }
    },
    {
      "cell_type": "markdown",
      "source": [
        "\n",
        "**Identify outliers in the dataset**"
      ],
      "metadata": {
        "id": "VUr-buFV0wc7"
      }
    },
    {
      "cell_type": "code",
      "source": [
        "#The number of base estimators in the ensemble = 100\n",
        "iforest = IsolationForest(n_estimators = 100).fit(X_train)\n",
        "iforest_scores_test = pd.Series(-iforest.score_samples(X_test), index=X_test.index)\n",
        "print(\"Anomoly scores for the labels in the test set:\\n\",iforest_scores_test)"
      ],
      "metadata": {
        "colab": {
          "base_uri": "https://localhost:8080/"
        },
        "id": "_ubMXp570yfX",
        "outputId": "c28f1441-9525-4850-c4c8-9ef264016f2d"
      },
      "execution_count": null,
      "outputs": [
        {
          "output_type": "stream",
          "name": "stdout",
          "text": [
            "Anomoly scores for the labels in the test set:\n",
            " 7271     0.440137\n",
            "16464    0.416009\n",
            "13851    0.392002\n",
            "19801    0.506893\n",
            "34486    0.405333\n",
            "           ...   \n",
            "17408    0.478395\n",
            "8513     0.505557\n",
            "44506    0.513487\n",
            "7696     0.422964\n",
            "10502    0.428757\n",
            "Length: 11303, dtype: float64\n"
          ]
        }
      ]
    },
    {
      "cell_type": "markdown",
      "source": [
        "## LGB Classifier (Light Gradient Boosting Model)\n",
        "\n",
        "LGB uses decision tree algorithms for ranking, classification, and other machine-learning tasks"
      ],
      "metadata": {
        "id": "4fqkJpj864DR"
      }
    },
    {
      "cell_type": "code",
      "source": [
        "model = LGBMClassifier(verbose=-1).fit(X_train, y_train)\n",
        "pred_test = pd.Series(model.predict_proba(X_test)[:,1], index=X_test.index)\n",
        "predictions = model.predict(X_test)\n",
        "print(classification_report(y_test, predictions))"
      ],
      "metadata": {
        "colab": {
          "base_uri": "https://localhost:8080/"
        },
        "id": "3nVx_gx98aIu",
        "outputId": "28c924dd-326e-4c0b-e27e-eca41899f8ca"
      },
      "execution_count": null,
      "outputs": [
        {
          "output_type": "stream",
          "name": "stdout",
          "text": [
            "              precision    recall  f1-score   support\n",
            "\n",
            "           0       0.93      0.96      0.95     10005\n",
            "           1       0.62      0.48      0.54      1298\n",
            "\n",
            "    accuracy                           0.91     11303\n",
            "   macro avg       0.78      0.72      0.74     11303\n",
            "weighted avg       0.90      0.91      0.90     11303\n",
            "\n"
          ]
        }
      ]
    },
    {
      "cell_type": "markdown",
      "source": [
        "## Log_loss\n",
        "\n",
        "Log-loss is one of the major metrics to assess the performance of a classification problem.<br>\n",
        "\n",
        ">\"Log-loss is indicative of how close the prediction probability is to the corresponding actual/true value (0 or 1 in case of binary classification). The more the predicted probability diverges from the actual value, the higher is the log-loss value.\"\n",
        "\n"
      ],
      "metadata": {
        "id": "32TH2erY9g_0"
      }
    },
    {
      "cell_type": "markdown",
      "source": [
        "**What is log-loss?**<br>\n",
        "\n",
        "A binary classification algorithm first predicts probability of a record to be classified under class 1 and then classifies the data point (record) under one of the two classes (1 or 0) based on whether the probability crossed a threshold value, which is usually set at 0.5 by default.<br>\n",
        "\n",
        "![picture](https://github.com/cagBRT/Data/blob/main/images/logLoss.png?raw=1)<br>\n",
        "\n",
        "Before predicting the class of the record, the model has to predict the probability of the record to be classified under class 1. Remember that it is this prediction probability of a data record that the log-loss value is dependent on."
      ],
      "metadata": {
        "id": "TEOe5EYx9-t1"
      }
    },
    {
      "cell_type": "code",
      "source": [
        "logloss_test = individual_log_loss(y_test, pred_test)\n",
        "print(logloss_test)\n",
        "#Each label with the probability of the record being classified as class 1"
      ],
      "metadata": {
        "id": "ANbPXg0bLp0K",
        "colab": {
          "base_uri": "https://localhost:8080/"
        },
        "outputId": "afeee162-c701-44aa-8569-97aaf4f563ab"
      },
      "execution_count": null,
      "outputs": [
        {
          "output_type": "stream",
          "name": "stdout",
          "text": [
            "7271     0.740970\n",
            "16464    0.004621\n",
            "13851    0.013229\n",
            "19801    0.016297\n",
            "34486    0.005717\n",
            "           ...   \n",
            "17408    0.001098\n",
            "8513     0.001432\n",
            "44506    0.201313\n",
            "7696     0.003200\n",
            "10502    0.006517\n",
            "Length: 11303, dtype: float64\n"
          ]
        }
      ]
    },
    {
      "cell_type": "markdown",
      "source": [
        "**Find the highest anomoly score**\n",
        "1. Take the anomoly scores and sort them in asending order\n",
        "2. id will equal the highest anomoly score"
      ],
      "metadata": {
        "id": "5C9iy0K3A5W3"
      }
    },
    {
      "cell_type": "code",
      "source": [
        "id = iforest_scores_test.sort_values().tail(1).index[0]\n",
        "id"
      ],
      "metadata": {
        "colab": {
          "base_uri": "https://localhost:8080/"
        },
        "id": "oWunSGf7Ly2U",
        "outputId": "9412852a-fdbf-41c0-a709-a18848fc0f4f"
      },
      "execution_count": null,
      "outputs": [
        {
          "output_type": "execute_result",
          "data": {
            "text/plain": [
              "43342"
            ]
          },
          "metadata": {},
          "execution_count": 111
        }
      ]
    },
    {
      "cell_type": "markdown",
      "source": [],
      "metadata": {
        "id": "qjADs1ZNBOzC"
      }
    },
    {
      "cell_type": "code",
      "source": [
        "x = X_train.apply(lambda col: percentileofscore(col, X_test.loc[id, col.name])).sort_values(\n",
        "    key=lambda x: np.abs(50-x), ascending=False).rename(\"quantile\") / 100\n",
        "\n",
        "print(\"Column name   score\")\n",
        "print(x)"
      ],
      "metadata": {
        "colab": {
          "base_uri": "https://localhost:8080/"
        },
        "id": "hLVnjcQTBOPX",
        "outputId": "2690142d-318f-4413-955e-0ca353414a7b"
      },
      "execution_count": null,
      "outputs": [
        {
          "output_type": "stream",
          "name": "stdout",
          "text": [
            "Column name   score\n",
            "previous     0.999558\n",
            "month        0.994662\n",
            "poutcome     0.982792\n",
            "balance      0.962384\n",
            "age          0.057258\n",
            "pdays        0.917438\n",
            "marital      0.858558\n",
            "education    0.853088\n",
            "job          0.794311\n",
            "housing      0.778327\n",
            "day          0.764362\n",
            "contact      0.320160\n",
            "loan         0.580438\n",
            "campaign     0.527457\n",
            "duration     0.481524\n",
            "default      0.508862\n",
            "Name: quantile, dtype: float64\n"
          ]
        }
      ]
    },
    {
      "cell_type": "code",
      "source": [
        "out = pd.concat([\n",
        "    X.loc[id, x.index].rename(\"original data\"),\n",
        "    x\n",
        "], axis=1).round(2)\n",
        "\n",
        "out[(out[\"quantile\"] > .95) | (out[\"quantile\"] < .05)]\n",
        "out"
      ],
      "metadata": {
        "colab": {
          "base_uri": "https://localhost:8080/",
          "height": 551
        },
        "id": "uKHCMHmmAVuF",
        "outputId": "c01a5d6f-ade6-467d-f800-533e76e72ff7"
      },
      "execution_count": null,
      "outputs": [
        {
          "output_type": "execute_result",
          "data": {
            "text/plain": [
              "          original data  quantile\n",
              "previous             28      1.00\n",
              "month               mar      0.99\n",
              "poutcome        success      0.98\n",
              "balance            6791      0.96\n",
              "age                  27      0.06\n",
              "pdays               229      0.92\n",
              "marital          single      0.86\n",
              "education      tertiary      0.85\n",
              "job          management      0.79\n",
              "housing              no      0.78\n",
              "day                  22      0.76\n",
              "contact       telephone      0.32\n",
              "loan                 no      0.58\n",
              "campaign              2      0.53\n",
              "duration            174      0.48\n",
              "default              no      0.51"
            ],
            "text/html": [
              "\n",
              "  <div id=\"df-68db826c-58b6-4685-b31f-544acd104298\" class=\"colab-df-container\">\n",
              "    <div>\n",
              "<style scoped>\n",
              "    .dataframe tbody tr th:only-of-type {\n",
              "        vertical-align: middle;\n",
              "    }\n",
              "\n",
              "    .dataframe tbody tr th {\n",
              "        vertical-align: top;\n",
              "    }\n",
              "\n",
              "    .dataframe thead th {\n",
              "        text-align: right;\n",
              "    }\n",
              "</style>\n",
              "<table border=\"1\" class=\"dataframe\">\n",
              "  <thead>\n",
              "    <tr style=\"text-align: right;\">\n",
              "      <th></th>\n",
              "      <th>original data</th>\n",
              "      <th>quantile</th>\n",
              "    </tr>\n",
              "  </thead>\n",
              "  <tbody>\n",
              "    <tr>\n",
              "      <th>previous</th>\n",
              "      <td>28</td>\n",
              "      <td>1.00</td>\n",
              "    </tr>\n",
              "    <tr>\n",
              "      <th>month</th>\n",
              "      <td>mar</td>\n",
              "      <td>0.99</td>\n",
              "    </tr>\n",
              "    <tr>\n",
              "      <th>poutcome</th>\n",
              "      <td>success</td>\n",
              "      <td>0.98</td>\n",
              "    </tr>\n",
              "    <tr>\n",
              "      <th>balance</th>\n",
              "      <td>6791</td>\n",
              "      <td>0.96</td>\n",
              "    </tr>\n",
              "    <tr>\n",
              "      <th>age</th>\n",
              "      <td>27</td>\n",
              "      <td>0.06</td>\n",
              "    </tr>\n",
              "    <tr>\n",
              "      <th>pdays</th>\n",
              "      <td>229</td>\n",
              "      <td>0.92</td>\n",
              "    </tr>\n",
              "    <tr>\n",
              "      <th>marital</th>\n",
              "      <td>single</td>\n",
              "      <td>0.86</td>\n",
              "    </tr>\n",
              "    <tr>\n",
              "      <th>education</th>\n",
              "      <td>tertiary</td>\n",
              "      <td>0.85</td>\n",
              "    </tr>\n",
              "    <tr>\n",
              "      <th>job</th>\n",
              "      <td>management</td>\n",
              "      <td>0.79</td>\n",
              "    </tr>\n",
              "    <tr>\n",
              "      <th>housing</th>\n",
              "      <td>no</td>\n",
              "      <td>0.78</td>\n",
              "    </tr>\n",
              "    <tr>\n",
              "      <th>day</th>\n",
              "      <td>22</td>\n",
              "      <td>0.76</td>\n",
              "    </tr>\n",
              "    <tr>\n",
              "      <th>contact</th>\n",
              "      <td>telephone</td>\n",
              "      <td>0.32</td>\n",
              "    </tr>\n",
              "    <tr>\n",
              "      <th>loan</th>\n",
              "      <td>no</td>\n",
              "      <td>0.58</td>\n",
              "    </tr>\n",
              "    <tr>\n",
              "      <th>campaign</th>\n",
              "      <td>2</td>\n",
              "      <td>0.53</td>\n",
              "    </tr>\n",
              "    <tr>\n",
              "      <th>duration</th>\n",
              "      <td>174</td>\n",
              "      <td>0.48</td>\n",
              "    </tr>\n",
              "    <tr>\n",
              "      <th>default</th>\n",
              "      <td>no</td>\n",
              "      <td>0.51</td>\n",
              "    </tr>\n",
              "  </tbody>\n",
              "</table>\n",
              "</div>\n",
              "    <div class=\"colab-df-buttons\">\n",
              "\n",
              "  <div class=\"colab-df-container\">\n",
              "    <button class=\"colab-df-convert\" onclick=\"convertToInteractive('df-68db826c-58b6-4685-b31f-544acd104298')\"\n",
              "            title=\"Convert this dataframe to an interactive table.\"\n",
              "            style=\"display:none;\">\n",
              "\n",
              "  <svg xmlns=\"http://www.w3.org/2000/svg\" height=\"24px\" viewBox=\"0 -960 960 960\">\n",
              "    <path d=\"M120-120v-720h720v720H120Zm60-500h600v-160H180v160Zm220 220h160v-160H400v160Zm0 220h160v-160H400v160ZM180-400h160v-160H180v160Zm440 0h160v-160H620v160ZM180-180h160v-160H180v160Zm440 0h160v-160H620v160Z\"/>\n",
              "  </svg>\n",
              "    </button>\n",
              "\n",
              "  <style>\n",
              "    .colab-df-container {\n",
              "      display:flex;\n",
              "      gap: 12px;\n",
              "    }\n",
              "\n",
              "    .colab-df-convert {\n",
              "      background-color: #E8F0FE;\n",
              "      border: none;\n",
              "      border-radius: 50%;\n",
              "      cursor: pointer;\n",
              "      display: none;\n",
              "      fill: #1967D2;\n",
              "      height: 32px;\n",
              "      padding: 0 0 0 0;\n",
              "      width: 32px;\n",
              "    }\n",
              "\n",
              "    .colab-df-convert:hover {\n",
              "      background-color: #E2EBFA;\n",
              "      box-shadow: 0px 1px 2px rgba(60, 64, 67, 0.3), 0px 1px 3px 1px rgba(60, 64, 67, 0.15);\n",
              "      fill: #174EA6;\n",
              "    }\n",
              "\n",
              "    .colab-df-buttons div {\n",
              "      margin-bottom: 4px;\n",
              "    }\n",
              "\n",
              "    [theme=dark] .colab-df-convert {\n",
              "      background-color: #3B4455;\n",
              "      fill: #D2E3FC;\n",
              "    }\n",
              "\n",
              "    [theme=dark] .colab-df-convert:hover {\n",
              "      background-color: #434B5C;\n",
              "      box-shadow: 0px 1px 3px 1px rgba(0, 0, 0, 0.15);\n",
              "      filter: drop-shadow(0px 1px 2px rgba(0, 0, 0, 0.3));\n",
              "      fill: #FFFFFF;\n",
              "    }\n",
              "  </style>\n",
              "\n",
              "    <script>\n",
              "      const buttonEl =\n",
              "        document.querySelector('#df-68db826c-58b6-4685-b31f-544acd104298 button.colab-df-convert');\n",
              "      buttonEl.style.display =\n",
              "        google.colab.kernel.accessAllowed ? 'block' : 'none';\n",
              "\n",
              "      async function convertToInteractive(key) {\n",
              "        const element = document.querySelector('#df-68db826c-58b6-4685-b31f-544acd104298');\n",
              "        const dataTable =\n",
              "          await google.colab.kernel.invokeFunction('convertToInteractive',\n",
              "                                                    [key], {});\n",
              "        if (!dataTable) return;\n",
              "\n",
              "        const docLinkHtml = 'Like what you see? Visit the ' +\n",
              "          '<a target=\"_blank\" href=https://colab.research.google.com/notebooks/data_table.ipynb>data table notebook</a>'\n",
              "          + ' to learn more about interactive tables.';\n",
              "        element.innerHTML = '';\n",
              "        dataTable['output_type'] = 'display_data';\n",
              "        await google.colab.output.renderOutput(dataTable, element);\n",
              "        const docLink = document.createElement('div');\n",
              "        docLink.innerHTML = docLinkHtml;\n",
              "        element.appendChild(docLink);\n",
              "      }\n",
              "    </script>\n",
              "  </div>\n",
              "\n",
              "\n",
              "<div id=\"df-dfbd184b-f1fd-499e-886b-4a0b1e502eb9\">\n",
              "  <button class=\"colab-df-quickchart\" onclick=\"quickchart('df-dfbd184b-f1fd-499e-886b-4a0b1e502eb9')\"\n",
              "            title=\"Suggest charts\"\n",
              "            style=\"display:none;\">\n",
              "\n",
              "<svg xmlns=\"http://www.w3.org/2000/svg\" height=\"24px\"viewBox=\"0 0 24 24\"\n",
              "     width=\"24px\">\n",
              "    <g>\n",
              "        <path d=\"M19 3H5c-1.1 0-2 .9-2 2v14c0 1.1.9 2 2 2h14c1.1 0 2-.9 2-2V5c0-1.1-.9-2-2-2zM9 17H7v-7h2v7zm4 0h-2V7h2v10zm4 0h-2v-4h2v4z\"/>\n",
              "    </g>\n",
              "</svg>\n",
              "  </button>\n",
              "\n",
              "<style>\n",
              "  .colab-df-quickchart {\n",
              "      --bg-color: #E8F0FE;\n",
              "      --fill-color: #1967D2;\n",
              "      --hover-bg-color: #E2EBFA;\n",
              "      --hover-fill-color: #174EA6;\n",
              "      --disabled-fill-color: #AAA;\n",
              "      --disabled-bg-color: #DDD;\n",
              "  }\n",
              "\n",
              "  [theme=dark] .colab-df-quickchart {\n",
              "      --bg-color: #3B4455;\n",
              "      --fill-color: #D2E3FC;\n",
              "      --hover-bg-color: #434B5C;\n",
              "      --hover-fill-color: #FFFFFF;\n",
              "      --disabled-bg-color: #3B4455;\n",
              "      --disabled-fill-color: #666;\n",
              "  }\n",
              "\n",
              "  .colab-df-quickchart {\n",
              "    background-color: var(--bg-color);\n",
              "    border: none;\n",
              "    border-radius: 50%;\n",
              "    cursor: pointer;\n",
              "    display: none;\n",
              "    fill: var(--fill-color);\n",
              "    height: 32px;\n",
              "    padding: 0;\n",
              "    width: 32px;\n",
              "  }\n",
              "\n",
              "  .colab-df-quickchart:hover {\n",
              "    background-color: var(--hover-bg-color);\n",
              "    box-shadow: 0 1px 2px rgba(60, 64, 67, 0.3), 0 1px 3px 1px rgba(60, 64, 67, 0.15);\n",
              "    fill: var(--button-hover-fill-color);\n",
              "  }\n",
              "\n",
              "  .colab-df-quickchart-complete:disabled,\n",
              "  .colab-df-quickchart-complete:disabled:hover {\n",
              "    background-color: var(--disabled-bg-color);\n",
              "    fill: var(--disabled-fill-color);\n",
              "    box-shadow: none;\n",
              "  }\n",
              "\n",
              "  .colab-df-spinner {\n",
              "    border: 2px solid var(--fill-color);\n",
              "    border-color: transparent;\n",
              "    border-bottom-color: var(--fill-color);\n",
              "    animation:\n",
              "      spin 1s steps(1) infinite;\n",
              "  }\n",
              "\n",
              "  @keyframes spin {\n",
              "    0% {\n",
              "      border-color: transparent;\n",
              "      border-bottom-color: var(--fill-color);\n",
              "      border-left-color: var(--fill-color);\n",
              "    }\n",
              "    20% {\n",
              "      border-color: transparent;\n",
              "      border-left-color: var(--fill-color);\n",
              "      border-top-color: var(--fill-color);\n",
              "    }\n",
              "    30% {\n",
              "      border-color: transparent;\n",
              "      border-left-color: var(--fill-color);\n",
              "      border-top-color: var(--fill-color);\n",
              "      border-right-color: var(--fill-color);\n",
              "    }\n",
              "    40% {\n",
              "      border-color: transparent;\n",
              "      border-right-color: var(--fill-color);\n",
              "      border-top-color: var(--fill-color);\n",
              "    }\n",
              "    60% {\n",
              "      border-color: transparent;\n",
              "      border-right-color: var(--fill-color);\n",
              "    }\n",
              "    80% {\n",
              "      border-color: transparent;\n",
              "      border-right-color: var(--fill-color);\n",
              "      border-bottom-color: var(--fill-color);\n",
              "    }\n",
              "    90% {\n",
              "      border-color: transparent;\n",
              "      border-bottom-color: var(--fill-color);\n",
              "    }\n",
              "  }\n",
              "</style>\n",
              "\n",
              "  <script>\n",
              "    async function quickchart(key) {\n",
              "      const quickchartButtonEl =\n",
              "        document.querySelector('#' + key + ' button');\n",
              "      quickchartButtonEl.disabled = true;  // To prevent multiple clicks.\n",
              "      quickchartButtonEl.classList.add('colab-df-spinner');\n",
              "      try {\n",
              "        const charts = await google.colab.kernel.invokeFunction(\n",
              "            'suggestCharts', [key], {});\n",
              "      } catch (error) {\n",
              "        console.error('Error during call to suggestCharts:', error);\n",
              "      }\n",
              "      quickchartButtonEl.classList.remove('colab-df-spinner');\n",
              "      quickchartButtonEl.classList.add('colab-df-quickchart-complete');\n",
              "    }\n",
              "    (() => {\n",
              "      let quickchartButtonEl =\n",
              "        document.querySelector('#df-dfbd184b-f1fd-499e-886b-4a0b1e502eb9 button');\n",
              "      quickchartButtonEl.style.display =\n",
              "        google.colab.kernel.accessAllowed ? 'block' : 'none';\n",
              "    })();\n",
              "  </script>\n",
              "</div>\n",
              "    </div>\n",
              "  </div>\n"
            ],
            "application/vnd.google.colaboratory.intrinsic+json": {
              "type": "dataframe",
              "variable_name": "out",
              "summary": "{\n  \"name\": \"out\",\n  \"rows\": 16,\n  \"fields\": [\n    {\n      \"column\": \"original data\",\n      \"properties\": {\n        \"dtype\": \"string\",\n        \"num_unique_values\": 14,\n        \"samples\": [\n          \"no\",\n          \"telephone\",\n          \"28\"\n        ],\n        \"semantic_type\": \"\",\n        \"description\": \"\"\n      }\n    },\n    {\n      \"column\": \"quantile\",\n      \"properties\": {\n        \"dtype\": \"number\",\n        \"std\": 0.27260395570619783,\n        \"min\": 0.06,\n        \"max\": 1.0,\n        \"num_unique_values\": 16,\n        \"samples\": [\n          1.0,\n          0.99,\n          0.92\n        ],\n        \"semantic_type\": \"\",\n        \"description\": \"\"\n      }\n    }\n  ]\n}"
            }
          },
          "metadata": {},
          "execution_count": 120
        }
      ]
    },
    {
      "cell_type": "code",
      "source": [
        "#The max iforest_scores_test\n",
        "print(\"this is the max outlierness scoure: \",iforest_scores_test.max())"
      ],
      "metadata": {
        "colab": {
          "base_uri": "https://localhost:8080/"
        },
        "id": "HFcZ9AUoQyFF",
        "outputId": "3a7281ae-23f4-4302-c562-ddf9cb08ae9a"
      },
      "execution_count": null,
      "outputs": [
        {
          "output_type": "stream",
          "name": "stdout",
          "text": [
            "this is the max outlierness scoure:  0.6516160198304972\n"
          ]
        }
      ]
    },
    {
      "cell_type": "code",
      "source": [
        "final=pd.concat([iforest_scores_test.rename(\"outlierness_test\"),\n",
        "           logloss_test.rename(\"logloss_test\")], axis=1)\n",
        "final"
      ],
      "metadata": {
        "colab": {
          "base_uri": "https://localhost:8080/",
          "height": 424
        },
        "id": "d9VOxO9CL25i",
        "outputId": "33dcd346-8649-4d4b-bfea-bcd81a4a15d5"
      },
      "execution_count": null,
      "outputs": [
        {
          "output_type": "execute_result",
          "data": {
            "text/plain": [
              "       outlierness_test  logloss_test\n",
              "7271           0.440137      0.740970\n",
              "16464          0.416009      0.004621\n",
              "13851          0.392002      0.013229\n",
              "19801          0.506893      0.016297\n",
              "34486          0.405333      0.005717\n",
              "...                 ...           ...\n",
              "17408          0.478395      0.001098\n",
              "8513           0.505557      0.001432\n",
              "44506          0.513487      0.201313\n",
              "7696           0.422964      0.003200\n",
              "10502          0.428757      0.006517\n",
              "\n",
              "[11303 rows x 2 columns]"
            ],
            "text/html": [
              "\n",
              "  <div id=\"df-06c9fbe2-c7c2-4790-933d-b25fcc7725a3\" class=\"colab-df-container\">\n",
              "    <div>\n",
              "<style scoped>\n",
              "    .dataframe tbody tr th:only-of-type {\n",
              "        vertical-align: middle;\n",
              "    }\n",
              "\n",
              "    .dataframe tbody tr th {\n",
              "        vertical-align: top;\n",
              "    }\n",
              "\n",
              "    .dataframe thead th {\n",
              "        text-align: right;\n",
              "    }\n",
              "</style>\n",
              "<table border=\"1\" class=\"dataframe\">\n",
              "  <thead>\n",
              "    <tr style=\"text-align: right;\">\n",
              "      <th></th>\n",
              "      <th>outlierness_test</th>\n",
              "      <th>logloss_test</th>\n",
              "    </tr>\n",
              "  </thead>\n",
              "  <tbody>\n",
              "    <tr>\n",
              "      <th>7271</th>\n",
              "      <td>0.440137</td>\n",
              "      <td>0.740970</td>\n",
              "    </tr>\n",
              "    <tr>\n",
              "      <th>16464</th>\n",
              "      <td>0.416009</td>\n",
              "      <td>0.004621</td>\n",
              "    </tr>\n",
              "    <tr>\n",
              "      <th>13851</th>\n",
              "      <td>0.392002</td>\n",
              "      <td>0.013229</td>\n",
              "    </tr>\n",
              "    <tr>\n",
              "      <th>19801</th>\n",
              "      <td>0.506893</td>\n",
              "      <td>0.016297</td>\n",
              "    </tr>\n",
              "    <tr>\n",
              "      <th>34486</th>\n",
              "      <td>0.405333</td>\n",
              "      <td>0.005717</td>\n",
              "    </tr>\n",
              "    <tr>\n",
              "      <th>...</th>\n",
              "      <td>...</td>\n",
              "      <td>...</td>\n",
              "    </tr>\n",
              "    <tr>\n",
              "      <th>17408</th>\n",
              "      <td>0.478395</td>\n",
              "      <td>0.001098</td>\n",
              "    </tr>\n",
              "    <tr>\n",
              "      <th>8513</th>\n",
              "      <td>0.505557</td>\n",
              "      <td>0.001432</td>\n",
              "    </tr>\n",
              "    <tr>\n",
              "      <th>44506</th>\n",
              "      <td>0.513487</td>\n",
              "      <td>0.201313</td>\n",
              "    </tr>\n",
              "    <tr>\n",
              "      <th>7696</th>\n",
              "      <td>0.422964</td>\n",
              "      <td>0.003200</td>\n",
              "    </tr>\n",
              "    <tr>\n",
              "      <th>10502</th>\n",
              "      <td>0.428757</td>\n",
              "      <td>0.006517</td>\n",
              "    </tr>\n",
              "  </tbody>\n",
              "</table>\n",
              "<p>11303 rows × 2 columns</p>\n",
              "</div>\n",
              "    <div class=\"colab-df-buttons\">\n",
              "\n",
              "  <div class=\"colab-df-container\">\n",
              "    <button class=\"colab-df-convert\" onclick=\"convertToInteractive('df-06c9fbe2-c7c2-4790-933d-b25fcc7725a3')\"\n",
              "            title=\"Convert this dataframe to an interactive table.\"\n",
              "            style=\"display:none;\">\n",
              "\n",
              "  <svg xmlns=\"http://www.w3.org/2000/svg\" height=\"24px\" viewBox=\"0 -960 960 960\">\n",
              "    <path d=\"M120-120v-720h720v720H120Zm60-500h600v-160H180v160Zm220 220h160v-160H400v160Zm0 220h160v-160H400v160ZM180-400h160v-160H180v160Zm440 0h160v-160H620v160ZM180-180h160v-160H180v160Zm440 0h160v-160H620v160Z\"/>\n",
              "  </svg>\n",
              "    </button>\n",
              "\n",
              "  <style>\n",
              "    .colab-df-container {\n",
              "      display:flex;\n",
              "      gap: 12px;\n",
              "    }\n",
              "\n",
              "    .colab-df-convert {\n",
              "      background-color: #E8F0FE;\n",
              "      border: none;\n",
              "      border-radius: 50%;\n",
              "      cursor: pointer;\n",
              "      display: none;\n",
              "      fill: #1967D2;\n",
              "      height: 32px;\n",
              "      padding: 0 0 0 0;\n",
              "      width: 32px;\n",
              "    }\n",
              "\n",
              "    .colab-df-convert:hover {\n",
              "      background-color: #E2EBFA;\n",
              "      box-shadow: 0px 1px 2px rgba(60, 64, 67, 0.3), 0px 1px 3px 1px rgba(60, 64, 67, 0.15);\n",
              "      fill: #174EA6;\n",
              "    }\n",
              "\n",
              "    .colab-df-buttons div {\n",
              "      margin-bottom: 4px;\n",
              "    }\n",
              "\n",
              "    [theme=dark] .colab-df-convert {\n",
              "      background-color: #3B4455;\n",
              "      fill: #D2E3FC;\n",
              "    }\n",
              "\n",
              "    [theme=dark] .colab-df-convert:hover {\n",
              "      background-color: #434B5C;\n",
              "      box-shadow: 0px 1px 3px 1px rgba(0, 0, 0, 0.15);\n",
              "      filter: drop-shadow(0px 1px 2px rgba(0, 0, 0, 0.3));\n",
              "      fill: #FFFFFF;\n",
              "    }\n",
              "  </style>\n",
              "\n",
              "    <script>\n",
              "      const buttonEl =\n",
              "        document.querySelector('#df-06c9fbe2-c7c2-4790-933d-b25fcc7725a3 button.colab-df-convert');\n",
              "      buttonEl.style.display =\n",
              "        google.colab.kernel.accessAllowed ? 'block' : 'none';\n",
              "\n",
              "      async function convertToInteractive(key) {\n",
              "        const element = document.querySelector('#df-06c9fbe2-c7c2-4790-933d-b25fcc7725a3');\n",
              "        const dataTable =\n",
              "          await google.colab.kernel.invokeFunction('convertToInteractive',\n",
              "                                                    [key], {});\n",
              "        if (!dataTable) return;\n",
              "\n",
              "        const docLinkHtml = 'Like what you see? Visit the ' +\n",
              "          '<a target=\"_blank\" href=https://colab.research.google.com/notebooks/data_table.ipynb>data table notebook</a>'\n",
              "          + ' to learn more about interactive tables.';\n",
              "        element.innerHTML = '';\n",
              "        dataTable['output_type'] = 'display_data';\n",
              "        await google.colab.output.renderOutput(dataTable, element);\n",
              "        const docLink = document.createElement('div');\n",
              "        docLink.innerHTML = docLinkHtml;\n",
              "        element.appendChild(docLink);\n",
              "      }\n",
              "    </script>\n",
              "  </div>\n",
              "\n",
              "\n",
              "<div id=\"df-0ec3ae51-12a3-47e5-9ed6-fdbb852be003\">\n",
              "  <button class=\"colab-df-quickchart\" onclick=\"quickchart('df-0ec3ae51-12a3-47e5-9ed6-fdbb852be003')\"\n",
              "            title=\"Suggest charts\"\n",
              "            style=\"display:none;\">\n",
              "\n",
              "<svg xmlns=\"http://www.w3.org/2000/svg\" height=\"24px\"viewBox=\"0 0 24 24\"\n",
              "     width=\"24px\">\n",
              "    <g>\n",
              "        <path d=\"M19 3H5c-1.1 0-2 .9-2 2v14c0 1.1.9 2 2 2h14c1.1 0 2-.9 2-2V5c0-1.1-.9-2-2-2zM9 17H7v-7h2v7zm4 0h-2V7h2v10zm4 0h-2v-4h2v4z\"/>\n",
              "    </g>\n",
              "</svg>\n",
              "  </button>\n",
              "\n",
              "<style>\n",
              "  .colab-df-quickchart {\n",
              "      --bg-color: #E8F0FE;\n",
              "      --fill-color: #1967D2;\n",
              "      --hover-bg-color: #E2EBFA;\n",
              "      --hover-fill-color: #174EA6;\n",
              "      --disabled-fill-color: #AAA;\n",
              "      --disabled-bg-color: #DDD;\n",
              "  }\n",
              "\n",
              "  [theme=dark] .colab-df-quickchart {\n",
              "      --bg-color: #3B4455;\n",
              "      --fill-color: #D2E3FC;\n",
              "      --hover-bg-color: #434B5C;\n",
              "      --hover-fill-color: #FFFFFF;\n",
              "      --disabled-bg-color: #3B4455;\n",
              "      --disabled-fill-color: #666;\n",
              "  }\n",
              "\n",
              "  .colab-df-quickchart {\n",
              "    background-color: var(--bg-color);\n",
              "    border: none;\n",
              "    border-radius: 50%;\n",
              "    cursor: pointer;\n",
              "    display: none;\n",
              "    fill: var(--fill-color);\n",
              "    height: 32px;\n",
              "    padding: 0;\n",
              "    width: 32px;\n",
              "  }\n",
              "\n",
              "  .colab-df-quickchart:hover {\n",
              "    background-color: var(--hover-bg-color);\n",
              "    box-shadow: 0 1px 2px rgba(60, 64, 67, 0.3), 0 1px 3px 1px rgba(60, 64, 67, 0.15);\n",
              "    fill: var(--button-hover-fill-color);\n",
              "  }\n",
              "\n",
              "  .colab-df-quickchart-complete:disabled,\n",
              "  .colab-df-quickchart-complete:disabled:hover {\n",
              "    background-color: var(--disabled-bg-color);\n",
              "    fill: var(--disabled-fill-color);\n",
              "    box-shadow: none;\n",
              "  }\n",
              "\n",
              "  .colab-df-spinner {\n",
              "    border: 2px solid var(--fill-color);\n",
              "    border-color: transparent;\n",
              "    border-bottom-color: var(--fill-color);\n",
              "    animation:\n",
              "      spin 1s steps(1) infinite;\n",
              "  }\n",
              "\n",
              "  @keyframes spin {\n",
              "    0% {\n",
              "      border-color: transparent;\n",
              "      border-bottom-color: var(--fill-color);\n",
              "      border-left-color: var(--fill-color);\n",
              "    }\n",
              "    20% {\n",
              "      border-color: transparent;\n",
              "      border-left-color: var(--fill-color);\n",
              "      border-top-color: var(--fill-color);\n",
              "    }\n",
              "    30% {\n",
              "      border-color: transparent;\n",
              "      border-left-color: var(--fill-color);\n",
              "      border-top-color: var(--fill-color);\n",
              "      border-right-color: var(--fill-color);\n",
              "    }\n",
              "    40% {\n",
              "      border-color: transparent;\n",
              "      border-right-color: var(--fill-color);\n",
              "      border-top-color: var(--fill-color);\n",
              "    }\n",
              "    60% {\n",
              "      border-color: transparent;\n",
              "      border-right-color: var(--fill-color);\n",
              "    }\n",
              "    80% {\n",
              "      border-color: transparent;\n",
              "      border-right-color: var(--fill-color);\n",
              "      border-bottom-color: var(--fill-color);\n",
              "    }\n",
              "    90% {\n",
              "      border-color: transparent;\n",
              "      border-bottom-color: var(--fill-color);\n",
              "    }\n",
              "  }\n",
              "</style>\n",
              "\n",
              "  <script>\n",
              "    async function quickchart(key) {\n",
              "      const quickchartButtonEl =\n",
              "        document.querySelector('#' + key + ' button');\n",
              "      quickchartButtonEl.disabled = true;  // To prevent multiple clicks.\n",
              "      quickchartButtonEl.classList.add('colab-df-spinner');\n",
              "      try {\n",
              "        const charts = await google.colab.kernel.invokeFunction(\n",
              "            'suggestCharts', [key], {});\n",
              "      } catch (error) {\n",
              "        console.error('Error during call to suggestCharts:', error);\n",
              "      }\n",
              "      quickchartButtonEl.classList.remove('colab-df-spinner');\n",
              "      quickchartButtonEl.classList.add('colab-df-quickchart-complete');\n",
              "    }\n",
              "    (() => {\n",
              "      let quickchartButtonEl =\n",
              "        document.querySelector('#df-0ec3ae51-12a3-47e5-9ed6-fdbb852be003 button');\n",
              "      quickchartButtonEl.style.display =\n",
              "        google.colab.kernel.accessAllowed ? 'block' : 'none';\n",
              "    })();\n",
              "  </script>\n",
              "</div>\n",
              "    </div>\n",
              "  </div>\n"
            ],
            "application/vnd.google.colaboratory.intrinsic+json": {
              "type": "dataframe",
              "variable_name": "final",
              "summary": "{\n  \"name\": \"final\",\n  \"rows\": 11303,\n  \"fields\": [\n    {\n      \"column\": \"outlierness_test\",\n      \"properties\": {\n        \"dtype\": \"number\",\n        \"std\": 0.049558234230209754,\n        \"min\": 0.3641929107652828,\n        \"max\": 0.6516160198304972,\n        \"num_unique_values\": 11302,\n        \"samples\": [\n          0.38815824184060055,\n          0.39599499936044646,\n          0.4193593763551532\n        ],\n        \"semantic_type\": \"\",\n        \"description\": \"\"\n      }\n    },\n    {\n      \"column\": \"logloss_test\",\n      \"properties\": {\n        \"dtype\": \"number\",\n        \"std\": 0.48906228505967436,\n        \"min\": 0.0001296630083652655,\n        \"max\": 7.046092444746916,\n        \"num_unique_values\": 11262,\n        \"samples\": [\n          0.05097827081070705,\n          0.0004214569521080355,\n          0.05985218457748837\n        ],\n        \"semantic_type\": \"\",\n        \"description\": \"\"\n      }\n    }\n  ]\n}"
            }
          },
          "metadata": {},
          "execution_count": 184
        }
      ]
    },
    {
      "cell_type": "code",
      "source": [
        "#Get information about the customer with the highest outlierness\n",
        "final.loc[out[\"outlierness_test\"].idxmax()]"
      ],
      "metadata": {
        "colab": {
          "base_uri": "https://localhost:8080/"
        },
        "id": "fQIbrGa1QMeD",
        "outputId": "3a2c7a18-0c0f-4e43-e90e-120c03e10d68"
      },
      "execution_count": null,
      "outputs": [
        {
          "output_type": "execute_result",
          "data": {
            "text/plain": [
              "outlierness_test    0.651616\n",
              "logloss_test        1.235792\n",
              "Name: 43342, dtype: float64"
            ]
          },
          "metadata": {},
          "execution_count": 185
        }
      ]
    },
    {
      "cell_type": "code",
      "source": [
        "print(X.loc[[43342]])"
      ],
      "metadata": {
        "colab": {
          "base_uri": "https://localhost:8080/"
        },
        "id": "UNKX9v8wMt8o",
        "outputId": "ceea8d2c-ced3-45b6-b987-a04e831470a0"
      },
      "execution_count": null,
      "outputs": [
        {
          "output_type": "stream",
          "name": "stdout",
          "text": [
            "       age         job marital education default  balance housing loan  \\\n",
            "43342   27  management  single  tertiary      no     6791      no   no   \n",
            "\n",
            "         contact  day month  duration  campaign  pdays  previous poutcome  \n",
            "43342  telephone   22   mar       174         2    229        28  success  \n"
          ]
        }
      ]
    },
    {
      "cell_type": "markdown",
      "source": [
        "**Plot the outlierness for the data**"
      ],
      "metadata": {
        "id": "4RLJTk9MHPcz"
      }
    },
    {
      "cell_type": "markdown",
      "source": [
        "The higher the value, the more “extreme” the observation.\n",
        "\n",
        "Deciding whether a specific individual is an outlier or not is an arbitrary choice.\n",
        "\n",
        "Generally, we can say that the outliers lie on the right tail of this distribution."
      ],
      "metadata": {
        "id": "cQ_lwweKIKAX"
      }
    },
    {
      "cell_type": "code",
      "source": [
        "iforest_scores_test"
      ],
      "metadata": {
        "colab": {
          "base_uri": "https://localhost:8080/"
        },
        "id": "MO1TeuI8TG1X",
        "outputId": "0115c597-b4d4-4ada-c270-79ce5f380ddc"
      },
      "execution_count": null,
      "outputs": [
        {
          "output_type": "execute_result",
          "data": {
            "text/plain": [
              "7271     0.440137\n",
              "16464    0.416009\n",
              "13851    0.392002\n",
              "19801    0.506893\n",
              "34486    0.405333\n",
              "           ...   \n",
              "17408    0.478395\n",
              "8513     0.505557\n",
              "44506    0.513487\n",
              "7696     0.422964\n",
              "10502    0.428757\n",
              "Length: 11303, dtype: float64"
            ]
          },
          "metadata": {},
          "execution_count": 189
        }
      ]
    },
    {
      "cell_type": "markdown",
      "source": [
        "## Bin the iforest_scores_test"
      ],
      "metadata": {
        "id": "Hdbc-OqfTyZb"
      }
    },
    {
      "cell_type": "markdown",
      "source": [
        "**We are using the .hist() builtin function**<br>\n",
        "This method uses numpy.histogram to bin the data in x and count the number of values in each bin, then draws the distribution either as a BarContainer or Polygon.\n",
        "\n",
        "The bins, range, density, and weights parameters are forwarded to numpy.histogram."
      ],
      "metadata": {
        "id": "KEoNWKgETfyZ"
      }
    },
    {
      "cell_type": "code",
      "source": [
        "fig, ax1 = plt.subplots(figsize=(4,3))\n",
        "\n",
        "ax1.hist(iforest_scores_test, color=\"darkblue\")\n",
        "\n",
        "ax1.set_title(dataset_name)\n",
        "ax1.set_xlabel(\"outlierness\")\n",
        "ax1.set_ylabel(\"n obs\", color=\"darkblue\")\n",
        "\n",
        "fig.savefig(f\"{dataset_name}_hist.png\", dpi=200, bbox_inches=\"tight\")"
      ],
      "metadata": {
        "colab": {
          "base_uri": "https://localhost:8080/",
          "height": 333
        },
        "id": "tFRXzLuLL5dT",
        "outputId": "e3633923-2a1b-4303-a3d6-6c520642fcc9"
      },
      "execution_count": null,
      "outputs": [
        {
          "output_type": "display_data",
          "data": {
            "text/plain": [
              "<Figure size 400x300 with 1 Axes>"
            ],
            "image/png": "[encoded data removed]"
          },
          "metadata": {}
        }
      ]
    },
    {
      "cell_type": "markdown",
      "source": [
        "**At this point, we have two scores for each test observation**:<br>\n",
        "\n",
        "1. score of outlierness (from Isolation Forest);\n",
        "2. score of wrongness (log-loss).<br>\n",
        "\n",
        "Our initial hypothesis is that they are positively correlated:\n",
        ">the more weird a new observation, the more wrong its prediction.\n",
        "\n",
        "To assess if this is true, we can plot the same histogram we have already seen, but this time we will also visualize the average log-loss of each bin.\n",
        "\n"
      ],
      "metadata": {
        "id": "naGSKjUZIZu-"
      }
    },
    {
      "cell_type": "code",
      "source": [
        "cut=pd.cut(iforest_scores_test, bins=10)\n",
        "logloss = logloss_test.groupby(cut).mean()\n",
        "\n",
        "fig, ax1 = plt.subplots(figsize=(4,3))\n",
        "\n",
        "ax2 = ax1.twinx()\n",
        "ax1.hist(iforest_scores_test, color=\"darkblue\")\n",
        "ax2.plot([i.mid for i in logloss.index], logloss, color=\"red\")\n",
        "\n",
        "ax1.set_title(dataset_name)\n",
        "ax1.set_xlabel(\"outlierness\")\n",
        "ax1.set_ylabel(\"n obs\", color=\"darkblue\")\n",
        "ax2.set_ylabel(\"log loss\", color=\"red\")\n",
        "\n",
        "fig.savefig(f\"{dataset_name}_hist_logloss.png\", dpi=200, bbox_inches=\"tight\")"
      ],
      "metadata": {
        "colab": {
          "base_uri": "https://localhost:8080/",
          "height": 333
        },
        "id": "yizuRc4tL8a4",
        "outputId": "3026f415-4a8b-4097-819f-d494c378f63c"
      },
      "execution_count": null,
      "outputs": [
        {
          "output_type": "display_data",
          "data": {
            "text/plain": [
              "<Figure size 400x300 with 2 Axes>"
            ],
            "image/png": "[encoded data removed]"
          },
          "metadata": {}
        }
      ]
    },
    {
      "cell_type": "markdown",
      "source": [
        "The correlation between outlierness and log-loss is clearly positive. <br>\n",
        "\n",
        "This means that, in this dataset, outliers are actually harder to predict (i.e. they tend to have a higher log-loss)."
      ],
      "metadata": {
        "id": "t23pcUsfUDC4"
      }
    },
    {
      "cell_type": "markdown",
      "source": [
        "## Repeat for the other datasets"
      ],
      "metadata": {
        "id": "6O4WhmNEWlVt"
      }
    },
    {
      "cell_type": "code",
      "source": [
        "dataset_names = []\n",
        "\n",
        "for dataset_name in DATASET_NAMES:\n",
        "    X, y, num_features, cat_features = get_dataset(dataset_name)\n",
        "\n",
        "    if len(X) > 5000:\n",
        "        dataset_names.append(dataset_name)"
      ],
      "metadata": {
        "id": "2UEG_Cx8L_K0"
      },
      "execution_count": null,
      "outputs": []
    },
    {
      "cell_type": "code",
      "source": [
        "\n",
        "results = []\n",
        "\n",
        "for dataset_name in tqdm(dataset_names):\n",
        "    X, y, num_features, cat_features = get_dataset(dataset_name)\n",
        "\n",
        "    for iteration in range(5):\n",
        "        X_train, X_test, y_train, y_test = train_test_split(X, y)\n",
        "        if len(cat_features) > 0:\n",
        "            cat_encoder = CatBoostEncoder().fit(X_train[cat_features].fillna(\"NULL\"), y_train)\n",
        "            X_train[cat_features] = cat_encoder.transform(X_train[cat_features])\n",
        "            X_test[cat_features] = cat_encoder.transform(X_test[cat_features])\n",
        "            X_train = X_train.fillna(X_train.mean())\n",
        "            X_test = X_test.fillna(X_train.mean())\n",
        "        iforest = IsolationForest(n_estimators = 100).fit(X_train)\n",
        "        iforest_scores_test = pd.Series(-iforest.score_samples(X_test), index=X_test.index)\n",
        "        model = LGBMClassifier(verbose=-1).fit(X_train, y_train)\n",
        "        pred_test = pd.Series(model.predict_proba(X_test)[:,1], index=X_test.index)\n",
        "        logloss_test = individual_log_loss(y_test, pred_test)\n",
        "\n",
        "        iforest_q95 = iforest_scores_test.quantile(.95)\n",
        "        outliers_vs_rest = (iforest_scores_test > iforest_q95).replace({True: \"outliers\", False: \"rest\"})\n",
        "        logloss = logloss_test.groupby(outliers_vs_rest).mean()\n",
        "\n",
        "        results.append({\n",
        "            \"dataset name\": dataset_name,\n",
        "            \"iteration\": iteration,\n",
        "            \"n outliers\": (iforest_scores_test > iforest_q95).sum(),\n",
        "            \"log-loss\": logloss.mean(),\n",
        "            \"log-loss (outliers)\": logloss[\"outliers\"],\n",
        "            \"log-loss (rest)\": logloss[\"rest\"]\n",
        "        })"
      ],
      "metadata": {
        "colab": {
          "base_uri": "https://localhost:8080/"
        },
        "id": "MKkarmHQMETs",
        "outputId": "f056b4f8-340b-40f9-97a5-6a50defdb788"
      },
      "execution_count": null,
      "outputs": [
        {
          "output_type": "stream",
          "name": "stderr",
          "text": [
            "100%|██████████| 7/7 [00:48<00:00,  6.95s/it]\n"
          ]
        }
      ]
    },
    {
      "cell_type": "code",
      "source": [
        "results_agg = pd.DataFrame(results).groupby(\"dataset name\").agg({\n",
        "    \"dataset name\": lambda x: x.values[0],\n",
        "    \"iteration\": lambda x: len(x),\n",
        "    \"n outliers\": np.min,\n",
        "    \"log-loss\": np.mean,\n",
        "    \"log-loss (outliers)\": np.mean,\n",
        "    \"log-loss (rest)\": np.mean,\n",
        "})\n",
        "\n",
        "results_agg[\"ratio\"] = np.maximum(results_agg[\"log-loss (outliers)\"], results_agg[\"log-loss (rest)\"]) / np.minimum(results_agg[\"log-loss (outliers)\"], results_agg[\"log-loss (rest)\"])\n",
        "results_agg = results_agg.sort_values(\"ratio\", ascending=False)"
      ],
      "metadata": {
        "id": "z7AWjPM9MaVn"
      },
      "execution_count": null,
      "outputs": []
    },
    {
      "cell_type": "markdown",
      "source": [
        "For the sake of simplicity, consider all observations above the 95th percentile of outlierness as outliers."
      ],
      "metadata": {
        "id": "cK6t0ojhW3xw"
      }
    },
    {
      "cell_type": "code",
      "source": [
        "results_agg.loc[:,[\"log-loss\",\"log-loss (outliers)\",\"log-loss (rest)\"]].round(3) \\\n",
        "    .style.apply(lambda x: [\"background: red\" if (v > results_agg[\"log-loss\"].iloc[e] and x.name ==\"log-loss (outliers)\") else (\"background: lightgreen\" if x.name==\"log-loss (outliers)\" else \"\") for e, v in enumerate(x)])\n"
      ],
      "metadata": {
        "colab": {
          "base_uri": "https://localhost:8080/",
          "height": 300
        },
        "id": "HU9-a44TMc1s",
        "outputId": "f6863721-c623-46e1-c05d-d7fcbc1d9d40"
      },
      "execution_count": null,
      "outputs": [
        {
          "output_type": "execute_result",
          "data": {
            "text/plain": [
              "<pandas.io.formats.style.Styler at 0x79f79cd75b10>"
            ],
            "text/html": [
              "<style type=\"text/css\">\n",
              "#T_ed75a_row0_col1, #T_ed75a_row2_col1, #T_ed75a_row3_col1, #T_ed75a_row5_col1 {\n",
              "  background: lightgreen;\n",
              "}\n",
              "#T_ed75a_row1_col1, #T_ed75a_row4_col1, #T_ed75a_row6_col1 {\n",
              "  background: red;\n",
              "}\n",
              "</style>\n",
              "<table id=\"T_ed75a\" class=\"dataframe\">\n",
              "  <thead>\n",
              "    <tr>\n",
              "      <th class=\"blank level0\" >&nbsp;</th>\n",
              "      <th id=\"T_ed75a_level0_col0\" class=\"col_heading level0 col0\" >log-loss</th>\n",
              "      <th id=\"T_ed75a_level0_col1\" class=\"col_heading level0 col1\" >log-loss (outliers)</th>\n",
              "      <th id=\"T_ed75a_level0_col2\" class=\"col_heading level0 col2\" >log-loss (rest)</th>\n",
              "    </tr>\n",
              "    <tr>\n",
              "      <th class=\"index_name level0\" >dataset name</th>\n",
              "      <th class=\"blank col0\" >&nbsp;</th>\n",
              "      <th class=\"blank col1\" >&nbsp;</th>\n",
              "      <th class=\"blank col2\" >&nbsp;</th>\n",
              "    </tr>\n",
              "  </thead>\n",
              "  <tbody>\n",
              "    <tr>\n",
              "      <th id=\"T_ed75a_level0_row0\" class=\"row_heading level0 row0\" >telescope</th>\n",
              "      <td id=\"T_ed75a_row0_col0\" class=\"data row0 col0\" >0.193000</td>\n",
              "      <td id=\"T_ed75a_row0_col1\" class=\"data row0 col1\" >0.087000</td>\n",
              "      <td id=\"T_ed75a_row0_col2\" class=\"data row0 col2\" >0.298000</td>\n",
              "    </tr>\n",
              "    <tr>\n",
              "      <th id=\"T_ed75a_level0_row1\" class=\"row_heading level0 row1\" >bank</th>\n",
              "      <td id=\"T_ed75a_row1_col0\" class=\"data row1 col0\" >0.303000</td>\n",
              "      <td id=\"T_ed75a_row1_col1\" class=\"data row1 col1\" >0.423000</td>\n",
              "      <td id=\"T_ed75a_row1_col2\" class=\"data row1 col2\" >0.182000</td>\n",
              "    </tr>\n",
              "    <tr>\n",
              "      <th id=\"T_ed75a_level0_row2\" class=\"row_heading level0 row2\" >wine</th>\n",
              "      <td id=\"T_ed75a_row2_col0\" class=\"data row2 col0\" >0.023000</td>\n",
              "      <td id=\"T_ed75a_row2_col1\" class=\"data row2 col1\" >0.020000</td>\n",
              "      <td id=\"T_ed75a_row2_col2\" class=\"data row2 col2\" >0.027000</td>\n",
              "    </tr>\n",
              "    <tr>\n",
              "      <th id=\"T_ed75a_level0_row3\" class=\"row_heading level0 row3\" >income</th>\n",
              "      <td id=\"T_ed75a_row3_col0\" class=\"data row3 col0\" >0.255000</td>\n",
              "      <td id=\"T_ed75a_row3_col1\" class=\"data row3 col1\" >0.232000</td>\n",
              "      <td id=\"T_ed75a_row3_col2\" class=\"data row3 col2\" >0.278000</td>\n",
              "    </tr>\n",
              "    <tr>\n",
              "      <th id=\"T_ed75a_level0_row4\" class=\"row_heading level0 row4\" >electrical_grid</th>\n",
              "      <td id=\"T_ed75a_row4_col0\" class=\"data row4 col0\" >0.164000</td>\n",
              "      <td id=\"T_ed75a_row4_col1\" class=\"data row4 col1\" >0.179000</td>\n",
              "      <td id=\"T_ed75a_row4_col2\" class=\"data row4 col2\" >0.149000</td>\n",
              "    </tr>\n",
              "    <tr>\n",
              "      <th id=\"T_ed75a_level0_row5\" class=\"row_heading level0 row5\" >credit</th>\n",
              "      <td id=\"T_ed75a_row5_col0\" class=\"data row5 col0\" >0.426000</td>\n",
              "      <td id=\"T_ed75a_row5_col1\" class=\"data row5 col1\" >0.419000</td>\n",
              "      <td id=\"T_ed75a_row5_col2\" class=\"data row5 col2\" >0.432000</td>\n",
              "    </tr>\n",
              "    <tr>\n",
              "      <th id=\"T_ed75a_level0_row6\" class=\"row_heading level0 row6\" >employee</th>\n",
              "      <td id=\"T_ed75a_row6_col0\" class=\"data row6 col0\" >0.053000</td>\n",
              "      <td id=\"T_ed75a_row6_col1\" class=\"data row6 col1\" >0.054000</td>\n",
              "      <td id=\"T_ed75a_row6_col2\" class=\"data row6 col2\" >0.053000</td>\n",
              "    </tr>\n",
              "  </tbody>\n",
              "</table>\n"
            ]
          },
          "metadata": {},
          "execution_count": 46
        }
      ]
    },
    {
      "cell_type": "markdown",
      "source": [
        "## For this experiment:<br>\n",
        "\n",
        "1. For some datasets outliers are hard to predict\n",
        ">bank dataset (outliers have higher logloss than rest of dataset)\n",
        "2. For some datasets outliers are easier to predict\n",
        ">telescope (outliers have lower logloss)\n",
        "3. For some datasets there is not a lot difference\n",
        ">wine, income, electrical_grid, credit, employee\n",
        "\n"
      ],
      "metadata": {
        "id": "HDxEd8kbXNeZ"
      }
    },
    {
      "cell_type": "markdown",
      "source": [
        "## Conclusion:<br>\n",
        "\n",
        "**The question:** Do ML models make more mistakes with outliers?\n",
        "\n",
        "**The answer:** it depends"
      ],
      "metadata": {
        "id": "DkXv4BEZYygL"
      }
    },
    {
      "cell_type": "markdown",
      "source": [
        "\n",
        "\n",
        "---\n",
        "\n",
        "\n",
        "\n",
        "---\n",
        "\n"
      ],
      "metadata": {
        "id": "27J3CDE3WeQ2"
      }
    },
    {
      "cell_type": "markdown",
      "source": [
        "**Answers to the question for discussion:**<br>\n",
        "Since the outlier is in a very “sparse” area, it could be harder to predict because the model has few training cases in this area. <br>\n",
        "\n",
        "Yet, the opposite case is also possible: <br>\n",
        ">If the decision threshold is done in such a way that the observations that are near the center of the distribution are associated with more uncertainty (i.e. true probability close to 50%) <br>\n",
        "\n",
        ">This would lead to decisions at the periphery of the distribution have a very high expected probability of being positive (i.e. true probability equal to 90%). In this case, even if there are fewer cases to learn from, the model may be more correct.\n",
        "\n",
        "Or, there is a middle opinion: <br>\n",
        "outliers are neither harder nor easier to predict than standard observations."
      ],
      "metadata": {
        "id": "42GXf_pNL3N3"
      }
    }
  ]
}