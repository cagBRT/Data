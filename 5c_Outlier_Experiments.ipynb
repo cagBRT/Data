{
  "nbformat": 4,
  "nbformat_minor": 0,
  "metadata": {
    "colab": {
      "provenance": [],
      "include_colab_link": true
    },
    "kernelspec": {
      "name": "python3",
      "display_name": "Python 3"
    },
    "language_info": {
      "name": "python"
    }
  },
  "cells": [
    {
      "cell_type": "markdown",
      "metadata": {
        "id": "view-in-github",
        "colab_type": "text"
      },
      "source": [
        "<a href=\"https://colab.research.google.com/github/cagBRT/Data/blob/main/5c_Outlier_Experiments.ipynb\" target=\"_parent\"><img src=\"https://colab.research.google.com/assets/colab-badge.svg\" alt=\"Open In Colab\"/></a>"
      ]
    },
    {
      "cell_type": "markdown",
      "source": [
        "## Do ML models make more mistakes with outliers?"
      ],
      "metadata": {
        "id": "H_sLngoDNyW1"
      }
    },
    {
      "cell_type": "markdown",
      "source": [
        "Outliers are usually viewed with suspicion and are often removed. <br>\n",
        "\n",
        "But Is this the best practice?\n"
      ],
      "metadata": {
        "id": "wfXouHpOOWRS"
      }
    },
    {
      "cell_type": "markdown",
      "source": [
        "Sometimes, outliers are even more important than other observations. <br>\n",
        "\n",
        "For example, the case of individuals that are outliers because they are very high-paying customers: you don’t want to discard them, if fact, you probably want to treat them with extra care.\n",
        "\n"
      ],
      "metadata": {
        "id": "19yJOntfIi9i"
      }
    },
    {
      "cell_type": "markdown",
      "source": [
        "In this notebook we try to answer the question: <br>\n",
        "\n",
        "**Is an ML model more likely to make mistakes when making predictions on outliers?**"
      ],
      "metadata": {
        "id": "KUgRxjUpI32W"
      }
    },
    {
      "cell_type": "code",
      "execution_count": 41,
      "metadata": {
        "id": "_Aoslb7qK_7J"
      },
      "outputs": [],
      "source": [
        "!pip install pycaret --quiet"
      ]
    },
    {
      "cell_type": "code",
      "source": [
        "import numpy as np\n",
        "import pandas as pd\n",
        "from pycaret.datasets import get_data\n",
        "from scipy.stats import percentileofscore\n",
        "from sklearn.model_selection import train_test_split\n",
        "from sklearn.pipeline import Pipeline\n",
        "from sklearn.preprocessing import StandardScaler\n",
        "from sklearn.decomposition import PCA\n",
        "from sklearn.metrics.pairwise import euclidean_distances\n",
        "from sklearn.ensemble import IsolationForest\n",
        "from category_encoders import CatBoostEncoder\n",
        "from lightgbm import LGBMClassifier\n",
        "from tqdm import tqdm\n",
        "import matplotlib.pyplot as plt\n"
      ],
      "metadata": {
        "id": "0Aw-N1oKLEe2"
      },
      "execution_count": 49,
      "outputs": []
    },
    {
      "cell_type": "code",
      "source": [
        "DATASET_NAMES = [ \"bank\", \"blood\", \"cancer\", \"credit\", \"diabetes\", \"electrical_grid\",\n",
        "                 \"employee\", \"heart\", \"heart_disease\", \"hepatitis\", \"income\", \"juice\",\n",
        "                 \"nba\", \"wine\", \"telescope\", \"titanic\", \"us_presidential_election_results\"]"
      ],
      "metadata": {
        "id": "DUfiG8-lOmvH"
      },
      "execution_count": 54,
      "outputs": []
    },
    {
      "cell_type": "markdown",
      "source": [
        "**Define helper functions**"
      ],
      "metadata": {
        "id": "fypGS1UmuPpZ"
      }
    },
    {
      "cell_type": "code",
      "source": [
        "def get_dataset(dataset_name):\n",
        "  \"\"\"Get dataset.\"\"\"\n",
        "  target_name = datasets.loc[datasets[\"Dataset\"]==dataset_name, \"Target Variable 1\"]\n",
        "  df = get_data(dataset_name, verbose=False)\n",
        "  X, y = df.drop(target_name, axis=1), df[target_name]\n",
        "  y = y.replace({yval: binval for yval, binval in zip(y.value_counts().index, [0,1])}).iloc[:,0]\n",
        "  num_features = X.columns[X.apply(is_numeric)].tolist()\n",
        "  cat_features = [c for c in X.columns if c not in num_features]\n",
        "  return X, y, num_features, cat_features\n",
        "\n",
        "def is_numeric(x):\n",
        "  \"\"\"Check whether an object is numeric.\"\"\"\n",
        "  try:\n",
        "    x+0\n",
        "    return True\n",
        "  except:\n",
        "    return False\n",
        "\n",
        "def individual_log_loss(y_true, y_pred, eps=1e-15):\n",
        "  \"\"\"Compute log-loss for each individual of the sample.\"\"\"\n",
        "  y_pred = np.clip(y_pred, eps, 1 - eps)\n",
        "  return - y_true * np.log(y_pred) - (1 - y_true) * np.log(1 - y_pred)\n"
      ],
      "metadata": {
        "id": "KIJTSeubLaxa"
      },
      "execution_count": 51,
      "outputs": []
    },
    {
      "cell_type": "markdown",
      "source": [
        "\n",
        "\n",
        "---\n",
        "\n",
        "\n",
        "\n",
        "---\n",
        "\n"
      ],
      "metadata": {
        "id": "X7UdBuT2LS3-"
      }
    },
    {
      "cell_type": "markdown",
      "source": [
        "## Case 1"
      ],
      "metadata": {
        "id": "4hrmJ6qPJcVv"
      }
    },
    {
      "cell_type": "markdown",
      "source": [
        "Let's look at a case where a model has been trained on the dataset shown below."
      ],
      "metadata": {
        "id": "9MtuXGSVJMZE"
      }
    },
    {
      "cell_type": "code",
      "source": [
        "fig, ax = plt.subplots(figsize=(6,4))\n",
        "\n",
        "x = np.random.multivariate_normal([0,0], [[1,.6],[.6,2]], size=1000)\n",
        "ax.scatter(x[:,0], x[:,1])\n",
        "ax.set_xticks([])\n",
        "ax.set_yticks([])\n",
        "ax.set_title(\"Training data\")\n",
        "\n",
        "fig.savefig(f\"example_training.png\", dpi=200, bbox_inches=\"tight\")"
      ],
      "metadata": {
        "colab": {
          "base_uri": "https://localhost:8080/",
          "height": 367
        },
        "id": "5as2GOUYLd5K",
        "outputId": "ea8ac5b7-7fd0-47e6-85e7-64f7c95cde60"
      },
      "execution_count": 45,
      "outputs": [
        {
          "output_type": "display_data",
          "data": {
            "text/plain": [
              "<Figure size 600x400 with 1 Axes>"
            ],
            "image/png": "[encoded data removed]"
          },
          "metadata": {}
        }
      ]
    },
    {
      "cell_type": "markdown",
      "source": [
        "**If new data is collected it can be**:\n",
        "1. an outlier\n",
        "2. falls within the standard range for data"
      ],
      "metadata": {
        "id": "N7LNpbScJhYN"
      }
    },
    {
      "cell_type": "code",
      "source": [
        "fig, ax = plt.subplots(figsize=(6,4))\n",
        "\n",
        "ax.scatter(x[:,0], x[:,1], color=\"white\")\n",
        "ax.scatter(np.min(x, axis=0)[0], np.max(x, axis=0)[1], color=\"red\", label=\"outlier\")\n",
        "ax.scatter(np.quantile(x, q=.3, axis=0)[0], np.quantile(x, q=.7, axis=0)[1], color=\"blue\", label=\"standard\")\n",
        "ax.set_xticks([])\n",
        "ax.set_yticks([])\n",
        "ax.set_title(\"Test data\")\n",
        "ax.legend(loc=\"upper right\")\n",
        "\n",
        "fig.savefig(f\"example_test.png\", dpi=200, bbox_inches=\"tight\")"
      ],
      "metadata": {
        "colab": {
          "base_uri": "https://localhost:8080/",
          "height": 367
        },
        "id": "89CMq5QnLg1k",
        "outputId": "0dc843f7-36e1-4340-dd23-256e58256b4e"
      },
      "execution_count": 46,
      "outputs": [
        {
          "output_type": "display_data",
          "data": {
            "text/plain": [
              "<Figure size 600x400 with 1 Axes>"
            ],
            "image/png": "[encoded data removed]"
          },
          "metadata": {}
        }
      ]
    },
    {
      "cell_type": "markdown",
      "source": [
        "**Question for discussion:** <br>\n",
        "Is the outlier going to harder to predict than the standard data point?<br>\n",
        "\n"
      ],
      "metadata": {
        "id": "VHv-5Qw6KzKR"
      }
    },
    {
      "cell_type": "markdown",
      "source": [
        "Three possible outcomes: <br>\n",
        "1. outliers are harder to predict\n",
        "2. outiers are easier to predict\n",
        "3. outliers are neither harder or easier to predict"
      ],
      "metadata": {
        "id": "Hr_oBm15M6JJ"
      }
    },
    {
      "cell_type": "markdown",
      "source": [
        "\n",
        "\n",
        "---\n",
        "\n",
        "\n",
        "\n",
        "---\n",
        "\n"
      ],
      "metadata": {
        "id": "A0giAGS7LWAy"
      }
    },
    {
      "cell_type": "markdown",
      "source": [
        "## Experiment 1\n",
        "\n",
        "We use a bank customer datset. <br>\n",
        "\n",
        "\"bank\": https://www.kaggle.com/datasets/rashmiranu/banking-dataset-classification\n",
        "\n",
        "\"telescope\": https://archive.ics.uci.edu/dataset/159/magic+gamma+telescope\n",
        "\n"
      ],
      "metadata": {
        "id": "X63OsVdmTOMI"
      }
    },
    {
      "cell_type": "markdown",
      "source": [
        "**Get the bank dataset**<br>\n",
        "The dataset contains:<br>\n",
        "\n",
        "Personal information: <br>\n",
        "- age, job, education level, and marital status<br>\n",
        "\n",
        "account information: <br>\n",
        "- balance, credit status,housing loan status, personal loan status<br>\n",
        "\n",
        "marketing information: <br>\n",
        "- contact method, day of week of last contact, month of last contact, length of last contact, number of contacts, number of contacts, outcome of last campaign<br>\n",
        "\n",
        "Label: <br>\n",
        "- the label will predict if the customer will purchase a bank term deposit (Yes=1, No=0)<br>"
      ],
      "metadata": {
        "id": "L9uqVBgFHosI"
      }
    },
    {
      "cell_type": "code",
      "source": [
        "datasets = get_data(verbose=False)"
      ],
      "metadata": {
        "id": "p4d6zx9lLkNz"
      },
      "execution_count": 55,
      "outputs": []
    },
    {
      "cell_type": "code",
      "source": [
        "dataset_name = \"bank\"\n",
        "X, y, num_features, cat_features = get_dataset(dataset_name)\n",
        "X_train, X_test, y_train, y_test = train_test_split(X, y)\n",
        "print(\"Training set:\",X_train.shape, y_train.shape)\n",
        "print(\"Test set:\",X_test.shape, y_test.shape)"
      ],
      "metadata": {
        "id": "bHl_wJj1t2p_",
        "colab": {
          "base_uri": "https://localhost:8080/",
          "height": 365
        },
        "outputId": "4886c558-a591-476a-efed-935d57d8181f"
      },
      "execution_count": 56,
      "outputs": [
        {
          "output_type": "error",
          "ename": "KeyError",
          "evalue": "\"['deposit'] not found in axis\"",
          "traceback": [
            "\u001b[0;31m---------------------------------------------------------------------------\u001b[0m",
            "\u001b[0;31mKeyError\u001b[0m                                  Traceback (most recent call last)",
            "\u001b[0;32m<ipython-input-56-e350e0fbad3d>\u001b[0m in \u001b[0;36m<cell line: 2>\u001b[0;34m()\u001b[0m\n\u001b[1;32m      1\u001b[0m \u001b[0mdataset_name\u001b[0m \u001b[0;34m=\u001b[0m \u001b[0;34m\"bank\"\u001b[0m\u001b[0;34m\u001b[0m\u001b[0;34m\u001b[0m\u001b[0m\n\u001b[0;32m----> 2\u001b[0;31m \u001b[0mX\u001b[0m\u001b[0;34m,\u001b[0m \u001b[0my\u001b[0m\u001b[0;34m,\u001b[0m \u001b[0mnum_features\u001b[0m\u001b[0;34m,\u001b[0m \u001b[0mcat_features\u001b[0m \u001b[0;34m=\u001b[0m \u001b[0mget_dataset\u001b[0m\u001b[0;34m(\u001b[0m\u001b[0mdataset_name\u001b[0m\u001b[0;34m)\u001b[0m\u001b[0;34m\u001b[0m\u001b[0;34m\u001b[0m\u001b[0m\n\u001b[0m\u001b[1;32m      3\u001b[0m \u001b[0mX_train\u001b[0m\u001b[0;34m,\u001b[0m \u001b[0mX_test\u001b[0m\u001b[0;34m,\u001b[0m \u001b[0my_train\u001b[0m\u001b[0;34m,\u001b[0m \u001b[0my_test\u001b[0m \u001b[0;34m=\u001b[0m \u001b[0mtrain_test_split\u001b[0m\u001b[0;34m(\u001b[0m\u001b[0mX\u001b[0m\u001b[0;34m,\u001b[0m \u001b[0my\u001b[0m\u001b[0;34m)\u001b[0m\u001b[0;34m\u001b[0m\u001b[0;34m\u001b[0m\u001b[0m\n\u001b[1;32m      4\u001b[0m \u001b[0mprint\u001b[0m\u001b[0;34m(\u001b[0m\u001b[0;34m\"Training set:\"\u001b[0m\u001b[0;34m,\u001b[0m\u001b[0mX_train\u001b[0m\u001b[0;34m.\u001b[0m\u001b[0mshape\u001b[0m\u001b[0;34m,\u001b[0m \u001b[0my_train\u001b[0m\u001b[0;34m.\u001b[0m\u001b[0mshape\u001b[0m\u001b[0;34m)\u001b[0m\u001b[0;34m\u001b[0m\u001b[0;34m\u001b[0m\u001b[0m\n\u001b[1;32m      5\u001b[0m \u001b[0mprint\u001b[0m\u001b[0;34m(\u001b[0m\u001b[0;34m\"Test set:\"\u001b[0m\u001b[0;34m,\u001b[0m\u001b[0mX_test\u001b[0m\u001b[0;34m.\u001b[0m\u001b[0mshape\u001b[0m\u001b[0;34m,\u001b[0m \u001b[0my_test\u001b[0m\u001b[0;34m.\u001b[0m\u001b[0mshape\u001b[0m\u001b[0;34m)\u001b[0m\u001b[0;34m\u001b[0m\u001b[0;34m\u001b[0m\u001b[0m\n",
            "\u001b[0;32m<ipython-input-51-4295123f18bf>\u001b[0m in \u001b[0;36mget_dataset\u001b[0;34m(dataset_name)\u001b[0m\n\u001b[1;32m      3\u001b[0m   \u001b[0mtarget_name\u001b[0m \u001b[0;34m=\u001b[0m \u001b[0mdatasets\u001b[0m\u001b[0;34m.\u001b[0m\u001b[0mloc\u001b[0m\u001b[0;34m[\u001b[0m\u001b[0mdatasets\u001b[0m\u001b[0;34m[\u001b[0m\u001b[0;34m\"Dataset\"\u001b[0m\u001b[0;34m]\u001b[0m\u001b[0;34m==\u001b[0m\u001b[0mdataset_name\u001b[0m\u001b[0;34m,\u001b[0m \u001b[0;34m\"Target Variable 1\"\u001b[0m\u001b[0;34m]\u001b[0m\u001b[0;34m\u001b[0m\u001b[0;34m\u001b[0m\u001b[0m\n\u001b[1;32m      4\u001b[0m   \u001b[0mdf\u001b[0m \u001b[0;34m=\u001b[0m \u001b[0mget_data\u001b[0m\u001b[0;34m(\u001b[0m\u001b[0mdataset_name\u001b[0m\u001b[0;34m,\u001b[0m \u001b[0mverbose\u001b[0m\u001b[0;34m=\u001b[0m\u001b[0;32mFalse\u001b[0m\u001b[0;34m)\u001b[0m\u001b[0;34m\u001b[0m\u001b[0;34m\u001b[0m\u001b[0m\n\u001b[0;32m----> 5\u001b[0;31m   \u001b[0mX\u001b[0m\u001b[0;34m,\u001b[0m \u001b[0my\u001b[0m \u001b[0;34m=\u001b[0m \u001b[0mdf\u001b[0m\u001b[0;34m.\u001b[0m\u001b[0mdrop\u001b[0m\u001b[0;34m(\u001b[0m\u001b[0mtarget_name\u001b[0m\u001b[0;34m,\u001b[0m \u001b[0maxis\u001b[0m\u001b[0;34m=\u001b[0m\u001b[0;36m1\u001b[0m\u001b[0;34m)\u001b[0m\u001b[0;34m,\u001b[0m \u001b[0mdf\u001b[0m\u001b[0;34m[\u001b[0m\u001b[0mtarget_name\u001b[0m\u001b[0;34m]\u001b[0m\u001b[0;34m\u001b[0m\u001b[0;34m\u001b[0m\u001b[0m\n\u001b[0m\u001b[1;32m      6\u001b[0m   \u001b[0my\u001b[0m \u001b[0;34m=\u001b[0m \u001b[0my\u001b[0m\u001b[0;34m.\u001b[0m\u001b[0mreplace\u001b[0m\u001b[0;34m(\u001b[0m\u001b[0;34m{\u001b[0m\u001b[0myval\u001b[0m\u001b[0;34m:\u001b[0m \u001b[0mbinval\u001b[0m \u001b[0;32mfor\u001b[0m \u001b[0myval\u001b[0m\u001b[0;34m,\u001b[0m \u001b[0mbinval\u001b[0m \u001b[0;32min\u001b[0m \u001b[0mzip\u001b[0m\u001b[0;34m(\u001b[0m\u001b[0my\u001b[0m\u001b[0;34m.\u001b[0m\u001b[0mvalue_counts\u001b[0m\u001b[0;34m(\u001b[0m\u001b[0;34m)\u001b[0m\u001b[0;34m.\u001b[0m\u001b[0mindex\u001b[0m\u001b[0;34m,\u001b[0m \u001b[0;34m[\u001b[0m\u001b[0;36m0\u001b[0m\u001b[0;34m,\u001b[0m\u001b[0;36m1\u001b[0m\u001b[0;34m]\u001b[0m\u001b[0;34m)\u001b[0m\u001b[0;34m}\u001b[0m\u001b[0;34m)\u001b[0m\u001b[0;34m.\u001b[0m\u001b[0miloc\u001b[0m\u001b[0;34m[\u001b[0m\u001b[0;34m:\u001b[0m\u001b[0;34m,\u001b[0m\u001b[0;36m0\u001b[0m\u001b[0;34m]\u001b[0m\u001b[0;34m\u001b[0m\u001b[0;34m\u001b[0m\u001b[0m\n\u001b[1;32m      7\u001b[0m   \u001b[0mnum_features\u001b[0m \u001b[0;34m=\u001b[0m \u001b[0mX\u001b[0m\u001b[0;34m.\u001b[0m\u001b[0mcolumns\u001b[0m\u001b[0;34m[\u001b[0m\u001b[0mX\u001b[0m\u001b[0;34m.\u001b[0m\u001b[0mapply\u001b[0m\u001b[0;34m(\u001b[0m\u001b[0mis_numeric\u001b[0m\u001b[0;34m)\u001b[0m\u001b[0;34m]\u001b[0m\u001b[0;34m.\u001b[0m\u001b[0mtolist\u001b[0m\u001b[0;34m(\u001b[0m\u001b[0;34m)\u001b[0m\u001b[0;34m\u001b[0m\u001b[0;34m\u001b[0m\u001b[0m\n",
            "\u001b[0;32m/usr/local/lib/python3.10/dist-packages/pandas/core/frame.py\u001b[0m in \u001b[0;36mdrop\u001b[0;34m(self, labels, axis, index, columns, level, inplace, errors)\u001b[0m\n\u001b[1;32m   5256\u001b[0m                 \u001b[0mweight\u001b[0m  \u001b[0;36m1.0\u001b[0m     \u001b[0;36m0.8\u001b[0m\u001b[0;34m\u001b[0m\u001b[0;34m\u001b[0m\u001b[0m\n\u001b[1;32m   5257\u001b[0m         \"\"\"\n\u001b[0;32m-> 5258\u001b[0;31m         return super().drop(\n\u001b[0m\u001b[1;32m   5259\u001b[0m             \u001b[0mlabels\u001b[0m\u001b[0;34m=\u001b[0m\u001b[0mlabels\u001b[0m\u001b[0;34m,\u001b[0m\u001b[0;34m\u001b[0m\u001b[0;34m\u001b[0m\u001b[0m\n\u001b[1;32m   5260\u001b[0m             \u001b[0maxis\u001b[0m\u001b[0;34m=\u001b[0m\u001b[0maxis\u001b[0m\u001b[0;34m,\u001b[0m\u001b[0;34m\u001b[0m\u001b[0;34m\u001b[0m\u001b[0m\n",
            "\u001b[0;32m/usr/local/lib/python3.10/dist-packages/pandas/core/generic.py\u001b[0m in \u001b[0;36mdrop\u001b[0;34m(self, labels, axis, index, columns, level, inplace, errors)\u001b[0m\n\u001b[1;32m   4547\u001b[0m         \u001b[0;32mfor\u001b[0m \u001b[0maxis\u001b[0m\u001b[0;34m,\u001b[0m \u001b[0mlabels\u001b[0m \u001b[0;32min\u001b[0m \u001b[0maxes\u001b[0m\u001b[0;34m.\u001b[0m\u001b[0mitems\u001b[0m\u001b[0;34m(\u001b[0m\u001b[0;34m)\u001b[0m\u001b[0;34m:\u001b[0m\u001b[0;34m\u001b[0m\u001b[0;34m\u001b[0m\u001b[0m\n\u001b[1;32m   4548\u001b[0m             \u001b[0;32mif\u001b[0m \u001b[0mlabels\u001b[0m \u001b[0;32mis\u001b[0m \u001b[0;32mnot\u001b[0m \u001b[0;32mNone\u001b[0m\u001b[0;34m:\u001b[0m\u001b[0;34m\u001b[0m\u001b[0;34m\u001b[0m\u001b[0m\n\u001b[0;32m-> 4549\u001b[0;31m                 \u001b[0mobj\u001b[0m \u001b[0;34m=\u001b[0m \u001b[0mobj\u001b[0m\u001b[0;34m.\u001b[0m\u001b[0m_drop_axis\u001b[0m\u001b[0;34m(\u001b[0m\u001b[0mlabels\u001b[0m\u001b[0;34m,\u001b[0m \u001b[0maxis\u001b[0m\u001b[0;34m,\u001b[0m \u001b[0mlevel\u001b[0m\u001b[0;34m=\u001b[0m\u001b[0mlevel\u001b[0m\u001b[0;34m,\u001b[0m \u001b[0merrors\u001b[0m\u001b[0;34m=\u001b[0m\u001b[0merrors\u001b[0m\u001b[0;34m)\u001b[0m\u001b[0;34m\u001b[0m\u001b[0;34m\u001b[0m\u001b[0m\n\u001b[0m\u001b[1;32m   4550\u001b[0m \u001b[0;34m\u001b[0m\u001b[0m\n\u001b[1;32m   4551\u001b[0m         \u001b[0;32mif\u001b[0m \u001b[0minplace\u001b[0m\u001b[0;34m:\u001b[0m\u001b[0;34m\u001b[0m\u001b[0;34m\u001b[0m\u001b[0m\n",
            "\u001b[0;32m/usr/local/lib/python3.10/dist-packages/pandas/core/generic.py\u001b[0m in \u001b[0;36m_drop_axis\u001b[0;34m(self, labels, axis, level, errors, only_slice)\u001b[0m\n\u001b[1;32m   4589\u001b[0m                 \u001b[0mnew_axis\u001b[0m \u001b[0;34m=\u001b[0m \u001b[0maxis\u001b[0m\u001b[0;34m.\u001b[0m\u001b[0mdrop\u001b[0m\u001b[0;34m(\u001b[0m\u001b[0mlabels\u001b[0m\u001b[0;34m,\u001b[0m \u001b[0mlevel\u001b[0m\u001b[0;34m=\u001b[0m\u001b[0mlevel\u001b[0m\u001b[0;34m,\u001b[0m \u001b[0merrors\u001b[0m\u001b[0;34m=\u001b[0m\u001b[0merrors\u001b[0m\u001b[0;34m)\u001b[0m\u001b[0;34m\u001b[0m\u001b[0;34m\u001b[0m\u001b[0m\n\u001b[1;32m   4590\u001b[0m             \u001b[0;32melse\u001b[0m\u001b[0;34m:\u001b[0m\u001b[0;34m\u001b[0m\u001b[0;34m\u001b[0m\u001b[0m\n\u001b[0;32m-> 4591\u001b[0;31m                 \u001b[0mnew_axis\u001b[0m \u001b[0;34m=\u001b[0m \u001b[0maxis\u001b[0m\u001b[0;34m.\u001b[0m\u001b[0mdrop\u001b[0m\u001b[0;34m(\u001b[0m\u001b[0mlabels\u001b[0m\u001b[0;34m,\u001b[0m \u001b[0merrors\u001b[0m\u001b[0;34m=\u001b[0m\u001b[0merrors\u001b[0m\u001b[0;34m)\u001b[0m\u001b[0;34m\u001b[0m\u001b[0;34m\u001b[0m\u001b[0m\n\u001b[0m\u001b[1;32m   4592\u001b[0m             \u001b[0mindexer\u001b[0m \u001b[0;34m=\u001b[0m \u001b[0maxis\u001b[0m\u001b[0;34m.\u001b[0m\u001b[0mget_indexer\u001b[0m\u001b[0;34m(\u001b[0m\u001b[0mnew_axis\u001b[0m\u001b[0;34m)\u001b[0m\u001b[0;34m\u001b[0m\u001b[0;34m\u001b[0m\u001b[0m\n\u001b[1;32m   4593\u001b[0m \u001b[0;34m\u001b[0m\u001b[0m\n",
            "\u001b[0;32m/usr/local/lib/python3.10/dist-packages/pandas/core/indexes/base.py\u001b[0m in \u001b[0;36mdrop\u001b[0;34m(self, labels, errors)\u001b[0m\n\u001b[1;32m   6697\u001b[0m         \u001b[0;32mif\u001b[0m \u001b[0mmask\u001b[0m\u001b[0;34m.\u001b[0m\u001b[0many\u001b[0m\u001b[0;34m(\u001b[0m\u001b[0;34m)\u001b[0m\u001b[0;34m:\u001b[0m\u001b[0;34m\u001b[0m\u001b[0;34m\u001b[0m\u001b[0m\n\u001b[1;32m   6698\u001b[0m             \u001b[0;32mif\u001b[0m \u001b[0merrors\u001b[0m \u001b[0;34m!=\u001b[0m \u001b[0;34m\"ignore\"\u001b[0m\u001b[0;34m:\u001b[0m\u001b[0;34m\u001b[0m\u001b[0;34m\u001b[0m\u001b[0m\n\u001b[0;32m-> 6699\u001b[0;31m                 \u001b[0;32mraise\u001b[0m \u001b[0mKeyError\u001b[0m\u001b[0;34m(\u001b[0m\u001b[0;34mf\"{list(labels[mask])} not found in axis\"\u001b[0m\u001b[0;34m)\u001b[0m\u001b[0;34m\u001b[0m\u001b[0;34m\u001b[0m\u001b[0m\n\u001b[0m\u001b[1;32m   6700\u001b[0m             \u001b[0mindexer\u001b[0m \u001b[0;34m=\u001b[0m \u001b[0mindexer\u001b[0m\u001b[0;34m[\u001b[0m\u001b[0;34m~\u001b[0m\u001b[0mmask\u001b[0m\u001b[0;34m]\u001b[0m\u001b[0;34m\u001b[0m\u001b[0;34m\u001b[0m\u001b[0m\n\u001b[1;32m   6701\u001b[0m         \u001b[0;32mreturn\u001b[0m \u001b[0mself\u001b[0m\u001b[0;34m.\u001b[0m\u001b[0mdelete\u001b[0m\u001b[0;34m(\u001b[0m\u001b[0mindexer\u001b[0m\u001b[0;34m)\u001b[0m\u001b[0;34m\u001b[0m\u001b[0;34m\u001b[0m\u001b[0m\n",
            "\u001b[0;31mKeyError\u001b[0m: \"['deposit'] not found in axis\""
          ]
        }
      ]
    },
    {
      "cell_type": "markdown",
      "source": [
        "**Split the dataset into training and test sets**"
      ],
      "metadata": {
        "id": "1h6hoMkMTxhj"
      }
    },
    {
      "cell_type": "code",
      "source": [
        "X, y, num_features, cat_features = get_dataset(dataset_name)\n",
        "X_train, X_test, y_train, y_test = train_test_split(X, y)"
      ],
      "metadata": {
        "id": "2Ke1bPLFTtwo"
      },
      "execution_count": null,
      "outputs": []
    },
    {
      "cell_type": "markdown",
      "source": [
        "**All the inputs to the model**"
      ],
      "metadata": {
        "id": "9VydXqumv92M"
      }
    },
    {
      "cell_type": "code",
      "source": [
        "print(\"All features: \",X_train.columns)\n",
        "print(\"Numerical features: \",num_features)"
      ],
      "metadata": {
        "id": "NWt6ZTDvv2G2"
      },
      "execution_count": null,
      "outputs": []
    },
    {
      "cell_type": "markdown",
      "source": [
        "## Categorical Encoding with CatBoost Encoder<br>\n",
        "\n",
        "We must convert the categorical data to numeric data. There are a number of categircial encoding methods we can use. <br>\n",
        "\n",
        "In this case we care going to use Catboost. <br>\n",
        "\n",
        "CatBooset encoding is used for categorical features.\n",
        "There are various categorical encoding methods available. Catboost is one of them.<br>\n",
        "\n",
        "Catboost is a target-based categorical encoder. It is a supervised encoder that encodes categorical columns according to the target value. It supports binomial and continuous targets.<br>\n",
        "[Catboost is a target-based categorical encoder](https://www.geeksforgeeks.org/categorical-encoding-with-catboost-encoder/).  It encodes according to a target value and supports binomial and continuous targets. <br>\n",
        "\n",
        "Target encoding replaces the categorical values with the average value for each column. This can introduce data leakage since the target is used to predict the target. <br>\n",
        "\n",
        "Catboost solves the data leakage issue by using an ordering principle.\n",
        "\n"
      ],
      "metadata": {
        "id": "jWsjVGCqVrGw"
      }
    },
    {
      "cell_type": "markdown",
      "source": [
        "\n",
        "\n",
        "---\n",
        "\n",
        "\n",
        "\n",
        "---\n",
        "\n"
      ],
      "metadata": {
        "id": "r57Cw9ujIU1K"
      }
    },
    {
      "cell_type": "code",
      "source": [
        "# Make dataset\n",
        "train = pd.DataFrame({\n",
        "    'color': [\"red\", \"blue\", \"blue\", \"green\", \"red\",\n",
        "              \"red\", \"black\", \"black\", \"blue\", \"green\"],\n",
        "\n",
        "    'interests': [\"sketching\", \"painting\", \"instruments\",\n",
        "                  \"sketching\", \"painting\", \"video games\",\n",
        "                  \"painting\", \"instruments\", \"sketching\",\n",
        "                  \"sketching\"],\n",
        "\n",
        "    'height': [68, 64, 87, 45, 54, 64, 67, 98, 90, 87],\n",
        "\n",
        "    'grade': [1, 2, 3, 2, 3, 1, 4, 4, 2, 3], })\n",
        "\n",
        "# Define train and target\n",
        "target = train[['grade']]\n",
        "train = train.drop('grade', axis = 1)\n",
        "\n",
        "# Define catboost encoder\n",
        "cbe_encoder = CatBoostEncoder()\n",
        "\n",
        "# Fit encoder and transform the features\n",
        "cbe_encoder.fit(train, target)\n",
        "train_cbe = cbe_encoder.transform(train)\n",
        "\n",
        "# We can use fit_transform() instead of fit()\n",
        "# and transform() separately as follows:\n",
        "# train_cbe = cbe_encoder.fit_transform(train,target)\n",
        "train_cbe"
      ],
      "metadata": {
        "id": "1MRl2bmaBurz"
      },
      "execution_count": null,
      "outputs": []
    },
    {
      "cell_type": "markdown",
      "source": [
        "\n",
        "\n",
        "---\n",
        "\n",
        "**End of CatBoostEncoder Example**\n",
        "\n",
        "---\n",
        "\n"
      ],
      "metadata": {
        "id": "0hVhnjLzCREA"
      }
    },
    {
      "cell_type": "markdown",
      "source": [
        "## Use CatBoostEncoder on our dataset"
      ],
      "metadata": {
        "id": "r3QJKsZXCZSF"
      }
    },
    {
      "cell_type": "markdown",
      "source": [
        "**The inputs for CatBoost**"
      ],
      "metadata": {
        "id": "aqtZwCoTwCRC"
      }
    },
    {
      "cell_type": "code",
      "source": [
        "print(\"CatBoost features: \",cat_features)"
      ],
      "metadata": {
        "id": "eVkfUW6jVwFh"
      },
      "execution_count": null,
      "outputs": []
    },
    {
      "cell_type": "markdown",
      "source": [
        "**The data before CatBoost**"
      ],
      "metadata": {
        "id": "K2xAOaFzzDtg"
      }
    },
    {
      "cell_type": "code",
      "source": [
        "X_train"
      ],
      "metadata": {
        "id": "EY3nUQXEy0jm"
      },
      "execution_count": null,
      "outputs": []
    },
    {
      "cell_type": "code",
      "source": [
        "X_train.isna().sum()"
      ],
      "metadata": {
        "id": "dc0Fjb1CzSgN"
      },
      "execution_count": null,
      "outputs": []
    },
    {
      "cell_type": "code",
      "source": [
        "if len(cat_features) > 0:\n",
        "  #fill empty values with NULL\n",
        "    cat_encoder = CatBoostEncoder().fit(X_train[cat_features].fillna(\"NULL\"), y_train)\n",
        "  #transform the categorical data to numerical data\n",
        "    X_train[cat_features] = cat_encoder.transform(X_train[cat_features])\n",
        "    X_test[cat_features] = cat_encoder.transform(X_test[cat_features])\n",
        "  #fill any missing data with the mean of the dataset\n",
        "    X_train = X_train.fillna(X_train.mean())\n",
        "    X_test = X_test.fillna(X_test.mean())"
      ],
      "metadata": {
        "id": "aTMLSAjvyTsR"
      },
      "execution_count": null,
      "outputs": []
    },
    {
      "cell_type": "code",
      "source": [
        "X_train"
      ],
      "metadata": {
        "id": "srH2Vcvpz642"
      },
      "execution_count": null,
      "outputs": []
    },
    {
      "cell_type": "code",
      "source": [
        "print(\"training dataset shape:\",X_train.shape)\n",
        "print(\"test dataset shape:\",X_test.shape)"
      ],
      "metadata": {
        "id": "UcoLpNM_3JUE"
      },
      "execution_count": null,
      "outputs": []
    },
    {
      "cell_type": "markdown",
      "source": [
        "## Isolation Foreset\n",
        "\n",
        "An Isolation Forest is an unsupervised model which can output a score of outlierness for each individual of your dataset.\n",
        "\n",
        "It returns the anomaly score of each sample using the IsolationForest algorithm\n"
      ],
      "metadata": {
        "id": "00WRJ9U50Zax"
      }
    },
    {
      "cell_type": "markdown",
      "source": [
        "\n",
        "**Identify outliers in the dataset**"
      ],
      "metadata": {
        "id": "VUr-buFV0wc7"
      }
    },
    {
      "cell_type": "code",
      "source": [
        "#The number of base estimators in the ensemble = 100\n",
        "iforest = IsolationForest(n_estimators = 100).fit(X_train)\n",
        "iforest_scores_test = pd.Series(-iforest.score_samples(X_test), index=X_test.index)\n",
        "print(\"Anomoly scores for the labels in the test set:\\n\",iforest_scores_test)"
      ],
      "metadata": {
        "id": "_ubMXp570yfX"
      },
      "execution_count": null,
      "outputs": []
    },
    {
      "cell_type": "markdown",
      "source": [
        "## LGB Classifier (Light Gradient Boosting Model)\n",
        "\n",
        "LGB uses decision tree algorithms for ranking, classification, and other machine-learning tasks"
      ],
      "metadata": {
        "id": "4fqkJpj864DR"
      }
    },
    {
      "cell_type": "code",
      "source": [
        "model = LGBMClassifier(verbose=-1).fit(X_train, y_train)\n",
        "pred_test = pd.Series(model.predict_proba(X_test)[:,1], index=X_test.index)\n",
        "predictions = model.predict(X_test)\n",
        "print(classification_report(y_test, predictions))"
      ],
      "metadata": {
        "id": "3nVx_gx98aIu"
      },
      "execution_count": null,
      "outputs": []
    },
    {
      "cell_type": "markdown",
      "source": [
        "## Log_loss\n",
        "\n",
        "Log-loss is one of the major metrics to assess the performance of a classification problem.<br>\n",
        "\n",
        ">\"Log-loss is indicative of how close the prediction probability is to the corresponding actual/true value (0 or 1 in case of binary classification). The more the predicted probability diverges from the actual value, the higher is the log-loss value.\"\n",
        "\n"
      ],
      "metadata": {
        "id": "32TH2erY9g_0"
      }
    },
    {
      "cell_type": "markdown",
      "source": [
        "**What is log-loss?**<br>\n",
        "\n",
        "A binary classification algorithm first predicts probability of a record to be classified under class 1 and then classifies the data point (record) under one of the two classes (1 or 0) based on whether the probability crossed a threshold value, which is usually set at 0.5 by default.<br>\n",
        "\n",
        "![picture](https://github.com/cagBRT/Data/blob/main/images/logLoss.png?raw=1)<br>\n",
        "\n",
        "Before predicting the class of the record, the model has to predict the probability of the record to be classified under class 1. Remember that it is this prediction probability of a data record that the log-loss value is dependent on."
      ],
      "metadata": {
        "id": "TEOe5EYx9-t1"
      }
    },
    {
      "cell_type": "code",
      "source": [
        "logloss_test = individual_log_loss(y_test, pred_test)\n",
        "print(logloss_test)\n",
        "#Each label with the probability of the record being classified as class 1"
      ],
      "metadata": {
        "id": "ANbPXg0bLp0K"
      },
      "execution_count": null,
      "outputs": []
    },
    {
      "cell_type": "markdown",
      "source": [
        "**Find the highest anomoly score**\n",
        "1. Take the anomoly scores and sort them in asending order\n",
        "2. id will equal the highest anomoly score"
      ],
      "metadata": {
        "id": "5C9iy0K3A5W3"
      }
    },
    {
      "cell_type": "code",
      "source": [
        "id = iforest_scores_test.sort_values().tail(1).index[0]\n",
        "id"
      ],
      "metadata": {
        "id": "oWunSGf7Ly2U"
      },
      "execution_count": null,
      "outputs": []
    },
    {
      "cell_type": "markdown",
      "source": [],
      "metadata": {
        "id": "qjADs1ZNBOzC"
      }
    },
    {
      "cell_type": "code",
      "source": [
        "x = X_train.apply(lambda col: percentileofscore(col, X_test.loc[id, col.name])).sort_values(\n",
        "    key=lambda x: np.abs(50-x), ascending=False).rename(\"quantile\") / 100\n",
        "\n",
        "print(\"Column name   score\")\n",
        "print(x)"
      ],
      "metadata": {
        "id": "hLVnjcQTBOPX"
      },
      "execution_count": null,
      "outputs": []
    },
    {
      "cell_type": "code",
      "source": [
        "out = pd.concat([\n",
        "    X.loc[id, x.index].rename(\"original data\"),\n",
        "    x\n",
        "], axis=1).round(2)\n",
        "\n",
        "out[(out[\"quantile\"] > .95) | (out[\"quantile\"] < .05)]\n",
        "out"
      ],
      "metadata": {
        "id": "uKHCMHmmAVuF"
      },
      "execution_count": null,
      "outputs": []
    },
    {
      "cell_type": "code",
      "source": [
        "#The max iforest_scores_test\n",
        "print(\"this is the max outlierness scoure: \",iforest_scores_test.max())"
      ],
      "metadata": {
        "id": "HFcZ9AUoQyFF"
      },
      "execution_count": null,
      "outputs": []
    },
    {
      "cell_type": "code",
      "source": [
        "final=pd.concat([iforest_scores_test.rename(\"outlierness_test\"),\n",
        "           logloss_test.rename(\"logloss_test\")], axis=1)\n",
        "final"
      ],
      "metadata": {
        "id": "d9VOxO9CL25i"
      },
      "execution_count": null,
      "outputs": []
    },
    {
      "cell_type": "code",
      "source": [
        "#Get information about the customer with the highest outlierness\n",
        "final.loc[out[\"outlierness_test\"].idxmax()]"
      ],
      "metadata": {
        "id": "fQIbrGa1QMeD"
      },
      "execution_count": null,
      "outputs": []
    },
    {
      "cell_type": "code",
      "source": [
        "print(X.loc[[43342]])"
      ],
      "metadata": {
        "id": "UNKX9v8wMt8o"
      },
      "execution_count": null,
      "outputs": []
    },
    {
      "cell_type": "markdown",
      "source": [
        "**Plot the outlierness for the data**"
      ],
      "metadata": {
        "id": "4RLJTk9MHPcz"
      }
    },
    {
      "cell_type": "markdown",
      "source": [
        "The higher the value, the more “extreme” the observation.\n",
        "\n",
        "Deciding whether a specific individual is an outlier or not is an arbitrary choice.\n",
        "\n",
        "Generally, we can say that the outliers lie on the right tail of this distribution."
      ],
      "metadata": {
        "id": "cQ_lwweKIKAX"
      }
    },
    {
      "cell_type": "code",
      "source": [
        "iforest_scores_test"
      ],
      "metadata": {
        "id": "MO1TeuI8TG1X"
      },
      "execution_count": null,
      "outputs": []
    },
    {
      "cell_type": "markdown",
      "source": [
        "## Bin the iforest_scores_test"
      ],
      "metadata": {
        "id": "Hdbc-OqfTyZb"
      }
    },
    {
      "cell_type": "markdown",
      "source": [
        "**We are using the .hist() builtin function**<br>\n",
        "This method uses numpy.histogram to bin the data in x and count the number of values in each bin, then draws the distribution either as a BarContainer or Polygon.\n",
        "\n",
        "The bins, range, density, and weights parameters are forwarded to numpy.histogram."
      ],
      "metadata": {
        "id": "KEoNWKgETfyZ"
      }
    },
    {
      "cell_type": "code",
      "source": [
        "fig, ax1 = plt.subplots(figsize=(4,3))\n",
        "\n",
        "ax1.hist(iforest_scores_test, color=\"darkblue\")\n",
        "\n",
        "ax1.set_title(dataset_name)\n",
        "ax1.set_xlabel(\"outlierness\")\n",
        "ax1.set_ylabel(\"n obs\", color=\"darkblue\")\n",
        "\n",
        "fig.savefig(f\"{dataset_name}_hist.png\", dpi=200, bbox_inches=\"tight\")"
      ],
      "metadata": {
        "id": "tFRXzLuLL5dT"
      },
      "execution_count": null,
      "outputs": []
    },
    {
      "cell_type": "markdown",
      "source": [
        "**At this point, we have two scores for each test observation**:<br>\n",
        "\n",
        "1. score of outlierness (from Isolation Forest);\n",
        "2. score of wrongness (log-loss).<br>\n",
        "\n",
        "Our initial hypothesis is that they are positively correlated:\n",
        ">the more weird a new observation, the more wrong its prediction.\n",
        "\n",
        "To assess if this is true, we can plot the same histogram we have already seen, but this time we will also visualize the average log-loss of each bin.\n",
        "\n"
      ],
      "metadata": {
        "id": "naGSKjUZIZu-"
      }
    },
    {
      "cell_type": "code",
      "source": [
        "cut=pd.cut(iforest_scores_test, bins=10)\n",
        "logloss = logloss_test.groupby(cut).mean()\n",
        "\n",
        "fig, ax1 = plt.subplots(figsize=(4,3))\n",
        "\n",
        "ax2 = ax1.twinx()\n",
        "ax1.hist(iforest_scores_test, color=\"darkblue\")\n",
        "ax2.plot([i.mid for i in logloss.index], logloss, color=\"red\")\n",
        "\n",
        "ax1.set_title(dataset_name)\n",
        "ax1.set_xlabel(\"outlierness\")\n",
        "ax1.set_ylabel(\"n obs\", color=\"darkblue\")\n",
        "ax2.set_ylabel(\"log loss\", color=\"red\")\n",
        "\n",
        "fig.savefig(f\"{dataset_name}_hist_logloss.png\", dpi=200, bbox_inches=\"tight\")"
      ],
      "metadata": {
        "id": "yizuRc4tL8a4"
      },
      "execution_count": null,
      "outputs": []
    },
    {
      "cell_type": "markdown",
      "source": [
        "The correlation between outlierness and log-loss is clearly positive. <br>\n",
        "\n",
        "This means that, in this dataset, outliers are actually harder to predict (i.e. they tend to have a higher log-loss)."
      ],
      "metadata": {
        "id": "t23pcUsfUDC4"
      }
    },
    {
      "cell_type": "markdown",
      "source": [
        "## Repeat for the other datasets"
      ],
      "metadata": {
        "id": "6O4WhmNEWlVt"
      }
    },
    {
      "cell_type": "code",
      "source": [
        "dataset_names = []\n",
        "\n",
        "for dataset_name in DATASET_NAMES:\n",
        "    X, y, num_features, cat_features = get_dataset(dataset_name)\n",
        "\n",
        "    if len(X) > 5000:\n",
        "        dataset_names.append(dataset_name)"
      ],
      "metadata": {
        "id": "2UEG_Cx8L_K0"
      },
      "execution_count": null,
      "outputs": []
    },
    {
      "cell_type": "code",
      "source": [
        "\n",
        "results = []\n",
        "\n",
        "for dataset_name in tqdm(dataset_names):\n",
        "    X, y, num_features, cat_features = get_dataset(dataset_name)\n",
        "\n",
        "    for iteration in range(5):\n",
        "        X_train, X_test, y_train, y_test = train_test_split(X, y)\n",
        "        if len(cat_features) > 0:\n",
        "            cat_encoder = CatBoostEncoder().fit(X_train[cat_features].fillna(\"NULL\"), y_train)\n",
        "            X_train[cat_features] = cat_encoder.transform(X_train[cat_features])\n",
        "            X_test[cat_features] = cat_encoder.transform(X_test[cat_features])\n",
        "            X_train = X_train.fillna(X_train.mean())\n",
        "            X_test = X_test.fillna(X_train.mean())\n",
        "        iforest = IsolationForest(n_estimators = 100).fit(X_train)\n",
        "        iforest_scores_test = pd.Series(-iforest.score_samples(X_test), index=X_test.index)\n",
        "        model = LGBMClassifier(verbose=-1).fit(X_train, y_train)\n",
        "        pred_test = pd.Series(model.predict_proba(X_test)[:,1], index=X_test.index)\n",
        "        logloss_test = individual_log_loss(y_test, pred_test)\n",
        "\n",
        "        iforest_q95 = iforest_scores_test.quantile(.95)\n",
        "        outliers_vs_rest = (iforest_scores_test > iforest_q95).replace({True: \"outliers\", False: \"rest\"})\n",
        "        logloss = logloss_test.groupby(outliers_vs_rest).mean()\n",
        "\n",
        "        results.append({\n",
        "            \"dataset name\": dataset_name,\n",
        "            \"iteration\": iteration,\n",
        "            \"n outliers\": (iforest_scores_test > iforest_q95).sum(),\n",
        "            \"log-loss\": logloss.mean(),\n",
        "            \"log-loss (outliers)\": logloss[\"outliers\"],\n",
        "            \"log-loss (rest)\": logloss[\"rest\"]\n",
        "        })"
      ],
      "metadata": {
        "id": "MKkarmHQMETs"
      },
      "execution_count": null,
      "outputs": []
    },
    {
      "cell_type": "code",
      "source": [
        "results_agg = pd.DataFrame(results).groupby(\"dataset name\").agg({\n",
        "    \"dataset name\": lambda x: x.values[0],\n",
        "    \"iteration\": lambda x: len(x),\n",
        "    \"n outliers\": np.min,\n",
        "    \"log-loss\": np.mean,\n",
        "    \"log-loss (outliers)\": np.mean,\n",
        "    \"log-loss (rest)\": np.mean,\n",
        "})\n",
        "\n",
        "results_agg[\"ratio\"] = np.maximum(results_agg[\"log-loss (outliers)\"], results_agg[\"log-loss (rest)\"]) / np.minimum(results_agg[\"log-loss (outliers)\"], results_agg[\"log-loss (rest)\"])\n",
        "results_agg = results_agg.sort_values(\"ratio\", ascending=False)"
      ],
      "metadata": {
        "id": "z7AWjPM9MaVn"
      },
      "execution_count": null,
      "outputs": []
    },
    {
      "cell_type": "markdown",
      "source": [
        "For the sake of simplicity, consider all observations above the 95th percentile of outlierness as outliers."
      ],
      "metadata": {
        "id": "cK6t0ojhW3xw"
      }
    },
    {
      "cell_type": "code",
      "source": [
        "results_agg.loc[:,[\"log-loss\",\"log-loss (outliers)\",\"log-loss (rest)\"]].round(3) \\\n",
        "    .style.apply(lambda x: [\"background: red\" if (v > results_agg[\"log-loss\"].iloc[e] and x.name ==\"log-loss (outliers)\") else (\"background: lightgreen\" if x.name==\"log-loss (outliers)\" else \"\") for e, v in enumerate(x)])\n"
      ],
      "metadata": {
        "id": "HU9-a44TMc1s"
      },
      "execution_count": null,
      "outputs": []
    },
    {
      "cell_type": "markdown",
      "source": [
        "## For this experiment:<br>\n",
        "\n",
        "1. For some datasets outliers are hard to predict\n",
        ">bank dataset (outliers have higher logloss than rest of dataset)\n",
        "2. For some datasets outliers are easier to predict\n",
        ">telescope (outliers have lower logloss)\n",
        "3. For some datasets there is not a lot difference\n",
        ">wine, income, electrical_grid, credit, employee\n",
        "\n"
      ],
      "metadata": {
        "id": "HDxEd8kbXNeZ"
      }
    },
    {
      "cell_type": "markdown",
      "source": [
        "## Conclusion:<br>\n",
        "\n",
        "**The question:** Do ML models make more mistakes with outliers?\n",
        "\n",
        "**The answer:** it depends"
      ],
      "metadata": {
        "id": "DkXv4BEZYygL"
      }
    },
    {
      "cell_type": "markdown",
      "source": [
        "\n",
        "\n",
        "---\n",
        "\n",
        "\n",
        "\n",
        "---\n",
        "\n"
      ],
      "metadata": {
        "id": "27J3CDE3WeQ2"
      }
    },
    {
      "cell_type": "markdown",
      "source": [
        "**Answers to the question for discussion:**<br>\n",
        "Since the outlier is in a very “sparse” area, it could be harder to predict because the model has few training cases in this area. <br>\n",
        "\n",
        "Yet, the opposite case is also possible: <br>\n",
        ">If the decision threshold is done in such a way that the observations that are near the center of the distribution are associated with more uncertainty (i.e. true probability close to 50%) <br>\n",
        "\n",
        ">This would lead to decisions at the periphery of the distribution have a very high expected probability of being positive (i.e. true probability equal to 90%). In this case, even if there are fewer cases to learn from, the model may be more correct.\n",
        "\n",
        "Or, there is a middle opinion: <br>\n",
        "outliers are neither harder nor easier to predict than standard observations."
      ],
      "metadata": {
        "id": "42GXf_pNL3N3"
      }
    }
  ]
}