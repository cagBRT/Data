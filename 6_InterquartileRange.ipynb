{
  "nbformat": 4,
  "nbformat_minor": 0,
  "metadata": {
    "colab": {
      "name": "6:InterquartileRange.ipynb",
      "private_outputs": true,
      "provenance": [],
      "authorship_tag": "ABX9TyO3RUB7Fh0fDDq5chGdWJkQ",
      "include_colab_link": true
    },
    "kernelspec": {
      "name": "python3",
      "display_name": "Python 3"
    }
  },
  "cells": [
    {
      "cell_type": "markdown",
      "metadata": {
        "id": "view-in-github",
        "colab_type": "text"
      },
      "source": [
        "<a href=\"https://colab.research.google.com/github/cagBRT/Data/blob/main/6_InterquartileRange.ipynb\" target=\"_parent\"><img src=\"https://colab.research.google.com/assets/colab-badge.svg\" alt=\"Open In Colab\"/></a>"
      ]
    },
    {
      "cell_type": "markdown",
      "metadata": {
        "id": "3PisSNGekSxf"
      },
      "source": [
        "This notebook demonstrates how to:<br>\n",
        "Use the Interquartile Range (IQR) and boxplots to find outliers."
      ]
    },
    {
      "cell_type": "markdown",
      "metadata": {
        "id": "TsTUH5TTFPt9"
      },
      "source": [
        "There are three notebooks in the Outliers section:<br>\n",
        "1. This notebook\n",
        "2. [InterquartileRange](https://colab.research.google.com/github/cagBRT/Data/blob/main/6_InterquartileRange.ipynb)\n",
        "3. [AutomaticOutlierDetection](https://colab.research.google.com/github/cagBRT/Data/blob/main/7_AutomaticOutlierDetection.ipynb)"
      ]
    },
    {
      "cell_type": "code",
      "metadata": {
        "id": "vXGnNXXGiWQd"
      },
      "source": [
        "# Clone the entire repo.\n",
        "!git clone -s https://github.com/cagBRT/Data.git cloned-repo\n",
        "%cd cloned-repo"
      ],
      "execution_count": null,
      "outputs": []
    },
    {
      "cell_type": "markdown",
      "metadata": {
        "id": "fPpcRjvs-Pur"
      },
      "source": [
        "Not all data is normal or normal enough to treat it as being drawn from a Gaussian distribution. <br>\n",
        "A good statistic for summarizing a non-Gaussian distribution sample of data is the Interquartile Range, or<br>\n",
        " IQR for short."
      ]
    },
    {
      "cell_type": "markdown",
      "metadata": {
        "id": "2xLTDqXKi1SQ"
      },
      "source": [
        "IQR is equal to the difference between 75th and 25th percentiles, or between upper and lower quartiles,<br>\n",
        "\n",
        " >IQR = Q3 −  Q1"
      ]
    },
    {
      "cell_type": "markdown",
      "metadata": {
        "id": "0IXLIJfQjG4q"
      },
      "source": [
        "The IQR can be clearly seen on a box plot on the data"
      ]
    },
    {
      "cell_type": "markdown",
      "metadata": {
        "id": "B7WGbgKQjiSq"
      },
      "source": [
        "The interquartile range is often used to find outliers in data. <br>\n",
        "Outliers here are defined as observations that:<br>\n",
        " >fall below Q1 − 1.5 IQR <br>\n",
        " above Q3 + 1.5 IQR. <br>\n",
        "\n",
        "In a boxplot, the highest and lowest occurring value within this limit are indicated by whiskers of the box (frequently with an additional bar at the end of the whisker) and any outliers as individual points."
      ]
    },
    {
      "cell_type": "code",
      "metadata": {
        "id": "fdch6Z46ihdA"
      },
      "source": [
        "from IPython.display import Image\n",
        "Image(\"iqr.png\" , width=400)"
      ],
      "execution_count": null,
      "outputs": []
    },
    {
      "cell_type": "code",
      "metadata": {
        "id": "fR2Uncjq8DE8"
      },
      "source": [
        "# identify outliers with interquartile range\n",
        "from numpy.random import seed\n",
        "from numpy.random import randn\n",
        "from numpy import percentile"
      ],
      "execution_count": null,
      "outputs": []
    },
    {
      "cell_type": "code",
      "metadata": {
        "id": "AbPYCaj88I5O"
      },
      "source": [
        "# seed the random number generator seed(1)\n",
        "# generate univariate observations\n",
        "data = 5 * randn(10000) + 50\n",
        "data"
      ],
      "execution_count": null,
      "outputs": []
    },
    {
      "cell_type": "code",
      "source": [
        "data.shape"
      ],
      "metadata": {
        "id": "bZ4DyUMPytnA"
      },
      "execution_count": null,
      "outputs": []
    },
    {
      "cell_type": "code",
      "metadata": {
        "id": "9BsNORpE9YK0"
      },
      "source": [
        "# calculate interquartile range\n",
        "q25, q75 = percentile(data, 25), percentile(data, 75)\n",
        "iqr = q75 - q25\n",
        "print('Percentiles: 25th=%.3f, 75th=%.3f, IQR=%.3f' % (q25, q75, iqr)) # calculate the outlier cutoff\n",
        "cut_off = iqr * 1.5\n",
        "lower, upper = q25 - cut_off, q75 + cut_off"
      ],
      "execution_count": null,
      "outputs": []
    },
    {
      "cell_type": "code",
      "metadata": {
        "id": "4BwamnpF8K20"
      },
      "source": [
        "import matplotlib.pyplot as plt\n",
        "y=[]\n",
        "for i in range(len(data)):\n",
        "  y.append(i)"
      ],
      "execution_count": null,
      "outputs": []
    },
    {
      "cell_type": "code",
      "metadata": {
        "id": "Ld_KzCB38pnm"
      },
      "source": [
        "plt.scatter(data,y)\n",
        "plt.axvline(lower, c='red')\n",
        "plt.axvline(upper, c='red')\n",
        "plt.show()"
      ],
      "execution_count": null,
      "outputs": []
    },
    {
      "cell_type": "code",
      "metadata": {
        "id": "1J9Mtr_uw3Ki"
      },
      "source": [
        "# identify outliers\n",
        "outliers = [x for x in data if x < lower or x > upper]\n",
        "print('Identified outliers: %d' % len(outliers))\n",
        "# remove outliers\n",
        "outliers_removed = [x for x in data if x >= lower and x <= upper]\n",
        "print('Non-outlier observations: %d' % len(outliers_removed))\n",
        "yy=[]\n",
        "for i in range(len(outliers_removed)):\n",
        "  yy.append(i)"
      ],
      "execution_count": null,
      "outputs": []
    },
    {
      "cell_type": "code",
      "metadata": {
        "id": "3TqK4ocW9p3D"
      },
      "source": [
        "plt.scatter(outliers_removed,yy)\n",
        "plt.axvline(lower, c='red')\n",
        "plt.axvline(upper, c='red')\n",
        "plt.show()"
      ],
      "execution_count": null,
      "outputs": []
    },
    {
      "cell_type": "code",
      "metadata": {
        "id": "xf941rjQjupI"
      },
      "source": [
        "plt.boxplot(data, y)"
      ],
      "execution_count": null,
      "outputs": []
    },
    {
      "cell_type": "code",
      "metadata": {
        "id": "O4MHAG-LkKim"
      },
      "source": [
        "plt.boxplot(outliers_removed, y)"
      ],
      "execution_count": null,
      "outputs": []
    },
    {
      "cell_type": "markdown",
      "metadata": {
        "id": "DIXc69tKkpu9"
      },
      "source": [
        "Assignment <br>\n",
        "Use the IRQ and boxplot to find any outliers in:<br>\n",
        "Outliers.csv"
      ]
    },
    {
      "cell_type": "code",
      "metadata": {
        "id": "w2Y2uHmcUq9T"
      },
      "source": [],
      "execution_count": null,
      "outputs": []
    },
    {
      "cell_type": "code",
      "metadata": {
        "cellView": "form",
        "id": "qzpaD03xlZx0"
      },
      "source": [
        "#@title\n",
        "#!cat /content/cloned-repo/Outliers.csv\n",
        "import csv\n",
        "\n",
        "with open('/content/cloned-repo/Outliers.csv') as csvfile:\n",
        "  file_reader = csv.reader(csvfile, delimiter=',', quotechar='|')\n",
        "  qoutlist=list(file_reader)\n",
        "\n",
        "x=[]\n",
        "for i in range(1,len(qoutlist)):\n",
        "  x.append(float(qoutlist[i][0]))"
      ],
      "execution_count": null,
      "outputs": []
    },
    {
      "cell_type": "code",
      "metadata": {
        "cellView": "form",
        "id": "D9wHSfMrlmlQ"
      },
      "source": [
        "#@title\n",
        "yout=[]\n",
        "for i in range(len(qoutlist)):\n",
        "  yout.append(i)\n",
        "plt.boxplot(x, yout)"
      ],
      "execution_count": null,
      "outputs": []
    }
  ]
}