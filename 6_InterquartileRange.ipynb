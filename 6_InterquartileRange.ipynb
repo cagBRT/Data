{
  "nbformat": 4,
  "nbformat_minor": 0,
  "metadata": {
    "colab": {
      "name": "6:InterquartileRange.ipynb",
      "private_outputs": true,
      "provenance": [],
      "authorship_tag": "ABX9TyPiAQkwTuPNegpaROqkqrMM",
      "include_colab_link": true
    },
    "kernelspec": {
      "name": "python3",
      "display_name": "Python 3"
    }
  },
  "cells": [
    {
      "cell_type": "markdown",
      "metadata": {
        "id": "view-in-github",
        "colab_type": "text"
      },
      "source": [
        "<a href=\"https://colab.research.google.com/github/cagBRT/Data/blob/main/6_InterquartileRange.ipynb\" target=\"_parent\"><img src=\"https://colab.research.google.com/assets/colab-badge.svg\" alt=\"Open In Colab\"/></a>"
      ]
    },
    {
      "cell_type": "markdown",
      "metadata": {
        "id": "fPpcRjvs-Pur"
      },
      "source": [
        "Not all data is normal or normal enough to treat it as being drawn from a Gaussian distribution. <br>\n",
        "A good statistic for summarizing a non-Gaussian distribution sample of data is the Interquartile Range, or<br>\n",
        " IQR for short."
      ]
    },
    {
      "cell_type": "code",
      "metadata": {
        "id": "fR2Uncjq8DE8"
      },
      "source": [
        "# identify outliers with interquartile range\n",
        "from numpy.random import seed\n",
        "from numpy.random import randn \n",
        "from numpy import percentile"
      ],
      "execution_count": null,
      "outputs": []
    },
    {
      "cell_type": "code",
      "metadata": {
        "id": "AbPYCaj88I5O"
      },
      "source": [
        "# seed the random number generator seed(1)\n",
        "# generate univariate observations\n",
        "data = 5 * randn(10000) + 50\n",
        "data.shape"
      ],
      "execution_count": null,
      "outputs": []
    },
    {
      "cell_type": "code",
      "metadata": {
        "id": "9BsNORpE9YK0"
      },
      "source": [
        "# calculate interquartile range\n",
        "q25, q75 = percentile(data, 25), percentile(data, 75)\n",
        "iqr = q75 - q25\n",
        "print('Percentiles: 25th=%.3f, 75th=%.3f, IQR=%.3f' % (q25, q75, iqr)) # calculate the outlier cutoff\n",
        "cut_off = iqr * 1.5\n",
        "lower, upper = q25 - cut_off, q75 + cut_off"
      ],
      "execution_count": null,
      "outputs": []
    },
    {
      "cell_type": "code",
      "metadata": {
        "id": "4BwamnpF8K20"
      },
      "source": [
        "import matplotlib.pyplot as plt\n",
        "y=[]\n",
        "for i in range(len(data)): \n",
        "  y.append(i)"
      ],
      "execution_count": null,
      "outputs": []
    },
    {
      "cell_type": "code",
      "metadata": {
        "id": "Ld_KzCB38pnm"
      },
      "source": [
        "plt.scatter(data,y)\n",
        "plt.axvline(lower, c='red')\n",
        "plt.axvline(upper, c='red')\n",
        "plt.show()"
      ],
      "execution_count": null,
      "outputs": []
    },
    {
      "cell_type": "code",
      "metadata": {
        "id": "1J9Mtr_uw3Ki"
      },
      "source": [
        "\n",
        "# identify outliers\n",
        "outliers = [x for x in data if x < lower or x > upper] \n",
        "print('Identified outliers: %d' % len(outliers))\n",
        "# remove outliers\n",
        "outliers_removed = [x for x in data if x >= lower and x <= upper] \n",
        "print('Non-outlier observations: %d' % len(outliers_removed))\n",
        "yy=[]\n",
        "for i in range(len(outliers_removed)): \n",
        "  yy.append(i)"
      ],
      "execution_count": null,
      "outputs": []
    },
    {
      "cell_type": "code",
      "metadata": {
        "id": "3TqK4ocW9p3D"
      },
      "source": [
        "plt.scatter(outliers_removed,yy)\n",
        "plt.axvline(lower, c='red')\n",
        "plt.axvline(upper, c='red')\n",
        "plt.show()"
      ],
      "execution_count": null,
      "outputs": []
    }
  ]
}