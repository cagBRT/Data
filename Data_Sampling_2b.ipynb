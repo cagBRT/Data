{
  "nbformat": 4,
  "nbformat_minor": 0,
  "metadata": {
    "colab": {
      "name": "Data Sampling 2b.ipynb",
      "private_outputs": true,
      "provenance": [],
      "authorship_tag": "ABX9TyNOW2+n04OQx2BUTEwXXdkP",
      "include_colab_link": true
    },
    "kernelspec": {
      "name": "python3",
      "display_name": "Python 3"
    },
    "language_info": {
      "name": "python"
    }
  },
  "cells": [
    {
      "cell_type": "markdown",
      "metadata": {
        "id": "view-in-github",
        "colab_type": "text"
      },
      "source": [
        "<a href=\"https://colab.research.google.com/github/cagBRT/Data/blob/main/Data_Sampling_2b.ipynb\" target=\"_parent\"><img src=\"https://colab.research.google.com/assets/colab-badge.svg\" alt=\"Open In Colab\"/></a>"
      ]
    },
    {
      "cell_type": "code",
      "metadata": {
        "id": "GyhF6pK4cYns"
      },
      "source": [
        "pip install six"
      ],
      "execution_count": null,
      "outputs": []
    },
    {
      "cell_type": "markdown",
      "metadata": {
        "id": "1HRLEXHtGVAd"
      },
      "source": [
        "# **Synthetic Minority Oversampling Technique (SMOTE)**"
      ]
    },
    {
      "cell_type": "markdown",
      "metadata": {
        "id": "HCO_xQiCfFMz"
      },
      "source": [
        "**Import libraries**"
      ]
    },
    {
      "cell_type": "code",
      "metadata": {
        "id": "FCi4nzduf_4J"
      },
      "source": [
        "from numpy import mean\n",
        "from sklearn.datasets import make_classification\n",
        "from sklearn.model_selection import cross_val_score\n",
        "from sklearn.model_selection import RepeatedStratifiedKFold\n",
        "from sklearn.tree import DecisionTreeClassifier\n",
        "from imblearn.pipeline import Pipeline\n",
        "from imblearn.over_sampling import SMOTE"
      ],
      "execution_count": null,
      "outputs": []
    },
    {
      "cell_type": "markdown",
      "metadata": {
        "id": "XcTGbpNAhD_-"
      },
      "source": [
        "**Create imbalanced dataset**"
      ]
    },
    {
      "cell_type": "code",
      "metadata": {
        "id": "l4GooXLEgSgG"
      },
      "source": [
        "X, y = make_classification(n_samples=10000, n_features=2, n_redundant=0,\n",
        "n_clusters_per_class=1, weights=[0.99], flip_y=0, random_state=1)"
      ],
      "execution_count": null,
      "outputs": []
    },
    {
      "cell_type": "markdown",
      "metadata": {
        "id": "vSEYp6f-hIMl"
      },
      "source": [
        "**Train a DecisionTreeClassifier on the imbalanced dataset**"
      ]
    },
    {
      "cell_type": "code",
      "metadata": {
        "id": "Ok21tqm8vRqY"
      },
      "source": [
        "# values to evaluate\n",
        "k_values = [1, 2, 3, 4, 5, 6, 7] \n",
        "for k in k_values:\n",
        "  # define pipeline\n",
        "  model = DecisionTreeClassifier()\n",
        "  # evaluate pipeline\n",
        "  cv = RepeatedStratifiedKFold(n_splits=10, n_repeats=3, random_state=1)\n",
        "  scores = cross_val_score(model, X, y, scoring='roc_auc', cv=cv, n_jobs=-1) \n",
        "  score = mean(scores)\n",
        "  print('> k=%d, Mean ROC AUC: %.3f' % (k, score))"
      ],
      "execution_count": null,
      "outputs": []
    },
    {
      "cell_type": "markdown",
      "metadata": {
        "id": "dmnD4-rThgc4"
      },
      "source": [
        "**Use SMOTE to modify the dataset**<br>\n",
        "Retrain the model on the new dataset"
      ]
    },
    {
      "cell_type": "code",
      "metadata": {
        "id": "rjaLI6shgy0g"
      },
      "source": [
        "# values to evaluate\n",
        "k_values = [1, 2, 3, 4, 5, 6, 7] \n",
        "for k in k_values:\n",
        "  # define pipeline\n",
        "  model = DecisionTreeClassifier()\n",
        "  over = SMOTE(sampling_strategy=0.1, k_neighbors=k)\n",
        "  pipeline = Pipeline(steps=[('over', over), ('model', model)])\n",
        "  # evaluate pipeline\n",
        "  cv = RepeatedStratifiedKFold(n_splits=10, n_repeats=3, random_state=1)\n",
        "  scores = cross_val_score(pipeline, X, y, scoring='roc_auc', cv=cv, n_jobs=-1) \n",
        "  score = mean(scores)\n",
        "  print('> k=%d, Mean ROC AUC: %.3f' % (k, score))"
      ],
      "execution_count": null,
      "outputs": []
    },
    {
      "cell_type": "markdown",
      "metadata": {
        "id": "gTCAABm2hzMj"
      },
      "source": [
        ""
      ]
    },
    {
      "cell_type": "code",
      "metadata": {
        "id": "5Mam4uSBvfj3"
      },
      "source": [
        "# borderline-SMOTE for imbalanced dataset\n",
        "from collections import Counter\n",
        "from sklearn.datasets import make_classification \n",
        "from imblearn.over_sampling import BorderlineSMOTE \n",
        "from matplotlib import pyplot\n",
        "from numpy import where\n",
        "# define dataset\n",
        "X, y = make_classification(n_samples=10000, n_features=2, n_redundant=0,\n",
        "n_clusters_per_class=1, weights=[0.99], flip_y=0, random_state=1)\n",
        "# summarize class distribution\n",
        "counter = Counter(y)\n",
        "print(counter)\n",
        "# transform the dataset\n",
        "oversample = BorderlineSMOTE()\n",
        "X, y = oversample.fit_resample(X, y)\n",
        "# summarize the new class distribution counter = Counter(y)\n",
        "print(counter)\n",
        "# scatter plot of examples by class label \n",
        "for label, _ in counter.items():\n",
        "  row_ix = where(y == label)[0]\n",
        "  pyplot.scatter(X[row_ix, 0], X[row_ix, 1], label=str(label)) \n",
        "  pyplot.legend()\n",
        "pyplot.show()"
      ],
      "execution_count": null,
      "outputs": []
    },
    {
      "cell_type": "code",
      "metadata": {
        "id": "yhFdPS4jvv6x"
      },
      "source": [
        "# borderline-SMOTE with SVM for imbalanced dataset\n",
        "from collections import Counter\n",
        "from sklearn.datasets import make_classification\n",
        "from imblearn.over_sampling import SVMSMOTE\n",
        "from matplotlib import pyplot\n",
        "from numpy import where\n",
        "# define dataset\n",
        "X, y = make_classification(n_samples=10000, n_features=2, n_redundant=0,\n",
        "n_clusters_per_class=1, weights=[0.99], flip_y=0, random_state=1)\n",
        "# summarize class distribution\n",
        "counter = Counter(y)\n",
        "print(counter)\n",
        "# transform the dataset\n",
        "oversample = SVMSMOTE()\n",
        "X, y = oversample.fit_resample(X, y)\n",
        "# summarize the new class distribution counter = Counter(y)\n",
        "print(counter)\n",
        "# scatter plot of examples by class label \n",
        "for label, _ in counter.items():\n",
        "  row_ix = where(y == label)[0]\n",
        "  pyplot.scatter(X[row_ix, 0], X[row_ix, 1], label=str(label)) \n",
        "  pyplot.legend()\n",
        "pyplot.show()"
      ],
      "execution_count": null,
      "outputs": []
    },
    {
      "cell_type": "code",
      "metadata": {
        "id": "-cUKRyHjv4vg"
      },
      "source": [
        "# Oversample and plot imbalanced dataset with ADASYN\n",
        "from collections import Counter\n",
        "from sklearn.datasets import make_classification\n",
        "from imblearn.over_sampling import ADASYN\n",
        "from matplotlib import pyplot\n",
        "from numpy import where\n",
        "# define dataset\n",
        "X, y = make_classification(n_samples=10000, n_features=2, n_redundant=0,\n",
        "n_clusters_per_class=1, weights=[0.99], flip_y=0, random_state=1)\n",
        "# summarize class distribution\n",
        "counter = Counter(y)\n",
        "print(counter)\n",
        "# transform the dataset\n",
        "oversample = ADASYN()\n",
        "X, y = oversample.fit_resample(X, y)\n",
        "# summarize the new class distribution counter = Counter(y)\n",
        "print(counter)\n",
        "# scatter plot of examples by class label \n",
        "for label, _ in counter.items():\n",
        "  row_ix = where(y == label)[0]\n",
        "  pyplot.scatter(X[row_ix, 0], X[row_ix, 1], label=str(label)) \n",
        "  pyplot.legend()\n",
        "pyplot.show()"
      ],
      "execution_count": null,
      "outputs": []
    }
  ]
}