{
  "nbformat": 4,
  "nbformat_minor": 0,
  "metadata": {
    "colab": {
      "name": "Data Sampling 2b.ipynb",
      "private_outputs": true,
      "provenance": [],
      "authorship_tag": "ABX9TyOyiz5xURlk/BuMcr3WdPEt",
      "include_colab_link": true
    },
    "kernelspec": {
      "name": "python3",
      "display_name": "Python 3"
    },
    "language_info": {
      "name": "python"
    }
  },
  "cells": [
    {
      "cell_type": "markdown",
      "metadata": {
        "id": "view-in-github",
        "colab_type": "text"
      },
      "source": [
        "<a href=\"https://colab.research.google.com/github/cagBRT/Data/blob/main/Data_Sampling_2b.ipynb\" target=\"_parent\"><img src=\"https://colab.research.google.com/assets/colab-badge.svg\" alt=\"Open In Colab\"/></a>"
      ]
    },
    {
      "cell_type": "code",
      "metadata": {
        "id": "GyhF6pK4cYns"
      },
      "source": [
        "pip install six"
      ],
      "execution_count": null,
      "outputs": []
    },
    {
      "cell_type": "markdown",
      "metadata": {
        "id": "1HRLEXHtGVAd"
      },
      "source": [
        "# **Synthetic Minority Oversampling Technique (SMOTE)**"
      ]
    },
    {
      "cell_type": "markdown",
      "metadata": {
        "id": "HCO_xQiCfFMz"
      },
      "source": [
        "**Import libraries**"
      ]
    },
    {
      "cell_type": "code",
      "metadata": {
        "id": "FCi4nzduf_4J"
      },
      "source": [
        "from numpy import mean\n",
        "from sklearn.datasets import make_classification\n",
        "from sklearn.model_selection import cross_val_score\n",
        "from sklearn.model_selection import RepeatedStratifiedKFold\n",
        "from sklearn.tree import DecisionTreeClassifier\n",
        "from imblearn.pipeline import Pipeline\n",
        "from imblearn.over_sampling import SMOTE"
      ],
      "execution_count": null,
      "outputs": []
    },
    {
      "cell_type": "markdown",
      "metadata": {
        "id": "XcTGbpNAhD_-"
      },
      "source": [
        "**Create imbalanced dataset**"
      ]
    },
    {
      "cell_type": "code",
      "metadata": {
        "id": "l4GooXLEgSgG"
      },
      "source": [
        "X, y = make_classification(n_samples=10000, n_features=2, n_redundant=0,\n",
        "n_clusters_per_class=1, weights=[0.99], flip_y=0, random_state=1)"
      ],
      "execution_count": null,
      "outputs": []
    },
    {
      "cell_type": "markdown",
      "metadata": {
        "id": "vSEYp6f-hIMl"
      },
      "source": [
        "**Train a DecisionTreeClassifier on the imbalanced dataset**"
      ]
    },
    {
      "cell_type": "code",
      "metadata": {
        "id": "Ok21tqm8vRqY"
      },
      "source": [
        "# values to evaluate\n",
        "k_values = [1, 2, 3, 4, 5, 6, 7] \n",
        "for k in k_values:\n",
        "  # define pipeline\n",
        "  model = DecisionTreeClassifier()\n",
        "  # evaluate pipeline\n",
        "  cv = RepeatedStratifiedKFold(n_splits=10, n_repeats=3, random_state=1)\n",
        "  scores = cross_val_score(model, X, y, scoring='roc_auc', cv=cv, n_jobs=-1) \n",
        "  score = mean(scores)\n",
        "  print('> k=%d, Mean ROC AUC: %.3f' % (k, score))"
      ],
      "execution_count": null,
      "outputs": []
    },
    {
      "cell_type": "markdown",
      "metadata": {
        "id": "dmnD4-rThgc4"
      },
      "source": [
        "**Use SMOTE to modify the dataset**<br>\n",
        "Retrain the model on the new dataset"
      ]
    },
    {
      "cell_type": "code",
      "metadata": {
        "id": "rjaLI6shgy0g"
      },
      "source": [
        "# values to evaluate\n",
        "k_values = [1, 2, 3, 4, 5, 6, 7] \n",
        "for k in k_values:\n",
        "  # define pipeline\n",
        "  model = DecisionTreeClassifier()\n",
        "  over = SMOTE(sampling_strategy=0.1, k_neighbors=k)\n",
        "  pipeline = Pipeline(steps=[('over', over), ('model', model)])\n",
        "  # evaluate pipeline\n",
        "  cv = RepeatedStratifiedKFold(n_splits=10, n_repeats=3, random_state=1)\n",
        "  scores = cross_val_score(pipeline, X, y, scoring='roc_auc', cv=cv, n_jobs=-1) \n",
        "  score = mean(scores)\n",
        "  print('> k=%d, Mean ROC AUC: %.3f' % (k, score))"
      ],
      "execution_count": null,
      "outputs": []
    },
    {
      "cell_type": "markdown",
      "metadata": {
        "id": "MwYy4nnpAHBp"
      },
      "source": [
        "**Assignment**<br>\n",
        "1. Try different sizes of the dataset and note any changes in the impact of the SMOTE algorithm\n",
        "\n",
        "2. Change the ratio of the classes, what ratio is using SMOTE unnecessary?\n"
      ]
    },
    {
      "cell_type": "markdown",
      "metadata": {
        "id": "Xpt_THkK_5IG"
      },
      "source": [
        "\n",
        "\n",
        "---\n",
        "\n",
        "\n",
        "\n",
        "---\n",
        "\n"
      ]
    },
    {
      "cell_type": "markdown",
      "metadata": {
        "id": "M0znY8gZicAo"
      },
      "source": [
        "# **Borderline SMOTE**"
      ]
    },
    {
      "cell_type": "markdown",
      "metadata": {
        "id": "gTCAABm2hzMj"
      },
      "source": [
        "Borderline SMOTE is used when you want to be selective about the minority class modifications"
      ]
    },
    {
      "cell_type": "markdown",
      "metadata": {
        "id": "GoZDgJWljjUU"
      },
      "source": [
        "Borderline SMOTE selects data examples that are in the minority class and have been misclassified. <br>\n",
        "The misclassified instances most likely overlap another class (on or near a decision boundary)"
      ]
    },
    {
      "cell_type": "markdown",
      "metadata": {
        "id": "VVOmXRQ8i44_"
      },
      "source": [
        "**Import libraries**"
      ]
    },
    {
      "cell_type": "code",
      "metadata": {
        "id": "9Ca7hCPDilOG"
      },
      "source": [
        "# borderline-SMOTE for imbalanced dataset\n",
        "from collections import Counter\n",
        "from sklearn.datasets import make_classification \n",
        "from imblearn.over_sampling import BorderlineSMOTE \n",
        "from matplotlib import pyplot\n",
        "from numpy import where"
      ],
      "execution_count": null,
      "outputs": []
    },
    {
      "cell_type": "markdown",
      "metadata": {
        "id": "GOhBhYUwi9ps"
      },
      "source": [
        "**Define a dataset**"
      ]
    },
    {
      "cell_type": "code",
      "metadata": {
        "id": "DLB9bOzCioZg"
      },
      "source": [
        "# define dataset\n",
        "X, y = make_classification(n_samples=10000, n_features=2, n_redundant=0,\n",
        "n_clusters_per_class=1, weights=[0.99], flip_y=0, random_state=1)\n",
        "# summarize class distribution\n",
        "counter = Counter(y)\n",
        "print(counter)"
      ],
      "execution_count": null,
      "outputs": []
    },
    {
      "cell_type": "code",
      "metadata": {
        "id": "KtGl9PETjLsR"
      },
      "source": [
        "for label, _ in counter.items():\n",
        "  row_ix = where(y == label)[0]\n",
        "  pyplot.scatter(X[row_ix, 0], X[row_ix, 1], label=str(label)) \n",
        "  pyplot.legend()\n",
        "pyplot.show()"
      ],
      "execution_count": null,
      "outputs": []
    },
    {
      "cell_type": "code",
      "metadata": {
        "id": "R9Jdh9XAiryc"
      },
      "source": [
        "# transform the dataset\n",
        "oversample = BorderlineSMOTE()\n",
        "X, y = oversample.fit_resample(X, y)\n",
        "# summarize the new class distribution \n",
        "counter = Counter(y)\n",
        "print(counter)"
      ],
      "execution_count": null,
      "outputs": []
    },
    {
      "cell_type": "code",
      "metadata": {
        "id": "5Mam4uSBvfj3"
      },
      "source": [
        "# scatter plot of examples by class label \n",
        "for label, _ in counter.items():\n",
        "  row_ix = where(y == label)[0]\n",
        "  pyplot.scatter(X[row_ix, 0], X[row_ix, 1], label=str(label)) \n",
        "  pyplot.legend()\n",
        "pyplot.show()"
      ],
      "execution_count": null,
      "outputs": []
    },
    {
      "cell_type": "markdown",
      "metadata": {
        "id": "EUI2n_jpA6Vu"
      },
      "source": [
        "\n",
        "\n",
        "---\n",
        "\n",
        "\n",
        "\n",
        "---\n",
        "\n"
      ]
    },
    {
      "cell_type": "markdown",
      "metadata": {
        "id": "tHTD07VnBFqe"
      },
      "source": [
        "# **Using SMOTE with a Support Vector Machine**"
      ]
    },
    {
      "cell_type": "markdown",
      "metadata": {
        "id": "UIBUue6aBOLT"
      },
      "source": [
        "Recall, SVMs use data instances that are clloses to thhe boundary decision plane (support vectors). If we use SMOTE or Borderline-SMOTE we could skew the decision boundary. <br>\n",
        "\n",
        "Instead, use SVMSMOT, which is sspecifically designed for SVMs"
      ]
    },
    {
      "cell_type": "markdown",
      "metadata": {
        "id": "ugrD3WpfC5Ww"
      },
      "source": [
        "SVMSMOTE uses an SVM to find the decision boundary defined by the support vectors and identifies instances in the minority class that are close to the support vectors. These instances become the focus for generating synthetic examples."
      ]
    },
    {
      "cell_type": "markdown",
      "metadata": {
        "id": "PTks7QubDLe8"
      },
      "source": [
        "**Import libraries**"
      ]
    },
    {
      "cell_type": "code",
      "metadata": {
        "id": "MWspLLAnB5uF"
      },
      "source": [
        "from collections import Counter\n",
        "from sklearn.datasets import make_classification\n",
        "from imblearn.over_sampling import SVMSMOTE\n",
        "from matplotlib import pyplot\n",
        "from numpy import where"
      ],
      "execution_count": null,
      "outputs": []
    },
    {
      "cell_type": "markdown",
      "metadata": {
        "id": "KAQe58VNDQIM"
      },
      "source": [
        "**Create an imbalanced dataset**"
      ]
    },
    {
      "cell_type": "code",
      "metadata": {
        "id": "YhALTsDuB91s"
      },
      "source": [
        "X, y = make_classification(n_samples=10000, n_features=2, n_redundant=0,\n",
        "n_clusters_per_class=1, weights=[0.99], flip_y=0, random_state=1)\n",
        "# summarize class distribution\n",
        "counter = Counter(y)\n",
        "print(counter)"
      ],
      "execution_count": null,
      "outputs": []
    },
    {
      "cell_type": "code",
      "metadata": {
        "id": "rIw6xIHECLYr"
      },
      "source": [
        "for label, _ in counter.items():\n",
        "  row_ix = where(y == label)[0]\n",
        "  pyplot.scatter(X[row_ix, 0], X[row_ix, 1], label=str(label)) \n",
        "  pyplot.legend()\n",
        "pyplot.show()"
      ],
      "execution_count": null,
      "outputs": []
    },
    {
      "cell_type": "markdown",
      "metadata": {
        "id": "Hrdetv0MDZvT"
      },
      "source": [
        "**Use the SVMSMOTE function to transform the dataset**"
      ]
    },
    {
      "cell_type": "code",
      "metadata": {
        "id": "KUyN9jF3CCGm"
      },
      "source": [
        "# transform the dataset\n",
        "oversample = SVMSMOTE()\n",
        "X, y = oversample.fit_resample(X, y)\n",
        "# summarize the new class distribution \n",
        "counter = Counter(y)\n",
        "print(counter)"
      ],
      "execution_count": null,
      "outputs": []
    },
    {
      "cell_type": "code",
      "metadata": {
        "id": "yhFdPS4jvv6x"
      },
      "source": [
        "# scatter plot of examples by class label \n",
        "for label, _ in counter.items():\n",
        "  row_ix = where(y == label)[0]\n",
        "  pyplot.scatter(X[row_ix, 0], X[row_ix, 1], label=str(label)) \n",
        "  pyplot.legend()\n",
        "pyplot.show()"
      ],
      "execution_count": null,
      "outputs": []
    },
    {
      "cell_type": "markdown",
      "metadata": {
        "id": "uE0EXroJDhaQ"
      },
      "source": [
        "\n",
        "\n",
        "---\n",
        "\n",
        "\n",
        "\n",
        "---\n",
        "\n"
      ]
    },
    {
      "cell_type": "markdown",
      "metadata": {
        "id": "R47NBwybDqjo"
      },
      "source": [
        "# **Adaptive Synthetic Sampling (ADASYN)**"
      ]
    },
    {
      "cell_type": "markdown",
      "metadata": {
        "id": "Xy3lQ_aNDvog"
      },
      "source": [
        "ADASYN is used on imbalanced datasets to generate minority class instances in low density areas. ADASYN does not generate minority class instances in high density areas"
      ]
    },
    {
      "cell_type": "markdown",
      "metadata": {
        "id": "oA5b4dhXEVMK"
      },
      "source": [
        "**Import libraries**"
      ]
    },
    {
      "cell_type": "code",
      "metadata": {
        "id": "58ssxwY2EUiw"
      },
      "source": [
        "from collections import Counter\n",
        "from sklearn.datasets import make_classification\n",
        "from imblearn.over_sampling import ADASYN\n",
        "from matplotlib import pyplot\n",
        "from numpy import where"
      ],
      "execution_count": null,
      "outputs": []
    },
    {
      "cell_type": "code",
      "metadata": {
        "id": "RiTGCb5EEbP0"
      },
      "source": [
        "# define dataset\n",
        "X, y = make_classification(n_samples=10000, n_features=2, n_redundant=0,\n",
        "n_clusters_per_class=1, weights=[0.99], flip_y=0, random_state=1)\n",
        "# summarize class distribution\n",
        "counter = Counter(y)\n",
        "print(counter)"
      ],
      "execution_count": null,
      "outputs": []
    },
    {
      "cell_type": "code",
      "metadata": {
        "id": "XafuqYvJEeUP"
      },
      "source": [
        "for label, _ in counter.items():\n",
        "  row_ix = where(y == label)[0]\n",
        "  pyplot.scatter(X[row_ix, 0], X[row_ix, 1], label=str(label)) \n",
        "  pyplot.legend()\n",
        "pyplot.show()"
      ],
      "execution_count": null,
      "outputs": []
    },
    {
      "cell_type": "markdown",
      "metadata": {
        "id": "dyQCxPZDEiCd"
      },
      "source": [
        "Modify the dataset with ADASYN"
      ]
    },
    {
      "cell_type": "code",
      "metadata": {
        "id": "-cUKRyHjv4vg"
      },
      "source": [
        "oversample = ADASYN()\n",
        "X, y = oversample.fit_resample(X, y)\n",
        "# summarize the new class distribution \n",
        "counter = Counter(y)\n",
        "print(counter)\n"
      ],
      "execution_count": null,
      "outputs": []
    },
    {
      "cell_type": "code",
      "metadata": {
        "id": "5QPYXLhUEoWe"
      },
      "source": [
        "# scatter plot of examples by class label \n",
        "for label, _ in counter.items():\n",
        "  row_ix = where(y == label)[0]\n",
        "  pyplot.scatter(X[row_ix, 0], X[row_ix, 1], label=str(label)) \n",
        "  pyplot.legend()\n",
        "pyplot.show()"
      ],
      "execution_count": null,
      "outputs": []
    }
  ]
}