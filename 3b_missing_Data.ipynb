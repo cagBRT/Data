{
  "nbformat": 4,
  "nbformat_minor": 0,
  "metadata": {
    "colab": {
      "private_outputs": true,
      "provenance": [],
      "authorship_tag": "ABX9TyM78/kIoDp2JiHlvHnAEoGu",
      "include_colab_link": true
    },
    "kernelspec": {
      "name": "python3",
      "display_name": "Python 3"
    },
    "language_info": {
      "name": "python"
    }
  },
  "cells": [
    {
      "cell_type": "markdown",
      "metadata": {
        "id": "view-in-github",
        "colab_type": "text"
      },
      "source": [
        "<a href=\"https://colab.research.google.com/github/cagBRT/Data/blob/main/3b_missing_Data.ipynb\" target=\"_parent\"><img src=\"https://colab.research.google.com/assets/colab-badge.svg\" alt=\"Open In Colab\"/></a>"
      ]
    },
    {
      "cell_type": "code",
      "source": [
        "import numpy as np\n",
        "from sklearn.impute import SimpleImputer\n",
        "from sklearn.impute import KNNImputer\n",
        "nan = np.nan"
      ],
      "metadata": {
        "id": "Z5cCt-3KN62_"
      },
      "execution_count": null,
      "outputs": []
    },
    {
      "cell_type": "code",
      "source": [
        "X = [[1, 2, nan], [3, 4, 3], [nan, 6, 5], [8, 8, 7]]"
      ],
      "metadata": {
        "id": "SxjVr_fOOATd"
      },
      "execution_count": null,
      "outputs": []
    },
    {
      "cell_type": "markdown",
      "source": [
        "**Replacing with the mean**"
      ],
      "metadata": {
        "id": "0FvanA13Or1p"
      }
    },
    {
      "cell_type": "code",
      "source": [
        "#replace missing values with the mean of its column\n",
        "imputer = SimpleImputer(missing_values=np.nan,strategy= 'mean')\n",
        "# fit on the dataset\n",
        "imputer= imputer.fit(X)\n",
        "print(imputer.transform(X))"
      ],
      "metadata": {
        "id": "PigvFbzsOOMH"
      },
      "execution_count": null,
      "outputs": []
    },
    {
      "cell_type": "markdown",
      "source": [
        "**The KNNImputer** class provides imputation for filling in missing values using the k-Nearest Neighbors approach. By default, a euclidean distance metric that supports missing values, nan_euclidean_distances, is used to find the nearest neighbors. Each missing feature is imputed using values from n_neighbors nearest neighbors that have a value for the feature. The feature of the neighbors are averaged uniformly or weighted by distance to each neighbor. "
      ],
      "metadata": {
        "id": "EWV1i9XXNrU2"
      }
    },
    {
      "cell_type": "markdown",
      "source": [
        "**Replacing with KNN**"
      ],
      "metadata": {
        "id": "hq0RbIY3OvRv"
      }
    },
    {
      "cell_type": "code",
      "execution_count": null,
      "metadata": {
        "id": "x3uxulbINCmc"
      },
      "outputs": [],
      "source": [
        "X = [[1, 2, nan], [3, 4, 3], [nan, 6, 5], [8, 8, 7]]"
      ]
    },
    {
      "cell_type": "code",
      "source": [
        "imputer = KNNImputer(n_neighbors=2, weights=\"uniform\")\n",
        "imputer.fit_transform(X)"
      ],
      "metadata": {
        "id": "zjijGR5gNxxK"
      },
      "execution_count": null,
      "outputs": []
    }
  ]
}