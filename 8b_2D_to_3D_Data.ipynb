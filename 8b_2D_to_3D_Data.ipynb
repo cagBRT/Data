{
  "nbformat": 4,
  "nbformat_minor": 0,
  "metadata": {
    "colab": {
      "name": "8b 2D to 3D Data.ipynb",
      "private_outputs": true,
      "provenance": [],
      "authorship_tag": "ABX9TyPQTR0hDYfEZym8Y6jquoVP",
      "include_colab_link": true
    },
    "kernelspec": {
      "name": "python3",
      "display_name": "Python 3"
    },
    "language_info": {
      "name": "python"
    }
  },
  "cells": [
    {
      "cell_type": "markdown",
      "metadata": {
        "id": "view-in-github",
        "colab_type": "text"
      },
      "source": [
        "<a href=\"https://colab.research.google.com/github/cagBRT/Data/blob/main/8b_2D_to_3D_Data.ipynb\" target=\"_parent\"><img src=\"https://colab.research.google.com/assets/colab-badge.svg\" alt=\"Open In Colab\"/></a>"
      ]
    },
    {
      "cell_type": "code",
      "metadata": {
        "id": "wGRdTpAuC9PY"
      },
      "source": [
        "# Clone the entire repo.\n",
        "!git clone -l -s https://github.com/cagBRT/timeSeries.git cloned-repo\n",
        "%cd cloned-repo"
      ],
      "execution_count": null,
      "outputs": []
    },
    {
      "cell_type": "markdown",
      "metadata": {
        "id": "XfL8OrA683rP"
      },
      "source": [
        "**Given the following problem:** <br>\n",
        "Two columns in my data file with 5,000 rows,<br>\n",
        ">column 1 is time (with 1 hour interval) <br>\n",
        ">column 2 is the number of sales \n",
        "\n",
        "I am trying to forecast the number of sales for future time steps using an LSTM.<br>\n",
        "\n",
        "How do I set the number of samples, time steps and features in this data for an LSTM?"
      ]
    },
    {
      "cell_type": "code",
      "metadata": {
        "id": "SRPm89As9h8o"
      },
      "source": [
        "import numpy as np\n",
        "from numpy import array"
      ],
      "execution_count": null,
      "outputs": []
    },
    {
      "cell_type": "markdown",
      "metadata": {
        "id": "28531RcR9dLb"
      },
      "source": [
        "Create a time series dataset with<br>\n",
        "5000 rows"
      ]
    },
    {
      "cell_type": "code",
      "metadata": {
        "id": "oqsTe9jW8x8P"
      },
      "source": [
        "data = list()\n",
        "n = 5000\n",
        "#Append to the list a row of two features\n",
        "for i in range(n):\n",
        "  data.append([i+1, (i+1)*10]) \n",
        "data = array(data) \n",
        "print(data[:5, :]) \n",
        "print(data.shape)"
      ],
      "execution_count": null,
      "outputs": []
    },
    {
      "cell_type": "markdown",
      "metadata": {
        "id": "YHy_oN4D-KWn"
      },
      "source": [
        "**Check you data for missing values.** <br>\n",
        "If you are missing values<br>\n",
        "1. fill in the missing values\n",
        "\n",
        "If you are not missing values, you can drop the time column"
      ]
    },
    {
      "cell_type": "code",
      "metadata": {
        "id": "KsG23i9r-gYd"
      },
      "source": [
        "data_no_time = data[:, 1] \n",
        "print(data_no_time.shape)"
      ],
      "execution_count": null,
      "outputs": []
    },
    {
      "cell_type": "markdown",
      "metadata": {
        "id": "AMccr6rg-r2V"
      },
      "source": [
        "**LSTMs process samples as a single sequence of observations**"
      ]
    },
    {
      "cell_type": "markdown",
      "metadata": {
        "id": "UIZSbe6K-0gp"
      },
      "source": [
        "In this example 5000 time steps is too long for the LSTM. <br>\n",
        "\n",
        "The LSTM would work better with 200-400 time steps. "
      ]
    },
    {
      "cell_type": "markdown",
      "metadata": {
        "id": "fK_AjXSv_FUq"
      },
      "source": [
        "Split the 5000 time steps into shorter sequences. <br>\n",
        "The sequences can be<br>\n",
        ">overlapping<br>\n",
        ">non-overlapping"
      ]
    },
    {
      "cell_type": "markdown",
      "metadata": {
        "id": "hoKKguJvAdYK"
      },
      "source": [
        "Split the data samples into samples of size 200<br>\n",
        "5000/200 = 25"
      ]
    },
    {
      "cell_type": "code",
      "metadata": {
        "id": "swLH_30J-sFO"
      },
      "source": [
        "samples = list()\n",
        "length = 200\n",
        "# step over the 5,000 in jumps of 200\n",
        "for i in range(0,n,length):\n",
        "  # grab from i to i + 200\n",
        "  sample = data_no_time[i:i+length]\n",
        "  samples.append(sample) \n",
        "print(len(samples))\n",
        "print(samples[0])"
      ],
      "execution_count": null,
      "outputs": []
    },
    {
      "cell_type": "markdown",
      "metadata": {
        "id": "v8HDfXnWBGS0"
      },
      "source": [
        "LSTMs need data to be in the format:<br>\n",
        "[samples, timesteps, features]<br>"
      ]
    },
    {
      "cell_type": "markdown",
      "metadata": {
        "id": "wRJd5vleBQAC"
      },
      "source": [
        "1. Convert the list of array into a 2D Numpy array with shape [25,200]"
      ]
    },
    {
      "cell_type": "code",
      "metadata": {
        "id": "EX6LUby4BXXn"
      },
      "source": [
        "data_samples = array(samples) \n",
        "print(data_samples.shape)"
      ],
      "execution_count": null,
      "outputs": []
    },
    {
      "cell_type": "code",
      "metadata": {
        "id": "-m-LlWx5BoOo"
      },
      "source": [
        "print(data_samples[0])"
      ],
      "execution_count": null,
      "outputs": []
    },
    {
      "cell_type": "markdown",
      "metadata": {
        "id": "XX6dyuosBxW-"
      },
      "source": [
        "Use the reshape function to add a additional dimension \n",
        "\n",
        "*   List item\n",
        "*   List item\n",
        "\n"
      ]
    },
    {
      "cell_type": "code",
      "metadata": {
        "id": "SEZ9ORT1B5Wh"
      },
      "source": [
        "# reshape into [samples, timesteps, features]\n",
        "data_3D = data_samples.reshape((len(samples), length, 1)) \n",
        "print(data_3D.shape)"
      ],
      "execution_count": null,
      "outputs": []
    },
    {
      "cell_type": "code",
      "metadata": {
        "id": "TZxP7JsBCH3o"
      },
      "source": [
        "print(data_3D)"
      ],
      "execution_count": null,
      "outputs": []
    },
    {
      "cell_type": "markdown",
      "metadata": {
        "id": "eauAyUpICpl_"
      },
      "source": [
        "**Assignment**<br>\n",
        "Can you convert the shampoo.csv dataset to a 3D dataset"
      ]
    },
    {
      "cell_type": "code",
      "metadata": {
        "id": "U8zBQgrVDLlC"
      },
      "source": [
        "import csv\n",
        "import numpy as np"
      ],
      "execution_count": null,
      "outputs": []
    },
    {
      "cell_type": "code",
      "metadata": {
        "id": "dG541LqdEKvR"
      },
      "source": [
        "with open('shampoo.csv','r') as f:\n",
        "  data=list(csv.reader(f, delimiter=\",\"))\n",
        "df=np.array(data)\n",
        "print(df.shape)"
      ],
      "execution_count": null,
      "outputs": []
    },
    {
      "cell_type": "code",
      "metadata": {
        "id": "TpVk6C_9GaJK"
      },
      "source": [
        "df.reshape(37,2)"
      ],
      "execution_count": null,
      "outputs": []
    },
    {
      "cell_type": "code",
      "metadata": {
        "id": "OXGOadWLGLB2"
      },
      "source": [
        "#drop time\n",
        "df_no_time = df[:, 1] \n",
        "print(df_no_time.shape)"
      ],
      "execution_count": null,
      "outputs": []
    }
  ]
}