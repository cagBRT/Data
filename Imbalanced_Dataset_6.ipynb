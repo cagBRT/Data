{
  "nbformat": 4,
  "nbformat_minor": 0,
  "metadata": {
    "colab": {
      "name": "Imbalanced Dataset 6.ipynb",
      "private_outputs": true,
      "provenance": [],
      "authorship_tag": "ABX9TyP55pwLSZVqldGfmYH54N5H",
      "include_colab_link": true
    },
    "kernelspec": {
      "name": "python3",
      "display_name": "Python 3"
    },
    "language_info": {
      "name": "python"
    }
  },
  "cells": [
    {
      "cell_type": "markdown",
      "metadata": {
        "id": "view-in-github",
        "colab_type": "text"
      },
      "source": [
        "<a href=\"https://colab.research.google.com/github/cagBRT/Data/blob/main/Imbalanced_Dataset_6.ipynb\" target=\"_parent\"><img src=\"https://colab.research.google.com/assets/colab-badge.svg\" alt=\"Open In Colab\"/></a>"
      ]
    },
    {
      "cell_type": "markdown",
      "metadata": {
        "id": "oPBRs4oHvARz"
      },
      "source": [
        "# **Cross Validation for Imbalanced Datasets**"
      ]
    },
    {
      "cell_type": "code",
      "metadata": {
        "id": "FgwijD2-vP36"
      },
      "source": [
        "from numpy import unique\n",
        "from sklearn.datasets import make_classification\n",
        "from sklearn.model_selection import KFold\n",
        "from sklearn.model_selection import train_test_split\n",
        "from sklearn.model_selection import StratifiedKFold"
      ],
      "execution_count": null,
      "outputs": []
    },
    {
      "cell_type": "code",
      "metadata": {
        "id": "zdW6mRxwi9LU"
      },
      "source": [
        "# create a binary classification dataset\n",
        "\n",
        "# generate 2 class dataset\n",
        "X, y = make_classification(n_samples=1000, n_classes=2, weights=[0.99, 0.01], flip_y=0,\n",
        "random_state=1)\n",
        "# summarize dataset\n",
        "classes = unique(y)\n",
        "total = len(y)\n",
        "for c in classes:\n",
        "  n_examples = len(y[y==c])\n",
        "  percent = n_examples / total * 100\n",
        "  print('> Class=%d : %d/%d (%.1f%%)' % (c, n_examples, total, percent))"
      ],
      "execution_count": null,
      "outputs": []
    },
    {
      "cell_type": "code",
      "metadata": {
        "id": "0XptHGUbjWAb"
      },
      "source": [
        "# example of k-fold cross-validation with an imbalanced dataset\n",
        "\n",
        "kfold = KFold(n_splits=5, shuffle=True, random_state=1)\n",
        "# enumerate the splits and summarize the distributions\n",
        "for train_ix, test_ix in kfold.split(X):\n",
        "  # select rows\n",
        "  train_X, test_X = X[train_ix], X[test_ix]\n",
        "  train_y, test_y = y[train_ix], y[test_ix]\n",
        "  # summarize train and test composition\n",
        "  train_0, train_1 = len(train_y[train_y==0]), len(train_y[train_y==1])\n",
        "  test_0, test_1 = len(test_y[test_y==0]), len(test_y[test_y==1])\n",
        "  print('>Train: 0=%d, 1=%d, Test: 0=%d, 1=%d' % (train_0, train_1, test_0, test_1))"
      ],
      "execution_count": null,
      "outputs": []
    },
    {
      "cell_type": "code",
      "metadata": {
        "id": "mtfjD2Urjg25"
      },
      "source": [
        "# example of train/test split with an imbalanced dataset\n",
        "# split into train/test sets with same class ratio\n",
        "trainX, testX, trainy, testy = train_test_split(X, y, test_size=0.5, random_state=2)\n",
        "# summarize\n",
        "train_0, train_1 = len(trainy[trainy==0]), len(trainy[trainy==1])\n",
        "test_0, test_1 = len(testy[testy==0]), len(testy[testy==1])\n",
        "print('>Train: 0=%d, 1=%d, Test: 0=%d, 1=%d' % (train_0, train_1, test_0, test_1))"
      ],
      "execution_count": null,
      "outputs": []
    },
    {
      "cell_type": "code",
      "metadata": {
        "id": "S5bSlxMojmKJ"
      },
      "source": [
        "# example of stratified k-fold cross-validation with an imbalanced dataset\n",
        "\n",
        "# generate 2 class dataset\n",
        "X, y = make_classification(n_samples=1000, n_classes=2, weights=[0.99, 0.01], flip_y=0,\n",
        "random_state=1)\n",
        "kfold = StratifiedKFold(n_splits=5, shuffle=True, random_state=1) # enumerate the splits and summarize the distributions\n",
        "for train_ix, test_ix in kfold.split(X, y):\n",
        "  # select rows\n",
        "  train_X, test_X = X[train_ix], X[test_ix]\n",
        "  train_y, test_y = y[train_ix], y[test_ix]\n",
        "  # summarize train and test composition\n",
        "  train_0, train_1 = len(train_y[train_y==0]), len(train_y[train_y==1])\n",
        "  test_0, test_1 = len(test_y[test_y==0]), len(test_y[test_y==1])\n",
        "  print('>Train: 0=%d, 1=%d, Test: 0=%d, 1=%d' % (train_0, train_1, test_0, test_1))"
      ],
      "execution_count": null,
      "outputs": []
    },
    {
      "cell_type": "code",
      "metadata": {
        "id": "tF_RVPdjjtDf"
      },
      "source": [
        "# example of stratified train/test split with an imbalanced dataset\n",
        "\n",
        "# generate 2 class dataset\n",
        "X, y = make_classification(n_samples=1000, n_classes=2, weights=[0.99, 0.01], flip_y=0,\n",
        "random_state=1)\n",
        "# split into train/test sets with same class ratio\n",
        "trainX, testX, trainy, testy = train_test_split(X, y, test_size=0.5, random_state=2, stratify=y)\n",
        "# summarize\n",
        "train_0, train_1 = len(trainy[trainy==0]), len(trainy[trainy==1])\n",
        "test_0, test_1 = len(testy[testy==0]), len(testy[testy==1])\n",
        "print('>Train: 0=%d, 1=%d, Test: 0=%d, 1=%d' % (train_0, train_1, test_0, test_1))"
      ],
      "execution_count": null,
      "outputs": []
    }
  ]
}