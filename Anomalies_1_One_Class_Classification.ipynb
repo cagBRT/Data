{
  "nbformat": 4,
  "nbformat_minor": 0,
  "metadata": {
    "colab": {
      "name": "Anomalies 1: One-Class Classification.ipynb",
      "private_outputs": true,
      "provenance": [],
      "authorship_tag": "ABX9TyMgzY1gB8Fk0aTPRey6UcGO",
      "include_colab_link": true
    },
    "kernelspec": {
      "name": "python3",
      "display_name": "Python 3"
    },
    "language_info": {
      "name": "python"
    }
  },
  "cells": [
    {
      "cell_type": "markdown",
      "metadata": {
        "id": "view-in-github",
        "colab_type": "text"
      },
      "source": [
        "<a href=\"https://colab.research.google.com/github/cagBRT/Data/blob/main/Anomalies_1_One_Class_Classification.ipynb\" target=\"_parent\"><img src=\"https://colab.research.google.com/assets/colab-badge.svg\" alt=\"Open In Colab\"/></a>"
      ]
    },
    {
      "cell_type": "markdown",
      "metadata": {
        "id": "g0oW7YGqDPjU"
      },
      "source": [
        "# **One-Class Classification for Imbalanced Datasets**"
      ]
    },
    {
      "cell_type": "markdown",
      "metadata": {
        "id": "gsLDSAoxDVCQ"
      },
      "source": [
        "This method is used for anomoly detection. <br>\n",
        "The model is trained on the 'normal' data.<br>\n",
        "Then the trained model is used to predict if new data is an anomaly."
      ]
    },
    {
      "cell_type": "markdown",
      "metadata": {
        "id": "Kuy33-zREXD4"
      },
      "source": [
        "One-class classification techniques can be used for binary (two-class) imbalanced classification problems where the negative case (class 0) is taken as normal and the positive case (class 1) is taken as an outlier or anomaly.<br>\n",
        "- Negative Case: Normal or inlier.<br>\n",
        "- Positive Case: Anomaly or outlier.<br>"
      ]
    },
    {
      "cell_type": "markdown",
      "metadata": {
        "id": "bHKiY25OE7PU"
      },
      "source": [
        "One-class classification has proven to be especially useful when the minority class lack any structure, being predominantly composed of small disjuncts or noisy instances."
      ]
    },
    {
      "cell_type": "markdown",
      "metadata": {
        "id": "xp9o3QWMD5O-"
      },
      "source": [
        "**Import libraries**"
      ]
    },
    {
      "cell_type": "code",
      "metadata": {
        "id": "7vO_PXU5zrQj"
      },
      "source": [
        "from collections import Counter\n",
        "from sklearn.datasets import make_classification\n",
        "from matplotlib import pyplot\n",
        "from numpy import where\n",
        "from sklearn.model_selection import train_test_split\n",
        "from sklearn.metrics import f1_score\n",
        "from sklearn.svm import OneClassSVM"
      ],
      "execution_count": null,
      "outputs": []
    },
    {
      "cell_type": "markdown",
      "metadata": {
        "id": "3TGf-1N1D-Ta"
      },
      "source": [
        "**Create an imbalanced dataset**"
      ]
    },
    {
      "cell_type": "code",
      "metadata": {
        "id": "7Xtvei_3y4gT"
      },
      "source": [
        "X, y = make_classification(n_samples=5000, n_features=2, n_redundant=0,\n",
        "n_clusters_per_class=1, weights=[0.999], flip_y=0, random_state=4)\n",
        "# summarize class distribution\n",
        "counter = Counter(y)\n",
        "print(counter)\n"
      ],
      "execution_count": null,
      "outputs": []
    },
    {
      "cell_type": "code",
      "metadata": {
        "id": "0PCJrlo4znjt"
      },
      "source": [
        " for label, _ in counter.items():\n",
        "  row_ix = where(y == label)[0]\n",
        "  pyplot.scatter(X[row_ix, 0], X[row_ix, 1], label=str(label))\n",
        "pyplot.legend()\n",
        "pyplot.show()"
      ],
      "execution_count": null,
      "outputs": []
    },
    {
      "cell_type": "markdown",
      "metadata": {
        "id": "sRDj-ZBgENRc"
      },
      "source": [
        "**Split the data into training and test sets**"
      ]
    },
    {
      "cell_type": "code",
      "metadata": {
        "id": "8iou7ryM1AhA"
      },
      "source": [
        "trainX, testX, trainy, testy = train_test_split(X, y, test_size=0.5, random_state=2, stratify=y)"
      ],
      "execution_count": null,
      "outputs": []
    },
    {
      "cell_type": "markdown",
      "metadata": {
        "id": "KR0dw0b2FTBz"
      },
      "source": [
        "**Use the OneClassSVM from the sklearn library**<br>\n",
        "Train the model on the training set, with only the majority class used for training."
      ]
    },
    {
      "cell_type": "code",
      "metadata": {
        "id": "xB9-zDm9FbYS"
      },
      "source": [
        "model = OneClassSVM(gamma='scale', nu=0.01) # fit on majority class\n",
        "trainX = trainX[trainy==0]\n",
        "model.fit(trainX)"
      ],
      "execution_count": null,
      "outputs": []
    },
    {
      "cell_type": "markdown",
      "metadata": {
        "id": "ojN9KXRYF3EI"
      },
      "source": [
        "**Use the test set to make inferences**"
      ]
    },
    {
      "cell_type": "code",
      "metadata": {
        "id": "ACUcBdMqF3Pk"
      },
      "source": [
        "yhat = model.predict(testX)"
      ],
      "execution_count": null,
      "outputs": []
    },
    {
      "cell_type": "markdown",
      "metadata": {
        "id": "UsXXEB4PGAeo"
      },
      "source": [
        "Mark all predictions that are part of the majority case as '1' and those that are part of the minorty case as '-1'"
      ]
    },
    {
      "cell_type": "code",
      "metadata": {
        "id": "cUnb1LWqGDXW"
      },
      "source": [
        "# mark inliers 1, outliers -1\n",
        "testy[testy == 1] = -1\n",
        "testy[testy == 0] = 1"
      ],
      "execution_count": null,
      "outputs": []
    },
    {
      "cell_type": "code",
      "metadata": {
        "id": "X9IkTHY33z7K"
      },
      "source": [
        "testX.shape"
      ],
      "execution_count": null,
      "outputs": []
    },
    {
      "cell_type": "markdown",
      "metadata": {
        "id": "k5tIgg9WII_2"
      },
      "source": [
        "The plot shows the -1 values, these might be considered outliers"
      ]
    },
    {
      "cell_type": "code",
      "metadata": {
        "id": "UOQcyoWsGuAv"
      },
      "source": [
        "pyplot.scatter(testX[:, 0], testy, label=\"test set\")\n",
        "pyplot.scatter(testX[:,0],yhat, label=\"predictions\", s=4)\n",
        "pyplot.legend()\n",
        "pyplot.show()"
      ],
      "execution_count": null,
      "outputs": []
    },
    {
      "cell_type": "code",
      "metadata": {
        "id": "Re-mQfX80GiM"
      },
      "source": [
        "score = f1_score(testy, yhat, pos_label=-1)\n",
        "print('F-measure: %.3f' % score)"
      ],
      "execution_count": null,
      "outputs": []
    },
    {
      "cell_type": "markdown",
      "metadata": {
        "id": "Vl5xS24jIudU"
      },
      "source": [
        "**Assignment**:\n",
        "1. Change the size of the dataset. Make it larger and then smaller.\n",
        "2. Change the number of features.\n",
        "3. Change the number of groups per class.\n",
        "4. Change the class ratio of the dataset<br>\n",
        "\n",
        "What do these changes do to the outlier inferences?<br>"
      ]
    }
  ]
}