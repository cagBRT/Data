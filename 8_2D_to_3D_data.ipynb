{
  "nbformat": 4,
  "nbformat_minor": 0,
  "metadata": {
    "colab": {
      "name": "8 2D to 3D data.ipynb",
      "private_outputs": true,
      "provenance": [],
      "authorship_tag": "ABX9TyMkat2s6SrhMM8t5O0ZZNET",
      "include_colab_link": true
    },
    "kernelspec": {
      "name": "python3",
      "display_name": "Python 3"
    },
    "language_info": {
      "name": "python"
    }
  },
  "cells": [
    {
      "cell_type": "markdown",
      "metadata": {
        "id": "view-in-github",
        "colab_type": "text"
      },
      "source": [
        "<a href=\"https://colab.research.google.com/github/cagBRT/Data/blob/main/8_2D_to_3D_data.ipynb\" target=\"_parent\"><img src=\"https://colab.research.google.com/assets/colab-badge.svg\" alt=\"Open In Colab\"/></a>"
      ]
    },
    {
      "cell_type": "markdown",
      "metadata": {
        "id": "LppcVlgY2bD_"
      },
      "source": [
        "# **Supervised Time Series**\n"
      ]
    },
    {
      "cell_type": "markdown",
      "metadata": {
        "id": "5KN2CQnT3Q-O"
      },
      "source": [
        "To use data in a CNN or LSTM, we will need to convert the data to three dimensional data.<br>\n",
        "\n",
        "The input to every CNN and LSTM layer must be three-dimensional.<br>"
      ]
    },
    {
      "cell_type": "code",
      "metadata": {
        "id": "kseMNtS34qEN"
      },
      "source": [
        "from numpy import array"
      ],
      "execution_count": null,
      "outputs": []
    },
    {
      "cell_type": "markdown",
      "metadata": {
        "id": "1n9d3wAv6lvl"
      },
      "source": [
        "**In this notebook we'll transform 2D data to 3D data**"
      ]
    },
    {
      "cell_type": "markdown",
      "metadata": {
        "id": "TAxaA26W7CnJ"
      },
      "source": [
        "**Define a function to split the data into samples**"
      ]
    },
    {
      "cell_type": "code",
      "metadata": {
        "id": "XdYX-QXz4s2u"
      },
      "source": [
        "def split_sequence(sequence, n_steps): \n",
        "  X, y = list(), list()\n",
        "  for i in range(len(sequence)):\n",
        "    # find the end of this pattern\n",
        "    end_ix = i + n_steps\n",
        "    # check if we are beyond the sequence\n",
        "    if end_ix > len(sequence)-1: \n",
        "      break\n",
        "    # gather input and output parts of the pattern\n",
        "    seq_x, seq_y = sequence[i:end_ix], sequence[end_ix] \n",
        "    X.append(seq_x)\n",
        "    y.append(seq_y)\n",
        "  return array(X), array(y)"
      ],
      "execution_count": null,
      "outputs": []
    },
    {
      "cell_type": "markdown",
      "metadata": {
        "id": "JH9Lqc7B6tjJ"
      },
      "source": [
        "**The data**"
      ]
    },
    {
      "cell_type": "code",
      "metadata": {
        "id": "dQ-sJ4eR4zEa"
      },
      "source": [
        "series = array([1, 2, 3, 4, 5, 6, 7, 8, 9, 10]) \n",
        "print(series.shape)"
      ],
      "execution_count": null,
      "outputs": []
    },
    {
      "cell_type": "code",
      "metadata": {
        "id": "a1X2RvSr413D"
      },
      "source": [
        "X, y = split_sequence(series, 3)\n",
        "print(\"data shape\",X.shape,\"label shape=\", y.shape)"
      ],
      "execution_count": null,
      "outputs": []
    },
    {
      "cell_type": "code",
      "metadata": {
        "id": "09luxEeP5VZp"
      },
      "source": [
        "X"
      ],
      "execution_count": null,
      "outputs": []
    },
    {
      "cell_type": "code",
      "metadata": {
        "id": "bLsAwaep44wc"
      },
      "source": [
        "X = X.reshape((X.shape[0], X.shape[1], 1))\n",
        "print(X.shape)"
      ],
      "execution_count": null,
      "outputs": []
    },
    {
      "cell_type": "code",
      "metadata": {
        "id": "LjYhKC4b5Y4f"
      },
      "source": [
        "X"
      ],
      "execution_count": null,
      "outputs": []
    },
    {
      "cell_type": "markdown",
      "metadata": {
        "id": "5BlLHEzX8R_D"
      },
      "source": [
        "**Assignment**<br>\n",
        "Add more data to the sample dataset and split it into samples"
      ]
    }
  ]
}