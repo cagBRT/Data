{
  "nbformat": 4,
  "nbformat_minor": 0,
  "metadata": {
    "colab": {
      "name": "Cost Sensitive 3.ipynb",
      "private_outputs": true,
      "provenance": [],
      "authorship_tag": "ABX9TyPhCvnsGyn94M/SrdKcJyOf",
      "include_colab_link": true
    },
    "kernelspec": {
      "name": "python3",
      "display_name": "Python 3"
    },
    "language_info": {
      "name": "python"
    }
  },
  "cells": [
    {
      "cell_type": "markdown",
      "metadata": {
        "id": "view-in-github",
        "colab_type": "text"
      },
      "source": [
        "<a href=\"https://colab.research.google.com/github/cagBRT/Data/blob/main/Cost_Sensitive_3.ipynb\" target=\"_parent\"><img src=\"https://colab.research.google.com/assets/colab-badge.svg\" alt=\"Open In Colab\"/></a>"
      ]
    },
    {
      "cell_type": "markdown",
      "metadata": {
        "id": "o44k4RtPmbtP"
      },
      "source": [
        "# **Cost Sensitive Decision Trees**"
      ]
    },
    {
      "cell_type": "markdown",
      "metadata": {
        "id": "a9WQVsXSm5S9"
      },
      "source": [
        "In this notebook, we willl look at how to train decision trees with cost in mind"
      ]
    },
    {
      "cell_type": "code",
      "metadata": {
        "id": "txuTMTBDm2sx"
      },
      "source": [
        "from collections import Counter\n",
        "from sklearn.datasets import make_classification\n",
        "from matplotlib import pyplot\n",
        "from numpy import where\n",
        "from sklearn.model_selection import cross_val_score\n",
        "from sklearn.model_selection import RepeatedStratifiedKFold\n",
        "from sklearn.tree import DecisionTreeClassifier\n",
        "from numpy import mean\n",
        "from sklearn.model_selection import GridSearchCV"
      ],
      "execution_count": null,
      "outputs": []
    },
    {
      "cell_type": "markdown",
      "metadata": {
        "id": "v347izfqnIIe"
      },
      "source": [
        "**Create an imbalanced dataset**"
      ]
    },
    {
      "cell_type": "code",
      "metadata": {
        "id": "Vc3GWUNNmLR1"
      },
      "source": [
        "X, y = make_classification(n_samples=10000, n_features=2, n_redundant=0,\n",
        "n_clusters_per_class=1, weights=[0.99], flip_y=0, random_state=3)\n",
        "# summarize class distribution\n",
        "counter = Counter(y)\n",
        "print(counter)"
      ],
      "execution_count": null,
      "outputs": []
    },
    {
      "cell_type": "code",
      "metadata": {
        "id": "k4Dr4G03nPKe"
      },
      "source": [
        "# scatter plot of examples by class label \n",
        "for label, _ in counter.items():\n",
        "  row_ix = where(y == label)[0]\n",
        "  pyplot.scatter(X[row_ix, 0], X[row_ix, 1], label=str(label)) \n",
        "pyplot.legend()\n",
        "pyplot.show()"
      ],
      "execution_count": null,
      "outputs": []
    },
    {
      "cell_type": "markdown",
      "metadata": {
        "id": "gKcuZu4NpSYG"
      },
      "source": [
        "**Create a decision tree classifier and train it**"
      ]
    },
    {
      "cell_type": "code",
      "metadata": {
        "id": "xxAADso4oI_M"
      },
      "source": [
        "model = DecisionTreeClassifier()\n",
        "# define evaluation procedure\n",
        "cv = RepeatedStratifiedKFold(n_splits=10, n_repeats=3, random_state=1)"
      ],
      "execution_count": null,
      "outputs": []
    },
    {
      "cell_type": "code",
      "metadata": {
        "id": "nqeulxh2oEPu"
      },
      "source": [
        "scores = cross_val_score(model, X, y, scoring='roc_auc', cv=cv, n_jobs=-1) # summarize performance\n",
        "print('Mean ROC AUC: %.3f' % mean(scores))"
      ],
      "execution_count": null,
      "outputs": []
    },
    {
      "cell_type": "markdown",
      "metadata": {
        "id": "bAZN7TwKqXkr"
      },
      "source": [
        "# **Weighted Decision Trees**"
      ]
    },
    {
      "cell_type": "markdown",
      "metadata": {
        "id": "pxrR0U_WnTjX"
      },
      "source": [
        "With decision trees we can weight the splitting criteria to account for the imbalance in the dataset"
      ]
    },
    {
      "cell_type": "markdown",
      "metadata": {
        "id": "yz3s22pkqfCU"
      },
      "source": [
        "Small weight = less importance, lower impact on the node purity<br>\n",
        "Large weight = more importance, greater impact on the node purity"
      ]
    },
    {
      "cell_type": "markdown",
      "metadata": {
        "id": "hhCQyi-WrVkm"
      },
      "source": [
        "**Define a Decision Tree Classifier model that incorporates the imbalance of the dataset**"
      ]
    },
    {
      "cell_type": "code",
      "metadata": {
        "id": "jQzlmmDCrUKQ"
      },
      "source": [
        "model = DecisionTreeClassifier(class_weight='balanced')\n",
        "cv = RepeatedStratifiedKFold(n_splits=10, n_repeats=3, random_state=1)"
      ],
      "execution_count": null,
      "outputs": []
    },
    {
      "cell_type": "markdown",
      "metadata": {
        "id": "5nrnpSKzrn5S"
      },
      "source": [
        "**Determine model performance**"
      ]
    },
    {
      "cell_type": "markdown",
      "metadata": {
        "id": "Reug3j2Yrsij"
      },
      "source": [
        "As you can see this method is slightly better than the non-balanced tree"
      ]
    },
    {
      "cell_type": "code",
      "metadata": {
        "id": "zX511wv_rRAQ"
      },
      "source": [
        "scores = cross_val_score(model, X, y, scoring='roc_auc', cv=cv, n_jobs=-1) # summarize performance\n",
        "print('Mean ROC AUC: %.3f' % mean(scores))"
      ],
      "execution_count": null,
      "outputs": []
    },
    {
      "cell_type": "markdown",
      "metadata": {
        "id": "7xgW7lg9sJk1"
      },
      "source": [
        "# **Grid Search Weighted Decision Tree Classifiers**"
      ]
    },
    {
      "cell_type": "markdown",
      "metadata": {
        "id": "KtqTQXzxAPAA"
      },
      "source": [
        "Use cross validation with grid search to find the best weights"
      ]
    },
    {
      "cell_type": "code",
      "metadata": {
        "id": "Err2LDuqldlw"
      },
      "source": [
        "# define evaluation procedure\n",
        "cv = RepeatedStratifiedKFold(n_splits=10, n_repeats=3, random_state=1)\n",
        "# define grid search\n",
        "balance = [{0:100,1:1}, {0:10,1:1}, {0:1,1:1}, {0:1,1:10}, {0:1,1:100}] \n",
        "param_grid = dict(class_weight=balance)\n",
        "grid = GridSearchCV(estimator=model, param_grid=param_grid, n_jobs=-1, cv=cv,\n",
        "scoring='roc_auc')\n",
        "# execute the grid search\n",
        "grid_result = grid.fit(X, y)"
      ],
      "execution_count": null,
      "outputs": []
    },
    {
      "cell_type": "code",
      "metadata": {
        "id": "oac-RdP2XWUQ"
      },
      "source": [
        "# report the best configuration\n",
        "print('Best: %f using %s' % (grid_result.best_score_, grid_result.best_params_)) # report all configurations\n",
        "means = grid_result.cv_results_['mean_test_score']\n",
        "stds = grid_result.cv_results_['std_test_score']\n",
        "params = grid_result.cv_results_['params']\n",
        "for mean, stdev, param in zip(means, stds, params):\n",
        "  print('%f (%f) with: %r' % (mean, stdev, param))"
      ],
      "execution_count": null,
      "outputs": []
    },
    {
      "cell_type": "markdown",
      "metadata": {
        "id": "Wk1gJ3qBAybc"
      },
      "source": [
        "**Assignment**<br>\n",
        "Change the dataset and rerun the notebook.<br>\n",
        "What effect does changing the number of features, size of the dataset, and the weight have on the model?"
      ]
    }
  ]
}