{
  "nbformat": 4,
  "nbformat_minor": 0,
  "metadata": {
    "colab": {
      "provenance": [],
      "private_outputs": true,
      "include_colab_link": true
    },
    "kernelspec": {
      "name": "python3",
      "display_name": "Python 3"
    },
    "language_info": {
      "name": "python"
    }
  },
  "cells": [
    {
      "cell_type": "markdown",
      "metadata": {
        "id": "view-in-github",
        "colab_type": "text"
      },
      "source": [
        "<a href=\"https://colab.research.google.com/github/cagBRT/Data/blob/main/NearMiss_Undersampling.ipynb\" target=\"_parent\"><img src=\"https://colab.research.google.com/assets/colab-badge.svg\" alt=\"Open In Colab\"/></a>"
      ]
    },
    {
      "cell_type": "markdown",
      "source": [
        "# NearMiss\n",
        "\n",
        "NearMiss is **used to perform Under-sampling** based on Near-Miss methods\n",
        "\n",
        "The datsets are imbalanced"
      ],
      "metadata": {
        "id": "1SC2imEZq_0Z"
      }
    },
    {
      "cell_type": "code",
      "source": [
        "from collections import Counter\n",
        "from sklearn.datasets import make_classification\n",
        "from imblearn.under_sampling import NearMiss\n",
        "from numpy import where\n",
        "from matplotlib import pyplot"
      ],
      "metadata": {
        "id": "PYupcjFcuMYr"
      },
      "execution_count": null,
      "outputs": []
    },
    {
      "cell_type": "code",
      "source": [
        "X, y = make_classification(n_classes=2, class_sep=2,\n",
        "weights=[0.1, 0.9], n_informative=3, n_redundant=1, flip_y=0,\n",
        "n_features=20, n_clusters_per_class=1, n_samples=10000, random_state=10)"
      ],
      "metadata": {
        "id": "8_lNZ12zuRWZ"
      },
      "execution_count": null,
      "outputs": []
    },
    {
      "cell_type": "code",
      "source": [
        "print('Original dataset shape %s' % Counter(y))\n",
        "nm = NearMiss()\n",
        "X_res, y_res = nm.fit_resample(X, y)\n",
        "print('Resampled dataset shape %s' % Counter(y_res))"
      ],
      "metadata": {
        "id": "irTbT1intf2X"
      },
      "execution_count": null,
      "outputs": []
    },
    {
      "cell_type": "markdown",
      "source": [
        "\n",
        "\n",
        "---\n",
        "\n",
        "\n",
        "\n",
        "---\n",
        "\n"
      ],
      "metadata": {
        "id": "EWnbjrCnrAKU"
      }
    },
    {
      "cell_type": "markdown",
      "source": [
        "## Below are examples explaining the different NearMiss options"
      ],
      "metadata": {
        "id": "8ISW2UZHrBgb"
      }
    },
    {
      "cell_type": "markdown",
      "source": [
        "# Import Libraries"
      ],
      "metadata": {
        "id": "mfbm3a9OrNRb"
      }
    },
    {
      "cell_type": "code",
      "execution_count": null,
      "metadata": {
        "id": "B7JQQ9jl6mUD"
      },
      "outputs": [],
      "source": [
        "import seaborn as sns\n",
        "sns.set_context(\"poster\")\n",
        "import numpy as np"
      ]
    },
    {
      "cell_type": "code",
      "source": [
        "def make_plot_despine(ax):\n",
        "    sns.despine(ax=ax, offset=10)\n",
        "    ax.set_xlim([0, 3.5])\n",
        "    ax.set_ylim([0, 3.5])\n",
        "    ax.set_xticks(np.arange(0, 3.6, 0.5))\n",
        "    ax.set_yticks(np.arange(0, 3.6, 0.5))\n",
        "    ax.set_xlabel(r\"$X_1$\")\n",
        "    ax.set_ylabel(r\"$X_2$\")\n",
        "    ax.legend(loc=\"upper left\", fontsize=16)"
      ],
      "metadata": {
        "id": "9_KQ4quI6wuO"
      },
      "execution_count": null,
      "outputs": []
    },
    {
      "cell_type": "markdown",
      "source": [
        "# Generate the dataset"
      ],
      "metadata": {
        "id": "EWGH-p9BrWWc"
      }
    },
    {
      "cell_type": "code",
      "source": [
        "rng = np.random.RandomState(18)\n",
        "\n",
        "X_minority = np.transpose(\n",
        "    [[1.1, 1.3, 1.15, 0.8, 0.8, 0.6, 0.55], [1.0, 1.5, 1.7, 2.5, 2.0, 1.2, 0.55]]\n",
        ")\n",
        "X_majority = np.transpose(\n",
        "    [\n",
        "        [2.1, 2.12, 2.13, 2.14, 2.2, 2.3, 2.5, 2.45],\n",
        "        [1.5, 2.1, 2.7, 0.9, 1.0, 1.4, 2.4, 2.9],\n",
        "    ]\n",
        ")"
      ],
      "metadata": {
        "id": "JJSApw5s60dF"
      },
      "execution_count": null,
      "outputs": []
    },
    {
      "cell_type": "markdown",
      "source": [
        "# NearMiss-1\n",
        "**NearMiss-1 selects samples from the majority class for which the average distance to some *nearest neighbours* is the smallest.** <br>\n",
        "\n",
        "In the following example, we use a 3-NN to compute the average distance on 2 specific samples of the majority class. Therefore, in this case the point linked by the green-dashed line will be selected since the average distance is smaller."
      ],
      "metadata": {
        "id": "B_fjj7Vv66Rt"
      }
    },
    {
      "cell_type": "code",
      "source": [
        "import matplotlib.pyplot as plt\n",
        "from sklearn.neighbors import NearestNeighbors\n",
        "\n",
        "fig, ax = plt.subplots(figsize=(8, 8))\n",
        "ax.scatter(\n",
        "    X_minority[:, 0],\n",
        "    X_minority[:, 1],\n",
        "    label=\"Minority class\",\n",
        "    s=200,\n",
        "    marker=\"_\",\n",
        ")\n",
        "ax.scatter(\n",
        "    X_majority[:, 0],\n",
        "    X_majority[:, 1],\n",
        "    label=\"Majority class\",\n",
        "    s=200,\n",
        "    marker=\"+\",\n",
        ")\n",
        "nearest_neighbors = NearestNeighbors(n_neighbors=3)\n",
        "nearest_neighbors.fit(X_minority)\n",
        "dist, ind = nearest_neighbors.kneighbors(X_majority[:2, :])\n",
        "dist_avg = dist.sum(axis=1) / 3\n",
        "\n",
        "for positive_idx, (neighbors, distance, color) in enumerate(\n",
        "    zip(ind, dist_avg, [\"g\", \"r\"])\n",
        "):\n",
        "    for make_plot, sample_idx in enumerate(neighbors):\n",
        "        ax.plot(\n",
        "            [X_majority[positive_idx, 0], X_minority[sample_idx, 0]],\n",
        "            [X_majority[positive_idx, 1], X_minority[sample_idx, 1]],\n",
        "            \"--\" + color,\n",
        "            alpha=0.3,\n",
        "            label=f\"Avg. dist.={distance:.2f}\" if make_plot == 0 else \"\",\n",
        "        )\n",
        "ax.set_title(\"NearMiss-1\")\n",
        "make_plot_despine(ax)\n",
        "plt.tight_layout()"
      ],
      "metadata": {
        "id": "3ytLrSvZ66tn"
      },
      "execution_count": null,
      "outputs": []
    },
    {
      "cell_type": "markdown",
      "source": [
        "# NearMiss-2\n",
        "**NearMiss-2 selects samples from the majority class for which the average distance to the *farthest neighbors* is the smallest.**\n",
        "\n",
        "With the same configuration as previously presented, the sample linked to the green-dashed line will be selected since its distance the 3 farthest neighbors is the smallest."
      ],
      "metadata": {
        "id": "Bgf2aofj7SH_"
      }
    },
    {
      "cell_type": "code",
      "source": [
        "fig, ax = plt.subplots(figsize=(8, 8))\n",
        "ax.scatter(\n",
        "    X_minority[:, 0],\n",
        "    X_minority[:, 1],\n",
        "    label=\"Minority class\",\n",
        "    s=200,\n",
        "    marker=\"_\",\n",
        ")\n",
        "ax.scatter(\n",
        "    X_majority[:, 0],\n",
        "    X_majority[:, 1],\n",
        "    label=\"Majority class\",\n",
        "    s=200,\n",
        "    marker=\"+\",\n",
        ")\n",
        "\n",
        "nearest_neighbors = NearestNeighbors(n_neighbors=X_minority.shape[0])\n",
        "nearest_neighbors.fit(X_minority)\n",
        "dist, ind = nearest_neighbors.kneighbors(X_majority[:2, :])\n",
        "dist = dist[:, -3::]\n",
        "ind = ind[:, -3::]\n",
        "dist_avg = dist.sum(axis=1) / 3\n",
        "\n",
        "for positive_idx, (neighbors, distance, color) in enumerate(\n",
        "    zip(ind, dist_avg, [\"g\", \"r\"])\n",
        "):\n",
        "    for make_plot, sample_idx in enumerate(neighbors):\n",
        "        ax.plot(\n",
        "            [X_majority[positive_idx, 0], X_minority[sample_idx, 0]],\n",
        "            [X_majority[positive_idx, 1], X_minority[sample_idx, 1]],\n",
        "            \"--\" + color,\n",
        "            alpha=0.3,\n",
        "            label=f\"Avg. dist.={distance:.2f}\" if make_plot == 0 else \"\",\n",
        "        )\n",
        "ax.set_title(\"NearMiss-2\")\n",
        "make_plot_despine(ax)\n",
        "plt.tight_layout()"
      ],
      "metadata": {
        "id": "RXikLYTN7Sfw"
      },
      "execution_count": null,
      "outputs": []
    },
    {
      "cell_type": "markdown",
      "source": [
        "# NearMiss-3\n",
        "NearMiss-3 can be divided into 2 steps.\n",
        "\n",
        "1. a nearest-neighbors is used to short-list samples from the majority class (i.e. correspond to the highlighted samples in the following plot).\n",
        "\n",
        "2. the sample with the largest average distance to the k nearest-neighbors are selected."
      ],
      "metadata": {
        "id": "JLuLSJLQ7YAP"
      }
    },
    {
      "cell_type": "code",
      "source": [
        "fig, ax = plt.subplots(figsize=(8.5, 8.5))\n",
        "ax.scatter(\n",
        "    X_minority[:, 0],\n",
        "    X_minority[:, 1],\n",
        "    label=\"Minority class\",\n",
        "    s=200,\n",
        "    marker=\"_\",\n",
        ")\n",
        "ax.scatter(\n",
        "    X_majority[:, 0],\n",
        "    X_majority[:, 1],\n",
        "    label=\"Majority class\",\n",
        "    s=200,\n",
        "    marker=\"+\",\n",
        ")\n",
        "\n",
        "nearest_neighbors = NearestNeighbors(n_neighbors=3)\n",
        "nearest_neighbors.fit(X_majority)\n",
        "\n",
        "# select only the majority point of interest\n",
        "selected_idx = nearest_neighbors.kneighbors(X_minority, return_distance=False)\n",
        "X_majority = X_majority[np.unique(selected_idx), :]\n",
        "ax.scatter(\n",
        "    X_majority[:, 0],\n",
        "    X_majority[:, 1],\n",
        "    label=\"Short-listed samples\",\n",
        "    s=200,\n",
        "    alpha=0.3,\n",
        "    color=\"g\",\n",
        ")\n",
        "nearest_neighbors = NearestNeighbors(n_neighbors=3)\n",
        "nearest_neighbors.fit(X_minority)\n",
        "dist, ind = nearest_neighbors.kneighbors(X_majority[:2, :])\n",
        "dist_avg = dist.sum(axis=1) / 3\n",
        "\n",
        "for positive_idx, (neighbors, distance, color) in enumerate(\n",
        "    zip(ind, dist_avg, [\"r\", \"g\"])\n",
        "):\n",
        "    for make_plot, sample_idx in enumerate(neighbors):\n",
        "        ax.plot(\n",
        "            [X_majority[positive_idx, 0], X_minority[sample_idx, 0]],\n",
        "            [X_majority[positive_idx, 1], X_minority[sample_idx, 1]],\n",
        "            \"--\" + color,\n",
        "            alpha=0.3,\n",
        "            label=f\"Avg. dist.={distance:.2f}\" if make_plot == 0 else \"\",\n",
        "        )\n",
        "ax.set_title(\"NearMiss-3\")\n",
        "make_plot_despine(ax)\n",
        "plt.tight_layout()\n",
        "plt.show()"
      ],
      "metadata": {
        "id": "Gf4Hz0EA7YaP"
      },
      "execution_count": null,
      "outputs": []
    },
    {
      "cell_type": "markdown",
      "source": [
        "After your Machine Learning Model is built, it is advisable to **test your metric on your NOT-UPSAMPLED train dataset**. <br>\n",
        "\n",
        "Testing your metric on the NOT-UPSAMPLED data set gives you a more realistic estimate of your model than testing it on the UPSAMPLED dataset. It might be advisavle to keep a version of the train dataset that wasn’t upsampled."
      ],
      "metadata": {
        "id": "pp3TzgL2UeVE"
      }
    },
    {
      "cell_type": "markdown",
      "source": [
        "\n",
        "\n",
        "---\n",
        "\n",
        "\n",
        "\n",
        "---\n",
        "\n"
      ],
      "metadata": {
        "id": "WHp0RzpBkP33"
      }
    },
    {
      "cell_type": "markdown",
      "source": [
        "# Assignment\n",
        "Balance the following imbalanced dataset using NearMiss-1, NearMiss-2, NearMiss-3"
      ],
      "metadata": {
        "id": "ewtX4Qnvg2-Q"
      }
    },
    {
      "cell_type": "code",
      "source": [
        "# define dataset\n",
        "X, y = make_classification(n_samples=10000, n_features=2, n_redundant=0,\n",
        " n_clusters_per_class=1, weights=[0.99], flip_y=0, random_state=1)\n",
        "# summarize class distribution\n",
        "counter = Counter(y1)\n",
        "print(counter)\n"
      ],
      "metadata": {
        "id": "6U0fV8aNg5Bu"
      },
      "execution_count": null,
      "outputs": []
    },
    {
      "cell_type": "code",
      "source": [
        "# scatter plot of examples by class label\n",
        "for label, _ in counter.items():\n",
        " row_ix = where(y == label)[0]\n",
        " pyplot.scatter(X[row_ix, 0], X[row_ix, 1], label=str(label))\n",
        "pyplot.legend()\n",
        "pyplot.show()"
      ],
      "metadata": {
        "id": "T6gXOB4thV9X"
      },
      "execution_count": null,
      "outputs": []
    },
    {
      "cell_type": "markdown",
      "source": [
        "# NearMiss-1"
      ],
      "metadata": {
        "id": "ohYTmV8widd7"
      }
    },
    {
      "cell_type": "code",
      "source": [
        "# @title\n",
        "counter = Counter(y)\n",
        "print(counter)\n",
        "# define the undersampling method\n",
        "undersample = NearMiss(version=1, n_neighbors=3)\n",
        "# transform the dataset\n",
        "X1, y1 = undersample.fit_resample(X, y)\n",
        "# summarize the new class distribution\n",
        "counter = Counter(y)\n",
        "print(counter)"
      ],
      "metadata": {
        "cellView": "form",
        "id": "GRTo-w-khwdZ"
      },
      "execution_count": null,
      "outputs": []
    },
    {
      "cell_type": "code",
      "source": [
        "# @title\n",
        "for label, _ in counter.items():\n",
        " row_ix = where(y1 == label)[0]\n",
        " pyplot.scatter(X1[row_ix, 0], X1[row_ix, 1], label=str(label))\n",
        "pyplot.title(\"NearMiss-1\")\n",
        "pyplot.legend()\n",
        "pyplot.show()"
      ],
      "metadata": {
        "cellView": "form",
        "id": "fHHV078Sh0yA"
      },
      "execution_count": null,
      "outputs": []
    },
    {
      "cell_type": "markdown",
      "source": [
        "# NearMiss-2"
      ],
      "metadata": {
        "id": "8Vl7I_jgiWIX"
      }
    },
    {
      "cell_type": "code",
      "source": [
        "# @title\n",
        "# summarize class distribution\n",
        "counter = Counter(y)\n",
        "print(counter)\n",
        "# define the undersampling method\n",
        "undersample = NearMiss(version=2, n_neighbors=3)\n",
        "# transform the dataset\n",
        "X2, y2 = undersample.fit_resample(X, y)\n",
        "# summarize the new class distribution\n",
        "counter = Counter(y2)\n",
        "print(counter)"
      ],
      "metadata": {
        "cellView": "form",
        "id": "z0-dYnzqh_mA"
      },
      "execution_count": null,
      "outputs": []
    },
    {
      "cell_type": "code",
      "source": [
        "# @title\n",
        "# scatter plot of examples by class label\n",
        "for label, _ in counter.items():\n",
        " row_ix = where(y2 == label)[0]\n",
        " pyplot.scatter(X2[row_ix, 0], X2[row_ix, 1], label=str(label))\n",
        "pyplot.legend()\n",
        "pyplot.show()"
      ],
      "metadata": {
        "cellView": "form",
        "id": "c-hI2U5IiGgO"
      },
      "execution_count": null,
      "outputs": []
    },
    {
      "cell_type": "markdown",
      "source": [
        "# NearMiss-3"
      ],
      "metadata": {
        "id": "NZTUYlWYjBKD"
      }
    },
    {
      "cell_type": "code",
      "source": [
        "# @title\n",
        "counter = Counter(y)\n",
        "print(counter)\n",
        "# define the undersampling method\n",
        "undersample = NearMiss(version=3, n_neighbors_ver3=3)\n",
        "# transform the dataset\n",
        "X3, y3 = undersample.fit_resample(X, y)\n",
        "# summarize the new class distribution\n",
        "counter = Counter(y3)\n",
        "print(counter)"
      ],
      "metadata": {
        "cellView": "form",
        "id": "_K9-Ogi4iuOs"
      },
      "execution_count": null,
      "outputs": []
    },
    {
      "cell_type": "code",
      "source": [
        "# @title\n",
        "# scatter plot of examples by class label\n",
        "for label, _ in counter.items():\n",
        " row_ix = where(y3 == label)[0]\n",
        " pyplot.scatter(X3[row_ix, 0], X3[row_ix, 1], label=str(label))\n",
        "pyplot.legend()\n",
        "pyplot.show()"
      ],
      "metadata": {
        "cellView": "form",
        "id": "pzzo8T-qjRiF"
      },
      "execution_count": null,
      "outputs": []
    }
  ]
}