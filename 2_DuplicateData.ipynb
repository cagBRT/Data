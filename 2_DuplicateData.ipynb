{
  "nbformat": 4,
  "nbformat_minor": 0,
  "metadata": {
    "colab": {
      "name": "2:DuplicateData.ipynb",
      "private_outputs": true,
      "provenance": [],
      "authorship_tag": "ABX9TyPKQfNtA2YfkAvBPWIBkh91",
      "include_colab_link": true
    },
    "kernelspec": {
      "name": "python3",
      "display_name": "Python 3"
    }
  },
  "cells": [
    {
      "cell_type": "markdown",
      "metadata": {
        "id": "view-in-github",
        "colab_type": "text"
      },
      "source": [
        "<a href=\"https://colab.research.google.com/github/cagBRT/Data/blob/main/2_DuplicateData.ipynb\" target=\"_parent\"><img src=\"https://colab.research.google.com/assets/colab-badge.svg\" alt=\"Open In Colab\"/></a>"
      ]
    },
    {
      "cell_type": "code",
      "metadata": {
        "id": "kqHZ-L5o10kL"
      },
      "source": [
        "# locate rows of duplicate data\n",
        "from pandas import read_csv\n",
        "# define the location of the dataset\n",
        "path = 'iris.csv'"
      ],
      "execution_count": null,
      "outputs": []
    },
    {
      "cell_type": "code",
      "metadata": {
        "id": "b5lm5KDz136u"
      },
      "source": [
        "# load the dataset\n",
        "df = read_csv(path, header=None)"
      ],
      "execution_count": null,
      "outputs": []
    },
    {
      "cell_type": "code",
      "metadata": {
        "id": "LBDZLFBP142C"
      },
      "source": [
        "df"
      ],
      "execution_count": null,
      "outputs": []
    },
    {
      "cell_type": "markdown",
      "metadata": {
        "id": "fRJGztKk6TmS"
      },
      "source": [
        "Using the duplicates function - it shows you rows that are duplicate rows. "
      ]
    },
    {
      "cell_type": "code",
      "metadata": {
        "id": "1s9_lZjq01bJ"
      },
      "source": [
        "# calculate duplicates\n",
        "dups = df.duplicated()\n",
        "# report if there are any duplicates\n",
        "print(dups.any())\n",
        "dups.shape"
      ],
      "execution_count": null,
      "outputs": []
    },
    {
      "cell_type": "code",
      "metadata": {
        "id": "t7Ikq4Ww3uyR"
      },
      "source": [
        "df[dups]"
      ],
      "execution_count": null,
      "outputs": []
    },
    {
      "cell_type": "code",
      "metadata": {
        "id": "fU8I_QjX2l7O"
      },
      "source": [
        "# list all duplicate rows\n",
        "print(df[dups])"
      ],
      "execution_count": null,
      "outputs": []
    },
    {
      "cell_type": "code",
      "metadata": {
        "id": "R53Qgnng6fRV"
      },
      "source": [
        "# delete duplicate rows\n",
        "df.drop_duplicates(inplace=True)\n",
        "print(df.shape)"
      ],
      "execution_count": null,
      "outputs": []
    }
  ]
}