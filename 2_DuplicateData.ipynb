{
  "nbformat": 4,
  "nbformat_minor": 0,
  "metadata": {
    "colab": {
      "name": "2:DuplicateData.ipynb",
      "private_outputs": true,
      "provenance": [],
      "authorship_tag": "ABX9TyOwSaNwWU9yLujeSb9vBCba",
      "include_colab_link": true
    },
    "kernelspec": {
      "name": "python3",
      "display_name": "Python 3"
    }
  },
  "cells": [
    {
      "cell_type": "markdown",
      "metadata": {
        "id": "view-in-github",
        "colab_type": "text"
      },
      "source": [
        "<a href=\"https://colab.research.google.com/github/cagBRT/Data/blob/main/2_DuplicateData.ipynb\" target=\"_parent\"><img src=\"https://colab.research.google.com/assets/colab-badge.svg\" alt=\"Open In Colab\"/></a>"
      ]
    },
    {
      "cell_type": "code",
      "metadata": {
        "id": "odcM7FvIO2vu"
      },
      "source": [
        "# Clone the entire repo.\n",
        "!git clone -s https://github.com/cagBRT/Data.git cloned-repo\n",
        "%cd cloned-repo"
      ],
      "execution_count": null,
      "outputs": []
    },
    {
      "cell_type": "code",
      "metadata": {
        "id": "VhgZD7cQTaw3"
      },
      "source": [
        "import pandas as pd"
      ],
      "execution_count": null,
      "outputs": []
    },
    {
      "cell_type": "markdown",
      "metadata": {
        "id": "0Q4TnO-NPFMs"
      },
      "source": [
        "Using the a sample dataset<br>\n",
        "This is a simple dataset that has a dupicate row.\n",
        "Since we created it as a list, it has to be converted to a Pandas DataFrame "
      ]
    },
    {
      "cell_type": "code",
      "metadata": {
        "id": "g4PgoBM4PPXW"
      },
      "source": [
        "X=[[1,2,3,4,5,6,7,8,9,0],[2,4,6,8,10,12,14,16,18,20],[1,2,3,4,5,6,7,8,9,100],\n",
        "   [1,2,3,4,5,6,7,8,9,0],[2,4,6,8,10,12,14,16,18,200]]\n",
        "df=pd.DataFrame(X)"
      ],
      "execution_count": null,
      "outputs": []
    },
    {
      "cell_type": "code",
      "metadata": {
        "id": "h2uLuzy8T1FK"
      },
      "source": [
        "df"
      ],
      "execution_count": null,
      "outputs": []
    },
    {
      "cell_type": "code",
      "metadata": {
        "id": "Fio8sO_UPEDO"
      },
      "source": [
        "# find the duplicates\n",
        "dups = df.duplicated()\n",
        "# report if there are any duplicates\n",
        "print(\"There are duplicates\",dups.any())\n",
        "dups.shape"
      ],
      "execution_count": null,
      "outputs": []
    },
    {
      "cell_type": "code",
      "metadata": {
        "id": "uwsIfwYuTjCm"
      },
      "source": [
        "df[dups]"
      ],
      "execution_count": null,
      "outputs": []
    },
    {
      "cell_type": "markdown",
      "metadata": {
        "id": "CdH0GxdRU6cz"
      },
      "source": [
        "Use the function drop_duplicates to remove any duplicate rows"
      ]
    },
    {
      "cell_type": "code",
      "metadata": {
        "id": "rmxODXrUTuO-"
      },
      "source": [
        "# delete duplicate rows\n",
        "df.drop_duplicates(inplace=True)\n",
        "print(df.shape)"
      ],
      "execution_count": null,
      "outputs": []
    },
    {
      "cell_type": "markdown",
      "metadata": {
        "id": "X9Dv5VwXVCc_"
      },
      "source": [
        "The dataset with no duplicate rows"
      ]
    },
    {
      "cell_type": "code",
      "metadata": {
        "id": "yeS_0i60Txg7"
      },
      "source": [
        "df"
      ],
      "execution_count": null,
      "outputs": []
    },
    {
      "cell_type": "markdown",
      "metadata": {
        "id": "aLuiNA8PT-5e"
      },
      "source": [
        "**Assignment**<br>\n",
        "Remove any duplicate rows in oil_spill_assignment.csv"
      ]
    },
    {
      "cell_type": "code",
      "metadata": {
        "id": "tTeqaf-2ULCq"
      },
      "source": [
        "#Assignment\n",
        "#!cat oil_spill_assignment.csv"
      ],
      "execution_count": null,
      "outputs": []
    },
    {
      "cell_type": "code",
      "source": [
        "# locate rows of duplicate data\n",
        "from pandas import read_csv\n",
        "# define the location of the dataset\n",
        "path = 'oil_spill_assignment.csv'\n",
        "# load the dataset\n",
        "df = read_csv(path, header=None)\n",
        "df"
      ],
      "metadata": {
        "id": "Zt2vXN_h-Vpt"
      },
      "execution_count": null,
      "outputs": []
    },
    {
      "cell_type": "code",
      "metadata": {
        "id": "kqHZ-L5o10kL",
        "cellView": "form"
      },
      "source": [
        "#@title\n",
        "# locate rows of duplicate data\n",
        "from pandas import read_csv\n",
        "# define the location of the dataset\n",
        "path = 'oil_spill_assignment.csv'\n",
        "# load the dataset\n",
        "df = read_csv(path, header=None)\n",
        "df\n",
        "print(df.shape)\n",
        "# calculate duplicates\n",
        "dups = df.duplicated()\n",
        "# report if there are any duplicates\n",
        "print(dups.any())\n",
        "dups.shape\n",
        "# delete duplicate rows\n",
        "df.drop_duplicates(inplace=True)\n",
        "print(df.shape)"
      ],
      "execution_count": null,
      "outputs": []
    }
  ]
}