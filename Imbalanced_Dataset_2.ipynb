{
  "nbformat": 4,
  "nbformat_minor": 0,
  "metadata": {
    "colab": {
      "name": "Imbalanced Dataset 2.ipynb",
      "private_outputs": true,
      "provenance": [],
      "authorship_tag": "ABX9TyOcMSUQXDMsHpiz4oDnn1TB",
      "include_colab_link": true
    },
    "kernelspec": {
      "name": "python3",
      "display_name": "Python 3"
    },
    "language_info": {
      "name": "python"
    }
  },
  "cells": [
    {
      "cell_type": "markdown",
      "metadata": {
        "id": "view-in-github",
        "colab_type": "text"
      },
      "source": [
        "<a href=\"https://colab.research.google.com/github/cagBRT/Data/blob/main/Imbalanced_Dataset_2.ipynb\" target=\"_parent\"><img src=\"https://colab.research.google.com/assets/colab-badge.svg\" alt=\"Open In Colab\"/></a>"
      ]
    },
    {
      "cell_type": "code",
      "metadata": {
        "id": "0T5C8PA2JbX6"
      },
      "source": [
        "from numpy import unique\n",
        "from numpy import hstack\n",
        "from numpy import vstack\n",
        "from numpy import where\n",
        "from matplotlib import pyplot\n",
        "from sklearn.datasets import make_blobs"
      ],
      "execution_count": null,
      "outputs": []
    },
    {
      "cell_type": "code",
      "metadata": {
        "id": "q4DT65mDJeJA"
      },
      "source": [
        "# generate binary classification dataset and plot\n",
        "from numpy import where\n",
        "from matplotlib import pyplot\n",
        "from sklearn.datasets import make_blobs"
      ],
      "execution_count": null,
      "outputs": []
    },
    {
      "cell_type": "code",
      "metadata": {
        "id": "19BYM6sdJj1R"
      },
      "source": [
        "from collections import Counter\n",
        "from sklearn.datasets import make_classification \n",
        "from matplotlib import pyplot\n",
        "from numpy import where"
      ],
      "execution_count": null,
      "outputs": []
    },
    {
      "cell_type": "code",
      "metadata": {
        "id": "g038YxvIIa2a"
      },
      "source": [
        "sizes = [100, 1000, 10000, 100000]\n",
        "# create and plot a dataset with each size\n",
        "for i in range(len(sizes)):\n",
        "  # determine the dataset size\n",
        "  n = sizes[i]\n",
        "    # create the dataset\n",
        "  X, y = make_classification(n_samples=n, n_features=2, n_redundant=0, n_clusters_per_class=1, weights=[0.99], flip_y=0, random_state=1)\n",
        "    # summarize class distribution\n",
        "  counter = Counter(y)\n",
        "  print('Size=%d, Ratio=%s' % (n, counter)) # define subplot\n",
        "  pyplot.subplot(2, 2, 1+i) \n",
        "  pyplot.title('n=%d' % n) \n",
        "  pyplot.xticks([])\n",
        "  pyplot.yticks([])\n",
        "  # scatter plot of examples by class label \n",
        "  for label, _ in counter.items():\n",
        "    row_ix = where(y == label)[0]\n",
        "    pyplot.scatter(X[row_ix, 0], X[row_ix, 1], label=str(label)) \n",
        "  pyplot.legend()\n",
        "# show the figure\n",
        "pyplot.show()"
      ],
      "execution_count": null,
      "outputs": []
    },
    {
      "cell_type": "code",
      "metadata": {
        "id": "8-uISsGHZ8tI"
      },
      "source": [
        "# vary the label noise for a 1:100 imbalanced dataset\n",
        "from collections import Counter\n",
        "from sklearn.datasets import make_classification\n",
        "from matplotlib import pyplot\n",
        "from numpy import where\n",
        "# label noise ratios\n",
        "noise = [0, 0.01, 0.05, 0.07]\n",
        "# create and plot a dataset with different label noise \n",
        "for i in range(len(noise)):\n",
        "  # determine the label noise\n",
        "  n = noise[i]\n",
        "  # create the dataset\n",
        "  X, y = make_classification(n_samples=1000, n_features=2, n_redundant=0, n_clusters_per_class=1, weights=[0.99], flip_y=n, random_state=1)\n",
        "  # summarize class distribution\n",
        "  counter = Counter(y)\n",
        "  print('Noise=%d%%, Ratio=%s' % (int(n*100), counter)) # define subplot\n",
        "  pyplot.subplot(2, 2, 1+i)\n",
        "  pyplot.title('noise=%d%%' % int(n*100)) \n",
        "  pyplot.xticks([])\n",
        "  pyplot.yticks([])\n",
        "  # scatter plot of examples by class label\n",
        "  for label, _ in counter.items():\n",
        "    row_ix = where(y == label)[0]\n",
        "    pyplot.scatter(X[row_ix, 0], X[row_ix, 1], label=str(label)) \n",
        "    pyplot.legend()\n",
        "# show the figure\n",
        "pyplot.show()"
      ],
      "execution_count": null,
      "outputs": []
    },
    {
      "cell_type": "code",
      "metadata": {
        "id": "DLCSGEQ3akjz"
      },
      "source": [
        "# number of clusters\n",
        "clusters = [1, 2]\n",
        "# create and plot a dataset with different numbers of clusters \n",
        "for i in range(len(clusters)):\n",
        "  c = clusters[i]\n",
        "  # define dataset\n",
        "  X, y = make_classification(n_samples=10000, n_features=2, n_redundant=0, n_clusters_per_class=c, \n",
        "                             weights=[0.99], flip_y=0, random_state=1)\n",
        "  counter = Counter(y)\n",
        "  # define subplot\n",
        "  pyplot.subplot(1, 2, 1+i) \n",
        "  pyplot.title('Clusters=%d' % c) \n",
        "  pyplot.xticks([]) \n",
        "  pyplot.yticks([])\n",
        "   # scatter plot of examples by class label\n",
        "  for label, _ in counter.items():\n",
        "    row_ix = where(y == label)[0]\n",
        "    pyplot.scatter(X[row_ix, 0], X[row_ix, 1], label=str(label))\n",
        "  pyplot.legend()\n",
        "# show the figure\n",
        "pyplot.show()"
      ],
      "execution_count": null,
      "outputs": []
    }
  ]
}