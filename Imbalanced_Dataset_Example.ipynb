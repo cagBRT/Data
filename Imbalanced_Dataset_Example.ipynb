{
  "nbformat": 4,
  "nbformat_minor": 0,
  "metadata": {
    "colab": {
      "name": "Imbalanced Dataset Example.ipynb",
      "private_outputs": true,
      "provenance": [],
      "authorship_tag": "ABX9TyMc8gUywOEdbjrsoAj+ehd5",
      "include_colab_link": true
    },
    "kernelspec": {
      "name": "python3",
      "display_name": "Python 3"
    },
    "language_info": {
      "name": "python"
    }
  },
  "cells": [
    {
      "cell_type": "markdown",
      "metadata": {
        "id": "view-in-github",
        "colab_type": "text"
      },
      "source": [
        "<a href=\"https://colab.research.google.com/github/cagBRT/Data/blob/main/Imbalanced_Dataset_Example.ipynb\" target=\"_parent\"><img src=\"https://colab.research.google.com/assets/colab-badge.svg\" alt=\"Open In Colab\"/></a>"
      ]
    },
    {
      "cell_type": "code",
      "metadata": {
        "id": "5qQA3UQ0PPZ0"
      },
      "source": [
        "# Clone the entire repo.\n",
        "!git clone -s https://github.com/cagBRT/Data.git cloned-repo\n",
        "%cd cloned-repo"
      ],
      "execution_count": null,
      "outputs": []
    },
    {
      "cell_type": "code",
      "metadata": {
        "id": "UnTKZYhwPk5N"
      },
      "source": [
        "from pandas import read_csv\n",
        "from collections import Counter\n",
        "from matplotlib import pyplot"
      ],
      "execution_count": null,
      "outputs": []
    },
    {
      "cell_type": "code",
      "metadata": {
        "id": "IYK0oHhHPXHW"
      },
      "source": [
        "filename = '/content/cloned-repo/survivalData.csv'"
      ],
      "execution_count": null,
      "outputs": []
    },
    {
      "cell_type": "markdown",
      "source": [
        "**Loading the data**<br>\n",
        "\n",
        "Relevant Information: The dataset contains cases from a study that was conducted between 1958 and 1970 at the University of Chicago's Billings Hospital on the survival of patients who had undergone surgery for breast cancer.<br>\n",
        "\n",
        "Attribute Information:<br>\n",
        "\n",
        "Age of patient at time of operation (numerical)<br>\n",
        "\n",
        "Patient's year of operation (year - 1900, numerical)<br>\n",
        "\n",
        "Number of positive axillary nodes detected (numerical)<br>\n",
        "\n",
        "Survival status (class attribute)<br>\n",
        "\n",
        ">1 = the patient survived 5 years or longer<br>\n",
        "\n",
        ">2 = the patient died within 5 year<br>"
      ],
      "metadata": {
        "id": "nb3uZXJ9cFif"
      }
    },
    {
      "cell_type": "code",
      "metadata": {
        "id": "9AcirSMkPeg6"
      },
      "source": [
        "columns = ['age', 'year', 'nodes', 'class']\n",
        "dataframe = read_csv(filename, header=None, names=columns)"
      ],
      "execution_count": null,
      "outputs": []
    },
    {
      "cell_type": "code",
      "source": [
        "dataframe.plot()"
      ],
      "metadata": {
        "id": "vXS5vhQFblEM"
      },
      "execution_count": null,
      "outputs": []
    },
    {
      "cell_type": "code",
      "metadata": {
        "id": "yf2Tj7sOQ526"
      },
      "source": [
        "report = dataframe.describe()\n",
        "print(report)"
      ],
      "execution_count": null,
      "outputs": []
    },
    {
      "cell_type": "code",
      "metadata": {
        "id": "RRVfzzX9ROcz"
      },
      "source": [
        "dataframe.hist()\n",
        "pyplot.show()"
      ],
      "execution_count": null,
      "outputs": []
    },
    {
      "cell_type": "code",
      "metadata": {
        "id": "suzX3OVlRrpM"
      },
      "source": [
        "target = dataframe['class'].values\n",
        "counter = Counter(target)\n",
        "for k,v in counter.items():\n",
        "  per = v / len(target) * 100\n",
        "  print('Class=%d, Count=%d, Percentage=%.3f%%' % (k, v, per))"
      ],
      "execution_count": null,
      "outputs": []
    }
  ]
}