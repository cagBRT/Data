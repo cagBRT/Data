{
  "nbformat": 4,
  "nbformat_minor": 0,
  "metadata": {
    "colab": {
      "name": "Imbalanced Dataset 5.ipynb",
      "private_outputs": true,
      "provenance": [],
      "authorship_tag": "ABX9TyOkY/VgYcnhiaEJu3+cQ0XC",
      "include_colab_link": true
    },
    "kernelspec": {
      "name": "python3",
      "display_name": "Python 3"
    },
    "language_info": {
      "name": "python"
    }
  },
  "cells": [
    {
      "cell_type": "markdown",
      "metadata": {
        "id": "view-in-github",
        "colab_type": "text"
      },
      "source": [
        "<a href=\"https://colab.research.google.com/github/cagBRT/Data/blob/main/Imbalanced_Dataset_5.ipynb\" target=\"_parent\"><img src=\"https://colab.research.google.com/assets/colab-badge.svg\" alt=\"Open In Colab\"/></a>"
      ]
    },
    {
      "cell_type": "code",
      "metadata": {
        "id": "KVodvPnrgc4z"
      },
      "source": [
        "# create an imbalanced dataset\n",
        "from numpy import unique\n",
        "from sklearn.datasets import make_classification\n",
        "# generate 2 class dataset\n",
        "X, y = make_classification(n_samples=1000, n_classes=2, weights=[0.99], flip_y=0,\n",
        "  random_state=1)\n",
        "# summarize dataset\n",
        "classes = unique(y)\n",
        "total = len(y)\n",
        "for c in classes:\n",
        "  n_examples = len(y[y==c])\n",
        "  percent = n_examples / total * 100\n",
        "  print('> Class=%d : %d/%d (%.1f%%)' % (c, n_examples, total, percent))"
      ],
      "execution_count": null,
      "outputs": []
    },
    {
      "cell_type": "code",
      "metadata": {
        "id": "fHh7Feb1gvEn"
      },
      "source": [
        "# log loss for naive probability predictions.\n",
        "from sklearn.datasets import make_classification\n",
        "from sklearn.model_selection import train_test_split\n",
        "from sklearn.metrics import log_loss\n",
        "# generate 2 class dataset\n",
        "X, y = make_classification(n_samples=1000, n_classes=2, weights=[0.99], flip_y=0,\n",
        "random_state=1)\n",
        "# split into train/test sets with same class ratio\n",
        "trainX, testX, trainy, testy = train_test_split(X, y, test_size=0.5, random_state=2, stratify=y)\n",
        "# no skill prediction 0\n",
        "probabilities = [[1, 0] for _ in range(len(testy))] \n",
        "avg_logloss = log_loss(testy, probabilities) \n",
        "print('P(class0=1): Log Loss=%.3f' % (avg_logloss)) # no skill prediction 1\n",
        "probabilities = [[0, 1] for _ in range(len(testy))] \n",
        "avg_logloss = log_loss(testy, probabilities) \n",
        "print('P(class1=1): Log Loss=%.3f' % (avg_logloss)) # baseline probabilities\n",
        "probabilities = [[0.99, 0.01] for _ in range(len(testy))] \n",
        "avg_logloss = log_loss(testy, probabilities) \n",
        "print('Baseline: Log Loss=%.3f' % (avg_logloss))\n",
        "# perfect probabilities\n",
        "avg_logloss = log_loss(testy, testy) \n",
        "print('Perfect: Log Loss=%.3f' % (avg_logloss))"
      ],
      "execution_count": null,
      "outputs": []
    },
    {
      "cell_type": "code",
      "metadata": {
        "id": "6THOvNx5g6mL"
      },
      "source": [
        "# brier score for naive probability predictions.\n",
        "from sklearn.datasets import make_classification\n",
        "from sklearn.model_selection import train_test_split\n",
        "from sklearn.metrics import brier_score_loss\n",
        "# generate 2 class dataset\n",
        "X, y = make_classification(n_samples=1000, n_classes=2, weights=[0.99], flip_y=0,\n",
        "random_state=1)\n",
        "# split into train/test sets with same class ratio\n",
        "trainX, testX, trainy, testy = train_test_split(X, y, test_size=0.5, random_state=2, stratify=y)\n",
        "# no skill prediction 0\n",
        "probabilities = [0.0 for _ in range(len(testy))] \n",
        "avg_brier = brier_score_loss(testy, probabilities) \n",
        "print('P(class1=0): Brier Score=%.4f' % (avg_brier)) # no skill prediction 1\n",
        "probabilities = [1.0 for _ in range(len(testy))] \n",
        "avg_brier = brier_score_loss(testy, probabilities) \n",
        "print('P(class1=1): Brier Score=%.4f' % (avg_brier)) # baseline probabilities\n",
        "probabilities = [0.01 for _ in range(len(testy))] \n",
        "avg_brier = brier_score_loss(testy, probabilities) \n",
        "print('Baseline: Brier Score=%.4f' % (avg_brier)) # perfect probabilities\n",
        "avg_brier = brier_score_loss(testy, testy)\n",
        "print('Perfect: Brier Score=%.4f' % (avg_brier))"
      ],
      "execution_count": null,
      "outputs": []
    },
    {
      "cell_type": "code",
      "metadata": {
        "id": "x8tGf2k9hRml"
      },
      "source": [
        "# brier skill score for naive probability predictions.\n",
        "from sklearn.datasets import make_classification \n",
        "from sklearn.model_selection import train_test_split \n",
        "from sklearn.metrics import brier_score_loss\n",
        "# calculate the brier skill score\n",
        "def brier_skill_score(y, yhat, brier_ref): # calculate the brier score\n",
        "  bs = brier_score_loss(y, yhat)\n",
        "  # calculate skill score\n",
        "  return 1.0 - (bs / brier_ref)\n",
        "# generate 2 class dataset\n",
        "X, y = make_classification(n_samples=1000, n_classes=2, weights=[0.99], flip_y=0, random_state=1)\n",
        "# split into train/test sets with same class ratio\n",
        "trainX, testX, trainy, testy = train_test_split(X, y, test_size=0.5, random_state=2, stratify=y)\n",
        "# calculate reference\n",
        "probabilities = [0.01 \n",
        "for _ in range(len(testy))] \n",
        "brier_ref = brier_score_loss(testy, probabilities) \n",
        "print('Reference: Brier Score=%.4f' % (brier_ref)) # no skill prediction 0\n",
        "probabilities = [0.0 for _ in range(len(testy))]\n",
        "bss = brier_skill_score(testy, probabilities, brier_ref) \n",
        "print('P(class1=0): BSS=%.4f' % (bss))\n",
        "# no skill prediction 1\n",
        "probabilities = [1.0 for _ in range(len(testy))]\n",
        "bss = brier_skill_score(testy, probabilities, brier_ref) \n",
        "print('P(class1=1): BSS=%.4f' % (bss))\n",
        "# baseline probabilities\n",
        "probabilities = [0.01 for _ in range(len(testy))]\n",
        "bss = brier_skill_score(testy, probabilities, brier_ref) \n",
        "print('Baseline: BSS=%.4f' % (bss))\n",
        "# perfect probabilities\n",
        "bss = brier_skill_score(testy, testy, brier_ref) \n",
        "print('Perfect: BSS=%.4f' % (bss))\n"
      ],
      "execution_count": null,
      "outputs": []
    }
  ]
}