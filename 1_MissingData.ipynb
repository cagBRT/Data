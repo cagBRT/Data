{
  "nbformat": 4,
  "nbformat_minor": 0,
  "metadata": {
    "colab": {
      "name": "1:MissingData.ipynb",
      "private_outputs": true,
      "provenance": [],
      "authorship_tag": "ABX9TyO/8xmarxZLb93kz43Q9ODv",
      "include_colab_link": true
    },
    "kernelspec": {
      "name": "python3",
      "display_name": "Python 3"
    }
  },
  "cells": [
    {
      "cell_type": "markdown",
      "metadata": {
        "id": "view-in-github",
        "colab_type": "text"
      },
      "source": [
        "<a href=\"https://colab.research.google.com/github/cagBRT/Data/blob/main/1_MissingData.ipynb\" target=\"_parent\"><img src=\"https://colab.research.google.com/assets/colab-badge.svg\" alt=\"Open In Colab\"/></a>"
      ]
    },
    {
      "cell_type": "markdown",
      "metadata": {
        "id": "VWJ3-hXvwqUa"
      },
      "source": [
        "Identifying missing data"
      ]
    },
    {
      "cell_type": "markdown",
      "metadata": {
        "id": "s2vzpoFSxERF"
      },
      "source": [
        "Oil spill dataset<br>\n",
        "\n",
        "By Robert Holte.<br>\n",
        "\n",
        "Kubat, M., Holte, R., & Matwin, S. (1998). Machine Learning for the Detection of Oil Spills in Satellite Radar Images. Machine Learning, 30, 195–215.<br>\n",
        "\n",
        "- 41 minority (oil slick)<br>\n",
        "- 896 majority (no oil slick)"
      ]
    },
    {
      "cell_type": "code",
      "metadata": {
        "id": "uxV1ANTCwc4V"
      },
      "source": [
        "#!cat oil-spill.csv"
      ],
      "execution_count": null,
      "outputs": []
    },
    {
      "cell_type": "markdown",
      "metadata": {
        "id": "yItuxFUu0Ymx"
      },
      "source": [
        "Get the data "
      ]
    },
    {
      "cell_type": "code",
      "metadata": {
        "id": "tszvac0E0YHR"
      },
      "source": [
        "from urllib.request import urlopen\n",
        "from numpy import loadtxt\n",
        "from numpy import unique\n",
        "from pandas import read_csv\n",
        "import numpy as np"
      ],
      "execution_count": null,
      "outputs": []
    },
    {
      "cell_type": "code",
      "metadata": {
        "id": "qU6PngNX-dvU"
      },
      "source": [
        "# load the dataset\n",
        "df = read_csv(\"oil-spill.csv\", header=None)"
      ],
      "execution_count": null,
      "outputs": []
    },
    {
      "cell_type": "code",
      "metadata": {
        "id": "eenGqmHT-e-x"
      },
      "source": [
        "df.shape"
      ],
      "execution_count": null,
      "outputs": []
    },
    {
      "cell_type": "code",
      "metadata": {
        "id": "NqcgRfFV-heX"
      },
      "source": [
        "df"
      ],
      "execution_count": null,
      "outputs": []
    },
    {
      "cell_type": "code",
      "metadata": {
        "id": "tnxbhhluFM6K"
      },
      "source": [
        "df.describe()"
      ],
      "execution_count": null,
      "outputs": []
    },
    {
      "cell_type": "code",
      "metadata": {
        "id": "hAFPvidyFVWT"
      },
      "source": [
        "df.value_counts([49])"
      ],
      "execution_count": null,
      "outputs": []
    },
    {
      "cell_type": "markdown",
      "metadata": {
        "id": "3XkyfVFoEYg2"
      },
      "source": [
        "Column 49 is the label column for spill/no spill"
      ]
    },
    {
      "cell_type": "code",
      "metadata": {
        "id": "VhLC3U3OEYrH"
      },
      "source": [
        "labels=df[49]\n",
        "print(labels.head())\n",
        "df_X=df.drop([49], axis=1)"
      ],
      "execution_count": null,
      "outputs": []
    },
    {
      "cell_type": "markdown",
      "metadata": {
        "id": "El5iRmYM9qoh"
      },
      "source": [
        "Look for columns that have the same value for every row"
      ]
    },
    {
      "cell_type": "code",
      "metadata": {
        "id": "yZLQu-2a7_fC"
      },
      "source": [
        "# summarize the number of unique values in each column\n",
        "col_values=df_X.nunique()\n",
        "print(col_values)"
      ],
      "execution_count": null,
      "outputs": []
    },
    {
      "cell_type": "markdown",
      "metadata": {
        "id": "VDUx4ekG-KLj"
      },
      "source": [
        "Drop the columns that have only one value"
      ]
    },
    {
      "cell_type": "code",
      "metadata": {
        "id": "WsqRAUkd-NOd"
      },
      "source": [
        "# record columns to delete\n",
        "#counts= df.nunique()\n",
        "#to_del = [i for i,v in enumerate(counts) if v == 1]\n",
        "to_del=[]\n",
        "for i in range(len(col_values)):\n",
        "  if col_values[i]==1:\n",
        "    to_del.append(i)\n",
        "print(\"Column with one value:\",to_del)\n",
        "# drop useless columns\n",
        "for i in range(len(to_del)):\n",
        "  df_X_good=df_X.drop(to_del[i], axis=1)"
      ],
      "execution_count": null,
      "outputs": []
    },
    {
      "cell_type": "code",
      "metadata": {
        "id": "cHZOkoaAUQXt"
      },
      "source": [
        "df_X_good"
      ],
      "execution_count": null,
      "outputs": []
    },
    {
      "cell_type": "markdown",
      "metadata": {
        "id": "OpK6vckbAs4f"
      },
      "source": [
        "What about columns with very few unique values?"
      ]
    },
    {
      "cell_type": "code",
      "metadata": {
        "id": "1KozaTLdI_3H"
      },
      "source": [
        "col_values=df_X_good.nunique()\n",
        "threshold=.055\n",
        "#print(col_values)\n",
        "for i in range(49):\n",
        "  if i==22:\n",
        "    print(\"\")\n",
        "  else:\n",
        "    calc=col_values[i]/637\n",
        "    if calc <= threshold:\n",
        "      print(\"unique values:%d row %d calc %.3f\" %(col_values[i],i, calc))\n",
        "calc=col_values[48]/637"
      ],
      "execution_count": null,
      "outputs": []
    },
    {
      "cell_type": "markdown",
      "metadata": {
        "id": "TNGi94PrykfQ"
      },
      "source": [
        "Finding low variance in columns"
      ]
    },
    {
      "cell_type": "code",
      "metadata": {
        "id": "ExeNwZBJzEs1"
      },
      "source": [
        "# define the transform\n",
        "transform = VarianceThreshold()\n",
        "# transform the input data\n",
        "X_sel = transform.fit_transform(X)"
      ],
      "execution_count": null,
      "outputs": []
    },
    {
      "cell_type": "code",
      "metadata": {
        "id": "tDM3fE-6ynfr"
      },
      "source": [
        "from sklearn.feature_selection import VarianceThreshold\n",
        "# define the location of the dataset\n",
        "path = 'oil-spill.csv'\n",
        "# load the dataset\n",
        "df = read_csv(path, header=None)\n",
        "# split data into inputs and outputs\n",
        "data = df.values\n",
        "X = data[:, :-1]\n",
        "y = data[:, -1]\n",
        "print(X.shape, y.shape)\n",
        "# define the transform\n",
        "transform = VarianceThreshold()\n",
        "# transform the input data\n",
        "X_sel = transform.fit_transform(X)\n",
        "print(X_sel.shape)"
      ],
      "execution_count": null,
      "outputs": []
    },
    {
      "cell_type": "code",
      "metadata": {
        "id": "tHv2dUjczLB_"
      },
      "source": [
        "import numpy as np\n",
        "# define thresholds to check\n",
        "thresholds = np.arange(0.0, 0.55, 0.05)"
      ],
      "execution_count": null,
      "outputs": []
    },
    {
      "cell_type": "code",
      "metadata": {
        "id": "C1VcJsDzzoRp"
      },
      "source": [
        "# apply transform with each threshold\n",
        "results = list()\n",
        "for t in thresholds:\n",
        " # define the transform\n",
        " transform = VarianceThreshold(threshold=t)\n",
        " # transform the input data\n",
        " X_sel = transform.fit_transform(X)\n",
        " # determine the number of input features\n",
        " n_features = X_sel.shape[1]\n",
        " print('>Threshold=%.2f, Features=%d' % (t, n_features))\n",
        " # store the result\n",
        " results.append(n_features)"
      ],
      "execution_count": null,
      "outputs": []
    },
    {
      "cell_type": "markdown",
      "metadata": {
        "id": "miLr3MG40g2j"
      },
      "source": [
        "A line plot is then created showing the relationship between the threshold and the number of features in the transformed dataset.<br>\n",
        "\n",
        "We can see that even with a small threshold between 0.15 and 0.4, that a large number of features (14) are removed immediately."
      ]
    },
    {
      "cell_type": "code",
      "metadata": {
        "id": "PPzYlm1f0Abh"
      },
      "source": [
        "import matplotlib.pyplot as plt\n",
        "\n",
        "# plot the threshold vs the number of selected features\n",
        "plt.plot(thresholds, results)\n",
        "plt.show()"
      ],
      "execution_count": null,
      "outputs": []
    }
  ]
}