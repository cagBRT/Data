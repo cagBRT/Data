{
  "nbformat": 4,
  "nbformat_minor": 0,
  "metadata": {
    "colab": {
      "name": "Imbalanced Datasets 3.ipynb",
      "private_outputs": true,
      "provenance": [],
      "authorship_tag": "ABX9TyPpx4pxzZ6BY0EmQtBOv+Gk",
      "include_colab_link": true
    },
    "kernelspec": {
      "name": "python3",
      "display_name": "Python 3"
    },
    "language_info": {
      "name": "python"
    }
  },
  "cells": [
    {
      "cell_type": "markdown",
      "metadata": {
        "id": "view-in-github",
        "colab_type": "text"
      },
      "source": [
        "<a href=\"https://colab.research.google.com/github/cagBRT/Data/blob/main/Imbalanced_Datasets_3.ipynb\" target=\"_parent\"><img src=\"https://colab.research.google.com/assets/colab-badge.svg\" alt=\"Open In Colab\"/></a>"
      ]
    },
    {
      "cell_type": "markdown",
      "metadata": {
        "id": "r6Jwc6-ctWjV"
      },
      "source": [
        "## **The Accuracy Paradox**"
      ]
    },
    {
      "cell_type": "markdown",
      "metadata": {
        "id": "guJuz3mrq96u"
      },
      "source": [
        "**Evaluate a majority class classifier on an 1:100 imbalanced dataset**"
      ]
    },
    {
      "cell_type": "code",
      "metadata": {
        "id": "xdo07qSso-bg"
      },
      "source": [
        "# define an imbalanced dataset with a 1:100 class ratio\n",
        "from collections import Counter\n",
        "from sklearn.datasets import make_classification\n",
        "from matplotlib import pyplot\n",
        "from numpy import where"
      ],
      "execution_count": null,
      "outputs": []
    },
    {
      "cell_type": "code",
      "metadata": {
        "id": "NnQt_YlkpN7j"
      },
      "source": [
        "from numpy import mean\n",
        "from sklearn.dummy import DummyClassifier\n",
        "from sklearn.model_selection import cross_val_score\n",
        "from sklearn.model_selection import RepeatedStratifiedKFold\n",
        "from sklearn.model_selection import train_test_split"
      ],
      "execution_count": null,
      "outputs": []
    },
    {
      "cell_type": "code",
      "source": [
        "from sklearn.metrics import confusion_matrix\n",
        "#importing accuracy_score, precision_score, recall_score, f1_score\n",
        "from sklearn.metrics import accuracy_score, precision_score, recall_score, f1_score\n",
        "from sklearn.metrics import classification_report"
      ],
      "metadata": {
        "id": "gh-sG287c7pp"
      },
      "execution_count": null,
      "outputs": []
    },
    {
      "cell_type": "markdown",
      "source": [
        "**DummyClassifier** makes predictions that ignore the input features.\n",
        "\n",
        "This classifier serves as a simple baseline to compare against other more complex classifiers.\n",
        "\n",
        "The specific behavior of the baseline is selected with the strategy parameter.\n",
        "\n",
        "**“most_frequent”:** the predict method always returns the most frequent class label in the observed y argument passed to fit.\n",
        "\n",
        "The **predict_proba** method returns the matching one-hot encoded vector.\n"
      ],
      "metadata": {
        "id": "e5Vm1HlbdycQ"
      }
    },
    {
      "cell_type": "markdown",
      "metadata": {
        "id": "h8UHfIR1pSx1"
      },
      "source": [
        "**Create a synthetic dataset**"
      ]
    },
    {
      "cell_type": "markdown",
      "source": [
        "**Weights Parameter**<br>\n",
        "The proportions of samples assigned to each class. If None, then classes are balanced. <br>\n",
        "Note that if len(weights) == n_classes - 1, then the last class weight is automatically inferred. <br>\n",
        "\n",
        "More than n_samples samples may be returned if the sum of weights exceeds 1. Note that the actual class proportions will not exactly match weights when flip_y isn’t 0."
      ],
      "metadata": {
        "id": "Dg05nDRicsgi"
      }
    },
    {
      "cell_type": "code",
      "metadata": {
        "id": "R4DvLfAPpnk5"
      },
      "source": [
        "# define dataset\n",
        "X, y = make_classification(n_samples=10000, n_features=2, n_redundant=0, n_clusters_per_class=1,\n",
        "                           weights=[0.99], flip_y=0, random_state=4)"
      ],
      "execution_count": null,
      "outputs": []
    },
    {
      "cell_type": "code",
      "metadata": {
        "id": "igM4btGAqC3K"
      },
      "source": [
        "# summarize class distribution\n",
        "counter = Counter(y)\n",
        "print(counter)"
      ],
      "execution_count": null,
      "outputs": []
    },
    {
      "cell_type": "code",
      "metadata": {
        "id": "NlVgHjNiptJT"
      },
      "source": [
        "# scatter plot of examples by class label\n",
        "for label,  _ in counter.items():\n",
        "  row_ix = where(y == label)[0]\n",
        "  pyplot.scatter(X[row_ix, 0], X[row_ix, 1], label=str(label))\n",
        "  pyplot.legend()\n",
        "pyplot.show()"
      ],
      "execution_count": null,
      "outputs": []
    },
    {
      "cell_type": "code",
      "metadata": {
        "id": "5dP3mRXjrj-W"
      },
      "source": [
        "X_train, X_test, y_train, y_test = train_test_split(\n",
        "    X, y, test_size=0.20, random_state=42)"
      ],
      "execution_count": null,
      "outputs": []
    },
    {
      "cell_type": "markdown",
      "metadata": {
        "id": "L350iqiXpXxw"
      },
      "source": [
        "**Create a model and train it on the dataset**"
      ]
    },
    {
      "cell_type": "code",
      "metadata": {
        "id": "4GhI_pQupkK4"
      },
      "source": [
        "# evaluate a model using repeated k-fold cross-validation\n",
        "def evaluate_model(X, y, model):\n",
        "  # define the evaluation procedure\n",
        "  cv = RepeatedStratifiedKFold(n_splits=10, n_repeats=3, random_state=1)\n",
        "  # evaluate the model on the dataset\n",
        "  scores = cross_val_score(model, X_train, y_train, scoring='accuracy', cv=cv, n_jobs=-1) # return scores from each fold and each repeat\n",
        "  return scores"
      ],
      "execution_count": null,
      "outputs": []
    },
    {
      "cell_type": "markdown",
      "metadata": {
        "id": "Catq1AoYp5I9"
      },
      "source": [
        "**Create and train the model**"
      ]
    },
    {
      "cell_type": "code",
      "metadata": {
        "id": "I1JiDPv-cN7j"
      },
      "source": [
        "# define model\n",
        "model = DummyClassifier(strategy='most_frequent') # evaluate the model\n",
        "scores = evaluate_model(X_test, y_test, model)\n",
        "# summarize performance\n",
        "print('Mean Accuracy: %.2f%%' % (mean(scores) * 100))"
      ],
      "execution_count": null,
      "outputs": []
    },
    {
      "cell_type": "code",
      "source": [
        "model.fit(X_train, y_train)\n",
        "y_pred=model.predict(X_test)\n",
        "confusion = confusion_matrix(y_test, y_pred)\n",
        "print('Confusion Matrix\\n')\n",
        "print(confusion)"
      ],
      "metadata": {
        "id": "w-J1UIQzdCR6"
      },
      "execution_count": null,
      "outputs": []
    },
    {
      "cell_type": "markdown",
      "metadata": {
        "id": "wntAQHl6sfqR"
      },
      "source": [
        "**Assignment:** <br>\n",
        "What do you think of this model?"
      ]
    },
    {
      "cell_type": "markdown",
      "metadata": {
        "id": "Ct6ug5lTtHnk"
      },
      "source": [
        "Consider the case of an imbalanced dataset with a 1:100 class imbalance. In this problem, each example of the minority class (class 1) will have a corresponding 100 examples for the majority class (class 0). In problems of this type, the majority class represents normal and the minority class represents abnormal, such as a fault, a diagnosis, or a fraud. Good performance on the minority class will be preferred over good performance on both classes."
      ]
    },
    {
      "cell_type": "markdown",
      "metadata": {
        "id": "3XorLKIjtVRb"
      },
      "source": [
        "Many machine learning models are designed around the assumption of balanced class distribution, and often learn simple rules (explicit or otherwise) like always predict the majority class, causing them to achieve an accuracy of 99 percent, although in practice performing no better than an unskilled majority class classifier."
      ]
    },
    {
      "cell_type": "markdown",
      "metadata": {
        "id": "656VknY0tgPD"
      },
      "source": [
        "A beginner will see the performance of a sophisticated model achieving 99 percent on an imbalanced dataset of this type and believe their work is done, when in fact, they have been misled. This situation is so common that it has a name, referred to as the accuracy paradox."
      ]
    },
    {
      "cell_type": "code",
      "metadata": {
        "id": "5AjX6zlstvje"
      },
      "source": [
        "X, y = make_classification(n_samples=10000, n_features=2, n_redundant=0, n_clusters_per_class=1,\n",
        "                           weights=[0.99], flip_y=0, random_state=4)"
      ],
      "execution_count": null,
      "outputs": []
    },
    {
      "cell_type": "code",
      "metadata": {
        "id": "nqM2vC-mtwq6"
      },
      "source": [
        "for i in range(len(y)):\n",
        "  if i%2==0:\n",
        "    y[i]=0\n"
      ],
      "execution_count": null,
      "outputs": []
    },
    {
      "cell_type": "code",
      "metadata": {
        "id": "GU0C_y7yt7T6"
      },
      "source": [
        "X_train, X_test, y_train, y_test = train_test_split(\n",
        "    X, y, test_size=0.20, random_state=42)"
      ],
      "execution_count": null,
      "outputs": []
    },
    {
      "cell_type": "code",
      "metadata": {
        "id": "Wpqh5Q7It-NJ"
      },
      "source": [
        "model.fit(X_train, y_train)\n",
        "y_pred=model.predict(X_test)\n",
        "confusion = confusion_matrix(y_test, y_pred)\n",
        "print('Confusion Matrix\\n')\n",
        "print(confusion)"
      ],
      "execution_count": null,
      "outputs": []
    },
    {
      "cell_type": "code",
      "metadata": {
        "id": "7tF1OzzMuBx0"
      },
      "source": [
        "# define model\n",
        "model = DummyClassifier(strategy='most_frequent') # evaluate the model\n",
        "scores = evaluate_model(X_test, y_test, model)\n",
        "# summarize performance\n",
        "print('Mean Accuracy: %.2f%%' % (mean(scores) * 100))"
      ],
      "execution_count": null,
      "outputs": []
    }
  ]
}