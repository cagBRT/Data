{
  "nbformat": 4,
  "nbformat_minor": 0,
  "metadata": {
    "colab": {
      "name": "3a Missing Data.ipynb",
      "private_outputs": true,
      "provenance": [],
      "authorship_tag": "ABX9TyMdezW5FDOLy5mRJf9CwpAM",
      "include_colab_link": true
    },
    "kernelspec": {
      "name": "python3",
      "display_name": "Python 3"
    },
    "language_info": {
      "name": "python"
    }
  },
  "cells": [
    {
      "cell_type": "markdown",
      "metadata": {
        "id": "view-in-github",
        "colab_type": "text"
      },
      "source": [
        "<a href=\"https://colab.research.google.com/github/cagBRT/Data/blob/main/3a_Missing_Data.ipynb\" target=\"_parent\"><img src=\"https://colab.research.google.com/assets/colab-badge.svg\" alt=\"Open In Colab\"/></a>"
      ]
    },
    {
      "cell_type": "markdown",
      "metadata": {
        "id": "BBUWVTcH1PJ4"
      },
      "source": [
        "Dataset information: [Horse-colic.csv](hhttps://raw.githubusercontent.com/jbrownlee/Datasets/master/horse-colic.names)\n",
        "\n",
        "Aprroximately 30% of the data is missing from the data"
      ]
    },
    {
      "cell_type": "markdown",
      "metadata": {
        "id": "iFk1QXTu7FEU"
      },
      "source": [
        "**Column 23 is our label**:<br>\n",
        "outcome<br>\n",
        ">what eventually happened to the horse?<br>\n",
        ">>possible values:<br>\n",
        "1.   lived\n",
        "2.   died\n",
        "3.   euthanized\n",
        "\n"
      ]
    },
    {
      "cell_type": "code",
      "metadata": {
        "id": "ViGmmziG1NsW"
      },
      "source": [
        "# Clone the entire repo.\n",
        "!git clone -s https://github.com/cagBRT/Data.git cloned-repo\n",
        "%cd cloned-repo"
      ],
      "execution_count": null,
      "outputs": []
    },
    {
      "cell_type": "code",
      "metadata": {
        "id": "2JeZtuQJ4uLU"
      },
      "source": [
        "from numpy import isnan\n",
        "import pandas as pd\n",
        "from pandas import read_csv\n",
        "import matplotlib.pyplot as plt\n",
        "import seaborn as sb\n",
        "from sklearn.impute import SimpleImputer"
      ],
      "execution_count": null,
      "outputs": []
    },
    {
      "cell_type": "code",
      "metadata": {
        "id": "I9HUVFpA2eZI"
      },
      "source": [
        "from pandas import read_csv\n",
        "# load dataset\n",
        "df = read_csv('horse.csv', na_values='?')"
      ],
      "execution_count": null,
      "outputs": []
    },
    {
      "cell_type": "code",
      "source": [
        "df"
      ],
      "metadata": {
        "id": "EcR1B11kvb6A"
      },
      "execution_count": null,
      "outputs": []
    },
    {
      "cell_type": "code",
      "metadata": {
        "id": "HGBkKNTq2O6M"
      },
      "source": [
        "#!cat datadict.txt\n",
        "df.columns"
      ],
      "execution_count": null,
      "outputs": []
    },
    {
      "cell_type": "code",
      "metadata": {
        "id": "Yk3F_QBC2sWa"
      },
      "source": [
        "print(df.shape)"
      ],
      "execution_count": null,
      "outputs": []
    },
    {
      "cell_type": "code",
      "source": [
        "df.describe()"
      ],
      "metadata": {
        "id": "U85yRO522ID7"
      },
      "execution_count": null,
      "outputs": []
    },
    {
      "cell_type": "code",
      "metadata": {
        "id": "-kP4iR2224kv"
      },
      "source": [
        "perc=[]\n",
        "for i in range(df.shape[1]):\n",
        "  # count number of rows with missing values\n",
        "  n_miss = df[[i]].isnull().sum()\n",
        "  percentage = n_miss / df.shape[0] * 100\n",
        "  perc.append(float(n_miss))\n",
        "  print('column %d is Missing: %d this is %.1f%% of all missing data' % (i, n_miss, percentage))"
      ],
      "execution_count": null,
      "outputs": []
    },
    {
      "cell_type": "code",
      "source": [
        "xs=[]\n",
        "for i in range(len(perc)):\n",
        "  xs.append(i)"
      ],
      "metadata": {
        "id": "T5iEEhkztUdV"
      },
      "execution_count": null,
      "outputs": []
    },
    {
      "cell_type": "code",
      "metadata": {
        "id": "VuNOYpUz5E6p"
      },
      "source": [
        "data = df.values\n",
        "#ix = [i for i in range(data.shape[1]) if i != 23]\n",
        "ix = []\n",
        "for i in range(data.shape[1]):\n",
        "  if i != 23: #label row\n",
        "    ix.append(i)\n",
        "  \n",
        "#X and y are subsets of the full dataset. \n",
        "#They are rows with missing values\n",
        "X, y = data[:, ix], data[:, 23]"
      ],
      "execution_count": null,
      "outputs": []
    },
    {
      "cell_type": "code",
      "source": [
        "#let's count the mising values from each features\n",
        "null = df.isnull().sum() #Count the missing value\n",
        "#let's see the missing values in percetange format\n",
        "null = null/len(df)*100\n",
        "null = null[null>0]\n",
        "null.sort_values(inplace=True, ascending=False)\n",
        "null"
      ],
      "metadata": {
        "id": "5a6XpjLi2SPD"
      },
      "execution_count": null,
      "outputs": []
    },
    {
      "cell_type": "code",
      "source": [
        "X"
      ],
      "metadata": {
        "id": "t4Q0qoYb5yiI"
      },
      "execution_count": null,
      "outputs": []
    },
    {
      "cell_type": "code",
      "source": [
        "y"
      ],
      "metadata": {
        "id": "R2pgdL_56c_3"
      },
      "execution_count": null,
      "outputs": []
    },
    {
      "cell_type": "code",
      "source": [
        "#ploting missing value of each attributes by percentage\n",
        "plt.figure(figsize=(20, 10))\n",
        "plt.xlabel(\"column number\")\n",
        "plt.ylabel(\"num missing\")\n",
        "plt.xticks(rotation='vertical')\n",
        "sb.set(font_scale=1.2)\n",
        "plt.style.use('ggplot')\n",
        "sb.barplot(x=df.columns, y=perc)\n",
        "plt.show()"
      ],
      "metadata": {
        "id": "XVjMdbBt2g2C"
      },
      "execution_count": null,
      "outputs": []
    },
    {
      "cell_type": "markdown",
      "source": [
        "**Convert catagorical data to numerical**"
      ],
      "metadata": {
        "id": "slxh7q79zBth"
      }
    },
    {
      "cell_type": "code",
      "source": [
        "df.head()"
      ],
      "metadata": {
        "id": "ZPbeSMSIzI3b"
      },
      "execution_count": null,
      "outputs": []
    },
    {
      "cell_type": "markdown",
      "source": [
        "For a list of the unique values for each column use the unique function"
      ],
      "metadata": {
        "id": "mPFXhato4wTL"
      }
    },
    {
      "cell_type": "code",
      "source": [
        "for col in df:\n",
        "    print(df[col].unique())"
      ],
      "metadata": {
        "id": "g_joEe02z6z0"
      },
      "execution_count": null,
      "outputs": []
    },
    {
      "cell_type": "markdown",
      "source": [
        "We have a lot of catagorical data. <br>\n",
        "We can replace the catagorical data with numbers using the replace function."
      ],
      "metadata": {
        "id": "oDbiU5cQ4EJX"
      }
    },
    {
      "cell_type": "code",
      "source": [
        "df['surgery'].replace(['no', 'yes'],[0, 1], inplace=True)\n",
        "df['age'].replace(['adult','young'], [0,1], inplace=True)\n",
        "#Unique values of temp_of_extremities['cool' nan 'normal' 'cold' 'warm']\n",
        "#df['temp_of_extremities'].replace(['cool', 'cold', 'normal','warm'], [0,1,2,3], inplace=True)"
      ],
      "metadata": {
        "id": "D0GJI3Ew4DmO"
      },
      "execution_count": null,
      "outputs": []
    },
    {
      "cell_type": "markdown",
      "source": [
        "Some of our catagorical data has more than two catagories. <br>\n",
        "For this type of data we might want to do one-hot encoding"
      ],
      "metadata": {
        "id": "9iWnPkj64O1k"
      }
    },
    {
      "cell_type": "code",
      "source": [
        "df_ohe = pd.get_dummies(df, columns = ['temp_of_extremities'])\n",
        "df_ohe"
      ],
      "metadata": {
        "id": "Q1l4Wa1HzWOu"
      },
      "execution_count": null,
      "outputs": []
    },
    {
      "cell_type": "markdown",
      "source": [
        "For this notebook we are concentrating on how to handle missing data. <br>\n",
        "Using one-hot encoding would be better for when we have more than two unique values, but we are going to just convert all the data to numbers for now. "
      ],
      "metadata": {
        "id": "aXA1-Vhw5HGg"
      }
    },
    {
      "cell_type": "code",
      "source": [
        "df.columns"
      ],
      "metadata": {
        "id": "YTDRo3fG6gTL"
      },
      "execution_count": null,
      "outputs": []
    },
    {
      "cell_type": "markdown",
      "source": [
        "**To get a list of the unique values in a column use:**<br>\n",
        ">dataframe_name.column_name.unique().tolist()"
      ],
      "metadata": {
        "id": "1ZTlwXKe9KuT"
      }
    },
    {
      "cell_type": "code",
      "source": [
        "df.cp_data.unique().tolist()"
      ],
      "metadata": {
        "id": "AAT8QrK77esR"
      },
      "execution_count": null,
      "outputs": []
    },
    {
      "cell_type": "markdown",
      "source": [
        "**Replacing catagorical data with numbers**"
      ],
      "metadata": {
        "id": "kSsWjiFYAAAl"
      }
    },
    {
      "cell_type": "code",
      "source": [
        "#Replacing catagorical data with numbers\n",
        "#df['age'].replace(['adult','young'], [0,1], inplace=True)"
      ],
      "metadata": {
        "id": "yJ6LfKpn_8cI"
      },
      "execution_count": null,
      "outputs": []
    },
    {
      "cell_type": "markdown",
      "source": [
        "**All the columns that still have catagorical data**"
      ],
      "metadata": {
        "id": "zsM4YDqWAC5_"
      }
    },
    {
      "cell_type": "code",
      "source": [
        "#All the columns that still have catagorical data\n",
        "\n",
        "#'peripheral_pulse' ['reduced' nan 'normal' 'absent' 'increased']\n",
        "#'mucous_membrane' [nan 'pale_cyanotic' 'pale_pink' 'dark_cyanotic' 'normal_pink''bright_red' 'bright_pink']\n",
        "#'capillary_refill_time' ['more_3_sec' 'less_3_sec' nan '3']\n",
        "#'pain' ['extreme_pain' 'mild_pain' 'depressed' nan 'severe_pain' 'alert']\n",
        "#'peristalsis' ['absent' 'hypomotile' nan 'hypermotile' 'normal']\n",
        "#'abdominal_distention' ['severe' 'slight' 'none' nan 'moderate']\n",
        "#'nasogastric_tube' [nan 'none' 'slight' 'significant']\n",
        "#'nasogastric_reflux' [nan 'less_1_liter' 'none' 'more_1_liter']\n",
        "#'rectal_exam_feces' ['decreased' 'absent' 'normal' nan 'increased']\n",
        "#'abdomen' ['distend_large' 'other' 'normal' nan 'firm' 'distend_small']\n",
        "#'abdomo_appearance' [nan 'cloudy' 'serosanguious' 'clear']\n",
        "#'outcome' ['died' 'euthanized' 'lived']\n",
        "#'surgical_lesion' ['no' 'yes']\n",
        "#'cp_data' ['no' 'yes']"
      ],
      "metadata": {
        "id": "VMojNBIF5eI2"
      },
      "execution_count": null,
      "outputs": []
    },
    {
      "cell_type": "code",
      "source": [
        "#To list a column by number\n",
        "#df.iloc[:,[2]]\n",
        "\n",
        "#for column in df:\n",
        "#  print(df[column])"
      ],
      "metadata": {
        "id": "_Rz9yArA94ow"
      },
      "execution_count": null,
      "outputs": []
    },
    {
      "cell_type": "markdown",
      "source": [
        "**Assignment:** <br>\n",
        "Convert all catagorical data to numerical data"
      ],
      "metadata": {
        "id": "zjphx0r19hb1"
      }
    },
    {
      "cell_type": "code",
      "source": [
        "#df['peripheral_pulse'].replace(['reduced','normal' ,'absent' ,'increased'], [0,1,2,3], inplace=True)\n",
        "#df['mucous_membrane'].replace(['pale_cyanotic', 'pale_pink', 'dark_cyanotic', \n",
        "#                              'normal_pink','bright_red', 'bright_pink'], \n",
        "#                                [0,1,2,3,4,5], inplace=True)\n",
        "df['capillary_refill_time'].replace(['more_3_sec', 'less_3_sec','3'],[0,1,2], inplace=True)\n",
        "df['pain'].replace(['extreme_pain', 'mild_pain','depressed','severe_pain','alert'],[0,1,2,3,4], inplace=True)\n",
        "df['peristalsis'].replace( ['absent', 'hypomotile','hypermotile' ,'normal'],[0,1,2,3], inplace=True)\n",
        "df['abdominal_distention'].replace( ['severe' ,'slight', 'none', 'moderate'],[0,1,2,3], inplace=True)\n",
        "df['nasogastric_tube'].replace( ['none', 'slight', 'significant'],[0,1,2], inplace=True)\n",
        "df['nasogastric_reflux'].replace( ['less_1_liter' ,'none', 'more_1_liter'],[0,1,2], inplace=True)\n",
        "df['rectal_exam_feces'].replace( ['decreased', 'absent', 'normal', 'increased'],[0,1,2,3], inplace=True)\n",
        "df['abdomen'].replace( ['distend_large', 'other' ,'normal' ,'firm' ,'distend_small'],[0,1,2,3,4], inplace=True)\n",
        "df['abdomo_appearance'].replace( ['cloudy' ,'serosanguious', 'clear'],[0,1,2], inplace=True)\n",
        "df['outcome'].replace(['died' ,'euthanized', 'lived'],[0,1,2], inplace=True)\n",
        "df['surgical_lesion'].replace( ['no', 'yes'],[0,1], inplace=True)\n",
        "df['cp_data'].replace( ['no', 'yes'],[0,1], inplace=True)"
      ],
      "metadata": {
        "id": "Y5CW67ZK9pBW"
      },
      "execution_count": null,
      "outputs": []
    },
    {
      "cell_type": "code",
      "source": [
        "df"
      ],
      "metadata": {
        "id": "gVLfyXeMD_d0"
      },
      "execution_count": null,
      "outputs": []
    },
    {
      "cell_type": "markdown",
      "metadata": {
        "id": "LClNZuRR4oRX"
      },
      "source": [
        "**SimpleImputer**<br>\n",
        "The SimpleImputer is a data transform that is first configured based on the type of statistic to calculate for each column<br>\n",
        "\n",
        "Choices of strategy are: <br>\n",
        "- “mean”, then replace missing values using the mean along each column. Can only be used with numeric data.\n",
        "\n",
        "- “median”, then replace missing values using the median along each column. Can only be used with numeric data.\n",
        "\n",
        "- “most_frequent”, then replace missing using the most frequent value along each column. Can be used with strings or numeric data. If there is more than one such value, only the smallest is returned.\n",
        "\n",
        "-  “constant”, then replace missing values with fill_value. Can be used with strings or numeric data."
      ]
    },
    {
      "cell_type": "code",
      "metadata": {
        "id": "FCgO-qMv4oeM"
      },
      "source": [
        "import numpy as np\n",
        "# define imputer\n",
        "#replace missing values with the mean of its column\n",
        "imputer = SimpleImputer(missing_values=np.nan,strategy= 'mean')\n",
        "# fit on the dataset\n",
        "imputer.fit(df)"
      ],
      "execution_count": null,
      "outputs": []
    },
    {
      "cell_type": "code",
      "metadata": {
        "id": "FLE3uVEv5PfV"
      },
      "source": [
        "# transform the dataset\n",
        "Xtrans = imputer.transform(X)\n",
        "# summarize total missing\n",
        "print('Missing: %d' % sum(isnan(X).flatten()))\n",
        "# summarize total missing\n",
        "print('Missing: %d' % sum(isnan(Xtrans).flatten()))"
      ],
      "execution_count": null,
      "outputs": []
    }
  ]
}