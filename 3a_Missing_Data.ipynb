{
  "nbformat": 4,
  "nbformat_minor": 0,
  "metadata": {
    "colab": {
      "name": "3a Missing Data.ipynb",
      "private_outputs": true,
      "provenance": [],
      "authorship_tag": "ABX9TyP1ZA69iNYHqBRRFo+ceamd",
      "include_colab_link": true
    },
    "kernelspec": {
      "name": "python3",
      "display_name": "Python 3"
    },
    "language_info": {
      "name": "python"
    }
  },
  "cells": [
    {
      "cell_type": "markdown",
      "metadata": {
        "id": "view-in-github",
        "colab_type": "text"
      },
      "source": [
        "<a href=\"https://colab.research.google.com/github/cagBRT/Data/blob/main/3a_Missing_Data.ipynb\" target=\"_parent\"><img src=\"https://colab.research.google.com/assets/colab-badge.svg\" alt=\"Open In Colab\"/></a>"
      ]
    },
    {
      "cell_type": "markdown",
      "metadata": {
        "id": "BBUWVTcH1PJ4"
      },
      "source": [
        "Dataset information: [Horse-colic.csv](hhttps://raw.githubusercontent.com/jbrownlee/Datasets/master/horse-colic.names)\n",
        "\n",
        "Aprroximately 30% of the data is missing from the data"
      ]
    },
    {
      "cell_type": "markdown",
      "metadata": {
        "id": "iFk1QXTu7FEU"
      },
      "source": [
        "Column 23 is our label:<br>\n",
        "outcome<br>\n",
        ">what eventually happened to the horse?<br>\n",
        ">>possible values:<br>\n",
        "1.   lived\n",
        "2.   died\n",
        "3.   euthanized\n",
        "\n"
      ]
    },
    {
      "cell_type": "code",
      "metadata": {
        "id": "ViGmmziG1NsW"
      },
      "source": [
        "# Clone the entire repo.\n",
        "!git clone -s https://github.com/cagBRT/Data.git cloned-repo\n",
        "%cd cloned-repo"
      ],
      "execution_count": null,
      "outputs": []
    },
    {
      "cell_type": "code",
      "metadata": {
        "id": "2JeZtuQJ4uLU"
      },
      "source": [
        "from numpy import isnan\n",
        "from pandas import read_csv\n",
        "from sklearn.impute import SimpleImputer"
      ],
      "execution_count": null,
      "outputs": []
    },
    {
      "cell_type": "code",
      "metadata": {
        "id": "HGBkKNTq2O6M"
      },
      "source": [
        "#!cat horse-colic.csv"
      ],
      "execution_count": null,
      "outputs": []
    },
    {
      "cell_type": "code",
      "metadata": {
        "id": "I9HUVFpA2eZI"
      },
      "source": [
        "from pandas import read_csv\n",
        "# load dataset\n",
        "df = read_csv('horse-colic.csv', header=None, na_values='?')"
      ],
      "execution_count": null,
      "outputs": []
    },
    {
      "cell_type": "code",
      "metadata": {
        "id": "Yk3F_QBC2sWa"
      },
      "source": [
        "print(df.shape)\n",
        "print(df.head())\n",
        "#Note the Nan for missing values"
      ],
      "execution_count": null,
      "outputs": []
    },
    {
      "cell_type": "code",
      "metadata": {
        "id": "-kP4iR2224kv"
      },
      "source": [
        "for i in range(df.shape[1]):\n",
        "  # count number of rows with missing values\n",
        "  n_miss = df[[i]].isnull().sum()\n",
        "  perc = n_miss / df.shape[0] * 100\n",
        "  print('column %d is Missing: %d this is %.1f%% of all missing data' % (i, n_miss, perc))"
      ],
      "execution_count": null,
      "outputs": []
    },
    {
      "cell_type": "code",
      "metadata": {
        "id": "VuNOYpUz5E6p"
      },
      "source": [
        "data = df.values\n",
        "#ix = [i for i in range(data.shape[1]) if i != 23]\n",
        "ix = []\n",
        "for i in range(data.shape[1]):\n",
        "  if i != 23: #label row\n",
        "    ix.append(i)\n",
        "  \n",
        "#X and y are subsets of the full dataset. \n",
        "#They are rows with missing values\n",
        "X, y = data[:, ix], data[:, 23]"
      ],
      "execution_count": null,
      "outputs": []
    },
    {
      "cell_type": "markdown",
      "metadata": {
        "id": "LClNZuRR4oRX"
      },
      "source": [
        "The SimpleImputer is a data transform that is first configured based on the type of statistic to calculate for each column"
      ]
    },
    {
      "cell_type": "code",
      "metadata": {
        "id": "FCgO-qMv4oeM"
      },
      "source": [
        "# define imputer\n",
        "#replace missing values with the mean of its column\n",
        "imputer = SimpleImputer(strategy= 'mean')\n",
        "# fit on the dataset\n",
        "imputer.fit(X)"
      ],
      "execution_count": null,
      "outputs": []
    },
    {
      "cell_type": "code",
      "metadata": {
        "id": "FLE3uVEv5PfV"
      },
      "source": [
        "# transform the dataset\n",
        "Xtrans = imputer.transform(X)\n",
        "# summarize total missing\n",
        "print('Missing: %d' % sum(isnan(X).flatten()))\n",
        "# summarize total missing\n",
        "print('Missing: %d' % sum(isnan(Xtrans).flatten()))"
      ],
      "execution_count": null,
      "outputs": []
    },
    {
      "cell_type": "code",
      "metadata": {
        "id": "OnGYZLcT5ydC"
      },
      "source": [
        ""
      ],
      "execution_count": null,
      "outputs": []
    }
  ]
}