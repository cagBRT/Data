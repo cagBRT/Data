{
  "nbformat": 4,
  "nbformat_minor": 0,
  "metadata": {
    "colab": {
      "name": "3a Missing Data.ipynb",
      "private_outputs": true,
      "provenance": [],
      "authorship_tag": "ABX9TyORdt9vHlXexOOZuuAyIfmk",
      "include_colab_link": true
    },
    "kernelspec": {
      "name": "python3",
      "display_name": "Python 3"
    },
    "language_info": {
      "name": "python"
    }
  },
  "cells": [
    {
      "cell_type": "markdown",
      "metadata": {
        "id": "view-in-github",
        "colab_type": "text"
      },
      "source": [
        "<a href=\"https://colab.research.google.com/github/cagBRT/Data/blob/main/3a_Missing_Data.ipynb\" target=\"_parent\"><img src=\"https://colab.research.google.com/assets/colab-badge.svg\" alt=\"Open In Colab\"/></a>"
      ]
    },
    {
      "cell_type": "markdown",
      "source": [
        "# Filling in Missing Data"
      ],
      "metadata": {
        "id": "JThKveXJ46Hv"
      }
    },
    {
      "cell_type": "markdown",
      "source": [
        "In this notebook we will look at different methods for filling in missing data. <br>\n",
        "The dataset we use is the Horse-colic dataset. It is missing quite a bit of data. "
      ],
      "metadata": {
        "id": "j-1HIFMo49nT"
      }
    },
    {
      "cell_type": "markdown",
      "metadata": {
        "id": "BBUWVTcH1PJ4"
      },
      "source": [
        "Dataset information: [Horse-colic.csv](hhttps://raw.githubusercontent.com/jbrownlee/Datasets/master/horse-colic.names)\n",
        "\n",
        "Aprroximately 30% of the data is missing from the data"
      ]
    },
    {
      "cell_type": "markdown",
      "metadata": {
        "id": "iFk1QXTu7FEU"
      },
      "source": [
        "**Column 23 is our label**:<br>\n",
        "outcome<br>\n",
        ">what eventually happened to the horse?<br>\n",
        ">>possible values:<br>\n",
        "1.   lived\n",
        "2.   died\n",
        "3.   euthanized\n",
        "\n"
      ]
    },
    {
      "cell_type": "code",
      "metadata": {
        "id": "ViGmmziG1NsW"
      },
      "source": [
        "# Clone the entire repo.\n",
        "!git clone -s https://github.com/cagBRT/Data.git cloned-repo\n",
        "%cd cloned-repo"
      ],
      "execution_count": null,
      "outputs": []
    },
    {
      "cell_type": "markdown",
      "source": [
        "**Import the necessary libraries**<br>\n",
        "Note the SimpleImouter library "
      ],
      "metadata": {
        "id": "sgDfjDSh5MFr"
      }
    },
    {
      "cell_type": "code",
      "metadata": {
        "id": "2JeZtuQJ4uLU"
      },
      "source": [
        "from numpy import isnan\n",
        "import pandas as pd\n",
        "from pandas import read_csv\n",
        "import matplotlib.pyplot as plt\n",
        "import seaborn as sb\n",
        "from sklearn.impute import SimpleImputer"
      ],
      "execution_count": null,
      "outputs": []
    },
    {
      "cell_type": "code",
      "metadata": {
        "id": "I9HUVFpA2eZI"
      },
      "source": [
        "from pandas import read_csv\n",
        "# load dataset\n",
        "df = read_csv('horse.csv', na_values='?')"
      ],
      "execution_count": null,
      "outputs": []
    },
    {
      "cell_type": "markdown",
      "source": [
        "Our dataset has a lot of missing data"
      ],
      "metadata": {
        "id": "kREmu-nkKWjt"
      }
    },
    {
      "cell_type": "code",
      "source": [
        "df"
      ],
      "metadata": {
        "id": "EcR1B11kvb6A"
      },
      "execution_count": null,
      "outputs": []
    },
    {
      "cell_type": "code",
      "metadata": {
        "id": "HGBkKNTq2O6M"
      },
      "source": [
        "#!cat datadict.txt\n",
        "df.columns"
      ],
      "execution_count": null,
      "outputs": []
    },
    {
      "cell_type": "code",
      "metadata": {
        "id": "Yk3F_QBC2sWa"
      },
      "source": [
        "print(df.shape)"
      ],
      "execution_count": null,
      "outputs": []
    },
    {
      "cell_type": "markdown",
      "source": [
        "**Create a list of the columns that are missing data and calculate the precentage of missing data for each column**<br>\n"
      ],
      "metadata": {
        "id": "qK_heDR8apFL"
      }
    },
    {
      "cell_type": "code",
      "source": [
        "null = df.isnull().sum() #Count the missing value\n",
        "#let's see the missing values in percetange format\n",
        "percent = null/len(df)*100\n",
        "null_t = percent[null>0]\n",
        "null_t.sort_values(inplace=True, ascending=False)\n",
        "null_t #this is the list of columns missing data"
      ],
      "metadata": {
        "id": "9CIxK4BGXVI0"
      },
      "execution_count": null,
      "outputs": []
    },
    {
      "cell_type": "code",
      "metadata": {
        "id": "-kP4iR2224kv"
      },
      "source": [
        "for i in range(len(null_t)):\n",
        "  # count number of rows with missing values\n",
        "  print(null_t.index[i], null_t[i])"
      ],
      "execution_count": null,
      "outputs": []
    },
    {
      "cell_type": "code",
      "source": [
        "#ploting missing value of each attributes by percentage\n",
        "plt.figure(figsize=(20, 10))\n",
        "plt.xlabel(\"column number\")\n",
        "plt.ylabel(\"num missing\")\n",
        "plt.xticks(rotation='vertical')\n",
        "sb.set(font_scale=1.2)\n",
        "plt.style.use('ggplot')\n",
        "sb.barplot(x=null_t.index, y=null_t)\n",
        "plt.show()"
      ],
      "metadata": {
        "id": "XVjMdbBt2g2C"
      },
      "execution_count": null,
      "outputs": []
    },
    {
      "cell_type": "markdown",
      "source": [
        "To use the SimpleImouter all of our data needs to be in numerical form. <br>\n",
        "Right now a number of columns are in categorical form. "
      ],
      "metadata": {
        "id": "RfP-O2_a6T_b"
      }
    },
    {
      "cell_type": "markdown",
      "source": [
        "**Convert catagorical data to numerical**"
      ],
      "metadata": {
        "id": "slxh7q79zBth"
      }
    },
    {
      "cell_type": "markdown",
      "source": [
        "**Step 1**: the data"
      ],
      "metadata": {
        "id": "wiIMqjWb6hWh"
      }
    },
    {
      "cell_type": "code",
      "source": [
        "df.head()"
      ],
      "metadata": {
        "id": "ZPbeSMSIzI3b"
      },
      "execution_count": null,
      "outputs": []
    },
    {
      "cell_type": "markdown",
      "source": [
        "**Step 2**: For a list of the unique values for each column use the unique function"
      ],
      "metadata": {
        "id": "mPFXhato4wTL"
      }
    },
    {
      "cell_type": "code",
      "source": [
        "for col in df:\n",
        "    print(df[col].unique())"
      ],
      "metadata": {
        "id": "g_joEe02z6z0"
      },
      "execution_count": null,
      "outputs": []
    },
    {
      "cell_type": "markdown",
      "source": [
        "**Step 3**: change the categirical data to nnumerical\n",
        "We have a lot of categorical data. <br>\n",
        "We can replace the categorical data with numbers using the replace function."
      ],
      "metadata": {
        "id": "oDbiU5cQ4EJX"
      }
    },
    {
      "cell_type": "markdown",
      "source": [
        "Using the replace function: <br>\n",
        "Change the categories to numbers<br>\n",
        "Don't replace NaN"
      ],
      "metadata": {
        "id": "-o_-JWFF62TB"
      }
    },
    {
      "cell_type": "code",
      "source": [
        "df['surgery'].replace(['no', 'yes'],[0, 1], inplace=True)\n",
        "df['age'].replace(['adult','young'], [0,1], inplace=True)\n",
        "#Unique values of temp_of_extremities['cool' nan 'normal' 'cold' 'warm']\n",
        "df['temp_of_extremities'].replace(['cool', 'cold', 'normal','warm'], [0,1,2,3], inplace=True)"
      ],
      "metadata": {
        "id": "D0GJI3Ew4DmO"
      },
      "execution_count": null,
      "outputs": []
    },
    {
      "cell_type": "markdown",
      "source": [
        "**Using one-hot encoding**\n",
        "Some of our categorical data has more than two categories. <br>\n",
        "For this type of data we might want to do one-hot encoding"
      ],
      "metadata": {
        "id": "9iWnPkj64O1k"
      }
    },
    {
      "cell_type": "code",
      "source": [
        "df_ohe = pd.get_dummies(df, columns = ['temp_of_extremities'])\n",
        "df_ohe"
      ],
      "metadata": {
        "id": "Q1l4Wa1HzWOu"
      },
      "execution_count": null,
      "outputs": []
    },
    {
      "cell_type": "markdown",
      "source": [
        "For this notebook we are concentrating on how to handle missing data. <br>\n",
        "Using one-hot encoding would be better for when we have more than two unique values, but we are going to just convert all the data to numbers for now. "
      ],
      "metadata": {
        "id": "aXA1-Vhw5HGg"
      }
    },
    {
      "cell_type": "code",
      "source": [
        "df.columns"
      ],
      "metadata": {
        "id": "YTDRo3fG6gTL"
      },
      "execution_count": null,
      "outputs": []
    },
    {
      "cell_type": "markdown",
      "source": [
        "**To get a list of the unique values in a column use:**<br>\n",
        ">dataframe_name.column_name.unique().tolist()"
      ],
      "metadata": {
        "id": "1ZTlwXKe9KuT"
      }
    },
    {
      "cell_type": "code",
      "source": [
        "df.cp_data.unique().tolist()"
      ],
      "metadata": {
        "id": "AAT8QrK77esR"
      },
      "execution_count": null,
      "outputs": []
    },
    {
      "cell_type": "markdown",
      "source": [
        "**Replacing catagorical data with numbers**"
      ],
      "metadata": {
        "id": "kSsWjiFYAAAl"
      }
    },
    {
      "cell_type": "markdown",
      "source": [
        "**All the columns that still have categorical data**"
      ],
      "metadata": {
        "id": "zsM4YDqWAC5_"
      }
    },
    {
      "cell_type": "code",
      "source": [
        "#All the columns that still have catagorical data\n",
        "\n",
        "#'peripheral_pulse' ['reduced' nan 'normal' 'absent' 'increased']\n",
        "#'mucous_membrane' [nan 'pale_cyanotic' 'pale_pink' 'dark_cyanotic' 'normal_pink''bright_red' 'bright_pink']\n",
        "#'capillary_refill_time' ['more_3_sec' 'less_3_sec' nan '3']\n",
        "#'pain' ['extreme_pain' 'mild_pain' 'depressed' nan 'severe_pain' 'alert']\n",
        "#'peristalsis' ['absent' 'hypomotile' nan 'hypermotile' 'normal']\n",
        "#'abdominal_distention' ['severe' 'slight' 'none' nan 'moderate']\n",
        "#'nasogastric_tube' [nan 'none' 'slight' 'significant']\n",
        "#'nasogastric_reflux' [nan 'less_1_liter' 'none' 'more_1_liter']\n",
        "#'rectal_exam_feces' ['decreased' 'absent' 'normal' nan 'increased']\n",
        "#'abdomen' ['distend_large' 'other' 'normal' nan 'firm' 'distend_small']\n",
        "#'abdomo_appearance' [nan 'cloudy' 'serosanguious' 'clear']\n",
        "#'outcome' ['died' 'euthanized' 'lived']\n",
        "#'surgical_lesion' ['no' 'yes']\n",
        "#'cp_data' ['no' 'yes']"
      ],
      "metadata": {
        "id": "VMojNBIF5eI2"
      },
      "execution_count": null,
      "outputs": []
    },
    {
      "cell_type": "code",
      "source": [
        "#To list a column by number\n",
        "#df.iloc[:,[2]]\n",
        "\n",
        "#for column in df:\n",
        "#  print(df[column])"
      ],
      "metadata": {
        "id": "_Rz9yArA94ow"
      },
      "execution_count": null,
      "outputs": []
    },
    {
      "cell_type": "markdown",
      "source": [
        "**Assignment:** <br>\n",
        "Convert all catagorical data to numerical data"
      ],
      "metadata": {
        "id": "zjphx0r19hb1"
      }
    },
    {
      "cell_type": "code",
      "source": [
        "#Assignment\n"
      ],
      "metadata": {
        "id": "PMcUsjl77dnz"
      },
      "execution_count": null,
      "outputs": []
    },
    {
      "cell_type": "code",
      "source": [
        "#@title \n",
        "df['peripheral_pulse'].replace(['reduced','normal' ,'absent' ,'increased'], [0,1,2,3], inplace=True)\n",
        "df['mucous_membrane'].replace(['pale_cyanotic', 'pale_pink', 'dark_cyanotic', \n",
        "                              'normal_pink','bright_red', 'bright_pink'], \n",
        "                                [0,1,2,3,4,5], inplace=True)\n",
        "df['capillary_refill_time'].replace(['more_3_sec', 'less_3_sec','3'],[0,1,2], inplace=True)\n",
        "df['pain'].replace(['extreme_pain', 'mild_pain','depressed','severe_pain','alert'],[0,1,2,3,4], inplace=True)\n",
        "df['peristalsis'].replace( ['absent', 'hypomotile','hypermotile' ,'normal'],[0,1,2,3], inplace=True)\n",
        "df['abdominal_distention'].replace( ['severe' ,'slight', 'none', 'moderate'],[0,1,2,3], inplace=True)\n",
        "df['nasogastric_tube'].replace( ['none', 'slight', 'significant'],[0,1,2], inplace=True)\n",
        "df['nasogastric_reflux'].replace( ['less_1_liter' ,'none', 'more_1_liter'],[0,1,2], inplace=True)\n",
        "df['rectal_exam_feces'].replace( ['decreased', 'absent', 'normal', 'increased'],[0,1,2,3], inplace=True)\n",
        "df['abdomen'].replace( ['distend_large', 'other' ,'normal' ,'firm' ,'distend_small'],[0,1,2,3,4], inplace=True)\n",
        "df['abdomo_appearance'].replace( ['cloudy' ,'serosanguious', 'clear'],[0,1,2], inplace=True)\n",
        "df['outcome'].replace(['died' ,'euthanized', 'lived'],[0,1,2], inplace=True)\n",
        "df['surgical_lesion'].replace( ['no', 'yes'],[0,1], inplace=True)\n",
        "df['cp_data'].replace( ['no', 'yes'],[0,1], inplace=True)"
      ],
      "metadata": {
        "cellView": "form",
        "id": "Y5CW67ZK9pBW"
      },
      "execution_count": null,
      "outputs": []
    },
    {
      "cell_type": "markdown",
      "source": [
        "When all the values have been converted to numbers, we can work on filling in the missing values"
      ],
      "metadata": {
        "id": "-Y46M0Cr7mwX"
      }
    },
    {
      "cell_type": "code",
      "source": [
        "df"
      ],
      "metadata": {
        "id": "gVLfyXeMD_d0"
      },
      "execution_count": null,
      "outputs": []
    },
    {
      "cell_type": "markdown",
      "source": [
        "All of our data is now in numerical form. <br>\n",
        "Let's now look at our missing data"
      ],
      "metadata": {
        "id": "u5VH7QePTdis"
      }
    },
    {
      "cell_type": "code",
      "source": [
        "null = df.isnull().sum() #Count the missing value\n",
        "#let's see the missing values in percetange format\n",
        "percent = null/len(df)*100\n",
        "null_t = percent[null>0]\n",
        "null_t.sort_values(inplace=True, ascending=False)\n",
        "null_t"
      ],
      "metadata": {
        "id": "CCOigANPcPAO"
      },
      "execution_count": null,
      "outputs": []
    },
    {
      "cell_type": "markdown",
      "metadata": {
        "id": "LClNZuRR4oRX"
      },
      "source": [
        "**SimpleImputer**<br>\n",
        "The SimpleImputer is a data transform that is first configured based on the type of statistic to calculate for each column<br>\n",
        "\n",
        "Choices of strategy are: <br>\n",
        "- “mean”, then replace missing values using the mean along each column. **Can only be used with numeric data.**\n",
        "\n",
        "- “median”, then replace missing values using the median along each column. **Can only be used with numeric data.**\n",
        "\n",
        "- “most_frequent”, then replace missing using the most frequent value along each column. **Can be used with strings or numeric data. If there is more than one such value, only the smallest is returned.**\n",
        "\n",
        "-  “constant”, then replace missing values with fill_value. **Can be used with strings or numeric data.**"
      ]
    },
    {
      "cell_type": "code",
      "metadata": {
        "id": "FCgO-qMv4oeM"
      },
      "source": [
        "import numpy as np\n",
        "# define imputer\n",
        "df.replace('Nan',np.NaN,inplace=True)\n",
        "#replace missing values with the mean of its column\n",
        "imputer = SimpleImputer(missing_values=np.nan,strategy= 'mean')\n",
        "# fit on the dataset\n",
        "imputer= imputer.fit(df[['rectal_temp']])"
      ],
      "execution_count": null,
      "outputs": []
    },
    {
      "cell_type": "code",
      "source": [
        "df['rectal_temp']=imputer.transform(df[['rectal_temp']])"
      ],
      "metadata": {
        "id": "hs2zPAwnlmWW"
      },
      "execution_count": null,
      "outputs": []
    },
    {
      "cell_type": "code",
      "source": [
        "print(df['rectal_temp'])"
      ],
      "metadata": {
        "id": "aRshHTUEc7A5"
      },
      "execution_count": null,
      "outputs": []
    },
    {
      "cell_type": "code",
      "source": [
        "# define imputer\n",
        "df.replace('Nan',np.NaN,inplace=True)\n",
        "#replace missing values with the mean of its column\n",
        "imputer = SimpleImputer(missing_values=np.nan,strategy= 'median')\n",
        "# fit on the dataset\n",
        "\n",
        "imputer= imputer.fit(df[['pulse']])\n",
        "print(df['pulse'])"
      ],
      "metadata": {
        "id": "MdwV6Papk8Q4"
      },
      "execution_count": null,
      "outputs": []
    }
  ]
}